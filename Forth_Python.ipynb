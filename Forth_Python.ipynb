{
 "cells": [
  {
   "cell_type": "code",
   "execution_count": 1,
   "id": "ab5265b8",
   "metadata": {},
   "outputs": [
    {
     "name": "stdout",
     "output_type": "stream",
     "text": [
      "0\n",
      "6\n",
      "-1\n"
     ]
    }
   ],
   "source": [
    "#string.find(text, start_index, end_index)\n",
    "\n",
    "test_string = 'watermelon'\n",
    "print(test_string.find('wat'))   # --> 0\n",
    "print(test_string.find('elo'))   # --> 6\n",
    "print(test_string.find('eron'))  # --> -1\n"
   ]
  },
  {
   "cell_type": "code",
   "execution_count": 12,
   "id": "a4098f04",
   "metadata": {},
   "outputs": [
    {
     "ename": "SyntaxError",
     "evalue": "(unicode error) 'unicodeescape' codec can't decode bytes in position 2-3: truncated \\UXXXXXXXX escape (2760634140.py, line 1)",
     "output_type": "error",
     "traceback": [
      "\u001b[0;36m  File \u001b[0;32m\"/tmp/ipykernel_32/2760634140.py\"\u001b[0;36m, line \u001b[0;32m1\u001b[0m\n\u001b[0;31m    file_path = \"C:\\Users\\SEC\\Downloads\\testfile.txt\"\u001b[0m\n\u001b[0m                                                     ^\u001b[0m\n\u001b[0;31mSyntaxError\u001b[0m\u001b[0;31m:\u001b[0m (unicode error) 'unicodeescape' codec can't decode bytes in position 2-3: truncated \\UXXXXXXXX escape\n"
     ]
    }
   ],
   "source": [
    "file_path = \"C:\\Users\\SEC\\Downloads\\testfile.txt\"\n",
    "\n",
    "with open(file_path) as f:\n",
    "    lines = f.read().splitlines()\n",
    "\n",
    "print(lines)"
   ]
  },
  {
   "cell_type": "code",
   "execution_count": null,
   "id": "0ec302f3",
   "metadata": {},
   "outputs": [],
   "source": []
  }
 ],
 "metadata": {
  "kernelspec": {
   "display_name": "Python 3 (ipykernel)",
   "language": "python",
   "name": "python3"
  },
  "language_info": {
   "codemirror_mode": {
    "name": "ipython",
    "version": 3
   },
   "file_extension": ".py",
   "mimetype": "text/x-python",
   "name": "python",
   "nbconvert_exporter": "python",
   "pygments_lexer": "ipython3",
   "version": "3.9.7"
  }
 },
 "nbformat": 4,
 "nbformat_minor": 5
}
