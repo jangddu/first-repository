{
 "cells": [
  {
   "cell_type": "markdown",
   "id": "7ef75ace",
   "metadata": {},
   "source": [
    "# 주제: 인도 레스토랑 2023 \n",
    "\n",
    "## 데이터 \n",
    "kaggle의 인도 레스토랑 관련 데이터셋: https://www.kaggle.com/datasets/arnabchaki/indian-restaurants-2023  \n",
    " 1.   Location  6593 non-null   object  \n",
    " 2.   Locality  6593 non-null   object  \n",
    " 3.   City      6593 non-null   object (도시)  \n",
    " 4.   Cuisine   6593 non-null   object (요리종류)  \n",
    " 5.   Rating    6593 non-null   float64 (평균평점)  \n",
    " 6.   Votes     6593 non-null   int64 (리뷰수)   \n",
    " 7.   Cost      6593 non-null   int64 (비용)   \n",
    "\n",
    "## 목표\n",
    "다중 입력, 다중 출력 모델 만들기  \n",
    "도시, 요리종류, 리뷰수에 따른 평균평점, 비용 예측하는 모델  "
   ]
  },
  {
   "cell_type": "markdown",
   "id": "df78a087",
   "metadata": {},
   "source": [
    "## (1) 라이브러리 및 데이터 불러오기"
   ]
  },
  {
   "cell_type": "code",
   "execution_count": 77,
   "id": "ef907657",
   "metadata": {},
   "outputs": [],
   "source": [
    "import pandas as pd\n",
    "import numpy as np\n",
    "import os\n",
    "import warnings\n",
    "warnings.filterwarnings('ignore')\n",
    "import matplotlib.pyplot as plt\n",
    "import seaborn as sns"
   ]
  },
  {
   "cell_type": "code",
   "execution_count": 78,
   "id": "d5263631",
   "metadata": {},
   "outputs": [
    {
     "data": {
      "text/html": [
       "<div>\n",
       "<style scoped>\n",
       "    .dataframe tbody tr th:only-of-type {\n",
       "        vertical-align: middle;\n",
       "    }\n",
       "\n",
       "    .dataframe tbody tr th {\n",
       "        vertical-align: top;\n",
       "    }\n",
       "\n",
       "    .dataframe thead th {\n",
       "        text-align: right;\n",
       "    }\n",
       "</style>\n",
       "<table border=\"1\" class=\"dataframe\">\n",
       "  <thead>\n",
       "    <tr style=\"text-align: right;\">\n",
       "      <th></th>\n",
       "      <th>Name</th>\n",
       "      <th>Location</th>\n",
       "      <th>Locality</th>\n",
       "      <th>City</th>\n",
       "      <th>Cuisine</th>\n",
       "      <th>Rating</th>\n",
       "      <th>Votes</th>\n",
       "      <th>Cost</th>\n",
       "    </tr>\n",
       "  </thead>\n",
       "  <tbody>\n",
       "    <tr>\n",
       "      <th>0</th>\n",
       "      <td>Local</td>\n",
       "      <td>Scindia House,Connaught Place, Central Delhi</td>\n",
       "      <td>Central Delhi</td>\n",
       "      <td>Delhi</td>\n",
       "      <td>North Indian,  Finger Food,  Continental</td>\n",
       "      <td>4.1</td>\n",
       "      <td>2415</td>\n",
       "      <td>2000</td>\n",
       "    </tr>\n",
       "    <tr>\n",
       "      <th>1</th>\n",
       "      <td>The G.T. ROAD</td>\n",
       "      <td>M-Block,Connaught Place, Central Delhi</td>\n",
       "      <td>Central Delhi</td>\n",
       "      <td>Delhi</td>\n",
       "      <td>North Indian</td>\n",
       "      <td>4.3</td>\n",
       "      <td>2363</td>\n",
       "      <td>1500</td>\n",
       "    </tr>\n",
       "    <tr>\n",
       "      <th>2</th>\n",
       "      <td>Tamasha</td>\n",
       "      <td>Connaught Place, Central Delhi</td>\n",
       "      <td>Central Delhi</td>\n",
       "      <td>Delhi</td>\n",
       "      <td>Finger Food,  North Indian,  Italian,  Contine...</td>\n",
       "      <td>4.2</td>\n",
       "      <td>5016</td>\n",
       "      <td>2000</td>\n",
       "    </tr>\n",
       "    <tr>\n",
       "      <th>3</th>\n",
       "      <td>The Junkyard Cafe</td>\n",
       "      <td>Connaught Place, Central Delhi</td>\n",
       "      <td>Central Delhi</td>\n",
       "      <td>Delhi</td>\n",
       "      <td>North Indian,  Mediterranean,  Asian,  Italian...</td>\n",
       "      <td>4.2</td>\n",
       "      <td>2821</td>\n",
       "      <td>1800</td>\n",
       "    </tr>\n",
       "    <tr>\n",
       "      <th>4</th>\n",
       "      <td>Chili's American Grill and Bar</td>\n",
       "      <td>M-Block,Connaught Place, Central Delhi</td>\n",
       "      <td>Central Delhi</td>\n",
       "      <td>Delhi</td>\n",
       "      <td>Mexican,  American,  Italian</td>\n",
       "      <td>4.4</td>\n",
       "      <td>1094</td>\n",
       "      <td>2000</td>\n",
       "    </tr>\n",
       "  </tbody>\n",
       "</table>\n",
       "</div>"
      ],
      "text/plain": [
       "                             Name  \\\n",
       "0                           Local   \n",
       "1                   The G.T. ROAD   \n",
       "2                         Tamasha   \n",
       "3               The Junkyard Cafe   \n",
       "4  Chili's American Grill and Bar   \n",
       "\n",
       "                                       Location        Locality   City  \\\n",
       "0  Scindia House,Connaught Place, Central Delhi   Central Delhi  Delhi   \n",
       "1        M-Block,Connaught Place, Central Delhi   Central Delhi  Delhi   \n",
       "2                Connaught Place, Central Delhi   Central Delhi  Delhi   \n",
       "3                Connaught Place, Central Delhi   Central Delhi  Delhi   \n",
       "4        M-Block,Connaught Place, Central Delhi   Central Delhi  Delhi   \n",
       "\n",
       "                                             Cuisine  Rating  Votes  Cost  \n",
       "0           North Indian,  Finger Food,  Continental     4.1   2415  2000  \n",
       "1                                       North Indian     4.3   2363  1500  \n",
       "2  Finger Food,  North Indian,  Italian,  Contine...     4.2   5016  2000  \n",
       "3  North Indian,  Mediterranean,  Asian,  Italian...     4.2   2821  1800  \n",
       "4                       Mexican,  American,  Italian     4.4   1094  2000  "
      ]
     },
     "execution_count": 78,
     "metadata": {},
     "output_type": "execute_result"
    }
   ],
   "source": [
    "df = pd.read_csv('/aiffel/aiffel/project/first-repository/data/India_Restaurants/restaurants.csv')\n",
    "df.head()"
   ]
  },
  {
   "cell_type": "markdown",
   "id": "3c8da284",
   "metadata": {},
   "source": [
    "## (2) 데이터 전처리\n",
    "\n",
    "- 데이터 확인하기"
   ]
  },
  {
   "cell_type": "code",
   "execution_count": 79,
   "id": "13a43b4a",
   "metadata": {},
   "outputs": [
    {
     "name": "stdout",
     "output_type": "stream",
     "text": [
      "* Size of dataframe: (6593, 8)\n",
      "\n",
      "<class 'pandas.core.frame.DataFrame'>\n",
      "RangeIndex: 6593 entries, 0 to 6592\n",
      "Data columns (total 8 columns):\n",
      " #   Column    Non-Null Count  Dtype  \n",
      "---  ------    --------------  -----  \n",
      " 0   Name      6593 non-null   object \n",
      " 1   Location  6593 non-null   object \n",
      " 2   Locality  6593 non-null   object \n",
      " 3   City      6593 non-null   object \n",
      " 4   Cuisine   6593 non-null   object \n",
      " 5   Rating    6593 non-null   float64\n",
      " 6   Votes     6593 non-null   int64  \n",
      " 7   Cost      6593 non-null   int64  \n",
      "dtypes: float64(1), int64(2), object(5)\n",
      "memory usage: 412.2+ KB\n",
      "* Datatype of columns are:\n",
      " None\n",
      "\n"
     ]
    }
   ],
   "source": [
    "# Evaluating dataframe\n",
    "print('* Size of dataframe: {}\\n'.format(df.shape))\n",
    "print('* Datatype of columns are:\\n {}\\n'.format(df.info()))"
   ]
  },
  {
   "cell_type": "code",
   "execution_count": 80,
   "id": "be425753",
   "metadata": {},
   "outputs": [
    {
     "data": {
      "text/plain": [
       "Name        0\n",
       "Location    0\n",
       "Locality    0\n",
       "City        0\n",
       "Cuisine     0\n",
       "Rating      0\n",
       "Votes       0\n",
       "Cost        0\n",
       "dtype: int64"
      ]
     },
     "execution_count": 80,
     "metadata": {},
     "output_type": "execute_result"
    }
   ],
   "source": [
    "df.isnull().sum()"
   ]
  },
  {
   "cell_type": "code",
   "execution_count": 81,
   "id": "a053030e",
   "metadata": {},
   "outputs": [
    {
     "data": {
      "text/html": [
       "<div>\n",
       "<style scoped>\n",
       "    .dataframe tbody tr th:only-of-type {\n",
       "        vertical-align: middle;\n",
       "    }\n",
       "\n",
       "    .dataframe tbody tr th {\n",
       "        vertical-align: top;\n",
       "    }\n",
       "\n",
       "    .dataframe thead th {\n",
       "        text-align: right;\n",
       "    }\n",
       "</style>\n",
       "<table border=\"1\" class=\"dataframe\">\n",
       "  <thead>\n",
       "    <tr style=\"text-align: right;\">\n",
       "      <th></th>\n",
       "      <th>Rating</th>\n",
       "      <th>Votes</th>\n",
       "      <th>Cost</th>\n",
       "    </tr>\n",
       "  </thead>\n",
       "  <tbody>\n",
       "    <tr>\n",
       "      <th>count</th>\n",
       "      <td>6593.000000</td>\n",
       "      <td>6593.000000</td>\n",
       "      <td>6593.000000</td>\n",
       "    </tr>\n",
       "    <tr>\n",
       "      <th>mean</th>\n",
       "      <td>4.088200</td>\n",
       "      <td>119.420143</td>\n",
       "      <td>1102.798271</td>\n",
       "    </tr>\n",
       "    <tr>\n",
       "      <th>std</th>\n",
       "      <td>0.670031</td>\n",
       "      <td>261.849704</td>\n",
       "      <td>716.935212</td>\n",
       "    </tr>\n",
       "    <tr>\n",
       "      <th>min</th>\n",
       "      <td>1.000000</td>\n",
       "      <td>1.000000</td>\n",
       "      <td>100.000000</td>\n",
       "    </tr>\n",
       "    <tr>\n",
       "      <th>25%</th>\n",
       "      <td>3.900000</td>\n",
       "      <td>6.000000</td>\n",
       "      <td>500.000000</td>\n",
       "    </tr>\n",
       "    <tr>\n",
       "      <th>50%</th>\n",
       "      <td>4.200000</td>\n",
       "      <td>31.000000</td>\n",
       "      <td>900.000000</td>\n",
       "    </tr>\n",
       "    <tr>\n",
       "      <th>75%</th>\n",
       "      <td>4.400000</td>\n",
       "      <td>115.000000</td>\n",
       "      <td>1500.000000</td>\n",
       "    </tr>\n",
       "    <tr>\n",
       "      <th>max</th>\n",
       "      <td>5.000000</td>\n",
       "      <td>5016.000000</td>\n",
       "      <td>8000.000000</td>\n",
       "    </tr>\n",
       "  </tbody>\n",
       "</table>\n",
       "</div>"
      ],
      "text/plain": [
       "            Rating        Votes         Cost\n",
       "count  6593.000000  6593.000000  6593.000000\n",
       "mean      4.088200   119.420143  1102.798271\n",
       "std       0.670031   261.849704   716.935212\n",
       "min       1.000000     1.000000   100.000000\n",
       "25%       3.900000     6.000000   500.000000\n",
       "50%       4.200000    31.000000   900.000000\n",
       "75%       4.400000   115.000000  1500.000000\n",
       "max       5.000000  5016.000000  8000.000000"
      ]
     },
     "execution_count": 81,
     "metadata": {},
     "output_type": "execute_result"
    }
   ],
   "source": [
    "df.describe()"
   ]
  },
  {
   "cell_type": "code",
   "execution_count": 82,
   "id": "0ee524f4",
   "metadata": {},
   "outputs": [
    {
     "data": {
      "image/png": "[encoded data removed]",
      "text/plain": [
       "<Figure size 360x1440 with 3 Axes>"
      ]
     },
     "metadata": {},
     "output_type": "display_data"
    }
   ],
   "source": [
    "fig, (ax1, ax2, ax3) = plt.subplots(3, 1)\n",
    "fig.set_size_inches(5, 20)\n",
    "\n",
    "sns.boxplot(data = df['Rating'], ax=ax1, color = '#FFFFCC')\n",
    "sns.boxplot(data = df['Votes'], ax=ax2, color = '#FFFFCC')\n",
    "sns.boxplot(data = df['Cost'], ax=ax3, color = '#FFFFCC')\n",
    "plt.show()"
   ]
  },
  {
   "cell_type": "markdown",
   "id": "d1a5bb5c",
   "metadata": {},
   "source": [
    "- 이상치 제거하기"
   ]
  },
  {
   "cell_type": "code",
   "execution_count": 83,
   "id": "264174ba",
   "metadata": {},
   "outputs": [],
   "source": [
    "#  Ratings, Votes, Cost Simplified Method (feat. IQR)\n",
    "df_copy = df.copy()\n",
    "\n",
    "for col in ['Rating', 'Votes', 'Cost']:\n",
    "    Q1 = df_copy[col].quantile(0.25)\n",
    "    Q3 = df_copy[col].quantile(0.75)\n",
    "    IQR = Q3-Q1\n",
    "    df_out = df_copy[(df_copy[col]<(Q1 - 1.5*IQR))| (df_copy[col]>(Q3 + 1.5*IQR))]\n",
    "    df_copy = df_copy.drop(df_out.index, axis=0) \n",
    "df_copy = df_copy.reset_index(drop=True)"
   ]
  },
  {
   "cell_type": "code",
   "execution_count": 84,
   "id": "37d9aaf7",
   "metadata": {},
   "outputs": [
    {
     "data": {
      "text/html": [
       "<div>\n",
       "<style scoped>\n",
       "    .dataframe tbody tr th:only-of-type {\n",
       "        vertical-align: middle;\n",
       "    }\n",
       "\n",
       "    .dataframe tbody tr th {\n",
       "        vertical-align: top;\n",
       "    }\n",
       "\n",
       "    .dataframe thead th {\n",
       "        text-align: right;\n",
       "    }\n",
       "</style>\n",
       "<table border=\"1\" class=\"dataframe\">\n",
       "  <thead>\n",
       "    <tr style=\"text-align: right;\">\n",
       "      <th></th>\n",
       "      <th>Rating</th>\n",
       "      <th>Votes</th>\n",
       "      <th>Cost</th>\n",
       "    </tr>\n",
       "  </thead>\n",
       "  <tbody>\n",
       "    <tr>\n",
       "      <th>count</th>\n",
       "      <td>5338.000000</td>\n",
       "      <td>5338.000000</td>\n",
       "      <td>5338.000000</td>\n",
       "    </tr>\n",
       "    <tr>\n",
       "      <th>mean</th>\n",
       "      <td>4.226808</td>\n",
       "      <td>57.369052</td>\n",
       "      <td>1027.444736</td>\n",
       "    </tr>\n",
       "    <tr>\n",
       "      <th>std</th>\n",
       "      <td>0.405502</td>\n",
       "      <td>69.874926</td>\n",
       "      <td>616.223934</td>\n",
       "    </tr>\n",
       "    <tr>\n",
       "      <th>min</th>\n",
       "      <td>3.200000</td>\n",
       "      <td>1.000000</td>\n",
       "      <td>100.000000</td>\n",
       "    </tr>\n",
       "    <tr>\n",
       "      <th>25%</th>\n",
       "      <td>4.000000</td>\n",
       "      <td>7.000000</td>\n",
       "      <td>500.000000</td>\n",
       "    </tr>\n",
       "    <tr>\n",
       "      <th>50%</th>\n",
       "      <td>4.200000</td>\n",
       "      <td>27.000000</td>\n",
       "      <td>800.000000</td>\n",
       "    </tr>\n",
       "    <tr>\n",
       "      <th>75%</th>\n",
       "      <td>4.500000</td>\n",
       "      <td>80.750000</td>\n",
       "      <td>1400.000000</td>\n",
       "    </tr>\n",
       "    <tr>\n",
       "      <th>max</th>\n",
       "      <td>5.000000</td>\n",
       "      <td>306.000000</td>\n",
       "      <td>3000.000000</td>\n",
       "    </tr>\n",
       "  </tbody>\n",
       "</table>\n",
       "</div>"
      ],
      "text/plain": [
       "            Rating        Votes         Cost\n",
       "count  5338.000000  5338.000000  5338.000000\n",
       "mean      4.226808    57.369052  1027.444736\n",
       "std       0.405502    69.874926   616.223934\n",
       "min       3.200000     1.000000   100.000000\n",
       "25%       4.000000     7.000000   500.000000\n",
       "50%       4.200000    27.000000   800.000000\n",
       "75%       4.500000    80.750000  1400.000000\n",
       "max       5.000000   306.000000  3000.000000"
      ]
     },
     "execution_count": 84,
     "metadata": {},
     "output_type": "execute_result"
    }
   ],
   "source": [
    "df_copy.describe()"
   ]
  },
  {
   "cell_type": "code",
   "execution_count": 85,
   "id": "e9347afd",
   "metadata": {},
   "outputs": [
    {
     "data": {
      "image/png": "[encoded data removed]",
      "text/plain": [
       "<Figure size 360x1440 with 3 Axes>"
      ]
     },
     "metadata": {},
     "output_type": "display_data"
    }
   ],
   "source": [
    "fig, (ax1, ax2, ax3) = plt.subplots(3, 1)\n",
    "fig.set_size_inches(5, 20)\n",
    "\n",
    "sns.boxplot(data = df_copy['Rating'], ax=ax1, color = '#FFFFCC')\n",
    "sns.boxplot(data = df_copy['Votes'], ax=ax2, color = '#FFFFCC')\n",
    "sns.boxplot(data = df_copy['Cost'], ax=ax3, color = '#FFFFCC')\n",
    "plt.show()"
   ]
  },
  {
   "cell_type": "markdown",
   "id": "7f4bbbd6",
   "metadata": {},
   "source": [
    "- 문자열 원핫인코딩하기"
   ]
  },
  {
   "cell_type": "code",
   "execution_count": 91,
   "id": "37cabb43",
   "metadata": {},
   "outputs": [
    {
     "name": "stdout",
     "output_type": "stream",
     "text": [
      "City num:  23\n"
     ]
    },
    {
     "data": {
      "text/plain": [
       "Bangalore     1019\n",
       "Delhi          734\n",
       "Mumbai         727\n",
       "Kolkata        712\n",
       "Hyderabad      589\n",
       "Ahmedabad      414\n",
       "Chennai        388\n",
       "Pune           351\n",
       "Jaipur         268\n",
       "Chandigarh     264\n",
       "Indore         204\n",
       "Gurgaon        184\n",
       "Noida          146\n",
       "Vadodara        91\n",
       "Lucknow         80\n",
       "Agra            75\n",
       "Nagpur          66\n",
       "Surat           64\n",
       "Ludhiana        62\n",
       "Goa             60\n",
       "Ghaziabad       50\n",
       "Udaipur         43\n",
       "Kochi            2\n",
       "Name: City, dtype: int64"
      ]
     },
     "execution_count": 91,
     "metadata": {},
     "output_type": "execute_result"
    }
   ],
   "source": [
    "print(\"City num: \",df['City'].value_counts().count())\n",
    "df['City'].value_counts()"
   ]
  },
  {
   "cell_type": "code",
   "execution_count": 92,
   "id": "0ddbe3aa",
   "metadata": {},
   "outputs": [
    {
     "name": "stdout",
     "output_type": "stream",
     "text": [
      "Cuisine num:  2096\n"
     ]
    },
    {
     "data": {
      "text/plain": [
       "North Indian,  Chinese                                              294\n",
       "Fast Food                                                           167\n",
       "North Indian                                                        150\n",
       "North Indian,  Chinese,  Continental                                146\n",
       "North Indian,  Mughlai                                              128\n",
       "                                                                   ... \n",
       "Bihari,  Seafood                                                      1\n",
       "Japanese,  Asian,  Thai,  Korean                                      1\n",
       "Italian,  Mexican,  Continental,  Street Food                         1\n",
       "Multi-Cuisine,  North Indian,  Chinese,  Assamese                     1\n",
       "Multi-Cuisine,  North Indian,  Continental,  Asian,  Health Food      1\n",
       "Name: Cuisine, Length: 2096, dtype: int64"
      ]
     },
     "execution_count": 92,
     "metadata": {},
     "output_type": "execute_result"
    }
   ],
   "source": [
    "print(\"Cuisine num: \",df['Cuisine'].value_counts().count())\n",
    "df['Cuisine'].value_counts()"
   ]
  },
  {
   "cell_type": "code",
   "execution_count": 94,
   "id": "0a55edad",
   "metadata": {},
   "outputs": [
    {
     "name": "stdout",
     "output_type": "stream",
     "text": [
      "Cuisine num:  75\n"
     ]
    },
    {
     "data": {
      "text/plain": [
       "North Indian     1800\n",
       "Fast Food         508\n",
       "Multi-Cuisine     486\n",
       "Italian           395\n",
       "Desserts          309\n",
       "                 ... \n",
       "Coastal             1\n",
       "Malaysian           1\n",
       "Singaporean         1\n",
       "Sindhi              1\n",
       "Sushi               1\n",
       "Name: Cuisine, Length: 75, dtype: int64"
      ]
     },
     "execution_count": 94,
     "metadata": {},
     "output_type": "execute_result"
    }
   ],
   "source": [
    "# 여러 원소로 구성되어 있는 값을 제일 첫 번째 문자열 하나만 남기기\n",
    "# 첫 번째 문자열만 남기고 나머지 제거\n",
    "df_copy['Cuisine'] = df_copy['Cuisine'].str.split(',').str[0]\n",
    "print(\"Cuisine num: \",df_copy['Cuisine'].value_counts().count())\n",
    "df_copy['Cuisine'].value_counts()"
   ]
  },
  {
   "cell_type": "code",
   "execution_count": 97,
   "id": "c9f40c27",
   "metadata": {},
   "outputs": [
    {
     "data": {
      "text/html": [
       "<div>\n",
       "<style scoped>\n",
       "    .dataframe tbody tr th:only-of-type {\n",
       "        vertical-align: middle;\n",
       "    }\n",
       "\n",
       "    .dataframe tbody tr th {\n",
       "        vertical-align: top;\n",
       "    }\n",
       "\n",
       "    .dataframe thead th {\n",
       "        text-align: right;\n",
       "    }\n",
       "</style>\n",
       "<table border=\"1\" class=\"dataframe\">\n",
       "  <thead>\n",
       "    <tr style=\"text-align: right;\">\n",
       "      <th></th>\n",
       "      <th>Name</th>\n",
       "      <th>Location</th>\n",
       "      <th>Locality</th>\n",
       "      <th>City</th>\n",
       "      <th>Cuisine</th>\n",
       "      <th>Rating</th>\n",
       "      <th>Votes</th>\n",
       "      <th>Cost</th>\n",
       "      <th>City_0</th>\n",
       "      <th>City_1</th>\n",
       "      <th>...</th>\n",
       "      <th>Cuisine65</th>\n",
       "      <th>Cuisine66</th>\n",
       "      <th>Cuisine67</th>\n",
       "      <th>Cuisine68</th>\n",
       "      <th>Cuisine69</th>\n",
       "      <th>Cuisine70</th>\n",
       "      <th>Cuisine71</th>\n",
       "      <th>Cuisine72</th>\n",
       "      <th>Cuisine73</th>\n",
       "      <th>Cuisine74</th>\n",
       "    </tr>\n",
       "  </thead>\n",
       "  <tbody>\n",
       "    <tr>\n",
       "      <th>0</th>\n",
       "      <td>Padmanabham</td>\n",
       "      <td>Janpath, Central Delhi</td>\n",
       "      <td>Central Delhi</td>\n",
       "      <td>Delhi</td>\n",
       "      <td>South Indian</td>\n",
       "      <td>4.2</td>\n",
       "      <td>223</td>\n",
       "      <td>700</td>\n",
       "      <td>0.0</td>\n",
       "      <td>0.0</td>\n",
       "      <td>...</td>\n",
       "      <td>0.0</td>\n",
       "      <td>0.0</td>\n",
       "      <td>0.0</td>\n",
       "      <td>0.0</td>\n",
       "      <td>0.0</td>\n",
       "      <td>0.0</td>\n",
       "      <td>0.0</td>\n",
       "      <td>0.0</td>\n",
       "      <td>0.0</td>\n",
       "      <td>0.0</td>\n",
       "    </tr>\n",
       "    <tr>\n",
       "      <th>1</th>\n",
       "      <td>Sandoz</td>\n",
       "      <td>Connaught Place, Central Delhi</td>\n",
       "      <td>Central Delhi</td>\n",
       "      <td>Delhi</td>\n",
       "      <td>North Indian</td>\n",
       "      <td>4.2</td>\n",
       "      <td>134</td>\n",
       "      <td>1500</td>\n",
       "      <td>0.0</td>\n",
       "      <td>0.0</td>\n",
       "      <td>...</td>\n",
       "      <td>0.0</td>\n",
       "      <td>0.0</td>\n",
       "      <td>0.0</td>\n",
       "      <td>0.0</td>\n",
       "      <td>0.0</td>\n",
       "      <td>0.0</td>\n",
       "      <td>0.0</td>\n",
       "      <td>0.0</td>\n",
       "      <td>0.0</td>\n",
       "      <td>0.0</td>\n",
       "    </tr>\n",
       "    <tr>\n",
       "      <th>2</th>\n",
       "      <td>OTB Courtyard</td>\n",
       "      <td>Connaught Place, Central Delhi</td>\n",
       "      <td>Central Delhi</td>\n",
       "      <td>Delhi</td>\n",
       "      <td>World Cuisine</td>\n",
       "      <td>4.1</td>\n",
       "      <td>297</td>\n",
       "      <td>2000</td>\n",
       "      <td>0.0</td>\n",
       "      <td>0.0</td>\n",
       "      <td>...</td>\n",
       "      <td>0.0</td>\n",
       "      <td>0.0</td>\n",
       "      <td>0.0</td>\n",
       "      <td>0.0</td>\n",
       "      <td>0.0</td>\n",
       "      <td>0.0</td>\n",
       "      <td>0.0</td>\n",
       "      <td>0.0</td>\n",
       "      <td>0.0</td>\n",
       "      <td>1.0</td>\n",
       "    </tr>\n",
       "    <tr>\n",
       "      <th>3</th>\n",
       "      <td>Castle Barbeque</td>\n",
       "      <td>Connaught Place, Central Delhi</td>\n",
       "      <td>Central Delhi</td>\n",
       "      <td>Delhi</td>\n",
       "      <td>North Indian</td>\n",
       "      <td>3.5</td>\n",
       "      <td>101</td>\n",
       "      <td>2000</td>\n",
       "      <td>0.0</td>\n",
       "      <td>0.0</td>\n",
       "      <td>...</td>\n",
       "      <td>0.0</td>\n",
       "      <td>0.0</td>\n",
       "      <td>0.0</td>\n",
       "      <td>0.0</td>\n",
       "      <td>0.0</td>\n",
       "      <td>0.0</td>\n",
       "      <td>0.0</td>\n",
       "      <td>0.0</td>\n",
       "      <td>0.0</td>\n",
       "      <td>0.0</td>\n",
       "    </tr>\n",
       "    <tr>\n",
       "      <th>4</th>\n",
       "      <td>Connaught Clubhouse</td>\n",
       "      <td>Janpath, Central Delhi</td>\n",
       "      <td>Central Delhi</td>\n",
       "      <td>Delhi</td>\n",
       "      <td>Multi-Cuisine</td>\n",
       "      <td>4.2</td>\n",
       "      <td>117</td>\n",
       "      <td>2500</td>\n",
       "      <td>0.0</td>\n",
       "      <td>0.0</td>\n",
       "      <td>...</td>\n",
       "      <td>0.0</td>\n",
       "      <td>0.0</td>\n",
       "      <td>0.0</td>\n",
       "      <td>0.0</td>\n",
       "      <td>0.0</td>\n",
       "      <td>0.0</td>\n",
       "      <td>0.0</td>\n",
       "      <td>0.0</td>\n",
       "      <td>0.0</td>\n",
       "      <td>0.0</td>\n",
       "    </tr>\n",
       "  </tbody>\n",
       "</table>\n",
       "<p>5 rows × 106 columns</p>\n",
       "</div>"
      ],
      "text/plain": [
       "                  Name                        Location        Locality   City  \\\n",
       "0          Padmanabham          Janpath, Central Delhi   Central Delhi  Delhi   \n",
       "1               Sandoz  Connaught Place, Central Delhi   Central Delhi  Delhi   \n",
       "2        OTB Courtyard  Connaught Place, Central Delhi   Central Delhi  Delhi   \n",
       "3      Castle Barbeque  Connaught Place, Central Delhi   Central Delhi  Delhi   \n",
       "4  Connaught Clubhouse          Janpath, Central Delhi   Central Delhi  Delhi   \n",
       "\n",
       "         Cuisine  Rating  Votes  Cost  City_0  City_1  ...  Cuisine65  \\\n",
       "0   South Indian     4.2    223   700     0.0     0.0  ...        0.0   \n",
       "1   North Indian     4.2    134  1500     0.0     0.0  ...        0.0   \n",
       "2  World Cuisine     4.1    297  2000     0.0     0.0  ...        0.0   \n",
       "3   North Indian     3.5    101  2000     0.0     0.0  ...        0.0   \n",
       "4  Multi-Cuisine     4.2    117  2500     0.0     0.0  ...        0.0   \n",
       "\n",
       "   Cuisine66  Cuisine67  Cuisine68  Cuisine69  Cuisine70  Cuisine71  \\\n",
       "0        0.0        0.0        0.0        0.0        0.0        0.0   \n",
       "1        0.0        0.0        0.0        0.0        0.0        0.0   \n",
       "2        0.0        0.0        0.0        0.0        0.0        0.0   \n",
       "3        0.0        0.0        0.0        0.0        0.0        0.0   \n",
       "4        0.0        0.0        0.0        0.0        0.0        0.0   \n",
       "\n",
       "   Cuisine72  Cuisine73  Cuisine74  \n",
       "0        0.0        0.0        0.0  \n",
       "1        0.0        0.0        0.0  \n",
       "2        0.0        0.0        1.0  \n",
       "3        0.0        0.0        0.0  \n",
       "4        0.0        0.0        0.0  \n",
       "\n",
       "[5 rows x 106 columns]"
      ]
     },
     "execution_count": 97,
     "metadata": {},
     "output_type": "execute_result"
    }
   ],
   "source": [
    "# one-hot encoding\n",
    "from sklearn.preprocessing import OneHotEncoder\n",
    "\n",
    "# OneHotEncoder 객체 생성\n",
    "encoder = OneHotEncoder(sparse=False)\n",
    "\n",
    "# City\n",
    "# 정수형 라벨을 원핫 인코딩 수행\n",
    "encoded_labels = encoder.fit_transform(df_copy[['City']])\n",
    "\n",
    "# 인코딩된 결과를 데이터프레임으로 변환\n",
    "encoded_df = pd.DataFrame(encoded_labels, columns=['City_' + str(i) for i in range(encoded_labels.shape[1])])\n",
    "\n",
    "# 원본 데이터프레임과 인코딩된 결과 데이터프레임 병합\n",
    "merged_df = pd.concat([df_copy, encoded_df], axis=1)\n",
    "\n",
    "# Cuisine\n",
    "# 정수형 라벨을 원핫 인코딩 수행\n",
    "encoded_labels = encoder.fit_transform(df_copy[['Cuisine']])\n",
    "\n",
    "# 인코딩된 결과를 데이터프레임으로 변환\n",
    "encoded_df = pd.DataFrame(encoded_labels, columns=['Cuisine' + str(i) for i in range(encoded_labels.shape[1])])\n",
    "\n",
    "# 원본 데이터프레임과 인코딩된 결과 데이터프레임 병합\n",
    "merged_df = pd.concat([merged_df, encoded_df], axis=1)\n",
    "\n",
    "merged_df.head()"
   ]
  },
  {
   "cell_type": "code",
   "execution_count": 98,
   "id": "413602c9",
   "metadata": {},
   "outputs": [
    {
     "name": "stdout",
     "output_type": "stream",
     "text": [
      "(5338, 106)\n"
     ]
    }
   ],
   "source": [
    "print(merged_df.shape)"
   ]
  },
  {
   "cell_type": "code",
   "execution_count": 138,
   "id": "258dd4ad",
   "metadata": {},
   "outputs": [],
   "source": [
    "# 데이터 정제하기\n",
    "city_data = merged_df.iloc[:, 8:31]\n",
    "cuisine_data = merged_df.iloc[:, 31:]\n",
    "rating_data = merged_df['Rating']\n",
    "vote_data = merged_df['Votes']\n",
    "cost_data = merged_df['Cost']"
   ]
  },
  {
   "cell_type": "markdown",
   "id": "25246bfa",
   "metadata": {},
   "source": [
    "## (3) 훈련데이터 테스트데이터 분리하기"
   ]
  },
  {
   "cell_type": "code",
   "execution_count": null,
   "id": "549568f8",
   "metadata": {},
   "outputs": [],
   "source": [
    "# from sklearn.model_selection import train_test_split\n",
    "\n",
    "# X_train, X_test, y_train, y_test = train_test_split(, \n",
    "#                                                     , \n",
    "#                                                     test_size=0.2, \n",
    "#                                                     random_state=42)"
   ]
  },
  {
   "cell_type": "code",
   "execution_count": null,
   "id": "c4569634",
   "metadata": {},
   "outputs": [],
   "source": [
    "# #훈련데이터와 평가데이터의 shape 확인\n",
    "# print('X_train shape: ', X_train.shape,', X_test shape: ', X_test.shape)\n",
    "# print('y_train shape: ', y_train.shape,', y_test shape: ', y_test.shape)"
   ]
  },
  {
   "cell_type": "markdown",
   "id": "95948acc",
   "metadata": {},
   "source": [
    "## (4) 모델 구성하기"
   ]
  },
  {
   "cell_type": "code",
   "execution_count": 119,
   "id": "d71f47e5",
   "metadata": {},
   "outputs": [],
   "source": [
    "from tensorflow import keras\n",
    "from tensorflow.keras import layers\n",
    "\n",
    "# 도시, 요리종류, 리뷰수에 따른 평균평점, 비용 예측\n",
    "city_size = df_copy['City'].value_counts().count()\n",
    "cuisine_size = df_copy['Cuisine'].value_counts().count()\n",
    "vote_size = 1\n",
    "\n",
    "# Input이 3개\n",
    "city = keras.Input(shape=(city_size,), name=\"city\")\n",
    "cuisine = keras.Input(shape=(cuisine_size,), name=\"cuisine\")\n",
    "vote = keras.Input(shape=(vote_size,), name=\"vote\")\n",
    "\n",
    "# Input을 합치고 Dense layer에 넣음\n",
    "features = layers.Concatenate()([city, cuisine, vote])\n",
    "features = layers.Dense(64, activation=\"relu\")(features)\n",
    "\n",
    "# output이 2개\n",
    "ratings = layers.Dense(1, activation=\"sigmoid\", name=\"ratings\")(features)\n",
    "cost = layers.Dense(1, activation=\"sigmoid\", name=\"cost\")(features)\n",
    "\n",
    "model = keras.Model(inputs=[city, cuisine, vote], outputs=[ratings, cost])"
   ]
  },
  {
   "cell_type": "code",
   "execution_count": 120,
   "id": "272a62c6",
   "metadata": {},
   "outputs": [
    {
     "data": {
      "image/png": "[encoded data removed]",
      "text/plain": [
       "<IPython.core.display.Image object>"
      ]
     },
     "execution_count": 120,
     "metadata": {},
     "output_type": "execute_result"
    }
   ],
   "source": [
    "keras.utils.plot_model(model, show_shapes=True)"
   ]
  },
  {
   "cell_type": "markdown",
   "id": "b8f92516",
   "metadata": {},
   "source": [
    "## (5) 모델 컴파일 및 학습시키기"
   ]
  },
  {
   "cell_type": "code",
   "execution_count": 141,
   "id": "7ebf028a",
   "metadata": {},
   "outputs": [
    {
     "name": "stdout",
     "output_type": "stream",
     "text": [
      "Epoch 1/3\n",
      "167/167 [==============================] - 1s 4ms/step - loss: 1433260.7500 - ratings_loss: 10.6055 - cost_loss: 1433250.8750 - ratings_mean_absolute_error: 3.2307 - cost_mean_absolute_error: 1026.4454\n",
      "Epoch 2/3\n",
      "167/167 [==============================] - 1s 4ms/step - loss: 1433260.5000 - ratings_loss: 10.5772 - cost_loss: 1433249.6250 - ratings_mean_absolute_error: 3.2269 - cost_mean_absolute_error: 1026.4447\n",
      "Epoch 3/3\n",
      "167/167 [==============================] - 1s 4ms/step - loss: 1433260.5000 - ratings_loss: 10.5767 - cost_loss: 1433249.7500 - ratings_mean_absolute_error: 3.2268 - cost_mean_absolute_error: 1026.4447\n"
     ]
    },
    {
     "data": {
      "text/plain": [
       "<keras.callbacks.History at 0x7f5535b6e340>"
      ]
     },
     "execution_count": 141,
     "metadata": {},
     "output_type": "execute_result"
    }
   ],
   "source": [
    "model.compile(optimizer=\"rmsprop\",\n",
    "              loss=[\"mean_squared_error\", \"mean_squared_error\"],\n",
    "              metrics=[[\"mean_absolute_error\"], [\"mean_absolute_error\"]])\n",
    "\n",
    "model.fit([city_data, cuisine_data, vote_data],\n",
    "          [rating_data, cost_data], epochs=3)"
   ]
  },
  {
   "cell_type": "markdown",
   "id": "3a777c4d",
   "metadata": {},
   "source": [
    "-> 결과 정리  \n",
    "ratings_loss: 11.1619   \n",
    "cost_loss: 1433351.6250  \n",
    "ratings_mean_absolute_error: 3.3093  \n",
    "cost_mean_absolute_error: 1026.5062  "
   ]
  },
  {
   "cell_type": "markdown",
   "id": "5a26786d",
   "metadata": {},
   "source": [
    "## (6) 평가하기"
   ]
  },
  {
   "cell_type": "code",
   "execution_count": 140,
   "id": "2ad423c3",
   "metadata": {},
   "outputs": [
    {
     "name": "stdout",
     "output_type": "stream",
     "text": [
      "167/167 [==============================] - 1s 2ms/step - loss: 1433266.5000 - ratings_loss: 10.7081 - cost_loss: 1433255.6250 - ratings_mean_absolute_error: 3.2449 - cost_mean_absolute_error: 1026.4489\n"
     ]
    }
   ],
   "source": [
    "model.evaluate([city_data, cuisine_data, vote_data],\n",
    "               [rating_data, cost_data])\n",
    "ratings_preds, cost_preds = model.predict([city_data, cuisine_data, vote_data])"
   ]
  },
  {
   "cell_type": "markdown",
   "id": "94bc2c63",
   "metadata": {},
   "source": [
    "-> 결과 정리(훈련때와비슷)  \n",
    "ratings_loss: 10.7081  \n",
    "cost_loss: 1433255.6250  \n",
    "ratings_mean_absolute_error: 3.2449  \n",
    "cost_mean_absolute_error: 1026.4489  "
   ]
  },
  {
   "cell_type": "markdown",
   "id": "60e5d60b",
   "metadata": {},
   "source": [
    "# 프로젝트 회고 \n",
    "\n",
    "## 배운점\n",
    "\n",
    "1. 다중입력, 다중출력을 시도해보았다.\n",
    "2. 원핫인코딩한 data를 fit의 input에 어떻게 넣어야할지 몰랐는데 필요한 부분만 2차원 배열로 가져오면 된다는 잊고있던 사실을 다시 상기하였다. \n",
    "3. 잊고 있었던 결측치, 이상치 찾기, 특정 열 추출, IQR, 원핫인코딩 등의 데이터 전처리 작업들을 다시 상기할 수 있었던 좋은 시간이었다. \n",
    "\n",
    "## 아쉬운점\n",
    "\n",
    "1. 정수형 인코딩으로도 시도해보고 싶다.\n",
    "2. 목표가 좋은 성능을 나타낸 것이 아니어서 딱히 훈련데이터와 평가데이트를 나누지 않았는데 다음엔 나눠서 시도해야겠다. \n",
    "\n",
    "## 종합평가\n",
    "\n",
    "원래 목표인 다중입력, 다중출력 시도해보기에 성공적으로 수행하였다. 새로운 시도를 해보기 위해 아쉬운점에 적어든 것들을 시도해도 좋을 것 같다. 결론: 카레 맛있다. "
   ]
  },
  {
   "cell_type": "markdown",
   "id": "32ecc465",
   "metadata": {},
   "source": [
    "# Refernce\n",
    "1. https://www.kaggle.com/code/arnabchaki/comprehensive-eda-of-indian-restaurants  \n",
    "2. https://www.kaggle.com/code/sivaneshansiva/indian-restaurants-eda  \n",
    "3. https://www.tensorflow.org/api_docs/python/tf/keras/utils/plot_model"
   ]
  }
 ],
 "metadata": {
  "kernelspec": {
   "display_name": "Python 3 (ipykernel)",
   "language": "python",
   "name": "python3"
  },
  "language_info": {
   "codemirror_mode": {
    "name": "ipython",
    "version": 3
   },
   "file_extension": ".py",
   "mimetype": "text/x-python",
   "name": "python",
   "nbconvert_exporter": "python",
   "pygments_lexer": "ipython3",
   "version": "3.9.7"
  }
 },
 "nbformat": 4,
 "nbformat_minor": 5
}
