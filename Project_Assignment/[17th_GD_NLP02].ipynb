{
 "cells": [
  {
   "cell_type": "markdown",
   "id": "5bd23ec3",
   "metadata": {},
   "source": [
    "# 주제: 영화리뷰 텍스트 감상분석하기\n",
    "\n",
    "## 데이터\n",
    "네이버 영화리뷰 텍스트  \n",
    "출처: https://github.com/e9t/nsmc  \n",
    "예시:  \n",
    "- raw data  \n",
    " {   \n",
    "    \"review_id\": \"9571964\",  \n",
    "    \"movie_id\": \"100022\",  \n",
    "    \"author\": \"spro****\",  \n",
    "    \"review\": \"몇번을 봐도 정말 대작이다...내 인생의 영화\",  \n",
    "    \"rating\": \"10\",  \n",
    "    \"date\": \"15.01.07\"  \n",
    "  },  \n",
    "- 가공된 train, test data  \n",
    "7612498\t손현주 짱\t1  \n",
    "3653446\t훈훈한 내용이지만 스토리가 다소 억지스럽고 부족하다.\t0  \n",
    "9649094\t무언가 잊고 살았다는 느낌을 준 영화 이제 생각을 좀 바꿔야 할거 같음\t1  \n",
    "5440565\t또 뻔한결말 또 뻔한 시걸의 영화\t0  \n",
    "10081576\t혼자 북치고 장구치다가 관객 우롱하면서 끝난다.\t0  \n",
    "5802318\t천하의 슈렉도 속편이 거듭되다보니 힘이 떨어지는군\t0  \n",
    "- 즉, 긍정이면 1, 부정이면 0임  \n",
    "\n",
    "## 활동\n",
    "1. 학습한 임베딩 레이어 분석\n",
    "2. 한국어 Word2Vec 임베딩 활용\n",
    "\n",
    "## 목표\n",
    "1. 3가지 이상의 모델이 성공적으로 시도\n",
    "2. gensim의 유사단어 찾기를 활용하여 자체학습한 임베딩과 사전학습 임베딩 비교 분석\n",
    "3. 네이버 영화리뷰 데이터 감성분석 정확도를 85% 이상 달성"
   ]
  },
  {
   "cell_type": "markdown",
   "id": "267b8da3",
   "metadata": {},
   "source": [
    "## (1) 라이브러리 및 데이터 불러오기"
   ]
  },
  {
   "cell_type": "code",
   "execution_count": 203,
   "id": "cf4666c5",
   "metadata": {},
   "outputs": [
    {
     "name": "stdout",
     "output_type": "stream",
     "text": [
      "1.3.3\n",
      "0.5.2\n",
      "4.1.2\n"
     ]
    }
   ],
   "source": [
    "import pandas as pd\n",
    "import konlpy\n",
    "import gensim\n",
    "from konlpy.tag import Mecab\n",
    "import numpy as np\n",
    "from collections import Counter\n",
    "import tensorflow as tf\n",
    "import matplotlib.pyplot as plt\n",
    "\n",
    "\n",
    "print(pandas.__version__)\n",
    "print(konlpy.__version__)\n",
    "print(gensim.__version__)"
   ]
  },
  {
   "cell_type": "code",
   "execution_count": 204,
   "id": "bc4a2797",
   "metadata": {},
   "outputs": [
    {
     "data": {
      "text/html": [
       "<div>\n",
       "<style scoped>\n",
       "    .dataframe tbody tr th:only-of-type {\n",
       "        vertical-align: middle;\n",
       "    }\n",
       "\n",
       "    .dataframe tbody tr th {\n",
       "        vertical-align: top;\n",
       "    }\n",
       "\n",
       "    .dataframe thead th {\n",
       "        text-align: right;\n",
       "    }\n",
       "</style>\n",
       "<table border=\"1\" class=\"dataframe\">\n",
       "  <thead>\n",
       "    <tr style=\"text-align: right;\">\n",
       "      <th></th>\n",
       "      <th>id</th>\n",
       "      <th>document</th>\n",
       "      <th>label</th>\n",
       "    </tr>\n",
       "  </thead>\n",
       "  <tbody>\n",
       "    <tr>\n",
       "      <th>0</th>\n",
       "      <td>9976970</td>\n",
       "      <td>아 더빙.. 진짜 짜증나네요 목소리</td>\n",
       "      <td>0</td>\n",
       "    </tr>\n",
       "    <tr>\n",
       "      <th>1</th>\n",
       "      <td>3819312</td>\n",
       "      <td>흠...포스터보고 초딩영화줄....오버연기조차 가볍지 않구나</td>\n",
       "      <td>1</td>\n",
       "    </tr>\n",
       "    <tr>\n",
       "      <th>2</th>\n",
       "      <td>10265843</td>\n",
       "      <td>너무재밓었다그래서보는것을추천한다</td>\n",
       "      <td>0</td>\n",
       "    </tr>\n",
       "    <tr>\n",
       "      <th>3</th>\n",
       "      <td>9045019</td>\n",
       "      <td>교도소 이야기구먼 ..솔직히 재미는 없다..평점 조정</td>\n",
       "      <td>0</td>\n",
       "    </tr>\n",
       "    <tr>\n",
       "      <th>4</th>\n",
       "      <td>6483659</td>\n",
       "      <td>사이몬페그의 익살스런 연기가 돋보였던 영화!스파이더맨에서 늙어보이기만 했던 커스틴 ...</td>\n",
       "      <td>1</td>\n",
       "    </tr>\n",
       "  </tbody>\n",
       "</table>\n",
       "</div>"
      ],
      "text/plain": [
       "         id                                           document  label\n",
       "0   9976970                                아 더빙.. 진짜 짜증나네요 목소리      0\n",
       "1   3819312                  흠...포스터보고 초딩영화줄....오버연기조차 가볍지 않구나      1\n",
       "2  10265843                                  너무재밓었다그래서보는것을추천한다      0\n",
       "3   9045019                      교도소 이야기구먼 ..솔직히 재미는 없다..평점 조정      0\n",
       "4   6483659  사이몬페그의 익살스런 연기가 돋보였던 영화!스파이더맨에서 늙어보이기만 했던 커스틴 ...      1"
      ]
     },
     "execution_count": 204,
     "metadata": {},
     "output_type": "execute_result"
    }
   ],
   "source": [
    "# 데이터를 읽어봅시다. \n",
    "train_data = pd.read_table('~/aiffel/sentiment_classification/data/ratings_train.txt')\n",
    "test_data = pd.read_table('~/aiffel/sentiment_classification/data/ratings_test.txt')\n",
    "\n",
    "train_data.head()"
   ]
  },
  {
   "cell_type": "markdown",
   "id": "5c0b78ae",
   "metadata": {},
   "source": [
    "## (2) 데이터로더 구성\n",
    "### `data_loader` 에 있어야할 내용들  \n",
    "- **데이터의 중복 제거**  \n",
    "- **NaN 결측치 제거**  \n",
    "- **한국어 토크나이저로 토큰화**  \n",
    "- **불용어(Stopwords) 제거**  \n",
    "- **사전`word_to_index` 구성**  \n",
    "- **텍스트 스트링을 사전 인덱스 스트링으로 변환**  \n",
    "- **`X_train`, `y_train`, `X_test`, `y_test`, `word_to_index` 리턴**  "
   ]
  },
  {
   "cell_type": "code",
   "execution_count": 205,
   "id": "2b7f5b8f",
   "metadata": {},
   "outputs": [],
   "source": [
    "tokenizer = Mecab()\n",
    "stopwords = ['의','가','이','은','들','는','좀','잘','걍','과','도','를','으로','자','에','와','한','하다']\n",
    "\n",
    "def load_data(train_data, test_data, num_words=10000):\n",
    "    train_data.drop_duplicates(subset=['document'], inplace=True)\n",
    "    train_data = train_data.dropna(how = 'any') \n",
    "    test_data.drop_duplicates(subset=['document'], inplace=True)\n",
    "    test_data = test_data.dropna(how = 'any') \n",
    "    \n",
    "    X_train = []\n",
    "    for sentence in train_data['document']:\n",
    "        temp_X = tokenizer.morphs(sentence) # 토큰화\n",
    "        temp_X = [word for word in temp_X if not word in stopwords] # 불용어 제거\n",
    "        X_train.append(temp_X)\n",
    "\n",
    "    X_test = []\n",
    "    for sentence in test_data['document']:\n",
    "        temp_X = tokenizer.morphs(sentence) # 토큰화\n",
    "        temp_X = [word for word in temp_X if not word in stopwords] # 불용어 제거\n",
    "        X_test.append(temp_X)\n",
    "    \n",
    "    words = np.concatenate(X_train).tolist()\n",
    "    counter = Counter(words)\n",
    "    counter = counter.most_common(10000-4)\n",
    "    vocab = ['<PAD>', '<BOS>', '<UNK>', '<UNUSED>'] + [key for key, _ in counter]\n",
    "    word_to_index = {word:index for index, word in enumerate(vocab)}\n",
    "        \n",
    "    def wordlist_to_indexlist(wordlist):\n",
    "        return [word_to_index[word] if word in word_to_index else word_to_index['<UNK>'] for word in wordlist]\n",
    "        \n",
    "    X_train = list(map(wordlist_to_indexlist, X_train))\n",
    "    X_test = list(map(wordlist_to_indexlist, X_test))\n",
    "        \n",
    "    return np.array(X_train), np.array(list(train_data['label'])), np.array(X_test), np.array(list(test_data['label'])), word_to_index"
   ]
  },
  {
   "cell_type": "code",
   "execution_count": 206,
   "id": "b801840a",
   "metadata": {},
   "outputs": [
    {
     "name": "stdout",
     "output_type": "stream",
     "text": [
      "train data 개수: 146182, test data 개수: 49157\n"
     ]
    },
    {
     "name": "stderr",
     "output_type": "stream",
     "text": [
      "/tmp/ipykernel_47/3137187504.py:34: VisibleDeprecationWarning: Creating an ndarray from ragged nested sequences (which is a list-or-tuple of lists-or-tuples-or ndarrays with different lengths or shapes) is deprecated. If you meant to do this, you must specify 'dtype=object' when creating the ndarray.\n",
      "  return np.array(X_train), np.array(list(train_data['label'])), np.array(X_test), np.array(list(test_data['label'])), word_to_index\n"
     ]
    }
   ],
   "source": [
    "X_train, y_train, X_test, y_test, word_to_index = load_data(train_data, test_data)\n",
    "print(f'train data 개수: {len(X_train)}, test data 개수: {len(X_test)}')"
   ]
  },
  {
   "cell_type": "code",
   "execution_count": 207,
   "id": "aa59e394",
   "metadata": {},
   "outputs": [],
   "source": [
    "index_to_word = {index:word for word, index in word_to_index.items()}"
   ]
  },
  {
   "cell_type": "code",
   "execution_count": 208,
   "id": "dc59acaa",
   "metadata": {},
   "outputs": [],
   "source": [
    "# 단어 인덱스 리스트 벡터로 변환해 주는 함수 \n",
    "def get_encoded_sentence(sentence, word_to_index):\n",
    "    return [word_to_index['<BOS>']]+[word_to_index[word] if word in word_to_index else word_to_index['<UNK>'] for word in sentence.split()]\n",
    "\n",
    "# 여러 개의 문장 리스트를 한꺼번에 단어 인덱스 리스트 벡터로 encode해 주는 함수\n",
    "def get_encoded_sentences(sentences, word_to_index):\n",
    "    return [get_encoded_sentence(sentence, word_to_index) for sentence in sentences]\n",
    "\n",
    "# 숫자 벡터로 encode된 문장을 원래대로 decode하는 함수\n",
    "def get_decoded_sentence(encoded_sentence, index_to_word):\n",
    "    return ' '.join(index_to_word[index] if index in index_to_word else '<UNK>' for index in encoded_sentence[1:])  #[1:]를 통해 <BOS>를 제외\n",
    "\n",
    "# 여러 개의 숫자 벡터로 encode된 문장을 한꺼번에 원래대로 decode하는 함수\n",
    "def get_decoded_sentences(encoded_sentences, index_to_word):\n",
    "    return [get_decoded_sentence(encoded_sentence, index_to_word) for encoded_sentence in encoded_sentences]"
   ]
  },
  {
   "cell_type": "code",
   "execution_count": 209,
   "id": "9a2746f0",
   "metadata": {},
   "outputs": [
    {
     "name": "stdout",
     "output_type": "stream",
     "text": [
      "[2, 8894, 1108, 52, 2832, 60, 5, 14, 2758, 41, 1188, 35, 351, 42, 22, 40, 60, 2, 2, 427, 3102, 1766, 6]\n",
      "익살 스런 연기 돋보였 던 영화 ! 스파이더맨 에서 늙 어 보이 기 만 했 던 <UNK> <UNK> 너무나 이뻐 보였 다\n",
      "라벨:  1\n"
     ]
    }
   ],
   "source": [
    "# 제대로 디코딩 되었는지 확인하기\n",
    "print(X_train[4])\n",
    "print(get_decoded_sentence(X_train[4], index_to_word))\n",
    "print('라벨: ', y_train[4])  # 4번째 리뷰데이터의 라벨"
   ]
  },
  {
   "cell_type": "markdown",
   "id": "42737c46",
   "metadata": {},
   "source": [
    "## (3) 모델 구성을 위한 데이터 분석 및 가공"
   ]
  },
  {
   "cell_type": "markdown",
   "id": "79dae7a5",
   "metadata": {},
   "source": [
    "- 데이터셋 내 문장 길이 분포  \n",
    "- 적절한 최대 문장 길이 지정  \n",
    "- keras.preprocessing.sequence.pad_sequences 을 활용한 패딩 추가  "
   ]
  },
  {
   "cell_type": "code",
   "execution_count": 210,
   "id": "843dadd5",
   "metadata": {},
   "outputs": [
    {
     "name": "stdout",
     "output_type": "stream",
     "text": [
      "1번째 리뷰 문장 길이:  10\n",
      "2번째 리뷰 문장 길이:  17\n",
      "3번째 리뷰 문장 길이:  3\n",
      "4번째 리뷰 문장 길이:  13\n",
      "5번째 리뷰 문장 길이:  23\n"
     ]
    }
   ],
   "source": [
    "# 데이터 확인\n",
    "print('1번째 리뷰 문장 길이: ', len(X_train[0]))\n",
    "print('2번째 리뷰 문장 길이: ', len(X_train[1]))\n",
    "print('3번째 리뷰 문장 길이: ', len(X_train[2]))\n",
    "print('4번째 리뷰 문장 길이: ', len(X_train[3]))\n",
    "print('5번째 리뷰 문장 길이: ', len(X_train[4]))"
   ]
  },
  {
   "cell_type": "code",
   "execution_count": 211,
   "id": "0f7aeb1c",
   "metadata": {},
   "outputs": [
    {
     "name": "stdout",
     "output_type": "stream",
     "text": [
      "리뷰의 최대 길이 : 116\n",
      "리뷰의 평균 길이 : 15.98170773419436\n"
     ]
    },
    {
     "data": {
      "image/png": "[encoded data removed]",
      "text/plain": [
       "<Figure size 432x288 with 1 Axes>"
      ]
     },
     "metadata": {
      "needs_background": "light"
     },
     "output_type": "display_data"
    }
   ],
   "source": [
    "# 리뷰 길이 분포 확인\n",
    "print('리뷰의 최대 길이 :',max(len(review) for review in X_train))\n",
    "print('리뷰의 평균 길이 :',sum(map(len, X_train))/len(X_train))\n",
    "plt.hist([len(review) for review in X_train], bins=50)\n",
    "plt.xlabel('length of samples')\n",
    "plt.ylabel('number of samples')\n",
    "plt.show()"
   ]
  },
  {
   "cell_type": "code",
   "execution_count": 212,
   "id": "fbdc7161",
   "metadata": {},
   "outputs": [
    {
     "name": "stdout",
     "output_type": "stream",
     "text": [
      "문장길이 평균 :  15.96940191154864\n",
      "문장길이 최대 :  116\n",
      "문장길이 표준편차 :  12.843571191092\n",
      "pad_sequences maxlen :  41\n",
      "전체 문장의 93.430%가 maxlen 설정값 이내에 포함됩니다. \n"
     ]
    }
   ],
   "source": [
    "# 적절한 최대 문장 길이 지정\n",
    "total_data_text = list(X_train) + list(X_test)\n",
    "\n",
    "num_tokens = [len(tokens) for tokens in total_data_text]\n",
    "num_tokens = np.array(num_tokens)\n",
    "\n",
    "print('문장길이 평균 : ', np.mean(num_tokens))\n",
    "print('문장길이 최대 : ', np.max(num_tokens))\n",
    "print('문장길이 표준편차 : ', np.std(num_tokens))\n",
    "\n",
    "max_tokens = np.mean(num_tokens) + 2 * np.std(num_tokens)\n",
    "maxlen = int(max_tokens)\n",
    "print('pad_sequences maxlen : ', maxlen)\n",
    "print('전체 문장의 {:.3f}%가 maxlen 설정값 이내에 포함됩니다. '.format((np.sum(num_tokens < max_tokens) / len(num_tokens))*100))"
   ]
  },
  {
   "cell_type": "code",
   "execution_count": 213,
   "id": "1eeed323",
   "metadata": {},
   "outputs": [
    {
     "name": "stdout",
     "output_type": "stream",
     "text": [
      "(146182, 41)\n"
     ]
    }
   ],
   "source": [
    "# keras.preprocessing.sequence.pad_sequences 을 활용한 패딩 추가\n",
    "X_train = tf.keras.preprocessing.sequence.pad_sequences(X_train,\n",
    "                                                        value=word_to_index[\"<PAD>\"],\n",
    "                                                        padding='pre', # 혹은 'pre'\n",
    "                                                        maxlen=maxlen)\n",
    "\n",
    "X_test = tf.keras.preprocessing.sequence.pad_sequences(X_test,\n",
    "                                                       value=word_to_index[\"<PAD>\"],\n",
    "                                                       padding='pre', # 혹은 'pre'\n",
    "                                                       maxlen=maxlen)\n",
    "\n",
    "print(X_train.shape)"
   ]
  },
  {
   "cell_type": "code",
   "execution_count": 214,
   "id": "9a3ccdd5",
   "metadata": {},
   "outputs": [
    {
     "name": "stdout",
     "output_type": "stream",
     "text": [
      "(146182, 41)\n"
     ]
    }
   ],
   "source": [
    "# keras.preprocessing.sequence.pad_sequences 을 활용한 패딩 추가\n",
    "X_train_post = tf.keras.preprocessing.sequence.pad_sequences(X_train,\n",
    "                                                        value=word_to_index[\"<PAD>\"],\n",
    "                                                        padding='post', # 혹은 'pre'\n",
    "                                                        maxlen=maxlen)\n",
    "\n",
    "X_test_post = tf.keras.preprocessing.sequence.pad_sequences(X_test,\n",
    "                                                       value=word_to_index[\"<PAD>\"],\n",
    "                                                       padding='post', # 혹은 'pre'\n",
    "                                                       maxlen=maxlen)\n",
    "\n",
    "print(X_train_post.shape)"
   ]
  },
  {
   "cell_type": "code",
   "execution_count": 215,
   "id": "32b6472a",
   "metadata": {},
   "outputs": [
    {
     "name": "stdout",
     "output_type": "stream",
     "text": [
      "[  0   0   0   0   0   0   0   0   0   0   0   0   0   0   0   0   0   0\n",
      "   0   0   0   0   0   0   0   0   0   0   0   0   0  32  74 919   4   4\n",
      "  39 228  20  33 748]\n",
      "<PAD> <PAD> <PAD> <PAD> <PAD> <PAD> <PAD> <PAD> <PAD> <PAD> <PAD> <PAD> <PAD> <PAD> <PAD> <PAD> <PAD> <PAD> <PAD> <PAD> <PAD> <PAD> <PAD> <PAD> <PAD> <PAD> <PAD> <PAD> <PAD> <PAD> 아 더 빙 . . 진짜 짜증 나 네요 목소리\n",
      "라벨:  0\n"
     ]
    }
   ],
   "source": [
    "print(X_train[0])\n",
    "print(get_decoded_sentence(X_train[0], index_to_word))\n",
    "print('라벨: ', y_train[0])  # 1번째 리뷰데이터의 라벨"
   ]
  },
  {
   "cell_type": "code",
   "execution_count": 216,
   "id": "26146b79",
   "metadata": {},
   "outputs": [
    {
     "name": "stdout",
     "output_type": "stream",
     "text": [
      "[  0   0   0   0   0   0   0   0   0   0   0   0   0   0   0   0   0   0\n",
      "   0   0   0   0   0   0   0   0   0   0   0   0   0  32  74 919   4   4\n",
      "  39 228  20  33 748]\n",
      "<PAD> <PAD> <PAD> <PAD> <PAD> <PAD> <PAD> <PAD> <PAD> <PAD> <PAD> <PAD> <PAD> <PAD> <PAD> <PAD> <PAD> <PAD> <PAD> <PAD> <PAD> <PAD> <PAD> <PAD> <PAD> <PAD> <PAD> <PAD> <PAD> <PAD> 아 더 빙 . . 진짜 짜증 나 네요 목소리\n",
      "라벨:  0\n"
     ]
    }
   ],
   "source": [
    "print(X_train_post[0])\n",
    "print(get_decoded_sentence(X_train_post[0], index_to_word))\n",
    "print('라벨: ', y_train[0])  # 1번째 리뷰데이터의 라벨"
   ]
  },
  {
   "cell_type": "markdown",
   "id": "832ff192",
   "metadata": {},
   "source": [
    "-> padding을 pre와 post로 설정한 차이가 이렇게 생겼다는 것을 알 수 있다. RNN에서 일반적으로 더 성능이 좋게 나온다는 pre를 이용할 것이다."
   ]
  },
  {
   "cell_type": "markdown",
   "id": "e5e2ec76",
   "metadata": {},
   "source": [
    "## (4) 모델 구성 및 validation set 구성"
   ]
  },
  {
   "cell_type": "code",
   "execution_count": 217,
   "id": "63f9d8a9",
   "metadata": {},
   "outputs": [
    {
     "name": "stdout",
     "output_type": "stream",
     "text": [
      "(146182, 41)\n",
      "(30000, 41)\n",
      "(30000,)\n",
      "(116182, 41)\n",
      "(116182,)\n"
     ]
    }
   ],
   "source": [
    "print(X_train.shape)\n",
    "\n",
    "# validation set 3만건 분리\n",
    "X_val = X_train[:30000]   \n",
    "y_val = y_train[:30000]\n",
    "\n",
    "# validation set을 제외한 나머지 약 11만건\n",
    "partial_X_train = X_train[30000:]  \n",
    "partial_y_train = y_train[30000:]\n",
    "\n",
    "print(X_val.shape)\n",
    "print(y_val.shape)\n",
    "print(partial_X_train.shape)\n",
    "print(partial_y_train.shape)"
   ]
  },
  {
   "cell_type": "markdown",
   "id": "1c977269",
   "metadata": {},
   "source": [
    "### 1. model1 : GlobalMaxPooling1D 만 사용하기"
   ]
  },
  {
   "cell_type": "code",
   "execution_count": 218,
   "id": "e456e395",
   "metadata": {},
   "outputs": [
    {
     "name": "stdout",
     "output_type": "stream",
     "text": [
      "Model: \"sequential_24\"\n",
      "_________________________________________________________________\n",
      "Layer (type)                 Output Shape              Param #   \n",
      "=================================================================\n",
      "embedding_24 (Embedding)     (None, None, 16)          160000    \n",
      "_________________________________________________________________\n",
      "global_max_pooling1d_15 (Glo (None, 16)                0         \n",
      "_________________________________________________________________\n",
      "dense_42 (Dense)             (None, 8)                 136       \n",
      "_________________________________________________________________\n",
      "dense_43 (Dense)             (None, 1)                 9         \n",
      "=================================================================\n",
      "Total params: 160,145\n",
      "Trainable params: 160,145\n",
      "Non-trainable params: 0\n",
      "_________________________________________________________________\n"
     ]
    }
   ],
   "source": [
    "vocab_size = 10000    # 어휘 사전의 크기\n",
    "word_vector_dim = 16  # 워드 벡터의 차원 수 (변경 가능한 하이퍼파라미터)\n",
    "\n",
    "model1 = tf.keras.Sequential()\n",
    "model1.add(tf.keras.layers.Embedding(vocab_size, word_vector_dim, input_shape=(None,)))\n",
    "model1.add(tf.keras.layers.GlobalMaxPooling1D()) \n",
    "model1.add(tf.keras.layers.Dense(8, activation='relu'))\n",
    "model1.add(tf.keras.layers.Dense(1, activation='sigmoid'))  \n",
    "\n",
    "model1.summary()"
   ]
  },
  {
   "cell_type": "markdown",
   "id": "161e3cbd",
   "metadata": {},
   "source": [
    "### 2. model2: RNN-LSTM 만 사용하기"
   ]
  },
  {
   "cell_type": "code",
   "execution_count": 219,
   "id": "14139029",
   "metadata": {},
   "outputs": [
    {
     "name": "stdout",
     "output_type": "stream",
     "text": [
      "Model: \"sequential_25\"\n",
      "_________________________________________________________________\n",
      "Layer (type)                 Output Shape              Param #   \n",
      "=================================================================\n",
      "embedding_25 (Embedding)     (None, None, 16)          160000    \n",
      "_________________________________________________________________\n",
      "lstm_16 (LSTM)               (None, 16)                2112      \n",
      "_________________________________________________________________\n",
      "dense_44 (Dense)             (None, 8)                 136       \n",
      "_________________________________________________________________\n",
      "dense_45 (Dense)             (None, 1)                 9         \n",
      "=================================================================\n",
      "Total params: 162,257\n",
      "Trainable params: 162,257\n",
      "Non-trainable params: 0\n",
      "_________________________________________________________________\n"
     ]
    }
   ],
   "source": [
    "vocab_size = 10000    # 어휘 사전의 크기\n",
    "word_vector_dim = 16  # 워드 벡터의 차원 수 (변경 가능한 하이퍼파라미터)\n",
    "\n",
    "model2 = tf.keras.Sequential()\n",
    "model2.add(tf.keras.layers.Embedding(vocab_size, word_vector_dim, input_shape=(None,)))\n",
    "model2.add(tf.keras.layers.LSTM(16)) \n",
    "model2.add(tf.keras.layers.Dense(8, activation='relu'))\n",
    "model2.add(tf.keras.layers.Dense(1, activation='sigmoid'))  \n",
    "\n",
    "model2.summary()"
   ]
  },
  {
   "cell_type": "markdown",
   "id": "2868a4f4",
   "metadata": {},
   "source": [
    "### 3. model3: Conv1D 만 사용하기"
   ]
  },
  {
   "cell_type": "code",
   "execution_count": 220,
   "id": "d570dc6e",
   "metadata": {},
   "outputs": [
    {
     "name": "stdout",
     "output_type": "stream",
     "text": [
      "Model: \"sequential_26\"\n",
      "_________________________________________________________________\n",
      "Layer (type)                 Output Shape              Param #   \n",
      "=================================================================\n",
      "embedding_26 (Embedding)     (None, None, 16)          160000    \n",
      "_________________________________________________________________\n",
      "conv1d_3 (Conv1D)            (None, None, 16)          784       \n",
      "_________________________________________________________________\n",
      "dense_46 (Dense)             (None, None, 8)           136       \n",
      "_________________________________________________________________\n",
      "dense_47 (Dense)             (None, None, 1)           9         \n",
      "=================================================================\n",
      "Total params: 160,929\n",
      "Trainable params: 160,929\n",
      "Non-trainable params: 0\n",
      "_________________________________________________________________\n"
     ]
    }
   ],
   "source": [
    "vocab_size = 10000    # 어휘 사전의 크기\n",
    "word_vector_dim = 16  # 워드 벡터의 차원 수 (변경 가능한 하이퍼파라미터)\n",
    "\n",
    "model3 = tf.keras.Sequential()\n",
    "model3.add(tf.keras.layers.Embedding(vocab_size, word_vector_dim, input_shape=(None,)))\n",
    "model3.add(tf.keras.layers.Conv1D(16, 3, activation='relu'))\n",
    "model3.add(tf.keras.layers.Dense(8, activation='relu'))\n",
    "model3.add(tf.keras.layers.Dense(1, activation='sigmoid'))  \n",
    "\n",
    "model3.summary()"
   ]
  },
  {
   "cell_type": "markdown",
   "id": "5e920e85",
   "metadata": {},
   "source": [
    "## (5) 모델 훈련 개시"
   ]
  },
  {
   "cell_type": "markdown",
   "id": "639d5a14",
   "metadata": {},
   "source": [
    "### 1. model1"
   ]
  },
  {
   "cell_type": "code",
   "execution_count": 221,
   "id": "d55641dc",
   "metadata": {},
   "outputs": [
    {
     "name": "stdout",
     "output_type": "stream",
     "text": [
      "Epoch 1/10\n",
      "227/227 [==============================] - 1s 4ms/step - loss: 0.6043 - accuracy: 0.7222 - val_loss: 0.4673 - val_accuracy: 0.8170\n",
      "Epoch 2/10\n",
      "227/227 [==============================] - 1s 4ms/step - loss: 0.3929 - accuracy: 0.8380 - val_loss: 0.3653 - val_accuracy: 0.8386\n",
      "Epoch 3/10\n",
      "227/227 [==============================] - 1s 4ms/step - loss: 0.3285 - accuracy: 0.8624 - val_loss: 0.3511 - val_accuracy: 0.8440\n",
      "Epoch 4/10\n",
      "227/227 [==============================] - 1s 4ms/step - loss: 0.2985 - accuracy: 0.8766 - val_loss: 0.3514 - val_accuracy: 0.8471\n",
      "Epoch 5/10\n",
      "227/227 [==============================] - 1s 4ms/step - loss: 0.2770 - accuracy: 0.8876 - val_loss: 0.3563 - val_accuracy: 0.8481\n",
      "Epoch 6/10\n",
      "227/227 [==============================] - 1s 4ms/step - loss: 0.2597 - accuracy: 0.8959 - val_loss: 0.3633 - val_accuracy: 0.8467\n",
      "Epoch 7/10\n",
      "227/227 [==============================] - 1s 4ms/step - loss: 0.2448 - accuracy: 0.9030 - val_loss: 0.3722 - val_accuracy: 0.8454\n",
      "Epoch 8/10\n",
      "227/227 [==============================] - 1s 4ms/step - loss: 0.2314 - accuracy: 0.9096 - val_loss: 0.3817 - val_accuracy: 0.8441\n",
      "Epoch 9/10\n",
      "227/227 [==============================] - 1s 4ms/step - loss: 0.2197 - accuracy: 0.9151 - val_loss: 0.3942 - val_accuracy: 0.8421\n",
      "Epoch 10/10\n",
      "227/227 [==============================] - 1s 4ms/step - loss: 0.2090 - accuracy: 0.9208 - val_loss: 0.4064 - val_accuracy: 0.8398\n"
     ]
    }
   ],
   "source": [
    "model1.compile(optimizer='adam',\n",
    "              loss='binary_crossentropy',\n",
    "              metrics=['accuracy'])\n",
    "\n",
    "history1 = model1.fit(partial_X_train,\n",
    "                    partial_y_train,\n",
    "                    epochs=10,\n",
    "                    batch_size=512,\n",
    "                    validation_data=(X_val, y_val),\n",
    "                    verbose=1)"
   ]
  },
  {
   "cell_type": "markdown",
   "id": "f94a7f2d",
   "metadata": {},
   "source": [
    "### 2. model2"
   ]
  },
  {
   "cell_type": "code",
   "execution_count": 222,
   "id": "561e7910",
   "metadata": {},
   "outputs": [
    {
     "name": "stdout",
     "output_type": "stream",
     "text": [
      "Epoch 1/10\n",
      "227/227 [==============================] - 3s 8ms/step - loss: 0.4891 - accuracy: 0.7688 - val_loss: 0.3610 - val_accuracy: 0.8447\n",
      "Epoch 2/10\n",
      "227/227 [==============================] - 1s 6ms/step - loss: 0.3401 - accuracy: 0.8560 - val_loss: 0.3506 - val_accuracy: 0.8459\n",
      "Epoch 3/10\n",
      "227/227 [==============================] - 1s 6ms/step - loss: 0.3160 - accuracy: 0.8677 - val_loss: 0.3416 - val_accuracy: 0.8539\n",
      "Epoch 4/10\n",
      "227/227 [==============================] - 1s 6ms/step - loss: 0.3013 - accuracy: 0.8748 - val_loss: 0.3465 - val_accuracy: 0.8514\n",
      "Epoch 5/10\n",
      "227/227 [==============================] - 1s 6ms/step - loss: 0.2896 - accuracy: 0.8802 - val_loss: 0.3472 - val_accuracy: 0.8502\n",
      "Epoch 6/10\n",
      "227/227 [==============================] - 1s 6ms/step - loss: 0.2795 - accuracy: 0.8854 - val_loss: 0.3523 - val_accuracy: 0.8500\n",
      "Epoch 7/10\n",
      "227/227 [==============================] - 1s 6ms/step - loss: 0.2696 - accuracy: 0.8904 - val_loss: 0.3578 - val_accuracy: 0.8477\n",
      "Epoch 8/10\n",
      "227/227 [==============================] - 1s 6ms/step - loss: 0.2592 - accuracy: 0.8953 - val_loss: 0.3631 - val_accuracy: 0.8474\n",
      "Epoch 9/10\n",
      "227/227 [==============================] - 1s 6ms/step - loss: 0.2484 - accuracy: 0.9011 - val_loss: 0.3758 - val_accuracy: 0.8480\n",
      "Epoch 10/10\n",
      "227/227 [==============================] - 1s 6ms/step - loss: 0.2387 - accuracy: 0.9043 - val_loss: 0.3914 - val_accuracy: 0.8473\n"
     ]
    }
   ],
   "source": [
    "model2.compile(optimizer='adam',\n",
    "              loss='binary_crossentropy',\n",
    "              metrics=['accuracy'])\n",
    "\n",
    "history2 = model2.fit(partial_X_train,\n",
    "                    partial_y_train,\n",
    "                    epochs=10,\n",
    "                    batch_size=512,\n",
    "                    validation_data=(X_val, y_val),\n",
    "                    verbose=1)"
   ]
  },
  {
   "cell_type": "markdown",
   "id": "c97af0ab",
   "metadata": {},
   "source": [
    "### 3. model3"
   ]
  },
  {
   "cell_type": "code",
   "execution_count": 223,
   "id": "46f1c559",
   "metadata": {},
   "outputs": [
    {
     "name": "stdout",
     "output_type": "stream",
     "text": [
      "Epoch 1/10\n",
      "227/227 [==============================] - 2s 6ms/step - loss: 0.6674 - accuracy: 0.5575 - val_loss: 0.6494 - val_accuracy: 0.5705\n",
      "Epoch 2/10\n",
      "227/227 [==============================] - 1s 5ms/step - loss: 0.6464 - accuracy: 0.5759 - val_loss: 0.6466 - val_accuracy: 0.5713\n",
      "Epoch 3/10\n",
      "227/227 [==============================] - 1s 5ms/step - loss: 0.6433 - accuracy: 0.5767 - val_loss: 0.6455 - val_accuracy: 0.5721\n",
      "Epoch 4/10\n",
      "227/227 [==============================] - 1s 6ms/step - loss: 0.6420 - accuracy: 0.5770 - val_loss: 0.6449 - val_accuracy: 0.5769\n",
      "Epoch 5/10\n",
      "227/227 [==============================] - 1s 5ms/step - loss: 0.6405 - accuracy: 0.5788 - val_loss: 0.6447 - val_accuracy: 0.5772\n",
      "Epoch 6/10\n",
      "227/227 [==============================] - 1s 6ms/step - loss: 0.6395 - accuracy: 0.5783 - val_loss: 0.6449 - val_accuracy: 0.5775\n",
      "Epoch 7/10\n",
      "227/227 [==============================] - 1s 5ms/step - loss: 0.6385 - accuracy: 0.5804 - val_loss: 0.6444 - val_accuracy: 0.5777\n",
      "Epoch 8/10\n",
      "227/227 [==============================] - 1s 5ms/step - loss: 0.6377 - accuracy: 0.5802 - val_loss: 0.6444 - val_accuracy: 0.5735\n",
      "Epoch 9/10\n",
      "227/227 [==============================] - 1s 6ms/step - loss: 0.6369 - accuracy: 0.5827 - val_loss: 0.6446 - val_accuracy: 0.5740\n",
      "Epoch 10/10\n",
      "227/227 [==============================] - 1s 5ms/step - loss: 0.6361 - accuracy: 0.5821 - val_loss: 0.6443 - val_accuracy: 0.5783\n"
     ]
    }
   ],
   "source": [
    "model3.compile(optimizer='adam',\n",
    "              loss='binary_crossentropy',\n",
    "              metrics=['accuracy'])\n",
    "\n",
    "history3 = model3.fit(partial_X_train,\n",
    "                    partial_y_train,\n",
    "                    epochs=10,\n",
    "                    batch_size=512,\n",
    "                    validation_data=(X_val, y_val),\n",
    "                    verbose=1)"
   ]
  },
  {
   "cell_type": "markdown",
   "id": "15cee113",
   "metadata": {},
   "source": [
    "## (6) Loss, Accuracy 그래프 시각화"
   ]
  },
  {
   "cell_type": "markdown",
   "id": "0ac7086f",
   "metadata": {},
   "source": [
    "### 1. model1의 loss, accracy"
   ]
  },
  {
   "cell_type": "code",
   "execution_count": 224,
   "id": "f8bc7da6",
   "metadata": {},
   "outputs": [
    {
     "data": {
      "image/png": "[encoded data removed]",
      "text/plain": [
       "<Figure size 864x576 with 2 Axes>"
      ]
     },
     "metadata": {
      "needs_background": "light"
     },
     "output_type": "display_data"
    }
   ],
   "source": [
    "history1_dict = history1.history\n",
    "\n",
    "acc = history1_dict['accuracy']\n",
    "val_acc = history1_dict['val_accuracy']\n",
    "loss = history1_dict['loss']\n",
    "val_loss = history1_dict['val_loss']\n",
    "\n",
    "epochs = range(1, len(acc) + 1)\n",
    "\n",
    "plt.figure(figsize=(12,8))\n",
    "\n",
    "# loss 그래프\n",
    "plt.subplot(1,2,1)\n",
    "plt.plot(epochs, loss, 'bo', label='Training loss')\n",
    "plt.plot(epochs, val_loss, 'b', label='Validation loss')\n",
    "plt.title('Training and validation loss')\n",
    "plt.xlabel('Epochs')\n",
    "plt.ylabel('Loss')\n",
    "plt.legend()\n",
    "\n",
    "# accuracy 그래프\n",
    "plt.subplot(1,2,2)\n",
    "plt.plot(epochs, acc, 'ro', label='Training acc')\n",
    "plt.plot(epochs, val_acc, 'r', label='Validation acc')\n",
    "plt.title('Training and validation accuracy')\n",
    "plt.xlabel('Epochs')\n",
    "plt.ylabel('Accuracy')\n",
    "plt.legend()\n",
    "\n",
    "plt.show()"
   ]
  },
  {
   "cell_type": "markdown",
   "id": "84ec8d95",
   "metadata": {},
   "source": [
    "### 2. model2의 loss, accracy"
   ]
  },
  {
   "cell_type": "code",
   "execution_count": 225,
   "id": "e040c5aa",
   "metadata": {},
   "outputs": [
    {
     "data": {
      "image/png": "[encoded data removed]",
      "text/plain": [
       "<Figure size 864x576 with 2 Axes>"
      ]
     },
     "metadata": {
      "needs_background": "light"
     },
     "output_type": "display_data"
    }
   ],
   "source": [
    "history2_dict = history2.history\n",
    "\n",
    "acc = history2_dict['accuracy']\n",
    "val_acc = history2_dict['val_accuracy']\n",
    "loss = history2_dict['loss']\n",
    "val_loss = history2_dict['val_loss']\n",
    "\n",
    "epochs = range(1, len(acc) + 1)\n",
    "\n",
    "plt.figure(figsize=(12,8))\n",
    "\n",
    "# loss 그래프\n",
    "plt.subplot(1,2,1)\n",
    "plt.plot(epochs, loss, 'bo', label='Training loss')\n",
    "plt.plot(epochs, val_loss, 'b', label='Validation loss')\n",
    "plt.title('Training and validation loss')\n",
    "plt.xlabel('Epochs')\n",
    "plt.ylabel('Loss')\n",
    "plt.legend()\n",
    "\n",
    "# accuracy 그래프\n",
    "plt.subplot(1,2,2)\n",
    "plt.plot(epochs, acc, 'ro', label='Training acc')\n",
    "plt.plot(epochs, val_acc, 'r', label='Validation acc')\n",
    "plt.title('Training and validation accuracy')\n",
    "plt.xlabel('Epochs')\n",
    "plt.ylabel('Accuracy')\n",
    "plt.legend()\n",
    "\n",
    "plt.show()"
   ]
  },
  {
   "cell_type": "markdown",
   "id": "3c9ec805",
   "metadata": {},
   "source": [
    "### 3. model3의 loss, accracy"
   ]
  },
  {
   "cell_type": "code",
   "execution_count": 226,
   "id": "d5ba45f8",
   "metadata": {},
   "outputs": [
    {
     "data": {
      "image/png": "[encoded data removed]",
      "text/plain": [
       "<Figure size 864x576 with 2 Axes>"
      ]
     },
     "metadata": {
      "needs_background": "light"
     },
     "output_type": "display_data"
    }
   ],
   "source": [
    "history3_dict = history3.history\n",
    "\n",
    "acc = history3_dict['accuracy']\n",
    "val_acc = history3_dict['val_accuracy']\n",
    "loss = history3_dict['loss']\n",
    "val_loss = history3_dict['val_loss']\n",
    "\n",
    "epochs = range(1, len(acc) + 1)\n",
    "\n",
    "plt.figure(figsize=(12,8))\n",
    "\n",
    "# loss 그래프\n",
    "plt.subplot(1,2,1)\n",
    "plt.plot(epochs, loss, 'bo', label='Training loss')\n",
    "plt.plot(epochs, val_loss, 'b', label='Validation loss')\n",
    "plt.title('Training and validation loss')\n",
    "plt.xlabel('Epochs')\n",
    "plt.ylabel('Loss')\n",
    "plt.legend()\n",
    "\n",
    "# accuracy 그래프\n",
    "plt.subplot(1,2,2)\n",
    "plt.plot(epochs, acc, 'ro', label='Training acc')\n",
    "plt.plot(epochs, val_acc, 'r', label='Validation acc')\n",
    "plt.title('Training and validation accuracy')\n",
    "plt.xlabel('Epochs')\n",
    "plt.ylabel('Accuracy')\n",
    "plt.legend()\n",
    "\n",
    "plt.show()"
   ]
  },
  {
   "cell_type": "markdown",
   "id": "ee3d59a4",
   "metadata": {},
   "source": [
    "-> 세 모델 모두 오버피팅이 심하게 된 것을 확인할 수 있다."
   ]
  },
  {
   "cell_type": "markdown",
   "id": "74dc7464",
   "metadata": {},
   "source": [
    "## (7) 학습된 Embedding 레이어 분석\n",
    "가장 val_acc가 높았던 model2의 임베딩 레이어를 분석할 것이다."
   ]
  },
  {
   "cell_type": "code",
   "execution_count": 227,
   "id": "099ed566",
   "metadata": {},
   "outputs": [
    {
     "name": "stdout",
     "output_type": "stream",
     "text": [
      "(10000, 16)\n"
     ]
    }
   ],
   "source": [
    "embedding_layer = model2.layers[0]\n",
    "weights = embedding_layer.get_weights()[0]\n",
    "print(weights.shape)    # shape: (vocab_size, embedding_dim)"
   ]
  },
  {
   "cell_type": "code",
   "execution_count": 229,
   "id": "f1931a8c",
   "metadata": {},
   "outputs": [],
   "source": [
    "import os\n",
    "\n",
    "# 학습한 Embedding 파라미터를 파일에 써서 저장\n",
    "word2vec_file_path = os.getenv('HOME')+'/aiffel/sentiment_classification/data/word2vec_project.txt'\n",
    "f = open(word2vec_file_path, 'w')\n",
    "f.write('{} {}\\n'.format(vocab_size-4, word_vector_dim))  # 몇개의 벡터를 얼마 사이즈로 기재할지 타이틀을 씁니다.\n",
    "\n",
    "# 단어 개수(특수문자 4개는 제외)만큼의 워드 벡터를 파일에 기록\n",
    "vectors = model2.get_weights()[0]\n",
    "for i in range(4,vocab_size):\n",
    "    f.write('{} {}\\n'.format(index_to_word[i], ' '.join(map(str, list(vectors[i, :])))))\n",
    "f.close()"
   ]
  },
  {
   "cell_type": "code",
   "execution_count": 230,
   "id": "4adbfd6d",
   "metadata": {},
   "outputs": [
    {
     "data": {
      "text/plain": [
       "[('소주', 0.9653317928314209),\n",
       " ('대강', 0.9633067846298218),\n",
       " ('깎아내리', 0.9623518586158752),\n",
       " ('강렬', 0.9598811268806458),\n",
       " ('웰', 0.9595000147819519),\n",
       " ('완벽', 0.9584910869598389),\n",
       " ('감탄', 0.9565570950508118),\n",
       " ('이루어지', 0.9525348544120789),\n",
       " ('놓치', 0.9512445330619812),\n",
       " ('깔끔', 0.949151873588562)]"
      ]
     },
     "execution_count": 230,
     "metadata": {},
     "output_type": "execute_result"
    }
   ],
   "source": [
    "from gensim.models.keyedvectors import Word2VecKeyedVectors\n",
    "\n",
    "word_vectors = Word2VecKeyedVectors.load_word2vec_format(word2vec_file_path, binary=False)\n",
    "\n",
    "word_vectors.similar_by_word(\"행복\")"
   ]
  },
  {
   "cell_type": "code",
   "execution_count": 231,
   "id": "423cba4a",
   "metadata": {},
   "outputs": [
    {
     "data": {
      "text/plain": [
       "[('이루어지', 0.9653973579406738),\n",
       " ('스칼렛', 0.9635707139968872),\n",
       " ('깔끔', 0.962714433670044),\n",
       " ('사라질', 0.9558111429214478),\n",
       " ('기발', 0.9549036622047424),\n",
       " ('진실', 0.9548484086990356),\n",
       " ('로즈', 0.9517953395843506),\n",
       " ('나무랄', 0.9464111924171448),\n",
       " ('행복', 0.9449795484542847),\n",
       " ('재미있', 0.9447473287582397)]"
      ]
     },
     "execution_count": 231,
     "metadata": {},
     "output_type": "execute_result"
    }
   ],
   "source": [
    "word_vectors.similar_by_word(\"사랑\")"
   ]
  },
  {
   "cell_type": "markdown",
   "id": "71567d29",
   "metadata": {},
   "source": [
    "-> 단어 간의 연관성이 크게 두드러 보이지는 않는 것 같다. 성능 개선을 위해 Word2Vec 임베딩을 사용할 것이다."
   ]
  },
  {
   "cell_type": "markdown",
   "id": "995de433",
   "metadata": {},
   "source": [
    "## (8) 한국어 Word2Vec 임베딩 활용하여 성능 개선"
   ]
  },
  {
   "cell_type": "code",
   "execution_count": 232,
   "id": "f96e9e5f",
   "metadata": {},
   "outputs": [
    {
     "data": {
      "text/plain": [
       "(100,)"
      ]
     },
     "execution_count": 232,
     "metadata": {},
     "output_type": "execute_result"
    }
   ],
   "source": [
    "from gensim.models import Word2Vec\n",
    "from gensim.models import KeyedVectors\n",
    "\n",
    "word2vec_path = os.getenv('HOME')+'/data/word2vec_ko.model'\n",
    "word2vec = gensim.models.Word2Vec.load(word2vec_path)\n",
    "vector.shape"
   ]
  },
  {
   "cell_type": "code",
   "execution_count": 233,
   "id": "cebddddb",
   "metadata": {},
   "outputs": [
    {
     "name": "stdout",
     "output_type": "stream",
     "text": [
      "[ 3.2565942  -0.85421413 -3.6964011   1.0956469   0.599815   -1.9681435\n",
      "  0.32379073 -1.0716053  -1.1776937   2.0442047   2.2501915  -2.7868037\n",
      " -2.702359   -0.9775915  -0.12478333  0.28235647  0.77683175 -1.5393747\n",
      "  2.0879042  -5.444462   -4.931412    0.8532094   0.11118065 -2.743522\n",
      "  0.7902363   0.10469969 -0.56074625  1.6684421   1.0278419  -3.8816829\n",
      " -3.606887   -3.120771   -1.2527398  -0.77196646 -1.0102901   3.331668\n",
      "  0.30032924  1.2074511  -1.2813627   2.6281219  -1.4624823  -1.1354805\n",
      "  0.7605239   2.83577    -1.199358    3.1347232   4.062026   -0.23413125\n",
      "  3.205856   -0.9567054   0.77167803 -1.4300145   2.9014013  -3.940087\n",
      " -3.234169   -5.5460634   0.6185009  -0.75793767  2.1043491   2.350599\n",
      "  2.9313247  -2.235593    3.2084036  -5.594638    1.6516634  -0.32628602\n",
      " -1.8824683  -1.5573231  -1.8452163  -1.4044309   4.872565   -2.1063929\n",
      " -0.32347348  1.9946551  -4.0967984  -1.4509655  -0.09111219 -4.458617\n",
      "  0.06598099 -2.211754    3.0731246  -0.06910119  2.2555242   2.0823317\n",
      " -0.58695716 -3.1035714   2.4014452   3.4731216   1.424459   -4.313935\n",
      " -3.5665336  -6.5203366  -2.1090846  -3.2797608   0.4331985   1.1721823\n",
      "  1.8870457  -0.08832774  5.423067   -3.8484313 ]\n"
     ]
    }
   ],
   "source": [
    "vector = word2vec.wv['사랑']\n",
    "print(vector)"
   ]
  },
  {
   "cell_type": "code",
   "execution_count": 234,
   "id": "97e9df2e",
   "metadata": {},
   "outputs": [
    {
     "data": {
      "text/plain": [
       "[('이별', 0.7626414895057678),\n",
       " ('행복', 0.7550068497657776),\n",
       " ('슬픔', 0.7381505966186523),\n",
       " ('유혹', 0.7238055467605591),\n",
       " ('그리움', 0.7167419195175171),\n",
       " ('추억', 0.7143999338150024),\n",
       " ('꿈', 0.7089294195175171),\n",
       " ('애정', 0.7066588997840881),\n",
       " ('포옹', 0.7034594416618347),\n",
       " ('마음', 0.6972615718841553)]"
      ]
     },
     "execution_count": 234,
     "metadata": {},
     "output_type": "execute_result"
    }
   ],
   "source": [
    "word2vec.wv.similar_by_word(\"사랑\")"
   ]
  },
  {
   "cell_type": "code",
   "execution_count": 235,
   "id": "f7d3cc82",
   "metadata": {},
   "outputs": [
    {
     "data": {
      "text/plain": [
       "[('사랑', 0.7550067901611328),\n",
       " ('소중', 0.7270511388778687),\n",
       " ('고독', 0.7223575711250305),\n",
       " ('영원', 0.7196939587593079),\n",
       " ('친절', 0.7095474600791931),\n",
       " ('평온', 0.7088841199874878),\n",
       " ('삶', 0.6893891096115112),\n",
       " ('안녕', 0.6871559023857117),\n",
       " ('애틋', 0.6864286065101624),\n",
       " ('꿈', 0.6853601932525635)]"
      ]
     },
     "execution_count": 235,
     "metadata": {},
     "output_type": "execute_result"
    }
   ],
   "source": [
    "word2vec.wv.similar_by_word(\"행복\")"
   ]
  },
  {
   "cell_type": "markdown",
   "id": "7fb7a72b",
   "metadata": {},
   "source": [
    "-> 사전학습된 한국어 Word2Vec 임베딩을 사용하니 꽤 타당하게 유사도 높은 단어들이 나오는 것을 확인할 수 있다."
   ]
  },
  {
   "cell_type": "code",
   "execution_count": 236,
   "id": "8c6c757a",
   "metadata": {},
   "outputs": [],
   "source": [
    "vocab_size = 10000  # 어휘 사전의 크기입니다(10,000개의 단어)\n",
    "word_vector_dim = 100 # 워드 벡터의 차원수 (변경가능한 하이퍼파라미터)\n",
    "\n",
    "embedding_matrix = np.random.rand(vocab_size, word_vector_dim)\n",
    "\n",
    "for i in range(4,vocab_size):\n",
    "    if index_to_word[i] in word2vec.wv:\n",
    "        embedding_matrix[i] = word2vec.wv[index_to_word[i]]"
   ]
  },
  {
   "cell_type": "code",
   "execution_count": 237,
   "id": "d0883409",
   "metadata": {},
   "outputs": [
    {
     "name": "stdout",
     "output_type": "stream",
     "text": [
      "Model: \"sequential_27\"\n",
      "_________________________________________________________________\n",
      "Layer (type)                 Output Shape              Param #   \n",
      "=================================================================\n",
      "embedding_27 (Embedding)     (None, 41, 100)           1000000   \n",
      "_________________________________________________________________\n",
      "lstm_17 (LSTM)               (None, 64)                42240     \n",
      "_________________________________________________________________\n",
      "dense_48 (Dense)             (None, 16)                1040      \n",
      "_________________________________________________________________\n",
      "dense_49 (Dense)             (None, 1)                 17        \n",
      "=================================================================\n",
      "Total params: 1,043,297\n",
      "Trainable params: 1,043,297\n",
      "Non-trainable params: 0\n",
      "_________________________________________________________________\n"
     ]
    }
   ],
   "source": [
    "from tensorflow.keras.initializers import Constant\n",
    "\n",
    "vocab_size = 10000   # 어휘 사전의 크기입니다(10,000개의 단어)\n",
    "word_vector_dim = 100  # 워드 벡터의 차원 수 (변경가능한 하이퍼파라미터)\n",
    "\n",
    "# 모델 구성\n",
    "model = tf.keras.Sequential()\n",
    "model.add(tf.keras.layers.Embedding(vocab_size, \n",
    "                                 word_vector_dim, \n",
    "                                 embeddings_initializer=Constant(embedding_matrix),  \n",
    "                                 input_length=maxlen, \n",
    "                                 trainable=True))   \n",
    "model.add(tf.keras.layers.LSTM(64))\n",
    "model.add(tf.keras.layers.Dense(16, activation='relu'))\n",
    "model.add(tf.keras.layers.Dense(1, activation='sigmoid'))  \n",
    "\n",
    "\n",
    "model.summary()"
   ]
  },
  {
   "cell_type": "code",
   "execution_count": 238,
   "id": "794b4d1f",
   "metadata": {},
   "outputs": [
    {
     "name": "stdout",
     "output_type": "stream",
     "text": [
      "Epoch 1/10\n",
      "227/227 [==============================] - 4s 9ms/step - loss: 0.5059 - accuracy: 0.7469 - val_loss: 0.4177 - val_accuracy: 0.8117\n",
      "Epoch 2/10\n",
      "227/227 [==============================] - 2s 8ms/step - loss: 0.3738 - accuracy: 0.8346 - val_loss: 0.3568 - val_accuracy: 0.8414\n",
      "Epoch 3/10\n",
      "227/227 [==============================] - 2s 7ms/step - loss: 0.3246 - accuracy: 0.8593 - val_loss: 0.3458 - val_accuracy: 0.8498\n",
      "Epoch 4/10\n",
      "227/227 [==============================] - 2s 7ms/step - loss: 0.2951 - accuracy: 0.8747 - val_loss: 0.3264 - val_accuracy: 0.8570\n",
      "Epoch 5/10\n",
      "227/227 [==============================] - 2s 7ms/step - loss: 0.2704 - accuracy: 0.8868 - val_loss: 0.3263 - val_accuracy: 0.8603\n",
      "Epoch 6/10\n",
      "227/227 [==============================] - 2s 7ms/step - loss: 0.2520 - accuracy: 0.8956 - val_loss: 0.3360 - val_accuracy: 0.8598\n",
      "Epoch 7/10\n",
      "227/227 [==============================] - 2s 7ms/step - loss: 0.2353 - accuracy: 0.9040 - val_loss: 0.3374 - val_accuracy: 0.8600\n",
      "Epoch 8/10\n",
      "227/227 [==============================] - 2s 7ms/step - loss: 0.2175 - accuracy: 0.9131 - val_loss: 0.3455 - val_accuracy: 0.8580\n",
      "Epoch 9/10\n",
      "227/227 [==============================] - 2s 7ms/step - loss: 0.2039 - accuracy: 0.9195 - val_loss: 0.3613 - val_accuracy: 0.8587\n",
      "Epoch 10/10\n",
      "227/227 [==============================] - 2s 7ms/step - loss: 0.1930 - accuracy: 0.9243 - val_loss: 0.3611 - val_accuracy: 0.8584\n"
     ]
    }
   ],
   "source": [
    "model.compile(optimizer='adam',\n",
    "              loss='binary_crossentropy',\n",
    "              metrics=['accuracy'])\n",
    "\n",
    "model_history = model.fit(partial_X_train,\n",
    "                    partial_y_train,\n",
    "                    epochs=10,\n",
    "                    batch_size=512,\n",
    "                    validation_data=(X_val, y_val),\n",
    "                    verbose=1)"
   ]
  },
  {
   "cell_type": "code",
   "execution_count": 239,
   "id": "83ce7b76",
   "metadata": {},
   "outputs": [
    {
     "data": {
      "image/png": "[encoded data removed]",
      "text/plain": [
       "<Figure size 864x576 with 2 Axes>"
      ]
     },
     "metadata": {
      "needs_background": "light"
     },
     "output_type": "display_data"
    }
   ],
   "source": [
    "model_history_dict = model_history.history\n",
    "\n",
    "acc = model_history_dict['accuracy']\n",
    "val_acc = model_history_dict['val_accuracy']\n",
    "loss = model_history_dict['loss']\n",
    "val_loss = model_history_dict['val_loss']\n",
    "\n",
    "epochs = range(1, len(acc) + 1)\n",
    "\n",
    "plt.figure(figsize=(12,8))\n",
    "\n",
    "# loss 그래프\n",
    "plt.subplot(1,2,1)\n",
    "plt.plot(epochs, loss, 'bo', label='Training loss')\n",
    "plt.plot(epochs, val_loss, 'b', label='Validation loss')\n",
    "plt.title('Training and validation loss')\n",
    "plt.xlabel('Epochs')\n",
    "plt.ylabel('Loss')\n",
    "plt.legend()\n",
    "\n",
    "# accuracy 그래프\n",
    "plt.subplot(1,2,2)\n",
    "plt.plot(epochs, acc, 'ro', label='Training acc')\n",
    "plt.plot(epochs, val_acc, 'r', label='Validation acc')\n",
    "plt.title('Training and validation accuracy')\n",
    "plt.xlabel('Epochs')\n",
    "plt.ylabel('Accuracy')\n",
    "plt.legend()\n",
    "\n",
    "plt.show()"
   ]
  },
  {
   "cell_type": "code",
   "execution_count": 240,
   "id": "7a368c94",
   "metadata": {},
   "outputs": [
    {
     "name": "stdout",
     "output_type": "stream",
     "text": [
      "1537/1537 - 3s - loss: 0.3704 - accuracy: 0.8539\n",
      "[0.37041404843330383, 0.8539373874664307]\n"
     ]
    }
   ],
   "source": [
    "# 테스트셋을 통한 모델 평가\n",
    "results = model.evaluate(X_test,  y_test, verbose=2)\n",
    "\n",
    "print(results)"
   ]
  },
  {
   "cell_type": "markdown",
   "id": "de38deae",
   "metadata": {},
   "source": [
    "-> 정확도가 85%이상 나오는 것을 확인할 수 있다!"
   ]
  },
  {
   "cell_type": "markdown",
   "id": "85c20fc5",
   "metadata": {},
   "source": [
    "# 프로젝트\n",
    "\n",
    "## 배운점\n",
    "1. 자연어 처리를 위해서는 embedding layer가 있어야 하며 이 embedding layer를 만드는 과정이 굉장히 어렵고 힘든 것이라는 것을 배웠다.\n",
    "2. word for word in temp_X if not word in stopwords: temp_X의 크기만큼 for문이 반복되는데 만약 word가 wtopwords안에 없으면 word를 저장하는 코드이다. 한줄로 연결된 코드를 이해하기 처음에는 어려웠는데 반복해서 보다보니 이제 이해가 간다. \n",
    "3. toilist()란? 파이썬 내장 함수로 같은 라벨인 데이터끼리 묶는 것이다.  \n",
    "4. collections 모듈의 Conter 사용법: 여러 형태의 데이터를 인자로 받는다. 먼저 중복된 데이터가 저장된 배열을 인자로 넘기면 각 원소가 몇 번씩 나오는지가 저장된 객체를 얻게 된다. most_common() 함수를 사용하면 가장 많이 나온 원소부터 순서대로 정렬해준다.  \n",
    "5. Word2VecKeyedVectors 라이브러리의 gensim 모듈을 사용하면 단어벡터들 사이의 유사도를 분석하여 단어를 입력하면 가장 유사도가 높은 순서대로 출력해준다.   \n",
    "\n",
    "## 아쉬운점\n",
    "1. 어떤 모델을 써서 시도해보아도 과대적합이 나아지지 않았다. 드롭아웃이나 배치정규화를 시도하지 않았는데 다음에 이런것도 시도해서 성능을 더 높혀보고 싶다\n",
    "\n",
    "## 종합의견\n",
    "처음엔 내가 하고 있는 게 무엇이고 무엇을 위한 과정인지 이해하기 어려웠으나 사전학습된 한국어 임베딩 레이어를 가져와서 사용하여 자체학습한 임베딩 레이어 결과랑 비교하니 훨씬 성능이 좋아진 것을 보고 이해할 수 있었다. "
   ]
  },
  {
   "cell_type": "markdown",
   "id": "5baa84d9",
   "metadata": {},
   "source": [
    "# Refernce\n",
    "1. toilist()란? 같은 라벨인 데이터끼리 묶는 것이다.  \n",
    "https://freedata.tistory.com/68  \n",
    "2. collections 모듈의 Conter 사용법  \n",
    "https://www.daleseo.com/python-collections-counter/  \n",
    "3. 한국어 임베딩 방법  \n",
    "https://wikidocs.net/50739  \n",
    "4. 한국어 임베딩 방법  \n",
    "https://omicro03.medium.com/%EC%9E%90%EC%97%B0%EC%96%B4%EC%B2%98%EB%A6%AC-nlp-14%EC%9D%BC%EC%B0%A8-word2vec-%EC%8B%A4%EC%8A%B52-8e518a358b6c  \n",
    "5. 한국어 임베딩 레이어 출처   \n",
    "https://github.com/Kyubyong/wordvectors  "
   ]
  }
 ],
 "metadata": {
  "kernelspec": {
   "display_name": "Python 3 (ipykernel)",
   "language": "python",
   "name": "python3"
  },
  "language_info": {
   "codemirror_mode": {
    "name": "ipython",
    "version": 3
   },
   "file_extension": ".py",
   "mimetype": "text/x-python",
   "name": "python",
   "nbconvert_exporter": "python",
   "pygments_lexer": "ipython3",
   "version": "3.9.7"
  }
 },
 "nbformat": 4,
 "nbformat_minor": 5
}
