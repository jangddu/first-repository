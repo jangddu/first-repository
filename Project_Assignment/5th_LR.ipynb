{
 "cells": [
  {
   "cell_type": "markdown",
   "id": "d5b7e6ed",
   "metadata": {},
   "source": [
    "# <진행할 선형회귀 문제>\n",
    "## 1. 당뇨병 수치 예측하기\n",
    "## 2. 자전거 대여량 예측하기  \n",
    "\n",
    "특이점: \n",
    "모델 설계, 손실함수 정의, 기울기 계산을 직접 수행할 것임  \n",
    "\n",
    "-------"
   ]
  },
  {
   "cell_type": "markdown",
   "id": "5fdd2dbb",
   "metadata": {},
   "source": [
    "# 1. 당뇨병 수치 예측하기\n",
    "## (1) 데이터 가져오기"
   ]
  },
  {
   "cell_type": "code",
   "execution_count": 115,
   "id": "fe9adf49",
   "metadata": {},
   "outputs": [],
   "source": [
    "#필요한 라이브러리 가져오기\n",
    "import sklearn\n",
    "from sklearn.datasets import load_diabetes\n",
    "from sklearn.model_selection import train_test_split\n",
    "import pandas as pd\n",
    "import numpy as np\n",
    "import matplotlib.pyplot as plt\n",
    "import seaborn as sns\n",
    "\n",
    "plt.style.use('default')"
   ]
  },
  {
   "cell_type": "code",
   "execution_count": 116,
   "id": "c8f054ba",
   "metadata": {},
   "outputs": [],
   "source": [
    "# 데이터 호출하기\n",
    "diabetes = load_diabetes()"
   ]
  },
  {
   "cell_type": "code",
   "execution_count": 117,
   "id": "586c48dd",
   "metadata": {},
   "outputs": [
    {
     "data": {
      "text/plain": [
       "dict_keys(['data', 'target', 'frame', 'DESCR', 'feature_names', 'data_filename', 'target_filename', 'data_module'])"
      ]
     },
     "execution_count": 117,
     "metadata": {},
     "output_type": "execute_result"
    }
   ],
   "source": [
    "#diabetes관련 method 확인하기\n",
    "diabetes.keys()"
   ]
  },
  {
   "cell_type": "code",
   "execution_count": 118,
   "id": "15b2b349",
   "metadata": {},
   "outputs": [],
   "source": [
    "# feature와 label 변수에 저장하기\n",
    "df_X = diabetes.data\n",
    "df_y = diabetes.target"
   ]
  },
  {
   "cell_type": "code",
   "execution_count": 119,
   "id": "7bf52459",
   "metadata": {},
   "outputs": [
    {
     "name": "stdout",
     "output_type": "stream",
     "text": [
      "(442, 10)\n",
      "(442,)\n"
     ]
    }
   ],
   "source": [
    "#feature와 label 크기 확인하기\n",
    "print(df_X.shape)\n",
    "print(df_y.shape)"
   ]
  },
  {
   "cell_type": "code",
   "execution_count": 120,
   "id": "ceb6cbc3",
   "metadata": {},
   "outputs": [
    {
     "data": {
      "text/plain": [
       "['age', 'sex', 'bmi', 'bp', 's1', 's2', 's3', 's4', 's5', 's6']"
      ]
     },
     "execution_count": 120,
     "metadata": {},
     "output_type": "execute_result"
    }
   ],
   "source": [
    "#feature의 이름 확인하기\n",
    "diabetes.feature_names"
   ]
  },
  {
   "cell_type": "code",
   "execution_count": 121,
   "id": "6900dd70",
   "metadata": {},
   "outputs": [
    {
     "data": {
      "text/html": [
       "<div>\n",
       "<style scoped>\n",
       "    .dataframe tbody tr th:only-of-type {\n",
       "        vertical-align: middle;\n",
       "    }\n",
       "\n",
       "    .dataframe tbody tr th {\n",
       "        vertical-align: top;\n",
       "    }\n",
       "\n",
       "    .dataframe thead th {\n",
       "        text-align: right;\n",
       "    }\n",
       "</style>\n",
       "<table border=\"1\" class=\"dataframe\">\n",
       "  <thead>\n",
       "    <tr style=\"text-align: right;\">\n",
       "      <th></th>\n",
       "      <th>age</th>\n",
       "      <th>sex</th>\n",
       "      <th>bmi</th>\n",
       "      <th>bp</th>\n",
       "      <th>s1</th>\n",
       "      <th>s2</th>\n",
       "      <th>s3</th>\n",
       "      <th>s4</th>\n",
       "      <th>s5</th>\n",
       "      <th>s6</th>\n",
       "      <th>label</th>\n",
       "    </tr>\n",
       "  </thead>\n",
       "  <tbody>\n",
       "    <tr>\n",
       "      <th>0</th>\n",
       "      <td>0.038076</td>\n",
       "      <td>0.050680</td>\n",
       "      <td>0.061696</td>\n",
       "      <td>0.021872</td>\n",
       "      <td>-0.044223</td>\n",
       "      <td>-0.034821</td>\n",
       "      <td>-0.043401</td>\n",
       "      <td>-0.002592</td>\n",
       "      <td>0.019908</td>\n",
       "      <td>-0.017646</td>\n",
       "      <td>151.0</td>\n",
       "    </tr>\n",
       "    <tr>\n",
       "      <th>1</th>\n",
       "      <td>-0.001882</td>\n",
       "      <td>-0.044642</td>\n",
       "      <td>-0.051474</td>\n",
       "      <td>-0.026328</td>\n",
       "      <td>-0.008449</td>\n",
       "      <td>-0.019163</td>\n",
       "      <td>0.074412</td>\n",
       "      <td>-0.039493</td>\n",
       "      <td>-0.068330</td>\n",
       "      <td>-0.092204</td>\n",
       "      <td>75.0</td>\n",
       "    </tr>\n",
       "    <tr>\n",
       "      <th>2</th>\n",
       "      <td>0.085299</td>\n",
       "      <td>0.050680</td>\n",
       "      <td>0.044451</td>\n",
       "      <td>-0.005671</td>\n",
       "      <td>-0.045599</td>\n",
       "      <td>-0.034194</td>\n",
       "      <td>-0.032356</td>\n",
       "      <td>-0.002592</td>\n",
       "      <td>0.002864</td>\n",
       "      <td>-0.025930</td>\n",
       "      <td>141.0</td>\n",
       "    </tr>\n",
       "    <tr>\n",
       "      <th>3</th>\n",
       "      <td>-0.089063</td>\n",
       "      <td>-0.044642</td>\n",
       "      <td>-0.011595</td>\n",
       "      <td>-0.036656</td>\n",
       "      <td>0.012191</td>\n",
       "      <td>0.024991</td>\n",
       "      <td>-0.036038</td>\n",
       "      <td>0.034309</td>\n",
       "      <td>0.022692</td>\n",
       "      <td>-0.009362</td>\n",
       "      <td>206.0</td>\n",
       "    </tr>\n",
       "    <tr>\n",
       "      <th>4</th>\n",
       "      <td>0.005383</td>\n",
       "      <td>-0.044642</td>\n",
       "      <td>-0.036385</td>\n",
       "      <td>0.021872</td>\n",
       "      <td>0.003935</td>\n",
       "      <td>0.015596</td>\n",
       "      <td>0.008142</td>\n",
       "      <td>-0.002592</td>\n",
       "      <td>-0.031991</td>\n",
       "      <td>-0.046641</td>\n",
       "      <td>135.0</td>\n",
       "    </tr>\n",
       "    <tr>\n",
       "      <th>...</th>\n",
       "      <td>...</td>\n",
       "      <td>...</td>\n",
       "      <td>...</td>\n",
       "      <td>...</td>\n",
       "      <td>...</td>\n",
       "      <td>...</td>\n",
       "      <td>...</td>\n",
       "      <td>...</td>\n",
       "      <td>...</td>\n",
       "      <td>...</td>\n",
       "      <td>...</td>\n",
       "    </tr>\n",
       "    <tr>\n",
       "      <th>437</th>\n",
       "      <td>0.041708</td>\n",
       "      <td>0.050680</td>\n",
       "      <td>0.019662</td>\n",
       "      <td>0.059744</td>\n",
       "      <td>-0.005697</td>\n",
       "      <td>-0.002566</td>\n",
       "      <td>-0.028674</td>\n",
       "      <td>-0.002592</td>\n",
       "      <td>0.031193</td>\n",
       "      <td>0.007207</td>\n",
       "      <td>178.0</td>\n",
       "    </tr>\n",
       "    <tr>\n",
       "      <th>438</th>\n",
       "      <td>-0.005515</td>\n",
       "      <td>0.050680</td>\n",
       "      <td>-0.015906</td>\n",
       "      <td>-0.067642</td>\n",
       "      <td>0.049341</td>\n",
       "      <td>0.079165</td>\n",
       "      <td>-0.028674</td>\n",
       "      <td>0.034309</td>\n",
       "      <td>-0.018118</td>\n",
       "      <td>0.044485</td>\n",
       "      <td>104.0</td>\n",
       "    </tr>\n",
       "    <tr>\n",
       "      <th>439</th>\n",
       "      <td>0.041708</td>\n",
       "      <td>0.050680</td>\n",
       "      <td>-0.015906</td>\n",
       "      <td>0.017282</td>\n",
       "      <td>-0.037344</td>\n",
       "      <td>-0.013840</td>\n",
       "      <td>-0.024993</td>\n",
       "      <td>-0.011080</td>\n",
       "      <td>-0.046879</td>\n",
       "      <td>0.015491</td>\n",
       "      <td>132.0</td>\n",
       "    </tr>\n",
       "    <tr>\n",
       "      <th>440</th>\n",
       "      <td>-0.045472</td>\n",
       "      <td>-0.044642</td>\n",
       "      <td>0.039062</td>\n",
       "      <td>0.001215</td>\n",
       "      <td>0.016318</td>\n",
       "      <td>0.015283</td>\n",
       "      <td>-0.028674</td>\n",
       "      <td>0.026560</td>\n",
       "      <td>0.044528</td>\n",
       "      <td>-0.025930</td>\n",
       "      <td>220.0</td>\n",
       "    </tr>\n",
       "    <tr>\n",
       "      <th>441</th>\n",
       "      <td>-0.045472</td>\n",
       "      <td>-0.044642</td>\n",
       "      <td>-0.073030</td>\n",
       "      <td>-0.081414</td>\n",
       "      <td>0.083740</td>\n",
       "      <td>0.027809</td>\n",
       "      <td>0.173816</td>\n",
       "      <td>-0.039493</td>\n",
       "      <td>-0.004220</td>\n",
       "      <td>0.003064</td>\n",
       "      <td>57.0</td>\n",
       "    </tr>\n",
       "  </tbody>\n",
       "</table>\n",
       "<p>442 rows × 11 columns</p>\n",
       "</div>"
      ],
      "text/plain": [
       "          age       sex       bmi        bp        s1        s2        s3  \\\n",
       "0    0.038076  0.050680  0.061696  0.021872 -0.044223 -0.034821 -0.043401   \n",
       "1   -0.001882 -0.044642 -0.051474 -0.026328 -0.008449 -0.019163  0.074412   \n",
       "2    0.085299  0.050680  0.044451 -0.005671 -0.045599 -0.034194 -0.032356   \n",
       "3   -0.089063 -0.044642 -0.011595 -0.036656  0.012191  0.024991 -0.036038   \n",
       "4    0.005383 -0.044642 -0.036385  0.021872  0.003935  0.015596  0.008142   \n",
       "..        ...       ...       ...       ...       ...       ...       ...   \n",
       "437  0.041708  0.050680  0.019662  0.059744 -0.005697 -0.002566 -0.028674   \n",
       "438 -0.005515  0.050680 -0.015906 -0.067642  0.049341  0.079165 -0.028674   \n",
       "439  0.041708  0.050680 -0.015906  0.017282 -0.037344 -0.013840 -0.024993   \n",
       "440 -0.045472 -0.044642  0.039062  0.001215  0.016318  0.015283 -0.028674   \n",
       "441 -0.045472 -0.044642 -0.073030 -0.081414  0.083740  0.027809  0.173816   \n",
       "\n",
       "           s4        s5        s6  label  \n",
       "0   -0.002592  0.019908 -0.017646  151.0  \n",
       "1   -0.039493 -0.068330 -0.092204   75.0  \n",
       "2   -0.002592  0.002864 -0.025930  141.0  \n",
       "3    0.034309  0.022692 -0.009362  206.0  \n",
       "4   -0.002592 -0.031991 -0.046641  135.0  \n",
       "..        ...       ...       ...    ...  \n",
       "437 -0.002592  0.031193  0.007207  178.0  \n",
       "438  0.034309 -0.018118  0.044485  104.0  \n",
       "439 -0.011080 -0.046879  0.015491  132.0  \n",
       "440  0.026560  0.044528 -0.025930  220.0  \n",
       "441 -0.039493 -0.004220  0.003064   57.0  \n",
       "\n",
       "[442 rows x 11 columns]"
      ]
     },
     "execution_count": 121,
     "metadata": {},
     "output_type": "execute_result"
    }
   ],
   "source": [
    "df = pd.DataFrame(data = df_X, columns = diabetes.feature_names)\n",
    "df[\"label\"] = diabetes.target\n",
    "df\n",
    "# 모든 특성이 -0.2 ~ 0.2 사이에 분포하도록 조정되어 있어서 이런 표를 보임"
   ]
  },
  {
   "cell_type": "code",
   "execution_count": 122,
   "id": "d87c535c",
   "metadata": {},
   "outputs": [
    {
     "name": "stdout",
     "output_type": "stream",
     "text": [
      ".. _diabetes_dataset:\n",
      "\n",
      "Diabetes dataset\n",
      "----------------\n",
      "\n",
      "Ten baseline variables, age, sex, body mass index, average blood\n",
      "pressure, and six blood serum measurements were obtained for each of n =\n",
      "442 diabetes patients, as well as the response of interest, a\n",
      "quantitative measure of disease progression one year after baseline.\n",
      "\n",
      "**Data Set Characteristics:**\n",
      "\n",
      "  :Number of Instances: 442\n",
      "\n",
      "  :Number of Attributes: First 10 columns are numeric predictive values\n",
      "\n",
      "  :Target: Column 11 is a quantitative measure of disease progression one year after baseline\n",
      "\n",
      "  :Attribute Information:\n",
      "      - age     age in years\n",
      "      - sex\n",
      "      - bmi     body mass index\n",
      "      - bp      average blood pressure\n",
      "      - s1      tc, total serum cholesterol\n",
      "      - s2      ldl, low-density lipoproteins\n",
      "      - s3      hdl, high-density lipoproteins\n",
      "      - s4      tch, total cholesterol / HDL\n",
      "      - s5      ltg, possibly log of serum triglycerides level\n",
      "      - s6      glu, blood sugar level\n",
      "\n",
      "Note: Each of these 10 feature variables have been mean centered and scaled by the standard deviation times `n_samples` (i.e. the sum of squares of each column totals 1).\n",
      "\n",
      "Source URL:\n",
      "https://www4.stat.ncsu.edu/~boos/var.select/diabetes.html\n",
      "\n",
      "For more information see:\n",
      "Bradley Efron, Trevor Hastie, Iain Johnstone and Robert Tibshirani (2004) \"Least Angle Regression,\" Annals of Statistics (with discussion), 407-499.\n",
      "(https://web.stanford.edu/~hastie/Papers/LARS/LeastAngle_2002.pdf)\n"
     ]
    }
   ],
   "source": [
    "#diabetes의 기술통계 확인하기\n",
    "print(diabetes.DESCR)"
   ]
  },
  {
   "cell_type": "markdown",
   "id": "b6607159",
   "metadata": {},
   "source": [
    "## (2) 모델에 입력할 데이터 X 준비하기"
   ]
  },
  {
   "cell_type": "code",
   "execution_count": 123,
   "id": "4bbb55f4",
   "metadata": {},
   "outputs": [],
   "source": [
    "X = df[['age', 'sex', 'bmi', 'bp', 's1', 's2', 's3', 's4', 's5', 's6']].values"
   ]
  },
  {
   "cell_type": "markdown",
   "id": "f0ada5c9",
   "metadata": {},
   "source": [
    "## (3) 모델에 입력할 데이터 y 준비하기"
   ]
  },
  {
   "cell_type": "code",
   "execution_count": 124,
   "id": "07a31111",
   "metadata": {},
   "outputs": [],
   "source": [
    "y = df['label'].values"
   ]
  },
  {
   "cell_type": "markdown",
   "id": "c2ed2619",
   "metadata": {},
   "source": [
    "## (4) train 데이터와 test 데이터로 분리하기"
   ]
  },
  {
   "cell_type": "code",
   "execution_count": 125,
   "id": "1dd6d45a",
   "metadata": {},
   "outputs": [],
   "source": [
    "#훈련데이터와 평가데이터를 2:8로 나누기\n",
    "X_train, X_test, y_train, y_test = train_test_split(df_X, \n",
    "                                                    df_y, \n",
    "                                                    test_size=0.2, \n",
    "                                                    random_state=42)"
   ]
  },
  {
   "cell_type": "code",
   "execution_count": 126,
   "id": "d09e7c1a",
   "metadata": {},
   "outputs": [
    {
     "name": "stdout",
     "output_type": "stream",
     "text": [
      "X_train 개수:  353 , X_test 개수:  89\n"
     ]
    }
   ],
   "source": [
    "print('X_train 개수: ', len(X_train),', X_test 개수: ', len(X_test))"
   ]
  },
  {
   "cell_type": "code",
   "execution_count": 127,
   "id": "c24eef13",
   "metadata": {},
   "outputs": [
    {
     "name": "stdout",
     "output_type": "stream",
     "text": [
      "(353, 10) (353,)\n",
      "(89, 10) (89,)\n"
     ]
    }
   ],
   "source": [
    "print(X_train.shape, y_train.shape)\n",
    "print(X_test.shape, y_test.shape)\n",
    "#훈련데이터 353개, 평가데이터89개, w 10개, b 1개"
   ]
  },
  {
   "cell_type": "markdown",
   "id": "c2af3643",
   "metadata": {},
   "source": [
    "## (5) 모델 준비하기"
   ]
  },
  {
   "cell_type": "code",
   "execution_count": 128,
   "id": "2744d9ee",
   "metadata": {},
   "outputs": [
    {
     "name": "stdout",
     "output_type": "stream",
     "text": [
      "슝=3\n"
     ]
    }
   ],
   "source": [
    "import numpy as np\n",
    "W = np.random.rand(10)\n",
    "b = np.random.rand()\n",
    "print(\"슝=3\")"
   ]
  },
  {
   "cell_type": "code",
   "execution_count": 129,
   "id": "22a10456",
   "metadata": {},
   "outputs": [
    {
     "name": "stdout",
     "output_type": "stream",
     "text": [
      "[0.45235546 0.43681134 0.09502852 0.07914826 0.08307486 0.49238873\n",
      " 0.76191064 0.4263272  0.44063871 0.70492607]\n",
      "0.07888236104253454\n"
     ]
    }
   ],
   "source": [
    "print(W)\n",
    "print(b)"
   ]
  },
  {
   "cell_type": "code",
   "execution_count": 130,
   "id": "59fdcae9",
   "metadata": {},
   "outputs": [
    {
     "name": "stdout",
     "output_type": "stream",
     "text": [
      "슝=3\n"
     ]
    }
   ],
   "source": [
    "def model(X, W, b):\n",
    "    predictions = 0\n",
    "    for i in range(10):\n",
    "        predictions += X[:, i] * W[i]\n",
    "    predictions += b\n",
    "    return predictions\n",
    "print(\"슝=3\")"
   ]
  },
  {
   "cell_type": "markdown",
   "id": "c2eba107",
   "metadata": {},
   "source": [
    "## (6) 손실함수 loss 정의하기"
   ]
  },
  {
   "cell_type": "code",
   "execution_count": 131,
   "id": "75c5f4d0",
   "metadata": {},
   "outputs": [
    {
     "name": "stdout",
     "output_type": "stream",
     "text": [
      "슝=3\n"
     ]
    }
   ],
   "source": [
    "def MSE(a, b):\n",
    "    mse = ((a - b) ** 2).mean()  # 두 값의 차이의 제곱의 평균\n",
    "    return mse\n",
    "print(\"슝=3\")"
   ]
  },
  {
   "cell_type": "code",
   "execution_count": 132,
   "id": "9f84e059",
   "metadata": {},
   "outputs": [
    {
     "name": "stdout",
     "output_type": "stream",
     "text": [
      "슝=3\n"
     ]
    }
   ],
   "source": [
    "def loss(X, W, b, y):\n",
    "    predictions = model(X, W, b)\n",
    "    L = MSE(predictions, y)\n",
    "    return L\n",
    "print(\"슝=3\")"
   ]
  },
  {
   "cell_type": "markdown",
   "id": "942253bc",
   "metadata": {},
   "source": [
    "## (7) 기울기를 구하는 gradient 함수 구현하기"
   ]
  },
  {
   "cell_type": "code",
   "execution_count": 133,
   "id": "f7e72a5a",
   "metadata": {},
   "outputs": [
    {
     "name": "stdout",
     "output_type": "stream",
     "text": [
      "슝=3\n"
     ]
    }
   ],
   "source": [
    "def gradient(X, W, b, y):\n",
    "    # N은 데이터 포인트의 개수\n",
    "    N = len(y)\n",
    "    \n",
    "    # y_pred 준비\n",
    "    y_pred = model(X, W, b)\n",
    "    \n",
    "    # 공식에 맞게 gradient 계산\n",
    "    dW = 1/N * 2 * X.T.dot(y_pred - y)\n",
    "        \n",
    "    # b의 gradient 계산\n",
    "    db = 2 * (y_pred - y).mean()\n",
    "    return dW, db\n",
    "print(\"슝=3\")"
   ]
  },
  {
   "cell_type": "code",
   "execution_count": 134,
   "id": "4bded4da",
   "metadata": {},
   "outputs": [
    {
     "name": "stdout",
     "output_type": "stream",
     "text": [
      "dW: [-1.37158145 -0.31237014 -4.29262366 -3.23001878 -1.54672727 -1.26941168\n",
      "  2.89087207 -3.14835333 -4.14004391 -2.79582994]\n",
      "db: -304.1092036037068\n"
     ]
    }
   ],
   "source": [
    "dW, db = gradient(X, W, b, y)\n",
    "print(\"dW:\", dW)\n",
    "print(\"db:\", db)"
   ]
  },
  {
   "cell_type": "markdown",
   "id": "6ef7e8f0",
   "metadata": {},
   "source": [
    "## (8) 하이퍼 파라미터인 학습률 설정하기"
   ]
  },
  {
   "cell_type": "code",
   "execution_count": 135,
   "id": "c0518047",
   "metadata": {},
   "outputs": [],
   "source": [
    "LEARNING_RATE = 0.1"
   ]
  },
  {
   "cell_type": "markdown",
   "id": "bed0a8f9",
   "metadata": {},
   "source": [
    "## (9) 모델 학습하기"
   ]
  },
  {
   "cell_type": "code",
   "execution_count": 136,
   "id": "1b037988",
   "metadata": {},
   "outputs": [
    {
     "name": "stdout",
     "output_type": "stream",
     "text": [
      "Iteration 1000 : Loss 3443.8308\n",
      "Iteration 2000 : Loss 3094.2567\n",
      "Iteration 3000 : Loss 2979.0928\n",
      "Iteration 4000 : Loss 2933.7586\n",
      "Iteration 5000 : Loss 2914.6960\n",
      "Iteration 6000 : Loss 2906.1611\n",
      "Iteration 7000 : Loss 2902.0654\n",
      "Iteration 8000 : Loss 2899.9408\n",
      "Iteration 9000 : Loss 2898.7376\n",
      "Iteration 10000 : Loss 2897.9869\n"
     ]
    }
   ],
   "source": [
    "losses = []\n",
    "\n",
    "for i in range(1, 10001):\n",
    "    dW, db = gradient(X_train, W, b, y_train)\n",
    "    W -= LEARNING_RATE * dW\n",
    "    b -= LEARNING_RATE * db\n",
    "    L = loss(X_train, W, b, y_train)\n",
    "    losses.append(L)\n",
    "    if i % 1000 == 0:\n",
    "        print('Iteration %d : Loss %0.4f' % (i, L))"
   ]
  },
  {
   "cell_type": "code",
   "execution_count": 137,
   "id": "dd295611",
   "metadata": {},
   "outputs": [
    {
     "data": {
      "image/png": "[encoded data removed]",
      "text/plain": [
       "<Figure size 640x480 with 1 Axes>"
      ]
     },
     "metadata": {},
     "output_type": "display_data"
    }
   ],
   "source": [
    "import matplotlib.pyplot as plt\n",
    "plt.plot(losses)\n",
    "plt.show()"
   ]
  },
  {
   "cell_type": "code",
   "execution_count": 138,
   "id": "2b171677",
   "metadata": {},
   "outputs": [
    {
     "data": {
      "text/plain": [
       "(array([  39.93957356, -236.71534985,  550.29322906,  340.33551573,\n",
       "         -98.40573852, -126.88100467, -215.66490064,  149.01285136,\n",
       "         411.17519238,   71.84754053]),\n",
       " 151.3038021366424)"
      ]
     },
     "execution_count": 138,
     "metadata": {},
     "output_type": "execute_result"
    }
   ],
   "source": [
    "W, b"
   ]
  },
  {
   "cell_type": "markdown",
   "id": "963a076b",
   "metadata": {},
   "source": [
    "## (10) test 데이터에 대한 성능 확인하기"
   ]
  },
  {
   "cell_type": "code",
   "execution_count": 139,
   "id": "ef3585a4",
   "metadata": {},
   "outputs": [
    {
     "data": {
      "text/plain": [
       "2880.214034507182"
      ]
     },
     "execution_count": 139,
     "metadata": {},
     "output_type": "execute_result"
    }
   ],
   "source": [
    "prediction = model(X_test, W, b)\n",
    "mse = loss(X_test, W, b, y_test)\n",
    "mse"
   ]
  },
  {
   "cell_type": "markdown",
   "id": "82906bf3",
   "metadata": {},
   "source": [
    "## (11) 정답 데이터와 예측한 데이터 시각화하기"
   ]
  },
  {
   "cell_type": "code",
   "execution_count": 140,
   "id": "577b273b",
   "metadata": {},
   "outputs": [
    {
     "data": {
      "image/png": "[encoded data removed]",
      "text/plain": [
       "<Figure size 640x480 with 1 Axes>"
      ]
     },
     "metadata": {},
     "output_type": "display_data"
    }
   ],
   "source": [
    "plt.scatter(X_test[:, 0], y_test, label = 'actual')\n",
    "plt.scatter(X_test[:, 0], prediction, label = 'pred')\n",
    "plt.legend()\n",
    "plt.show()"
   ]
  },
  {
   "cell_type": "markdown",
   "id": "491e73ec",
   "metadata": {},
   "source": [
    "## (12) 결론\n",
    " laerning rate 걊이 0.1>0.01>0.001>0.0001순으로 더 성능이 좋았다.   \n",
    "또한 epoch 횟수가 10001>1001>101순으로 더 성능이 좋았다. (9)단계의 그림을 참고하여 보면 2000번부터 변화율이 거의 없으므로 2000번 반복이 가장 적절한 것으로 보인다. "
   ]
  },
  {
   "cell_type": "markdown",
   "id": "c4afcce8",
   "metadata": {},
   "source": [
    "----------\n",
    "# 2. 자전거 대여량 예측하기\n",
    "\n",
    "## (1) 데이터 준비하기"
   ]
  },
  {
   "cell_type": "code",
   "execution_count": 18,
   "id": "fc8e9979",
   "metadata": {},
   "outputs": [],
   "source": [
    "import pandas as pd\n",
    "import numpy as np\n",
    "import matplotlib.pyplot as plt\n",
    "import seaborn as sns\n",
    "from sklearn.model_selection import train_test_split\n",
    "\n",
    "plt.style.use('default')"
   ]
  },
  {
   "cell_type": "code",
   "execution_count": 19,
   "id": "507d7763",
   "metadata": {},
   "outputs": [
    {
     "data": {
      "text/html": [
       "<div>\n",
       "<style scoped>\n",
       "    .dataframe tbody tr th:only-of-type {\n",
       "        vertical-align: middle;\n",
       "    }\n",
       "\n",
       "    .dataframe tbody tr th {\n",
       "        vertical-align: top;\n",
       "    }\n",
       "\n",
       "    .dataframe thead th {\n",
       "        text-align: right;\n",
       "    }\n",
       "</style>\n",
       "<table border=\"1\" class=\"dataframe\">\n",
       "  <thead>\n",
       "    <tr style=\"text-align: right;\">\n",
       "      <th></th>\n",
       "      <th>datetime</th>\n",
       "      <th>season</th>\n",
       "      <th>holiday</th>\n",
       "      <th>workingday</th>\n",
       "      <th>weather</th>\n",
       "      <th>temp</th>\n",
       "      <th>atemp</th>\n",
       "      <th>humidity</th>\n",
       "      <th>windspeed</th>\n",
       "      <th>casual</th>\n",
       "      <th>registered</th>\n",
       "      <th>count</th>\n",
       "    </tr>\n",
       "  </thead>\n",
       "  <tbody>\n",
       "    <tr>\n",
       "      <th>0</th>\n",
       "      <td>2011-01-01 00:00:00</td>\n",
       "      <td>1</td>\n",
       "      <td>0</td>\n",
       "      <td>0</td>\n",
       "      <td>1</td>\n",
       "      <td>9.84</td>\n",
       "      <td>14.395</td>\n",
       "      <td>81</td>\n",
       "      <td>0.0</td>\n",
       "      <td>3</td>\n",
       "      <td>13</td>\n",
       "      <td>16</td>\n",
       "    </tr>\n",
       "    <tr>\n",
       "      <th>1</th>\n",
       "      <td>2011-01-01 01:00:00</td>\n",
       "      <td>1</td>\n",
       "      <td>0</td>\n",
       "      <td>0</td>\n",
       "      <td>1</td>\n",
       "      <td>9.02</td>\n",
       "      <td>13.635</td>\n",
       "      <td>80</td>\n",
       "      <td>0.0</td>\n",
       "      <td>8</td>\n",
       "      <td>32</td>\n",
       "      <td>40</td>\n",
       "    </tr>\n",
       "    <tr>\n",
       "      <th>2</th>\n",
       "      <td>2011-01-01 02:00:00</td>\n",
       "      <td>1</td>\n",
       "      <td>0</td>\n",
       "      <td>0</td>\n",
       "      <td>1</td>\n",
       "      <td>9.02</td>\n",
       "      <td>13.635</td>\n",
       "      <td>80</td>\n",
       "      <td>0.0</td>\n",
       "      <td>5</td>\n",
       "      <td>27</td>\n",
       "      <td>32</td>\n",
       "    </tr>\n",
       "    <tr>\n",
       "      <th>3</th>\n",
       "      <td>2011-01-01 03:00:00</td>\n",
       "      <td>1</td>\n",
       "      <td>0</td>\n",
       "      <td>0</td>\n",
       "      <td>1</td>\n",
       "      <td>9.84</td>\n",
       "      <td>14.395</td>\n",
       "      <td>75</td>\n",
       "      <td>0.0</td>\n",
       "      <td>3</td>\n",
       "      <td>10</td>\n",
       "      <td>13</td>\n",
       "    </tr>\n",
       "    <tr>\n",
       "      <th>4</th>\n",
       "      <td>2011-01-01 04:00:00</td>\n",
       "      <td>1</td>\n",
       "      <td>0</td>\n",
       "      <td>0</td>\n",
       "      <td>1</td>\n",
       "      <td>9.84</td>\n",
       "      <td>14.395</td>\n",
       "      <td>75</td>\n",
       "      <td>0.0</td>\n",
       "      <td>0</td>\n",
       "      <td>1</td>\n",
       "      <td>1</td>\n",
       "    </tr>\n",
       "  </tbody>\n",
       "</table>\n",
       "</div>"
      ],
      "text/plain": [
       "              datetime  season  holiday  workingday  weather  temp   atemp  \\\n",
       "0  2011-01-01 00:00:00       1        0           0        1  9.84  14.395   \n",
       "1  2011-01-01 01:00:00       1        0           0        1  9.02  13.635   \n",
       "2  2011-01-01 02:00:00       1        0           0        1  9.02  13.635   \n",
       "3  2011-01-01 03:00:00       1        0           0        1  9.84  14.395   \n",
       "4  2011-01-01 04:00:00       1        0           0        1  9.84  14.395   \n",
       "\n",
       "   humidity  windspeed  casual  registered  count  \n",
       "0        81        0.0       3          13     16  \n",
       "1        80        0.0       8          32     40  \n",
       "2        80        0.0       5          27     32  \n",
       "3        75        0.0       3          10     13  \n",
       "4        75        0.0       0           1      1  "
      ]
     },
     "execution_count": 19,
     "metadata": {},
     "output_type": "execute_result"
    }
   ],
   "source": [
    "train_data = pd.read_csv('~/data/data/bike-sharing-demand/train.csv')\n",
    "train = train_data.copy()\n",
    "train.head()"
   ]
  },
  {
   "cell_type": "markdown",
   "id": "1bcfbb87",
   "metadata": {},
   "source": [
    "## (2) datetime 컬럼을 datetime 자료형으로 변환하고 연, 월, 일, 시, 분, 초까지 6가지 컬럼 생성하기"
   ]
  },
  {
   "cell_type": "code",
   "execution_count": 20,
   "id": "19d6a85f",
   "metadata": {},
   "outputs": [],
   "source": [
    "train['datetime'] = pd.to_datetime(train['datetime'])"
   ]
  },
  {
   "cell_type": "code",
   "execution_count": 21,
   "id": "2275a170",
   "metadata": {},
   "outputs": [],
   "source": [
    "train['year'] = train.datetime.dt.year\n",
    "train['month'] = train.datetime.dt.month\n",
    "train['day'] = train.datetime.dt.day\n",
    "train['hour'] = train.datetime.dt.hour\n",
    "train['min'] = train.datetime.dt.minute\n",
    "train['sec'] = train.datetime.dt.second"
   ]
  },
  {
   "cell_type": "markdown",
   "id": "4dd26d1d",
   "metadata": {},
   "source": [
    "## (3) year, month, day, hour, minute, second 데이터 개수 시각화하기"
   ]
  },
  {
   "cell_type": "code",
   "execution_count": 22,
   "id": "eae6286d",
   "metadata": {},
   "outputs": [
    {
     "data": {
      "text/plain": [
       "0        0\n",
       "1        0\n",
       "2        0\n",
       "3        0\n",
       "4        0\n",
       "        ..\n",
       "10881    0\n",
       "10882    0\n",
       "10883    0\n",
       "10884    0\n",
       "10885    0\n",
       "Name: min, Length: 10886, dtype: int64"
      ]
     },
     "execution_count": 22,
     "metadata": {},
     "output_type": "execute_result"
    }
   ],
   "source": [
    "train['min']"
   ]
  },
  {
   "cell_type": "code",
   "execution_count": 23,
   "id": "704abd3a",
   "metadata": {},
   "outputs": [],
   "source": [
    "train = train.drop([train.columns[17], train.columns[16]], axis = 1)"
   ]
  },
  {
   "cell_type": "markdown",
   "id": "49f5ffdf",
   "metadata": {},
   "source": [
    "-> min값과 sec값은 모두 0으로 되어있기 때문제 제거해주었다."
   ]
  },
  {
   "cell_type": "code",
   "execution_count": 24,
   "id": "0d69e6d7",
   "metadata": {
    "scrolled": true
   },
   "outputs": [
    {
     "data": {
      "text/plain": [
       "<AxesSubplot:xlabel='hour', ylabel='count'>"
      ]
     },
     "execution_count": 24,
     "metadata": {},
     "output_type": "execute_result"
    },
    {
     "data": {
      "image/png": "[encoded data removed]",
      "text/plain": [
       "<Figure size 1200x900 with 4 Axes>"
      ]
     },
     "metadata": {},
     "output_type": "display_data"
    }
   ],
   "source": [
    "plt.subplots(figsize = (12, 9))\n",
    "\n",
    "plt.subplot(221)\n",
    "sns.countplot(x = 'year', palette = 'spring', data = train)\n",
    "\n",
    "plt.subplot(222)\n",
    "sns.countplot(x = 'month', palette = 'summer', data = train)\n",
    "\n",
    "plt.subplot(223)\n",
    "sns.countplot(x = 'day', palette = 'autumn', data = train)\n",
    "\n",
    "plt.subplot(224)\n",
    "sns.countplot(x = 'hour', palette = 'winter', data = train)"
   ]
  },
  {
   "cell_type": "markdown",
   "id": "e0f96331",
   "metadata": {},
   "source": [
    "## (4) X, y 컬럼 선택 및 train/test 데이터 분리"
   ]
  },
  {
   "cell_type": "code",
   "execution_count": 25,
   "id": "1adba3a1",
   "metadata": {},
   "outputs": [],
   "source": [
    "y = train['count']"
   ]
  },
  {
   "cell_type": "code",
   "execution_count": 44,
   "id": "f5bfabbc",
   "metadata": {},
   "outputs": [],
   "source": [
    "cols = ['season', 'holiday', 'weather',  'temp', 'humidity', 'windspeed', 'year', 'month', 'day', 'hour']\n",
    "X = train[cols]"
   ]
  },
  {
   "cell_type": "code",
   "execution_count": 45,
   "id": "e4fe0292",
   "metadata": {},
   "outputs": [],
   "source": [
    "#훈련데이터와 평가데이터를 2:8로 나누기\n",
    "X_train, X_test, y_train, y_test = train_test_split(X, \n",
    "                                                    y, \n",
    "                                                    test_size=0.2, \n",
    "                                                    random_state=42)"
   ]
  },
  {
   "cell_type": "code",
   "execution_count": 46,
   "id": "11113a2a",
   "metadata": {},
   "outputs": [
    {
     "name": "stdout",
     "output_type": "stream",
     "text": [
      "X_train 개수:  8708 , X_test 개수:  2178\n"
     ]
    }
   ],
   "source": [
    "print('X_train 개수: ', len(X_train),', X_test 개수: ', len(X_test))"
   ]
  },
  {
   "cell_type": "code",
   "execution_count": 47,
   "id": "ebe8fc50",
   "metadata": {},
   "outputs": [
    {
     "name": "stdout",
     "output_type": "stream",
     "text": [
      "(8708, 10) (8708,)\n",
      "(2178, 10) (2178,)\n"
     ]
    }
   ],
   "source": [
    "print(X_train.shape, y_train.shape)\n",
    "print(X_test.shape, y_test.shape)\n",
    "#훈련데이터 8708개, 평가데이터2178개, w 10개, b 1개"
   ]
  },
  {
   "cell_type": "markdown",
   "id": "6198eee8",
   "metadata": {},
   "source": [
    "## (5) LinearRegression 모델 학습"
   ]
  },
  {
   "cell_type": "code",
   "execution_count": 48,
   "id": "191d7453",
   "metadata": {},
   "outputs": [
    {
     "data": {
      "text/plain": [
       "LinearRegression()"
      ]
     },
     "execution_count": 48,
     "metadata": {},
     "output_type": "execute_result"
    }
   ],
   "source": [
    "from sklearn.linear_model import LinearRegression\n",
    "from sklearn.metrics import mean_squared_error\n",
    "from sklearn.metrics import mean_absolute_error\n",
    "from sklearn.metrics import r2_score\n",
    "\n",
    "model = LinearRegression()\n",
    "model.fit(X_train, y_train)"
   ]
  },
  {
   "cell_type": "markdown",
   "id": "5a0fdc29",
   "metadata": {},
   "source": [
    "## (6) 학습된 모델로 X_test에 대한 예측값 출력 및 손실함수값 계산"
   ]
  },
  {
   "cell_type": "code",
   "execution_count": 49,
   "id": "aa7fbd96",
   "metadata": {},
   "outputs": [
    {
     "name": "stdout",
     "output_type": "stream",
     "text": [
      "MSE:  19962.66630891719\n",
      "RMSE:  141.28930005105548\n",
      "MAE:  105.37819796379141\n",
      "R2:  0.3951978338569998\n"
     ]
    }
   ],
   "source": [
    "pred = model.predict(X_test)\n",
    "print(\"MSE: \", mean_squared_error(y_test, pred))\n",
    "print(\"RMSE: \", mean_squared_error(y_test, pred, squared=False))\n",
    "print(\"MAE: \", mean_absolute_error(y_test, pred))\n",
    "print(\"R2: \", r2_score(y_test, pred))"
   ]
  },
  {
   "cell_type": "markdown",
   "id": "0e1e9c95",
   "metadata": {},
   "source": [
    "## (7) x축은 temp 또는 humidity로, y축은 count로 예측 결과 시각화하기"
   ]
  },
  {
   "cell_type": "code",
   "execution_count": 71,
   "id": "e8a214c2",
   "metadata": {},
   "outputs": [
    {
     "data": {
      "text/plain": [
       "<matplotlib.legend.Legend at 0x7effbf555fd0>"
      ]
     },
     "execution_count": 71,
     "metadata": {},
     "output_type": "execute_result"
    },
    {
     "data": {
      "image/png": "[encoded data removed]",
      "text/plain": [
       "<Figure size 1200x900 with 2 Axes>"
      ]
     },
     "metadata": {},
     "output_type": "display_data"
    }
   ],
   "source": [
    "plt.subplots(figsize = (12, 9))\n",
    "\n",
    "plt.subplot(221)\n",
    "plt.scatter(X_test.iloc[:, 3], y_test, label = 'actual')\n",
    "plt.scatter(X_test.iloc[:, 3], pred, label = 'pred')\n",
    "plt.legend()\n",
    "\n",
    "plt.subplot(222)\n",
    "plt.scatter(X_test.iloc[:, 4], y_test, label = 'actual')\n",
    "plt.scatter(X_test.iloc[:, 4], pred, label = 'pred')\n",
    "plt.legend()"
   ]
  },
  {
   "cell_type": "code",
   "execution_count": 73,
   "id": "327365a2",
   "metadata": {},
   "outputs": [
    {
     "data": {
      "text/plain": [
       "463.1750961240614"
      ]
     },
     "execution_count": 73,
     "metadata": {},
     "output_type": "execute_result"
    }
   ],
   "source": [
    "pred.max()"
   ]
  },
  {
   "cell_type": "markdown",
   "id": "63c1903c",
   "metadata": {},
   "source": [
    "## (8) 결론\n",
    "\n",
    "mse, rmse, mae로는 성능을 한눈에 확인하기 어려워서 R2결정계수를 보아하니 0.39라는 값이 나왔다. 그래프상으로는 정확도가 높아보였는데 결정계수값이 작아서 놀랐다. 그리고 예측값의 count 부분이 약 500이상 올라가지 않는 것을 보고 pred.max()를 실행해보았더니 약 463이 나왔다. 원인은 알 수 없으나 이 때문에 결정계수값이 작은 것으로 추측한다."
   ]
  },
  {
   "cell_type": "markdown",
   "id": "dcda0061",
   "metadata": {},
   "source": [
    "# 프로젝트 회고\n",
    "\n",
    "## 배운점\n",
    "1.  오류해결: 다양한 오류 방법을 통해서 문제가 발생하였을 때 해결하는 방법을 여러가지 알 수 있었다. 특히 오류 코드를 그대로 복사하면 stack사이트에서 다양한 방식으로 문제를 해결 할 수 있고, github나 여러 블로그를 통해 오류의 원인과 개념 이해까지 할 수 있었다. 예전엔 sklearn같은 전문 사이트나 영어로 된 사이트는 잘 안보거나 바로 한글로 번역해서 보았는데 이제는 번역없이도 찾아보는 게 슬슬 익숙해지고 있다.  \n",
    "  \n",
    "2. loss함수와 gradient함수를 정의하여 직접 파라미터를 조절해가며 정확도를 높혀가는 과정이 가장 흥미롭고 재미있었다. 이미 만들어진 최적의 모델을 사용하는 것이 편하긴 하지만 직접 모델의 성능을 높히는 경험을 통하여 더욱 모델에 대해서 이해할 수 있었다.  \n",
    "  \n",
    "3. mse말고도 다양한 평가 지표가 있다는 것을 배우고 난 후 모델 평가를 더 자세히 할 수 있어서 좋았다. 만약 결정계수에 대해서 알지 못했다면 'mse값이 약 19962로 나왔다'라는 사실밖에 알지 못했을 것이다.  \n",
    "  \n",
    "\n",
    "## 아쉬운점\n",
    "두번째 프로젝트인 자전거 대여량 예측하기에서도 첫번째 프로젝트처럼 직접 파라미터를 바꿔가며 성능을 높히고 싶었는데 첫번째 프로젝트와 다르게 계속 오류가 떠서 하지 못하였다. 좀더 내가 원하는 코드를 실행할 수 있도록 공부가 필요할 것 같다. 이것과 더불어서 pred값이 500을 넘지 않는 현상의 원인과 성능이 안좋은 이유를 찾아보아야겠다.  \n",
    "\n",
    "## 종합후기\n",
    "GDM을 통해 모델 성능을 높히는 작업과 여러 평가 지표를 사용하여 모델 평가를 다양하게 하는 작업이 가장 유익했고 다양한 plot색깔변환 종류를 알 게 되어서 재밌었다. 모델 성능 평가와 성능을 높히는 방법에 대해 더 공부해야겠다.   "
   ]
  },
  {
   "cell_type": "markdown",
   "id": "c32a56b3",
   "metadata": {},
   "source": [
    "### 오류해결1:  \n",
    "1- (9)단계:  _'ValueError: operands could not be broadcast together with shapes (12,) (10,) (12,)'_  \n",
    "1. 해결시도1: (9)단계에서 W -= LEARNING_RATE * dW.T로 수정  \n",
    "2. 해결시도2: (7)단계에서 dW = 1/N * 2 * X.T.dot(y_pred - y).reshape((-1,1))로 수정  \n",
    "3. 해결시도3: (5)단계에서 W값을 W = np.random.rand(12)이 아닌 W = np.random.rand(10)으로 수정  \n",
    "결론: W와 dW의 행렬 차원이 맞지 않아서 생긴 오류였다. 오류해결!!!\n",
    "\n",
    "### 오류해결2: \n",
    "2 - (3)단계: _IndexError: GridSpec slice would result in no space allocated for subplot_  \n",
    "해결시도: train['min']과 train['sec']를 확인해보니 모두 0인것을 확인함  \n",
    "결론: train.drop([train.columns[17], train.columns[16]], axis = 1) 수행 오류해결!!   \n",
    "\n",
    "### 오류해결3: \n",
    "2 - (3)단계에서 이 오류를 통해 여러가지 색변환 방법이 있다는 것을 알게 되었고 내 맘대로 이쁘게 디자인해보았다.   \n",
    "ValueError: 'Set4' is not a valid value for name; supported values are 'Accent', 'Accent_r', 'Blues', 'Blues_r', 'BrBG', 'BrBG_r', 'BuGn', 'BuGn_r', 'BuPu', 'BuPu_r', 'CMRmap', 'CMRmap_r', 'Dark2', 'Dark2_r', 'GnBu', 'GnBu_r', 'Greens', 'Greens_r', 'Greys', 'Greys_r', 'OrRd', 'OrRd_r', 'Oranges', 'Oranges_r', 'PRGn', 'PRGn_r', 'Paired', 'Paired_r', 'Pastel1', 'Pastel1_r', 'Pastel2', 'Pastel2_r', 'PiYG', 'PiYG_r', 'PuBu', 'PuBuGn', 'PuBuGn_r', 'PuBu_r', 'PuOr', 'PuOr_r', 'PuRd', 'PuRd_r', 'Purples', 'Purples_r', 'RdBu', 'RdBu_r', 'RdGy', 'RdGy_r', 'RdPu', 'RdPu_r', 'RdYlBu', 'RdYlBu_r', 'RdYlGn', 'RdYlGn_r', 'Reds', 'Reds_r', 'Set1', 'Set1_r', 'Set2', 'Set2_r', 'Set3', 'Set3_r', 'Spectral', 'Spectral_r', 'Wistia', 'Wistia_r', 'YlGn', 'YlGnBu', 'YlGnBu_r', 'YlGn_r', 'YlOrBr', 'YlOrBr_r', 'YlOrRd', 'YlOrRd_r', 'afmhot', 'afmhot_r', 'autumn', 'autumn_r', 'binary', 'binary_r', 'bone', 'bone_r', 'brg', 'brg_r', 'bwr', 'bwr_r', 'cividis', 'cividis_r', 'cool', 'cool_r', 'coolwarm', 'coolwarm_r', 'copper', 'copper_r', 'crest', 'crest_r', 'cubehelix', 'cubehelix_r', 'flag', 'flag_r', 'flare', 'flare_r', 'gist_earth', 'gist_earth_r', 'gist_gray', 'gist_gray_r', 'gist_heat', 'gist_heat_r', 'gist_ncar', 'gist_ncar_r', 'gist_rainbow', 'gist_rainbow_r', 'gist_stern', 'gist_stern_r', 'gist_yarg', 'gist_yarg_r', 'gnuplot', 'gnuplot2', 'gnuplot2_r', 'gnuplot_r', 'gray', 'gray_r', 'hot', 'hot_r', 'hsv', 'hsv_r', 'icefire', 'icefire_r', 'inferno', 'inferno_r', 'jet', 'jet_r', 'magma', 'magma_r', 'mako', 'mako_r', 'nipy_spectral', 'nipy_spectral_r', 'ocean', 'ocean_r', 'pink', 'pink_r', 'plasma', 'plasma_r', 'prism', 'prism_r', 'rainbow', 'rainbow_r', 'rocket', 'rocket_r', 'seismic', 'seismic_r', 'spring', 'spring_r', 'summer', 'summer_r', 'tab10', 'tab10_r', 'tab20', 'tab20_r', 'tab20b', 'tab20b_r', 'tab20c', 'tab20c_r', 'terrain', 'terrain_r', 'turbo', 'turbo_r', 'twilight', 'twilight_r', 'twilight_shifted', 'twilight_shifted_r', 'viridis', 'viridis_r', 'vlag', 'vlag_r', 'winter', 'winter_r'  \n",
    "### 오류해결4: \n",
    "2-(7)단계: _TypeError: '(slice(None, None, None), 3)' is an invalid key_  \n",
    "검색을 통해 오류해결: X_test[:, 3]를 X_test.iloc[:, 3]로 바꾸었다.  \n",
    "이를 통하여 판다스 데이터를 슬라이싱하려면 iloc함수가 필요하거나 넘파이배열로 바꿔야한다는 것을 배울 수 있었다. 1번프로젝트는 넘파이배열로 만들어졌기 때문에 이런 오류가 없었지만 2번 프로젝트는 아니기 때문에 이런 오류가 있었다."
   ]
  },
  {
   "cell_type": "markdown",
   "id": "51771132",
   "metadata": {},
   "source": [
    "# Reference\n",
    "1. 당뇨병 수치 데이터  \n",
    "https://lms.aiffel.io/course/443/node/649/step/4331  \n",
    "2. 차원 맞추기 오류 해결   \n",
    "https://stackoverflow.com/questions/24560298/python-numpy-valueerror-operands-could-not-be-broadcast-together-with-shapes  \n",
    "3. value, values 차이  \n",
    "https://hsd0937.tistory.com/20  \n",
    "4. datetime 자료형 변환과 연, 월, 일, 시, 분, 초 값 추출  \n",
    "https://www.w3resource.com/python-exercises/pandas/datetime/pandas-datetime-exercise-8.php   \n",
    "5. 열삭제 참고   \n",
    "https://blog.naver.com/rising_n_falling/221631637822  \n",
    "6. sns.subplot 참고  \n",
    "https://steadiness-193.tistory.com/192  \n",
    "7. sns.subplot 참고2  \n",
    "https://wikidocs.net/13582  \n",
    "8. 황금비  \n",
    "https://namu.wiki/w/%ED%99%A9%EA%B8%88%EB%B9%84  \n",
    "9. 다양한 모델 평가 메트릭스  \n",
    "https://scikit-learn.org/stable/modules/classes.html#module-sklearn.metrics\n",
    "10. 인덱스 문제 오류 해결  \n",
    "https://stackoverflow.com/questions/55291667/getting-typeerror-slicenone-none-none-0-is-an-invalid-key   "
   ]
  }
 ],
 "metadata": {
  "kernelspec": {
   "display_name": "Python 3 (ipykernel)",
   "language": "python",
   "name": "python3"
  },
  "language_info": {
   "codemirror_mode": {
    "name": "ipython",
    "version": 3
   },
   "file_extension": ".py",
   "mimetype": "text/x-python",
   "name": "python",
   "nbconvert_exporter": "python",
   "pygments_lexer": "ipython3",
   "version": "3.9.7"
  }
 },
 "nbformat": 4,
 "nbformat_minor": 5
}
