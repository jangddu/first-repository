{
 "cells": [
  {
   "cell_type": "markdown",
   "id": "d298369c",
   "metadata": {},
   "source": [
    "# 주제: 가위바위보 분류하기\n",
    "\n",
    "## 데이터\n",
    "train data: 직접 찍은 가위, 바위, 보 사진 각각 365장 총 1095장  \n",
    "test data: 다른 사람들의 가위, 바위, 보 사진 각각 100장 총 300장, 3번 시도  \n",
    "\n",
    "## 목표\n",
    "1. 여러가지 평가지표 시각화하기 (train acc / train loss / val acc / val loss )\n",
    "2. 오버피팅을 극복하기 위해 다양한 데이터셋 사용, 정규화, 모델구성 변화 등 시도하기\n",
    "3. 정확도 60% 넘기기!!"
   ]
  },
  {
   "cell_type": "markdown",
   "id": "47ffd856",
   "metadata": {},
   "source": [
    "### (1) 라이브러리 불러오기"
   ]
  },
  {
   "cell_type": "code",
   "execution_count": 1,
   "id": "a1db2753",
   "metadata": {},
   "outputs": [
    {
     "name": "stdout",
     "output_type": "stream",
     "text": [
      "2.6.0\n",
      "1.21.4\n"
     ]
    }
   ],
   "source": [
    "import tensorflow as tf\n",
    "import numpy as np\n",
    "\n",
    "print(tf.__version__)\n",
    "print(np.__version__)"
   ]
  },
  {
   "cell_type": "code",
   "execution_count": 2,
   "id": "e596dd1f",
   "metadata": {},
   "outputs": [
    {
     "name": "stdout",
     "output_type": "stream",
     "text": [
      "PIL 라이브러리 import 완료!\n"
     ]
    }
   ],
   "source": [
    "from PIL import Image\n",
    "import glob\n",
    "import os\n",
    "\n",
    "print(\"PIL 라이브러리 import 완료!\")"
   ]
  },
  {
   "cell_type": "markdown",
   "id": "92e28825",
   "metadata": {},
   "source": [
    "### (2) 데이터 전처리\n",
    "모든 이미지를 28x28 사이즈로 바꾸고 픽셀값을 0~1 사이의 값으로 정규화한다"
   ]
  },
  {
   "cell_type": "code",
   "execution_count": 3,
   "id": "8bb8e92e",
   "metadata": {},
   "outputs": [
    {
     "name": "stdout",
     "output_type": "stream",
     "text": [
      "365  images to be resized.\n",
      "365  images resized.\n",
      "가위 이미지 resize 완료!\n"
     ]
    }
   ],
   "source": [
    "def resize_images(img_path):\n",
    "\timages=glob.glob(img_path + \"/*.jpg\")  \n",
    "    \n",
    "\tprint(len(images), \" images to be resized.\")\n",
    "\n",
    "    # 파일마다 모두 28x28 사이즈로 바꾸어 저장\n",
    "\ttarget_size=(28,28)\n",
    "\tfor img in images:\n",
    "\t\told_img=Image.open(img)\n",
    "\t\tnew_img=old_img.resize(target_size,Image.ANTIALIAS)\n",
    "\t\tnew_img.save(img, \"JPEG\")\n",
    "    \n",
    "\tprint(len(images), \" images resized.\")\n",
    "\t\n",
    "# 가위 이미지가 저장된 디렉토리 아래의 모든 jpg 파일을 읽기\n",
    "image_dir_path = os.getenv(\"HOME\") + \"/aiffel/rock_scissor_paper/scissor\"\n",
    "resize_images(image_dir_path)\n",
    "\n",
    "print(\"가위 이미지 resize 완료!\")"
   ]
  },
  {
   "cell_type": "code",
   "execution_count": 4,
   "id": "e8c1d2b4",
   "metadata": {},
   "outputs": [
    {
     "name": "stdout",
     "output_type": "stream",
     "text": [
      "365  images to be resized.\n",
      "365  images resized.\n",
      "바위 이미지 resize 완료!\n"
     ]
    }
   ],
   "source": [
    "# 바위 이미지가 저장된 디렉토리 아래의 모든 jpg 파일을 읽기\n",
    "# [[YOUR CODE]]\n",
    "image_dir_path = os.getenv(\"HOME\") + \"/aiffel/rock_scissor_paper/rock\"\n",
    "\n",
    "# 파일마다 모두 28x28 사이즈로 바꾸어 저장\n",
    "# [[YOUR CODE]]\n",
    "resize_images(image_dir_path)\n",
    "\n",
    "print(\"바위 이미지 resize 완료!\")"
   ]
  },
  {
   "cell_type": "code",
   "execution_count": 5,
   "id": "6aeef156",
   "metadata": {},
   "outputs": [
    {
     "name": "stdout",
     "output_type": "stream",
     "text": [
      "365  images to be resized.\n",
      "365  images resized.\n",
      "보 이미지 resize 완료!\n"
     ]
    }
   ],
   "source": [
    "# 보 이미지가 저장된 디렉토리 아래의 모든 jpg 파일을 읽기\n",
    "# [[YOUR CODE]]\n",
    "image_dir_path = os.getenv(\"HOME\") + \"/aiffel/rock_scissor_paper/paper\"\n",
    "\n",
    "# 파일마다 모두 28x28 사이즈로 바꾸어 저장\n",
    "# [[YOUR CODE]]\n",
    "resize_images(image_dir_path)\n",
    "\n",
    "print(\"보 이미지 resize 완료!\")"
   ]
  },
  {
   "cell_type": "code",
   "execution_count": 6,
   "id": "0e0cc2a9",
   "metadata": {},
   "outputs": [
    {
     "name": "stdout",
     "output_type": "stream",
     "text": [
      "학습데이터(x_train)의 이미지 개수는 1095 입니다.\n",
      "x_train shape: (1095, 28, 28, 3)\n",
      "y_train shape: (1095,)\n"
     ]
    }
   ],
   "source": [
    "import numpy as np\n",
    "\n",
    "def load_data(img_path, number_of_data=1095):  \n",
    "    # 가위 : 0, 바위 : 1, 보 : 2\n",
    "    img_size=28\n",
    "    color=3\n",
    "    #이미지 데이터와 라벨(가위 : 0, 바위 : 1, 보 : 2) 데이터를 담을 행렬(matrix) 영역을 생성\n",
    "    imgs=np.zeros(number_of_data*img_size*img_size*color,dtype=np.int32).reshape(number_of_data,img_size,img_size,color)\n",
    "    labels=np.zeros(number_of_data,dtype=np.int32)\n",
    "\n",
    "    idx=0\n",
    "    for file in glob.iglob(img_path+'/scissor/*.jpg'):\n",
    "        img = np.array(Image.open(file),dtype=np.int32)\n",
    "        imgs[idx,:,:,:]=img    # 데이터 영역에 이미지 행렬을 복사\n",
    "        labels[idx]=0   # 가위 : 0\n",
    "        idx=idx+1\n",
    "\n",
    "    for file in glob.iglob(img_path+'/rock/*.jpg'):\n",
    "        img = np.array(Image.open(file),dtype=np.int32)\n",
    "        imgs[idx,:,:,:]=img    # 데이터 영역에 이미지 행렬을 복사\n",
    "        labels[idx]=1   # 바위 : 1\n",
    "        idx=idx+1  \n",
    "    \n",
    "    for file in glob.iglob(img_path+'/paper/*.jpg'):\n",
    "        img = np.array(Image.open(file),dtype=np.int32)\n",
    "        imgs[idx,:,:,:]=img    # 데이터 영역에 이미지 행렬을 복사\n",
    "        labels[idx]=2   # 보 : 2\n",
    "        idx=idx+1\n",
    "        \n",
    "    print(\"학습데이터(x_train)의 이미지 개수는\", idx,\"입니다.\")\n",
    "    return imgs, labels\n",
    "\n",
    "image_dir_path = os.getenv(\"HOME\") + \"/aiffel/rock_scissor_paper\"\n",
    "(x_train, y_train)=load_data(image_dir_path)\n",
    "x_train = x_train/255.0   # 입력은 0~1 사이의 값으로 정규화\n",
    "\n",
    "print(\"x_train shape: {}\".format(x_train.shape))\n",
    "print(\"y_train shape: {}\".format(y_train.shape))"
   ]
  },
  {
   "cell_type": "code",
   "execution_count": 7,
   "id": "5ee27fbc",
   "metadata": {},
   "outputs": [
    {
     "name": "stdout",
     "output_type": "stream",
     "text": [
      "라벨:  1\n"
     ]
    },
    {
     "data": {
      "image/png": "[encoded data removed]",
      "text/plain": [
       "<Figure size 432x288 with 1 Axes>"
      ]
     },
     "metadata": {
      "needs_background": "light"
     },
     "output_type": "display_data"
    }
   ],
   "source": [
    "import matplotlib.pyplot as plt\n",
    "\n",
    "index = 566\n",
    "plt.imshow(x_train[index])\n",
    "print('라벨: ', y_train[index])"
   ]
  },
  {
   "cell_type": "markdown",
   "id": "53d4d1a2",
   "metadata": {},
   "source": [
    "### (3) train, val 데이터 나누기"
   ]
  },
  {
   "cell_type": "code",
   "execution_count": 8,
   "id": "e6fa7458",
   "metadata": {},
   "outputs": [],
   "source": [
    "from sklearn.model_selection import train_test_split\n",
    "\n",
    "X_train, X_val, y_train, y_val = train_test_split(x_train, y_train, test_size=0.2, random_state=42)"
   ]
  },
  {
   "cell_type": "markdown",
   "id": "c04a3f6d",
   "metadata": {},
   "source": [
    "### (4) 모델 구성하기"
   ]
  },
  {
   "cell_type": "code",
   "execution_count": 9,
   "id": "13cb212a",
   "metadata": {},
   "outputs": [
    {
     "name": "stdout",
     "output_type": "stream",
     "text": [
      "Model: \"sequential\"\n",
      "_________________________________________________________________\n",
      "Layer (type)                 Output Shape              Param #   \n",
      "=================================================================\n",
      "conv2d (Conv2D)              (None, 26, 26, 32)        896       \n",
      "_________________________________________________________________\n",
      "max_pooling2d (MaxPooling2D) (None, 13, 13, 32)        0         \n",
      "_________________________________________________________________\n",
      "conv2d_1 (Conv2D)            (None, 11, 11, 32)        9248      \n",
      "_________________________________________________________________\n",
      "max_pooling2d_1 (MaxPooling2 (None, 5, 5, 32)          0         \n",
      "_________________________________________________________________\n",
      "flatten (Flatten)            (None, 800)               0         \n",
      "_________________________________________________________________\n",
      "dense (Dense)                (None, 32)                25632     \n",
      "_________________________________________________________________\n",
      "dense_1 (Dense)              (None, 3)                 99        \n",
      "=================================================================\n",
      "Total params: 35,875\n",
      "Trainable params: 35,875\n",
      "Non-trainable params: 0\n",
      "_________________________________________________________________\n"
     ]
    }
   ],
   "source": [
    "import tensorflow as tf\n",
    "from tensorflow import keras\n",
    "import numpy as np\n",
    "\n",
    "# [[YOUR CODE]]\n",
    "n_channel_1=32\n",
    "n_channel_2=32\n",
    "n_dense=32\n",
    "n_train_epoch=11\n",
    "\n",
    "model=keras.models.Sequential()\n",
    "model.add(keras.layers.Conv2D(n_channel_1, (3,3), activation='relu', input_shape=(28,28,3)))\n",
    "model.add(keras.layers.MaxPool2D(2,2))\n",
    "model.add(keras.layers.Conv2D(n_channel_2, (3,3), activation='relu'))\n",
    "model.add(keras.layers.MaxPooling2D((2,2)))\n",
    "model.add(keras.layers.Flatten())\n",
    "model.add(keras.layers.Dense(n_dense, activation='relu'))\n",
    "model.add(keras.layers.Dense(3, activation='softmax'))\n",
    "\n",
    "model.summary()"
   ]
  },
  {
   "cell_type": "markdown",
   "id": "4b30111e",
   "metadata": {},
   "source": [
    "### (5) 모델 컴파일 및 학습하기 "
   ]
  },
  {
   "cell_type": "code",
   "execution_count": 10,
   "id": "be1ea766",
   "metadata": {},
   "outputs": [
    {
     "name": "stdout",
     "output_type": "stream",
     "text": [
      "Epoch 1/10\n",
      "88/88 [==============================] - 34s 7ms/step - loss: 0.9879 - accuracy: 0.5411 - val_loss: 0.8013 - val_accuracy: 0.7443\n",
      "Epoch 2/10\n",
      "88/88 [==============================] - 0s 4ms/step - loss: 0.6575 - accuracy: 0.7660 - val_loss: 0.4972 - val_accuracy: 0.8402\n",
      "Epoch 3/10\n",
      "88/88 [==============================] - 0s 4ms/step - loss: 0.3675 - accuracy: 0.8664 - val_loss: 0.3306 - val_accuracy: 0.8813\n",
      "Epoch 4/10\n",
      "88/88 [==============================] - 0s 4ms/step - loss: 0.2677 - accuracy: 0.9178 - val_loss: 0.2876 - val_accuracy: 0.8858\n",
      "Epoch 5/10\n",
      "88/88 [==============================] - 0s 4ms/step - loss: 0.1562 - accuracy: 0.9463 - val_loss: 0.1889 - val_accuracy: 0.9224\n",
      "Epoch 6/10\n",
      "88/88 [==============================] - 0s 4ms/step - loss: 0.1044 - accuracy: 0.9692 - val_loss: 0.2054 - val_accuracy: 0.9269\n",
      "Epoch 7/10\n",
      "88/88 [==============================] - 0s 4ms/step - loss: 0.0827 - accuracy: 0.9737 - val_loss: 0.1293 - val_accuracy: 0.9498\n",
      "Epoch 8/10\n",
      "88/88 [==============================] - 0s 4ms/step - loss: 0.0480 - accuracy: 0.9909 - val_loss: 0.0730 - val_accuracy: 0.9772\n",
      "Epoch 9/10\n",
      "88/88 [==============================] - 0s 4ms/step - loss: 0.0395 - accuracy: 0.9909 - val_loss: 0.0638 - val_accuracy: 0.9772\n",
      "Epoch 10/10\n",
      "88/88 [==============================] - 0s 4ms/step - loss: 0.0271 - accuracy: 0.9932 - val_loss: 0.0824 - val_accuracy: 0.9635\n"
     ]
    }
   ],
   "source": [
    "# 모델 컴파일\n",
    "# [[YOUR CODE]]\n",
    "model.compile(optimizer='adam',\n",
    "             loss='sparse_categorical_crossentropy',\n",
    "             metrics=['accuracy'])\n",
    "\n",
    "# 모델 훈련\n",
    "hist = model.fit(X_train, y_train, epochs=10, batch_size=10, validation_data=(X_val, y_val))"
   ]
  },
  {
   "cell_type": "code",
   "execution_count": 11,
   "id": "3fd05abc",
   "metadata": {},
   "outputs": [
    {
     "data": {
      "image/png": "[encoded data removed]",
      "text/plain": [
       "<Figure size 432x288 with 2 Axes>"
      ]
     },
     "metadata": {
      "needs_background": "light"
     },
     "output_type": "display_data"
    }
   ],
   "source": [
    "# 학습 결과 시각화\n",
    "%matplotlib inline\n",
    "import matplotlib.pyplot as plt\n",
    "\n",
    "fig, loss_ax = plt.subplots()\n",
    "\n",
    "acc_ax = loss_ax.twinx()\n",
    "\n",
    "loss_ax.plot(hist.history['loss'], 'y', label='train loss')\n",
    "loss_ax.plot(hist.history['val_loss'], 'r', label='val loss')\n",
    "\n",
    "acc_ax.plot(hist.history['accuracy'], 'b', label='train acc')\n",
    "acc_ax.plot(hist.history['val_accuracy'], 'g', label='val acc')\n",
    "\n",
    "loss_ax.set_xlabel('epoch')\n",
    "loss_ax.set_ylabel('loss')\n",
    "acc_ax.set_ylabel('accuray')\n",
    "\n",
    "loss_ax.legend(loc='upper left')\n",
    "acc_ax.legend(loc='lower left')\n",
    "\n",
    "plt.show()"
   ]
  },
  {
   "cell_type": "markdown",
   "id": "79881cc9",
   "metadata": {},
   "source": [
    "### (6) 테스트용 데이터 불러오기"
   ]
  },
  {
   "cell_type": "code",
   "execution_count": 12,
   "id": "b83e864e",
   "metadata": {},
   "outputs": [
    {
     "name": "stdout",
     "output_type": "stream",
     "text": [
      "100  images to be resized.\n",
      "100  images resized.\n",
      "100  images to be resized.\n",
      "100  images resized.\n",
      "100  images to be resized.\n",
      "100  images resized.\n",
      "학습데이터(x_train)의 이미지 개수는 300 입니다.\n",
      "x_test shape: (300, 28, 28, 3)\n",
      "y_test shape: (300,)\n"
     ]
    }
   ],
   "source": [
    "# [[YOUR CODE]]\n",
    "#테스트용 사진 resize\n",
    "\n",
    "# 가위 이미지가 저장된 디렉토리 아래의 모든 jpg 파일을 읽기\n",
    "image_dir_path = os.getenv(\"HOME\") + \"/aiffel/rock_scissor_paper/test/scissor\"\n",
    "resize_images(image_dir_path)\n",
    "\n",
    "#바위\n",
    "image_dir_path = os.getenv(\"HOME\") + \"/aiffel/rock_scissor_paper/test/rock\"\n",
    "resize_images(image_dir_path)\n",
    "\n",
    "#보\n",
    "image_dir_path = os.getenv(\"HOME\") + \"/aiffel/rock_scissor_paper/test/paper\"\n",
    "resize_images(image_dir_path)\n",
    "\n",
    "image_dir_path = os.getenv(\"HOME\") + \"/aiffel/rock_scissor_paper/test\"\n",
    "(x_test, y_test)=load_data(image_dir_path, 300)\n",
    "x_test_norm = x_test/255.0   # 입력은 0~1 사이의 값으로 정규화\n",
    "\n",
    "print(\"x_test shape: {}\".format(x_test.shape))\n",
    "print(\"y_test shape: {}\".format(y_test.shape))"
   ]
  },
  {
   "cell_type": "markdown",
   "id": "54225567",
   "metadata": {},
   "source": [
    "### (7) 평가하기"
   ]
  },
  {
   "cell_type": "code",
   "execution_count": 13,
   "id": "70ed712a",
   "metadata": {},
   "outputs": [
    {
     "name": "stdout",
     "output_type": "stream",
     "text": [
      "10/10 - 0s - loss: 436.8086 - accuracy: 0.3733\n",
      "test_loss: 436.8085632324219 \n",
      "test_accuracy: 0.3733333349227905\n"
     ]
    }
   ],
   "source": [
    "# [[YOUR CODE]]\n",
    "# 모델 평가\n",
    "test_loss, test_accuracy = model.evaluate(x_test, y_test, verbose=2)\n",
    "print(f\"test_loss: {test_loss} \")\n",
    "print(f\"test_accuracy: {test_accuracy}\")"
   ]
  },
  {
   "cell_type": "markdown",
   "id": "cd33044d",
   "metadata": {},
   "source": [
    "-> 가이드라인대로 시도하니 37%의 정확도가 나왔다. 여러 시도를 통하여 정확도를 개선해보아야겠다"
   ]
  },
  {
   "cell_type": "markdown",
   "id": "fdb61fb1",
   "metadata": {},
   "source": [
    "### (8) 더 좋은 결과를 위한 시도들\n",
    "#### 1. 모델 구성을 바꾸기"
   ]
  },
  {
   "cell_type": "code",
   "execution_count": 14,
   "id": "0d5bc01a",
   "metadata": {},
   "outputs": [
    {
     "name": "stdout",
     "output_type": "stream",
     "text": [
      "Model: \"sequential_1\"\n",
      "_________________________________________________________________\n",
      "Layer (type)                 Output Shape              Param #   \n",
      "=================================================================\n",
      "conv2d_2 (Conv2D)            (None, 26, 26, 32)        896       \n",
      "_________________________________________________________________\n",
      "conv2d_3 (Conv2D)            (None, 24, 24, 32)        9248      \n",
      "_________________________________________________________________\n",
      "max_pooling2d_2 (MaxPooling2 (None, 12, 12, 32)        0         \n",
      "_________________________________________________________________\n",
      "dropout (Dropout)            (None, 12, 12, 32)        0         \n",
      "_________________________________________________________________\n",
      "conv2d_4 (Conv2D)            (None, 10, 10, 64)        18496     \n",
      "_________________________________________________________________\n",
      "conv2d_5 (Conv2D)            (None, 8, 8, 64)          36928     \n",
      "_________________________________________________________________\n",
      "max_pooling2d_3 (MaxPooling2 (None, 4, 4, 64)          0         \n",
      "_________________________________________________________________\n",
      "dropout_1 (Dropout)          (None, 4, 4, 64)          0         \n",
      "_________________________________________________________________\n",
      "flatten_1 (Flatten)          (None, 1024)              0         \n",
      "_________________________________________________________________\n",
      "dense_2 (Dense)              (None, 256)               262400    \n",
      "_________________________________________________________________\n",
      "dropout_2 (Dropout)          (None, 256)               0         \n",
      "_________________________________________________________________\n",
      "dense_3 (Dense)              (None, 3)                 771       \n",
      "=================================================================\n",
      "Total params: 328,739\n",
      "Trainable params: 328,739\n",
      "Non-trainable params: 0\n",
      "_________________________________________________________________\n"
     ]
    }
   ],
   "source": [
    "n_channel_1=32\n",
    "n_channel_2=64\n",
    "n_dense=256\n",
    "n_train_epoch=11\n",
    "\n",
    "model=keras.models.Sequential()\n",
    "model.add(keras.layers.Conv2D(n_channel_1, (3,3), activation='relu', input_shape=(28,28,3)))\n",
    "model.add(keras.layers.Conv2D(n_channel_1, (3,3), activation='relu', input_shape=(28,28,3)))\n",
    "model.add(keras.layers.MaxPool2D(2,2))\n",
    "model.add(keras.layers.Dropout(0.25))\n",
    "\n",
    "model.add(keras.layers.Conv2D(n_channel_2, (3,3), activation='relu'))\n",
    "model.add(keras.layers.Conv2D(n_channel_2, (3,3), activation='relu'))\n",
    "model.add(keras.layers.MaxPooling2D((2,2)))\n",
    "model.add(keras.layers.Dropout(0.25))\n",
    "\n",
    "model.add(keras.layers.Flatten())\n",
    "model.add(keras.layers.Dense(n_dense, activation='relu'))\n",
    "model.add(keras.layers.Dropout(0.5))\n",
    "model.add(keras.layers.Dense(3, activation='softmax'))\n",
    "\n",
    "model.summary()"
   ]
  },
  {
   "cell_type": "code",
   "execution_count": 30,
   "id": "d139d2bc",
   "metadata": {},
   "outputs": [
    {
     "name": "stdout",
     "output_type": "stream",
     "text": [
      "Epoch 1/10\n",
      "88/88 [==============================] - 1s 7ms/step - loss: 0.0017 - accuracy: 0.9989 - val_loss: 0.1946 - val_accuracy: 0.9909\n",
      "Epoch 2/10\n",
      "88/88 [==============================] - 0s 5ms/step - loss: 0.1273 - accuracy: 0.9886 - val_loss: 0.5331 - val_accuracy: 0.8813\n",
      "Epoch 3/10\n",
      "88/88 [==============================] - 0s 5ms/step - loss: 0.1326 - accuracy: 0.9760 - val_loss: 0.0316 - val_accuracy: 0.9863\n",
      "Epoch 4/10\n",
      "88/88 [==============================] - 0s 5ms/step - loss: 0.0039 - accuracy: 0.9989 - val_loss: 0.0076 - val_accuracy: 1.0000\n",
      "Epoch 5/10\n",
      "88/88 [==============================] - 0s 5ms/step - loss: 0.0091 - accuracy: 0.9966 - val_loss: 0.0678 - val_accuracy: 0.9909\n",
      "Epoch 6/10\n",
      "88/88 [==============================] - 0s 5ms/step - loss: 0.0070 - accuracy: 0.9966 - val_loss: 0.0021 - val_accuracy: 1.0000\n",
      "Epoch 7/10\n",
      "88/88 [==============================] - 0s 5ms/step - loss: 9.9179e-04 - accuracy: 1.0000 - val_loss: 0.0033 - val_accuracy: 1.0000\n",
      "Epoch 8/10\n",
      "88/88 [==============================] - 0s 5ms/step - loss: 0.0013 - accuracy: 0.9989 - val_loss: 0.0318 - val_accuracy: 0.9954\n",
      "Epoch 9/10\n",
      "88/88 [==============================] - 0s 5ms/step - loss: 2.2656e-05 - accuracy: 1.0000 - val_loss: 0.0303 - val_accuracy: 0.9954\n",
      "Epoch 10/10\n",
      "88/88 [==============================] - 0s 5ms/step - loss: 3.7280e-05 - accuracy: 1.0000 - val_loss: 0.0257 - val_accuracy: 0.9954\n"
     ]
    }
   ],
   "source": [
    "model.compile(optimizer='adam',\n",
    "             loss='sparse_categorical_crossentropy',\n",
    "             metrics=['accuracy'])\n",
    "\n",
    "# 모델 훈련\n",
    "hist = model.fit(X_train, y_train, epochs=10, batch_size=10, validation_data=(X_val, y_val))"
   ]
  },
  {
   "cell_type": "code",
   "execution_count": 31,
   "id": "40ad6723",
   "metadata": {},
   "outputs": [
    {
     "data": {
      "image/png": "[encoded data removed]",
      "text/plain": [
       "<Figure size 432x288 with 2 Axes>"
      ]
     },
     "metadata": {
      "needs_background": "light"
     },
     "output_type": "display_data"
    }
   ],
   "source": [
    "# 학습 결과 시각화\n",
    "%matplotlib inline\n",
    "import matplotlib.pyplot as plt\n",
    "\n",
    "fig, loss_ax = plt.subplots()\n",
    "\n",
    "acc_ax = loss_ax.twinx()\n",
    "\n",
    "loss_ax.plot(hist.history['loss'], 'y', label='train loss')\n",
    "loss_ax.plot(hist.history['val_loss'], 'r', label='val loss')\n",
    "\n",
    "acc_ax.plot(hist.history['accuracy'], 'b', label='train acc')\n",
    "acc_ax.plot(hist.history['val_accuracy'], 'g', label='val acc')\n",
    "\n",
    "loss_ax.set_xlabel('epoch')\n",
    "loss_ax.set_ylabel('loss')\n",
    "acc_ax.set_ylabel('accuray')\n",
    "\n",
    "loss_ax.legend(loc='upper left')\n",
    "acc_ax.legend(loc='lower left')\n",
    "\n",
    "plt.show()"
   ]
  },
  {
   "cell_type": "code",
   "execution_count": 32,
   "id": "5e3d50fe",
   "metadata": {},
   "outputs": [
    {
     "name": "stdout",
     "output_type": "stream",
     "text": [
      "10/10 - 0s - loss: 2243.7568 - accuracy: 0.4000\n",
      "test_loss: 2243.7568359375 \n",
      "test_accuracy: 0.4000000059604645\n"
     ]
    }
   ],
   "source": [
    "# 모델 시험\n",
    "test_loss, test_accuracy = model.evaluate(x_test, y_test, verbose=2)\n",
    "print(f\"test_loss: {test_loss} \")\n",
    "print(f\"test_accuracy: {test_accuracy}\")"
   ]
  },
  {
   "cell_type": "markdown",
   "id": "6ca11f5d",
   "metadata": {},
   "source": [
    "-> 모델 구성을 바꾸어본 결과 40%로 조금 더 나은 결과를 얻을 수 있었다. 매번 시도할때마다 정확도가 30~45% 사이로 불안정하게 바뀐다."
   ]
  },
  {
   "cell_type": "markdown",
   "id": "28193572",
   "metadata": {},
   "source": [
    "#### 2. 다른 데이터로도 평가해보기\n",
    "b_test데이터 사용 + 모델 구성 바꾸기 및 하이퍼 파라미터 수정(3번 시도)"
   ]
  },
  {
   "cell_type": "code",
   "execution_count": 33,
   "id": "7bdde6d5",
   "metadata": {},
   "outputs": [
    {
     "name": "stdout",
     "output_type": "stream",
     "text": [
      "100  images to be resized.\n",
      "100  images resized.\n",
      "100  images to be resized.\n",
      "100  images resized.\n",
      "100  images to be resized.\n",
      "100  images resized.\n",
      "학습데이터(x_train)의 이미지 개수는 300 입니다.\n",
      "x_test shape: (300, 28, 28, 3)\n",
      "y_test shape: (300,)\n"
     ]
    }
   ],
   "source": [
    "# 가위 이미지가 저장된 디렉토리 아래의 모든 jpg 파일을 읽어들여서\n",
    "image_dir_path = os.getenv(\"HOME\") + \"/aiffel/rock_scissor_paper/test2/scissor\"\n",
    "resize_images(image_dir_path)\n",
    "\n",
    "#바위\n",
    "image_dir_path = os.getenv(\"HOME\") + \"/aiffel/rock_scissor_paper/test2/rock\"\n",
    "resize_images(image_dir_path)\n",
    "\n",
    "#보\n",
    "image_dir_path = os.getenv(\"HOME\") + \"/aiffel/rock_scissor_paper/test2/paper\"\n",
    "resize_images(image_dir_path)\n",
    "\n",
    "image_dir_path = os.getenv(\"HOME\") + \"/aiffel/rock_scissor_paper/test2\"\n",
    "(x_test, y_test)=load_data(image_dir_path, 300)\n",
    "x_test_norm = x_test/255.0   # 입력은 0~1 사이의 값으로 정규화\n",
    "\n",
    "print(\"x_test shape: {}\".format(x_test.shape))\n",
    "print(\"y_test shape: {}\".format(y_test.shape))"
   ]
  },
  {
   "cell_type": "code",
   "execution_count": 34,
   "id": "99f9135f",
   "metadata": {},
   "outputs": [
    {
     "name": "stdout",
     "output_type": "stream",
     "text": [
      "10/10 - 0s - loss: 3313.9680 - accuracy: 0.5133\n",
      "test_loss: 3313.968017578125 \n",
      "test_accuracy: 0.5133333206176758\n"
     ]
    }
   ],
   "source": [
    "# 모델 평가\n",
    "test_loss, test_accuracy = model.evaluate(x_test, y_test, verbose=2)\n",
    "print(f\"test_loss: {test_loss} \")\n",
    "print(f\"test_accuracy: {test_accuracy}\")"
   ]
  },
  {
   "cell_type": "markdown",
   "id": "0aca3151",
   "metadata": {},
   "source": [
    "-> 다른 데이터를 사용하니 51%의 정확도가 나왔다."
   ]
  },
  {
   "cell_type": "code",
   "execution_count": 35,
   "id": "43aad7d4",
   "metadata": {},
   "outputs": [
    {
     "name": "stdout",
     "output_type": "stream",
     "text": [
      "Model: \"sequential_2\"\n",
      "_________________________________________________________________\n",
      "Layer (type)                 Output Shape              Param #   \n",
      "=================================================================\n",
      "conv2d_6 (Conv2D)            (None, 26, 26, 64)        1792      \n",
      "_________________________________________________________________\n",
      "conv2d_7 (Conv2D)            (None, 24, 24, 64)        36928     \n",
      "_________________________________________________________________\n",
      "max_pooling2d_4 (MaxPooling2 (None, 12, 12, 64)        0         \n",
      "_________________________________________________________________\n",
      "dropout_3 (Dropout)          (None, 12, 12, 64)        0         \n",
      "_________________________________________________________________\n",
      "conv2d_8 (Conv2D)            (None, 12, 12, 32)        18464     \n",
      "_________________________________________________________________\n",
      "conv2d_9 (Conv2D)            (None, 12, 12, 32)        9248      \n",
      "_________________________________________________________________\n",
      "max_pooling2d_5 (MaxPooling2 (None, 6, 6, 32)          0         \n",
      "_________________________________________________________________\n",
      "dropout_4 (Dropout)          (None, 6, 6, 32)          0         \n",
      "_________________________________________________________________\n",
      "conv2d_10 (Conv2D)           (None, 4, 4, 32)          9248      \n",
      "_________________________________________________________________\n",
      "conv2d_11 (Conv2D)           (None, 2, 2, 32)          9248      \n",
      "_________________________________________________________________\n",
      "max_pooling2d_6 (MaxPooling2 (None, 1, 1, 32)          0         \n",
      "_________________________________________________________________\n",
      "dropout_5 (Dropout)          (None, 1, 1, 32)          0         \n",
      "_________________________________________________________________\n",
      "flatten_2 (Flatten)          (None, 32)                0         \n",
      "_________________________________________________________________\n",
      "dense_4 (Dense)              (None, 128)               4224      \n",
      "_________________________________________________________________\n",
      "dropout_6 (Dropout)          (None, 128)               0         \n",
      "_________________________________________________________________\n",
      "dense_5 (Dense)              (None, 3)                 387       \n",
      "=================================================================\n",
      "Total params: 89,539\n",
      "Trainable params: 89,539\n",
      "Non-trainable params: 0\n",
      "_________________________________________________________________\n"
     ]
    }
   ],
   "source": [
    "n_channel_1=64\n",
    "n_channel_2=32\n",
    "n_channel_3=32\n",
    "n_dense=128\n",
    "\n",
    "model=keras.models.Sequential()\n",
    "model.add(keras.layers.Conv2D(n_channel_1, (3,3), activation='relu', input_shape=(28,28,3)))\n",
    "model.add(keras.layers.Conv2D(n_channel_1, (3,3), activation='relu', input_shape=(28,28,3)))\n",
    "model.add(keras.layers.MaxPool2D(2,2))\n",
    "model.add(keras.layers.Dropout(0.25))\n",
    "\n",
    "model.add(keras.layers.Conv2D(n_channel_2, (3,3), activation='relu',padding='same'))\n",
    "model.add(keras.layers.Conv2D(n_channel_2, (3,3), activation='relu', padding='same'))\n",
    "model.add(keras.layers.MaxPooling2D((2,2)))\n",
    "model.add(keras.layers.Dropout(0.25))\n",
    "\n",
    "model.add(keras.layers.Conv2D(n_channel_3, (3,3), activation='relu'))\n",
    "model.add(keras.layers.Conv2D(n_channel_3, (3,3), activation='relu'))\n",
    "model.add(keras.layers.MaxPooling2D((2,2)))\n",
    "model.add(keras.layers.Dropout(0.25))\n",
    "\n",
    "model.add(keras.layers.Flatten())\n",
    "model.add(keras.layers.Dense(n_dense, activation='relu'))\n",
    "model.add(keras.layers.Dropout(0.5))\n",
    "model.add(keras.layers.Dense(3, activation='softmax'))\n",
    "\n",
    "model.summary()"
   ]
  },
  {
   "cell_type": "code",
   "execution_count": 39,
   "id": "53522f4e",
   "metadata": {},
   "outputs": [
    {
     "name": "stdout",
     "output_type": "stream",
     "text": [
      "Epoch 1/10\n",
      "88/88 [==============================] - 1s 8ms/step - loss: 0.1219 - accuracy: 0.9658 - val_loss: 0.0997 - val_accuracy: 0.9498\n",
      "Epoch 2/10\n",
      "88/88 [==============================] - 1s 6ms/step - loss: 0.0924 - accuracy: 0.9703 - val_loss: 0.1202 - val_accuracy: 0.9589\n",
      "Epoch 3/10\n",
      "88/88 [==============================] - 1s 6ms/step - loss: 0.0967 - accuracy: 0.9600 - val_loss: 0.1510 - val_accuracy: 0.9361\n",
      "Epoch 4/10\n",
      "88/88 [==============================] - 1s 6ms/step - loss: 0.1222 - accuracy: 0.9669 - val_loss: 0.0990 - val_accuracy: 0.9635\n",
      "Epoch 5/10\n",
      "88/88 [==============================] - 1s 6ms/step - loss: 0.0793 - accuracy: 0.9749 - val_loss: 0.0951 - val_accuracy: 0.9680\n",
      "Epoch 6/10\n",
      "88/88 [==============================] - 1s 6ms/step - loss: 0.0473 - accuracy: 0.9886 - val_loss: 0.0642 - val_accuracy: 0.9726\n",
      "Epoch 7/10\n",
      "88/88 [==============================] - 1s 6ms/step - loss: 0.0354 - accuracy: 0.9863 - val_loss: 0.0702 - val_accuracy: 0.9772\n",
      "Epoch 8/10\n",
      "88/88 [==============================] - 1s 6ms/step - loss: 0.0949 - accuracy: 0.9703 - val_loss: 0.0995 - val_accuracy: 0.9680\n",
      "Epoch 9/10\n",
      "88/88 [==============================] - 1s 6ms/step - loss: 0.0538 - accuracy: 0.9840 - val_loss: 0.0602 - val_accuracy: 0.9817\n",
      "Epoch 10/10\n",
      "88/88 [==============================] - 1s 6ms/step - loss: 0.0302 - accuracy: 0.9909 - val_loss: 0.0636 - val_accuracy: 0.9817\n"
     ]
    }
   ],
   "source": [
    "model.compile(optimizer='adam',\n",
    "             loss='sparse_categorical_crossentropy',\n",
    "             metrics=['accuracy'])\n",
    "\n",
    "# 모델 훈련\n",
    "hist = model.fit(X_train, y_train, epochs=10, batch_size=10, validation_data=(X_val, y_val))"
   ]
  },
  {
   "cell_type": "code",
   "execution_count": 40,
   "id": "9038afc1",
   "metadata": {},
   "outputs": [
    {
     "data": {
      "image/png": "[encoded data removed]",
      "text/plain": [
       "<Figure size 432x288 with 2 Axes>"
      ]
     },
     "metadata": {
      "needs_background": "light"
     },
     "output_type": "display_data"
    }
   ],
   "source": [
    "# 학습 결과 시각화\n",
    "%matplotlib inline\n",
    "import matplotlib.pyplot as plt\n",
    "\n",
    "fig, loss_ax = plt.subplots()\n",
    "\n",
    "acc_ax = loss_ax.twinx()\n",
    "\n",
    "loss_ax.plot(hist.history['loss'], 'y', label='train loss')\n",
    "loss_ax.plot(hist.history['val_loss'], 'r', label='val loss')\n",
    "\n",
    "acc_ax.plot(hist.history['accuracy'], 'b', label='train acc')\n",
    "acc_ax.plot(hist.history['val_accuracy'], 'g', label='val acc')\n",
    "\n",
    "loss_ax.set_xlabel('epoch')\n",
    "loss_ax.set_ylabel('loss')\n",
    "acc_ax.set_ylabel('accuray')\n",
    "\n",
    "loss_ax.legend(loc='upper left')\n",
    "acc_ax.legend(loc='lower left')\n",
    "\n",
    "plt.show()"
   ]
  },
  {
   "cell_type": "code",
   "execution_count": 41,
   "id": "2e1f3df6",
   "metadata": {},
   "outputs": [
    {
     "name": "stdout",
     "output_type": "stream",
     "text": [
      "10/10 - 0s - loss: 121.7028 - accuracy: 0.5600\n",
      "test_loss: 121.70279693603516 \n",
      "test_accuracy: 0.5600000023841858\n"
     ]
    }
   ],
   "source": [
    "# 모델 평가\n",
    "test_loss, test_accuracy = model.evaluate(x_test, y_test, verbose=2)\n",
    "print(f\"test_loss: {test_loss} \")\n",
    "print(f\"test_accuracy: {test_accuracy}\")"
   ]
  },
  {
   "cell_type": "markdown",
   "id": "e556246a",
   "metadata": {},
   "source": [
    "-> 모델 구성을 바꾼 결과 56%로 더 나은 결과를 얻을 수 있었으나 여전히 불안정하다.layer을 추가할 때 오류가 나서 두번째 layer뭉터기에 padding = 'same'을 추가하니 더 정확도가 높게 나왔다. 모델 구성을 더 깊게 만들면서 차원이 맞지 않을 땐 padding='same'을 추가해야겠다."
   ]
  },
  {
   "cell_type": "code",
   "execution_count": 79,
   "id": "970a5f91",
   "metadata": {
    "scrolled": true
   },
   "outputs": [
    {
     "name": "stdout",
     "output_type": "stream",
     "text": [
      "Model: \"sequential_10\"\n",
      "_________________________________________________________________\n",
      "Layer (type)                 Output Shape              Param #   \n",
      "=================================================================\n",
      "conv2d_56 (Conv2D)           (None, 27, 27, 64)        832       \n",
      "_________________________________________________________________\n",
      "conv2d_57 (Conv2D)           (None, 26, 26, 64)        16448     \n",
      "_________________________________________________________________\n",
      "max_pooling2d_27 (MaxPooling (None, 13, 13, 64)        0         \n",
      "_________________________________________________________________\n",
      "dropout_30 (Dropout)         (None, 13, 13, 64)        0         \n",
      "_________________________________________________________________\n",
      "conv2d_58 (Conv2D)           (None, 13, 13, 32)        8224      \n",
      "_________________________________________________________________\n",
      "conv2d_59 (Conv2D)           (None, 13, 13, 32)        4128      \n",
      "_________________________________________________________________\n",
      "max_pooling2d_28 (MaxPooling (None, 6, 6, 32)          0         \n",
      "_________________________________________________________________\n",
      "dropout_31 (Dropout)         (None, 6, 6, 32)          0         \n",
      "_________________________________________________________________\n",
      "conv2d_60 (Conv2D)           (None, 4, 4, 32)          9248      \n",
      "_________________________________________________________________\n",
      "conv2d_61 (Conv2D)           (None, 2, 2, 32)          9248      \n",
      "_________________________________________________________________\n",
      "max_pooling2d_29 (MaxPooling (None, 1, 1, 32)          0         \n",
      "_________________________________________________________________\n",
      "dropout_32 (Dropout)         (None, 1, 1, 32)          0         \n",
      "_________________________________________________________________\n",
      "flatten_7 (Flatten)          (None, 32)                0         \n",
      "_________________________________________________________________\n",
      "dense_14 (Dense)             (None, 128)               4224      \n",
      "_________________________________________________________________\n",
      "dropout_33 (Dropout)         (None, 128)               0         \n",
      "_________________________________________________________________\n",
      "dense_15 (Dense)             (None, 3)                 387       \n",
      "=================================================================\n",
      "Total params: 52,739\n",
      "Trainable params: 52,739\n",
      "Non-trainable params: 0\n",
      "_________________________________________________________________\n"
     ]
    }
   ],
   "source": [
    "n_channel_1=64\n",
    "n_channel_2=32\n",
    "n_channel_3=32\n",
    "n_channel_4=32\n",
    "n_dense=128\n",
    "\n",
    "model=keras.models.Sequential()\n",
    "model.add(keras.layers.Conv2D(n_channel_1, (2,2), activation='relu', input_shape=(28,28,3)))\n",
    "model.add(keras.layers.Conv2D(n_channel_1, (2,2), activation='relu', input_shape=(28,28,3)))\n",
    "model.add(keras.layers.MaxPool2D(2,2))\n",
    "model.add(keras.layers.Dropout(0.25))\n",
    "\n",
    "model.add(keras.layers.Conv2D(n_channel_2, (2,2), activation='relu', padding='same'))\n",
    "model.add(keras.layers.Conv2D(n_channel_2, (2,2), activation='relu', padding='same'))\n",
    "model.add(keras.layers.MaxPooling2D((2,2)))\n",
    "model.add(keras.layers.Dropout(0.25))\n",
    "\n",
    "model.add(keras.layers.Conv2D(n_channel_3, (3,3), activation='relu'))\n",
    "model.add(keras.layers.Conv2D(n_channel_3, (3,3), activation='relu'))\n",
    "model.add(keras.layers.MaxPooling2D((2,2)))\n",
    "model.add(keras.layers.Dropout(0.25))\n",
    "\n",
    "model.add(keras.layers.Flatten())\n",
    "model.add(keras.layers.Dense(n_dense, activation='relu'))\n",
    "model.add(keras.layers.Dropout(0.5))\n",
    "model.add(keras.layers.Dense(3, activation='softmax'))\n",
    "\n",
    "model.summary()"
   ]
  },
  {
   "cell_type": "code",
   "execution_count": 83,
   "id": "44ded4ec",
   "metadata": {},
   "outputs": [
    {
     "name": "stdout",
     "output_type": "stream",
     "text": [
      "Epoch 1/20\n",
      "88/88 [==============================] - 1s 8ms/step - loss: 0.0394 - accuracy: 0.9840 - val_loss: 0.0522 - val_accuracy: 0.9817\n",
      "Epoch 2/20\n",
      "88/88 [==============================] - 1s 6ms/step - loss: 0.0536 - accuracy: 0.9829 - val_loss: 0.0150 - val_accuracy: 0.9954\n",
      "Epoch 3/20\n",
      "88/88 [==============================] - 1s 6ms/step - loss: 0.0420 - accuracy: 0.9874 - val_loss: 0.0259 - val_accuracy: 0.9909\n",
      "Epoch 4/20\n",
      "88/88 [==============================] - 1s 6ms/step - loss: 0.0302 - accuracy: 0.9943 - val_loss: 0.0508 - val_accuracy: 0.9817\n",
      "Epoch 5/20\n",
      "88/88 [==============================] - 1s 6ms/step - loss: 0.0374 - accuracy: 0.9909 - val_loss: 0.0113 - val_accuracy: 0.9954\n",
      "Epoch 6/20\n",
      "88/88 [==============================] - 1s 6ms/step - loss: 0.0094 - accuracy: 0.9977 - val_loss: 0.0019 - val_accuracy: 1.0000\n",
      "Epoch 7/20\n",
      "88/88 [==============================] - 1s 6ms/step - loss: 0.0048 - accuracy: 1.0000 - val_loss: 0.0102 - val_accuracy: 0.9954\n",
      "Epoch 8/20\n",
      "88/88 [==============================] - 1s 6ms/step - loss: 0.0240 - accuracy: 0.9943 - val_loss: 0.0136 - val_accuracy: 0.9909\n",
      "Epoch 9/20\n",
      "88/88 [==============================] - 1s 6ms/step - loss: 0.0220 - accuracy: 0.9954 - val_loss: 0.0012 - val_accuracy: 1.0000\n",
      "Epoch 10/20\n",
      "88/88 [==============================] - 1s 6ms/step - loss: 0.0246 - accuracy: 0.9897 - val_loss: 0.0259 - val_accuracy: 0.9863\n",
      "Epoch 11/20\n",
      "88/88 [==============================] - 1s 6ms/step - loss: 0.0382 - accuracy: 0.9886 - val_loss: 0.0128 - val_accuracy: 0.9909\n",
      "Epoch 12/20\n",
      "88/88 [==============================] - 1s 6ms/step - loss: 0.1259 - accuracy: 0.9658 - val_loss: 0.0230 - val_accuracy: 0.9863\n",
      "Epoch 13/20\n",
      "88/88 [==============================] - 1s 6ms/step - loss: 0.0461 - accuracy: 0.9863 - val_loss: 0.0522 - val_accuracy: 0.9817\n",
      "Epoch 14/20\n",
      "88/88 [==============================] - 1s 6ms/step - loss: 0.0674 - accuracy: 0.9840 - val_loss: 0.0922 - val_accuracy: 0.9817\n",
      "Epoch 15/20\n",
      "88/88 [==============================] - 1s 6ms/step - loss: 0.0169 - accuracy: 0.9954 - val_loss: 0.0151 - val_accuracy: 0.9954\n",
      "Epoch 16/20\n",
      "88/88 [==============================] - 1s 6ms/step - loss: 0.0084 - accuracy: 0.9977 - val_loss: 0.1268 - val_accuracy: 0.9680\n",
      "Epoch 17/20\n",
      "88/88 [==============================] - 1s 6ms/step - loss: 0.0377 - accuracy: 0.9920 - val_loss: 0.0048 - val_accuracy: 1.0000\n",
      "Epoch 18/20\n",
      "88/88 [==============================] - 1s 6ms/step - loss: 0.0073 - accuracy: 0.9977 - val_loss: 4.2853e-04 - val_accuracy: 1.0000\n",
      "Epoch 19/20\n",
      "88/88 [==============================] - 1s 6ms/step - loss: 0.0067 - accuracy: 0.9989 - val_loss: 0.1390 - val_accuracy: 0.9863\n",
      "Epoch 20/20\n",
      "88/88 [==============================] - 1s 6ms/step - loss: 0.0073 - accuracy: 0.9977 - val_loss: 0.1243 - val_accuracy: 0.9863\n"
     ]
    }
   ],
   "source": [
    "model.compile(optimizer='adam',\n",
    "             loss='sparse_categorical_crossentropy',\n",
    "             metrics=['accuracy'])\n",
    "\n",
    "# 모델 훈련\n",
    "hist = model.fit(X_train, y_train, epochs=20, batch_size = 10, validation_data=(X_val, y_val))"
   ]
  },
  {
   "cell_type": "code",
   "execution_count": 84,
   "id": "a4e55f4f",
   "metadata": {},
   "outputs": [
    {
     "data": {
      "image/png": "[encoded data removed]",
      "text/plain": [
       "<Figure size 432x288 with 2 Axes>"
      ]
     },
     "metadata": {
      "needs_background": "light"
     },
     "output_type": "display_data"
    }
   ],
   "source": [
    "# 학습 결과 시각화\n",
    "%matplotlib inline\n",
    "import matplotlib.pyplot as plt\n",
    "\n",
    "fig, loss_ax = plt.subplots()\n",
    "\n",
    "acc_ax = loss_ax.twinx()\n",
    "\n",
    "loss_ax.plot(hist.history['loss'], 'y', label='train loss')\n",
    "loss_ax.plot(hist.history['val_loss'], 'r', label='val loss')\n",
    "\n",
    "acc_ax.plot(hist.history['accuracy'], 'b', label='train acc')\n",
    "acc_ax.plot(hist.history['val_accuracy'], 'g', label='val acc')\n",
    "\n",
    "loss_ax.set_xlabel('epoch')\n",
    "loss_ax.set_ylabel('loss')\n",
    "acc_ax.set_ylabel('accuray')\n",
    "\n",
    "loss_ax.legend(loc='upper left')\n",
    "acc_ax.legend(loc='lower left')\n",
    "\n",
    "plt.show()"
   ]
  },
  {
   "cell_type": "code",
   "execution_count": 85,
   "id": "199224a1",
   "metadata": {},
   "outputs": [
    {
     "name": "stdout",
     "output_type": "stream",
     "text": [
      "10/10 - 0s - loss: 288.4938 - accuracy: 0.7067\n",
      "test_loss: 288.49383544921875 \n",
      "test_accuracy: 0.7066666483879089\n"
     ]
    }
   ],
   "source": [
    "# 모델 평가\n",
    "test_loss, test_accuracy = model.evaluate(x_test, y_test, verbose=2)\n",
    "print(f\"test_loss: {test_loss} \")\n",
    "print(f\"test_accuracy: {test_accuracy}\")"
   ]
  },
  {
   "cell_type": "markdown",
   "id": "73654939",
   "metadata": {},
   "source": [
    "-> 모델 구성을 바꾸고 여러 번 시도해 본 결과 정확도가 70%까지 나왔다! 정확도가 50%~60%를 불안정하게 보이다가 우연히 나온 값이지만 지금까지 여러 번 시도해본 결과중에 가장 큰 값이 나왔다. 따라서 이 모델을 바탕으로 에폭수를 높혀서 시도해볼 것이다."
   ]
  },
  {
   "cell_type": "code",
   "execution_count": 92,
   "id": "c23884e0",
   "metadata": {},
   "outputs": [
    {
     "name": "stdout",
     "output_type": "stream",
     "text": [
      "Epoch 1/50\n",
      "88/88 [==============================] - 1s 8ms/step - loss: 0.0052 - accuracy: 0.9989 - val_loss: 1.2123e-04 - val_accuracy: 1.0000\n",
      "Epoch 2/50\n",
      "88/88 [==============================] - 1s 6ms/step - loss: 5.5503e-04 - accuracy: 1.0000 - val_loss: 0.0322 - val_accuracy: 0.9954\n",
      "Epoch 3/50\n",
      "88/88 [==============================] - 1s 6ms/step - loss: 0.0055 - accuracy: 0.9989 - val_loss: 0.1605 - val_accuracy: 0.9909\n",
      "Epoch 4/50\n",
      "88/88 [==============================] - 1s 6ms/step - loss: 0.0949 - accuracy: 0.9852 - val_loss: 0.0271 - val_accuracy: 0.9954\n",
      "Epoch 5/50\n",
      "88/88 [==============================] - 1s 6ms/step - loss: 0.0299 - accuracy: 0.9943 - val_loss: 0.0708 - val_accuracy: 0.9909\n",
      "Epoch 6/50\n",
      "88/88 [==============================] - 1s 6ms/step - loss: 0.0495 - accuracy: 0.9943 - val_loss: 8.9188e-05 - val_accuracy: 1.0000\n",
      "Epoch 7/50\n",
      "88/88 [==============================] - 1s 6ms/step - loss: 0.0625 - accuracy: 0.9932 - val_loss: 0.0033 - val_accuracy: 1.0000\n",
      "Epoch 8/50\n",
      "88/88 [==============================] - 1s 6ms/step - loss: 0.0040 - accuracy: 0.9989 - val_loss: 4.3314e-05 - val_accuracy: 1.0000\n",
      "Epoch 9/50\n",
      "88/88 [==============================] - 1s 6ms/step - loss: 2.6569e-04 - accuracy: 1.0000 - val_loss: 2.5854e-06 - val_accuracy: 1.0000\n",
      "Epoch 10/50\n",
      "88/88 [==============================] - 1s 6ms/step - loss: 1.1768e-04 - accuracy: 1.0000 - val_loss: 1.6503e-06 - val_accuracy: 1.0000\n",
      "Epoch 11/50\n",
      "88/88 [==============================] - 1s 6ms/step - loss: 0.0014 - accuracy: 0.9989 - val_loss: 1.2139e-07 - val_accuracy: 1.0000\n",
      "Epoch 12/50\n",
      "88/88 [==============================] - 1s 6ms/step - loss: 0.0631 - accuracy: 0.9920 - val_loss: 0.0065 - val_accuracy: 0.9954\n",
      "Epoch 13/50\n",
      "88/88 [==============================] - 1s 6ms/step - loss: 0.0016 - accuracy: 1.0000 - val_loss: 4.4117e-04 - val_accuracy: 1.0000\n",
      "Epoch 14/50\n",
      "88/88 [==============================] - 1s 6ms/step - loss: 0.0106 - accuracy: 0.9966 - val_loss: 2.6975e-05 - val_accuracy: 1.0000\n",
      "Epoch 15/50\n",
      "88/88 [==============================] - 1s 6ms/step - loss: 0.0045 - accuracy: 0.9977 - val_loss: 0.0256 - val_accuracy: 0.9909\n",
      "Epoch 16/50\n",
      "88/88 [==============================] - 1s 6ms/step - loss: 0.0011 - accuracy: 1.0000 - val_loss: 6.0842e-04 - val_accuracy: 1.0000\n",
      "Epoch 17/50\n",
      "88/88 [==============================] - 1s 6ms/step - loss: 0.0038 - accuracy: 0.9989 - val_loss: 0.0388 - val_accuracy: 0.9909\n",
      "Epoch 18/50\n",
      "88/88 [==============================] - 1s 6ms/step - loss: 7.6674e-04 - accuracy: 1.0000 - val_loss: 2.0208e-04 - val_accuracy: 1.0000\n",
      "Epoch 19/50\n",
      "88/88 [==============================] - 1s 6ms/step - loss: 5.7269e-04 - accuracy: 1.0000 - val_loss: 4.0233e-05 - val_accuracy: 1.0000\n",
      "Epoch 20/50\n",
      "88/88 [==============================] - 1s 6ms/step - loss: 0.0029 - accuracy: 0.9989 - val_loss: 0.0619 - val_accuracy: 0.9863\n",
      "Epoch 21/50\n",
      "88/88 [==============================] - 1s 6ms/step - loss: 0.0647 - accuracy: 0.9920 - val_loss: 0.1287 - val_accuracy: 0.9726\n",
      "Epoch 22/50\n",
      "88/88 [==============================] - 1s 6ms/step - loss: 0.0098 - accuracy: 0.9966 - val_loss: 0.0437 - val_accuracy: 0.9954\n",
      "Epoch 23/50\n",
      "88/88 [==============================] - 1s 6ms/step - loss: 0.0010 - accuracy: 1.0000 - val_loss: 0.0235 - val_accuracy: 0.9954\n",
      "Epoch 24/50\n",
      "88/88 [==============================] - 1s 6ms/step - loss: 0.0083 - accuracy: 0.9966 - val_loss: 9.0867e-04 - val_accuracy: 1.0000\n",
      "Epoch 25/50\n",
      "88/88 [==============================] - 1s 6ms/step - loss: 0.0025 - accuracy: 0.9989 - val_loss: 8.1232e-05 - val_accuracy: 1.0000\n",
      "Epoch 26/50\n",
      "88/88 [==============================] - 1s 6ms/step - loss: 0.0046 - accuracy: 0.9989 - val_loss: 0.0238 - val_accuracy: 0.9909\n",
      "Epoch 27/50\n",
      "88/88 [==============================] - 1s 6ms/step - loss: 0.0016 - accuracy: 0.9989 - val_loss: 4.3798e-04 - val_accuracy: 1.0000\n",
      "Epoch 28/50\n",
      "88/88 [==============================] - 1s 6ms/step - loss: 0.0053 - accuracy: 0.9977 - val_loss: 1.1338e-06 - val_accuracy: 1.0000\n",
      "Epoch 29/50\n",
      "88/88 [==============================] - 1s 6ms/step - loss: 0.0154 - accuracy: 0.9943 - val_loss: 0.0024 - val_accuracy: 1.0000\n",
      "Epoch 30/50\n",
      "88/88 [==============================] - 1s 6ms/step - loss: 4.5000e-04 - accuracy: 1.0000 - val_loss: 2.1427e-05 - val_accuracy: 1.0000\n",
      "Epoch 31/50\n",
      "88/88 [==============================] - 1s 6ms/step - loss: 0.0369 - accuracy: 0.9943 - val_loss: 0.0257 - val_accuracy: 0.9863\n",
      "Epoch 32/50\n",
      "88/88 [==============================] - 1s 6ms/step - loss: 0.0568 - accuracy: 0.9909 - val_loss: 0.0049 - val_accuracy: 0.9954\n",
      "Epoch 33/50\n",
      "88/88 [==============================] - 1s 7ms/step - loss: 0.0070 - accuracy: 0.9977 - val_loss: 0.0016 - val_accuracy: 1.0000\n",
      "Epoch 34/50\n",
      "88/88 [==============================] - 1s 6ms/step - loss: 0.0093 - accuracy: 0.9977 - val_loss: 0.0119 - val_accuracy: 0.9954\n",
      "Epoch 35/50\n",
      "88/88 [==============================] - 1s 6ms/step - loss: 0.0246 - accuracy: 0.9966 - val_loss: 0.0152 - val_accuracy: 0.9954\n",
      "Epoch 36/50\n",
      "88/88 [==============================] - 1s 6ms/step - loss: 0.0101 - accuracy: 0.9977 - val_loss: 0.0014 - val_accuracy: 1.0000\n",
      "Epoch 37/50\n",
      "88/88 [==============================] - 1s 6ms/step - loss: 0.0023 - accuracy: 0.9989 - val_loss: 1.2791e-04 - val_accuracy: 1.0000\n",
      "Epoch 38/50\n",
      "88/88 [==============================] - 1s 6ms/step - loss: 9.0037e-04 - accuracy: 1.0000 - val_loss: 1.1882e-04 - val_accuracy: 1.0000\n",
      "Epoch 39/50\n",
      "88/88 [==============================] - 1s 6ms/step - loss: 6.9031e-04 - accuracy: 1.0000 - val_loss: 1.1680e-04 - val_accuracy: 1.0000\n",
      "Epoch 40/50\n",
      "88/88 [==============================] - 1s 6ms/step - loss: 0.0113 - accuracy: 0.9977 - val_loss: 1.7487e-05 - val_accuracy: 1.0000\n",
      "Epoch 41/50\n",
      "88/88 [==============================] - 1s 7ms/step - loss: 0.0119 - accuracy: 0.9966 - val_loss: 3.3860e-04 - val_accuracy: 1.0000\n",
      "Epoch 42/50\n",
      "88/88 [==============================] - 1s 6ms/step - loss: 0.0025 - accuracy: 0.9989 - val_loss: 1.9972e-04 - val_accuracy: 1.0000\n",
      "Epoch 43/50\n",
      "88/88 [==============================] - 1s 6ms/step - loss: 0.0166 - accuracy: 0.9954 - val_loss: 0.0080 - val_accuracy: 0.9954\n",
      "Epoch 44/50\n",
      "88/88 [==============================] - 1s 6ms/step - loss: 0.0027 - accuracy: 0.9989 - val_loss: 0.0140 - val_accuracy: 0.9954\n",
      "Epoch 45/50\n",
      "88/88 [==============================] - 1s 6ms/step - loss: 0.0055 - accuracy: 0.9977 - val_loss: 2.1465e-04 - val_accuracy: 1.0000\n",
      "Epoch 46/50\n",
      "88/88 [==============================] - 1s 6ms/step - loss: 0.0243 - accuracy: 0.9920 - val_loss: 0.1184 - val_accuracy: 0.9543\n",
      "Epoch 47/50\n",
      "88/88 [==============================] - 1s 6ms/step - loss: 0.0163 - accuracy: 0.9932 - val_loss: 0.0170 - val_accuracy: 0.9954\n",
      "Epoch 48/50\n",
      "88/88 [==============================] - 1s 6ms/step - loss: 0.0131 - accuracy: 0.9966 - val_loss: 0.0015 - val_accuracy: 1.0000\n",
      "Epoch 49/50\n",
      "88/88 [==============================] - 1s 6ms/step - loss: 0.0047 - accuracy: 0.9989 - val_loss: 5.6268e-04 - val_accuracy: 1.0000\n",
      "Epoch 50/50\n",
      "88/88 [==============================] - 1s 6ms/step - loss: 0.0131 - accuracy: 0.9977 - val_loss: 7.7415e-04 - val_accuracy: 1.0000\n"
     ]
    }
   ],
   "source": [
    "model.compile(optimizer='adam',\n",
    "             loss='sparse_categorical_crossentropy',\n",
    "             metrics=['accuracy'])\n",
    "\n",
    "# 모델 훈련\n",
    "hist = model.fit(X_train, y_train, epochs=50, batch_size=10, validation_data=(X_val, y_val))"
   ]
  },
  {
   "cell_type": "code",
   "execution_count": 93,
   "id": "93e3b3ad",
   "metadata": {},
   "outputs": [
    {
     "data": {
      "image/png": "[encoded data removed]",
      "text/plain": [
       "<Figure size 432x288 with 2 Axes>"
      ]
     },
     "metadata": {
      "needs_background": "light"
     },
     "output_type": "display_data"
    }
   ],
   "source": [
    "# 학습 결과 시각화\n",
    "%matplotlib inline\n",
    "import matplotlib.pyplot as plt\n",
    "\n",
    "fig, loss_ax = plt.subplots()\n",
    "\n",
    "acc_ax = loss_ax.twinx()\n",
    "\n",
    "loss_ax.plot(hist.history['loss'], 'y', label='train loss')\n",
    "loss_ax.plot(hist.history['val_loss'], 'r', label='val loss')\n",
    "\n",
    "acc_ax.plot(hist.history['accuracy'], 'b', label='train acc')\n",
    "acc_ax.plot(hist.history['val_accuracy'], 'g', label='val acc')\n",
    "\n",
    "loss_ax.set_xlabel('epoch')\n",
    "loss_ax.set_ylabel('loss')\n",
    "acc_ax.set_ylabel('accuray')\n",
    "\n",
    "loss_ax.legend(loc='upper left')\n",
    "acc_ax.legend(loc='lower left')\n",
    "\n",
    "plt.show()"
   ]
  },
  {
   "cell_type": "code",
   "execution_count": 94,
   "id": "6687a26b",
   "metadata": {},
   "outputs": [
    {
     "name": "stdout",
     "output_type": "stream",
     "text": [
      "10/10 - 0s - loss: 517.4800 - accuracy: 0.5867\n",
      "test_loss: 517.4800415039062 \n",
      "test_accuracy: 0.5866666436195374\n"
     ]
    }
   ],
   "source": [
    "# 모델 평가\n",
    "test_loss, test_accuracy = model.evaluate(x_test, y_test, verbose=2)\n",
    "print(f\"test_loss: {test_loss} \")\n",
    "print(f\"test_accuracy: {test_accuracy}\")"
   ]
  },
  {
   "cell_type": "markdown",
   "id": "555045b6",
   "metadata": {},
   "source": [
    "-> 무조건 에폭 수가 많아진다고 정확도가 높아지지는 않지만 여러 번 코드를 돌려본 결과 50~60%정도의 정확도를 보인다."
   ]
  },
  {
   "cell_type": "markdown",
   "id": "ce1001e0",
   "metadata": {},
   "source": [
    "#### 3. 과적합을 막기 위해 train데이터를 더욱 다양하게 만들기\n",
    ":기본 train 데이터에 c_test, d_test, e_test 300장을 추가하고 a_test, b_test data 200장으로 평가를 시도한다."
   ]
  },
  {
   "cell_type": "code",
   "execution_count": 95,
   "id": "61537e66",
   "metadata": {},
   "outputs": [
    {
     "name": "stdout",
     "output_type": "stream",
     "text": [
      "665  images to be resized.\n",
      "665  images resized.\n"
     ]
    }
   ],
   "source": [
    "# 가위 데이터 resize\n",
    "image_dir_path = os.getenv(\"HOME\") + \"/aiffel/rock_scissor_paper2/scissor\"\n",
    "resize_images(image_dir_path)"
   ]
  },
  {
   "cell_type": "code",
   "execution_count": 96,
   "id": "e6542d65",
   "metadata": {},
   "outputs": [
    {
     "name": "stdout",
     "output_type": "stream",
     "text": [
      "665  images to be resized.\n",
      "665  images resized.\n"
     ]
    }
   ],
   "source": [
    "# 바위 데이터 resize\n",
    "image_dir_path = os.getenv(\"HOME\") + \"/aiffel/rock_scissor_paper2/rock\"\n",
    "resize_images(image_dir_path)"
   ]
  },
  {
   "cell_type": "code",
   "execution_count": 97,
   "id": "d2127048",
   "metadata": {},
   "outputs": [
    {
     "name": "stdout",
     "output_type": "stream",
     "text": [
      "665  images to be resized.\n",
      "665  images resized.\n"
     ]
    }
   ],
   "source": [
    "# 보 데이터 resize\n",
    "image_dir_path = os.getenv(\"HOME\") + \"/aiffel/rock_scissor_paper2/paper\"\n",
    "resize_images(image_dir_path)"
   ]
  },
  {
   "cell_type": "code",
   "execution_count": 99,
   "id": "a06c0b74",
   "metadata": {},
   "outputs": [
    {
     "name": "stdout",
     "output_type": "stream",
     "text": [
      "학습데이터(x_train)의 이미지 개수는 1995 입니다.\n",
      "x_train shape: (1995, 28, 28, 3)\n",
      "y_train shape: (1995,)\n"
     ]
    }
   ],
   "source": [
    "# 데이터 불러오기 및 정규화\n",
    "image_dir_path = os.getenv(\"HOME\") + \"/aiffel/rock_scissor_paper2\"\n",
    "(x_train, y_train)=load_data(image_dir_path, 1995)\n",
    "x_train = x_train/255.0   # 입력은 0~1 사이의 값으로 정규화\n",
    "\n",
    "print(\"x_train shape: {}\".format(x_train.shape))\n",
    "print(\"y_train shape: {}\".format(y_train.shape))"
   ]
  },
  {
   "cell_type": "code",
   "execution_count": 100,
   "id": "4c6e3590",
   "metadata": {},
   "outputs": [],
   "source": [
    "#데이터 분리하기\n",
    "from sklearn.model_selection import train_test_split\n",
    "\n",
    "X_train, X_val, y_train, y_val = train_test_split(x_train, y_train, test_size=0.2, random_state=42)"
   ]
  },
  {
   "cell_type": "code",
   "execution_count": 260,
   "id": "c8a89955",
   "metadata": {},
   "outputs": [
    {
     "name": "stdout",
     "output_type": "stream",
     "text": [
      "Epoch 1/20\n",
      "160/160 [==============================] - 1s 6ms/step - loss: 0.0201 - accuracy: 0.9969 - val_loss: 4.5738e-07 - val_accuracy: 1.0000\n",
      "Epoch 2/20\n",
      "160/160 [==============================] - 1s 6ms/step - loss: 0.0052 - accuracy: 0.9981 - val_loss: 3.1598e-05 - val_accuracy: 1.0000\n",
      "Epoch 3/20\n",
      "160/160 [==============================] - 1s 6ms/step - loss: 0.0092 - accuracy: 0.9981 - val_loss: 1.6570e-06 - val_accuracy: 1.0000\n",
      "Epoch 4/20\n",
      "160/160 [==============================] - 1s 7ms/step - loss: 0.0128 - accuracy: 0.9981 - val_loss: 9.2300e-06 - val_accuracy: 1.0000\n",
      "Epoch 5/20\n",
      "160/160 [==============================] - 1s 6ms/step - loss: 0.1371 - accuracy: 0.9900 - val_loss: 0.0018 - val_accuracy: 1.0000\n",
      "Epoch 6/20\n",
      "160/160 [==============================] - 1s 6ms/step - loss: 0.0337 - accuracy: 0.9912 - val_loss: 1.0904e-04 - val_accuracy: 1.0000\n",
      "Epoch 7/20\n",
      "160/160 [==============================] - 1s 6ms/step - loss: 0.0031 - accuracy: 0.9994 - val_loss: 1.9313e-05 - val_accuracy: 1.0000\n",
      "Epoch 8/20\n",
      "160/160 [==============================] - 1s 6ms/step - loss: 0.0118 - accuracy: 0.9981 - val_loss: 4.8891e-06 - val_accuracy: 1.0000\n",
      "Epoch 9/20\n",
      "160/160 [==============================] - 1s 6ms/step - loss: 0.0029 - accuracy: 0.9987 - val_loss: 4.1697e-06 - val_accuracy: 1.0000\n",
      "Epoch 10/20\n",
      "160/160 [==============================] - 1s 6ms/step - loss: 0.0054 - accuracy: 0.9981 - val_loss: 7.5293e-05 - val_accuracy: 1.0000\n",
      "Epoch 11/20\n",
      "160/160 [==============================] - 1s 6ms/step - loss: 0.0029 - accuracy: 0.9987 - val_loss: 1.2206e-05 - val_accuracy: 1.0000\n",
      "Epoch 12/20\n",
      "160/160 [==============================] - 1s 6ms/step - loss: 0.0044 - accuracy: 0.9981 - val_loss: 3.9704e-07 - val_accuracy: 1.0000\n",
      "Epoch 13/20\n",
      "160/160 [==============================] - 1s 6ms/step - loss: 7.4128e-04 - accuracy: 1.0000 - val_loss: 5.7065e-08 - val_accuracy: 1.0000\n",
      "Epoch 14/20\n",
      "160/160 [==============================] - 1s 6ms/step - loss: 0.0021 - accuracy: 0.9994 - val_loss: 1.2859e-06 - val_accuracy: 1.0000\n",
      "Epoch 15/20\n",
      "160/160 [==============================] - 1s 6ms/step - loss: 3.9312e-04 - accuracy: 1.0000 - val_loss: 5.5028e-07 - val_accuracy: 1.0000\n",
      "Epoch 16/20\n",
      "160/160 [==============================] - 1s 6ms/step - loss: 0.0212 - accuracy: 0.9962 - val_loss: 2.8214e-05 - val_accuracy: 1.0000\n",
      "Epoch 17/20\n",
      "160/160 [==============================] - 1s 6ms/step - loss: 0.0217 - accuracy: 0.9950 - val_loss: 0.0013 - val_accuracy: 1.0000\n",
      "Epoch 18/20\n",
      "160/160 [==============================] - 1s 6ms/step - loss: 0.0210 - accuracy: 0.9956 - val_loss: 0.0066 - val_accuracy: 0.9975\n",
      "Epoch 19/20\n",
      "160/160 [==============================] - 1s 6ms/step - loss: 0.0305 - accuracy: 0.9956 - val_loss: 0.0000e+00 - val_accuracy: 1.0000\n",
      "Epoch 20/20\n",
      "160/160 [==============================] - 1s 6ms/step - loss: 0.0163 - accuracy: 0.9956 - val_loss: 0.0308 - val_accuracy: 0.9950\n"
     ]
    }
   ],
   "source": [
    "# 모델 훈련\n",
    "hist = model.fit(X_train, y_train, epochs=20, batch_size=10, validation_data=(X_val, y_val))"
   ]
  },
  {
   "cell_type": "code",
   "execution_count": 261,
   "id": "40400f7d",
   "metadata": {},
   "outputs": [
    {
     "data": {
      "image/png": "[encoded data removed]",
      "text/plain": [
       "<Figure size 432x288 with 2 Axes>"
      ]
     },
     "metadata": {
      "needs_background": "light"
     },
     "output_type": "display_data"
    }
   ],
   "source": [
    "# 학습 결과 시각화\n",
    "%matplotlib inline\n",
    "import matplotlib.pyplot as plt\n",
    "\n",
    "fig, loss_ax = plt.subplots()\n",
    "\n",
    "acc_ax = loss_ax.twinx()\n",
    "\n",
    "loss_ax.plot(hist.history['loss'], 'y', label='train loss')\n",
    "loss_ax.plot(hist.history['val_loss'], 'r', label='val loss')\n",
    "\n",
    "acc_ax.plot(hist.history['accuracy'], 'b', label='train acc')\n",
    "acc_ax.plot(hist.history['val_accuracy'], 'g', label='val acc')\n",
    "\n",
    "loss_ax.set_xlabel('epoch')\n",
    "loss_ax.set_ylabel('loss')\n",
    "acc_ax.set_ylabel('accuray')\n",
    "\n",
    "loss_ax.legend(loc='upper left')\n",
    "acc_ax.legend(loc='lower left')\n",
    "\n",
    "plt.show()"
   ]
  },
  {
   "cell_type": "code",
   "execution_count": 262,
   "id": "09c1041c",
   "metadata": {},
   "outputs": [
    {
     "name": "stdout",
     "output_type": "stream",
     "text": [
      "100  images to be resized.\n",
      "100  images resized.\n",
      "100  images to be resized.\n",
      "100  images resized.\n",
      "100  images to be resized.\n",
      "100  images resized.\n",
      "학습데이터(x_train)의 이미지 개수는 300 입니다.\n",
      "x_test shape: (300, 28, 28, 3)\n",
      "y_test shape: (300,)\n"
     ]
    }
   ],
   "source": [
    "# a_test\n",
    "image_dir_path = os.getenv(\"HOME\") + \"/aiffel/rock_scissor_paper/test/scissor\"\n",
    "resize_images(image_dir_path)\n",
    "\n",
    "#바위\n",
    "image_dir_path = os.getenv(\"HOME\") + \"/aiffel/rock_scissor_paper/test/rock\"\n",
    "resize_images(image_dir_path)\n",
    "\n",
    "#보\n",
    "image_dir_path = os.getenv(\"HOME\") + \"/aiffel/rock_scissor_paper/test/paper\"\n",
    "resize_images(image_dir_path)\n",
    "\n",
    "image_dir_path = os.getenv(\"HOME\") + \"/aiffel/rock_scissor_paper/test\"\n",
    "(x_test, y_test)=load_data(image_dir_path, 300)\n",
    "x_test_norm = x_test/255.0   # 입력은 0~1 사이의 값으로 정규화\n",
    "\n",
    "print(\"x_test shape: {}\".format(x_test.shape))\n",
    "print(\"y_test shape: {}\".format(y_test.shape))"
   ]
  },
  {
   "cell_type": "code",
   "execution_count": 263,
   "id": "abfdd6d1",
   "metadata": {},
   "outputs": [
    {
     "name": "stdout",
     "output_type": "stream",
     "text": [
      "10/10 - 0s - loss: 2218.5249 - accuracy: 0.4433\n",
      "test_loss: 2218.52490234375 \n",
      "test_accuracy: 0.44333332777023315\n"
     ]
    }
   ],
   "source": [
    "# 모델 평가\n",
    "test_loss, test_accuracy = model.evaluate(x_test, y_test, verbose=2)\n",
    "print(f\"test_loss: {test_loss} \")\n",
    "print(f\"test_accuracy: {test_accuracy}\")"
   ]
  },
  {
   "cell_type": "markdown",
   "id": "56edfad9",
   "metadata": {},
   "source": [
    "-> 여러 번 시도해본 결과 정확도가 30~50%로 이전에 훈련데이터가 적었을 때보다 더욱 결과가 안나와서 당황스러웠지만 a_test 데이터 자체가 다른 데이터와 다르게 멀리서 찍은 사진으로 구성되어있는 것을 감안하면 이전보다 좋은 결과를 얻을 수 있다는 것에 의의를 두겠다."
   ]
  },
  {
   "cell_type": "code",
   "execution_count": 283,
   "id": "2f1ab82b",
   "metadata": {},
   "outputs": [
    {
     "name": "stdout",
     "output_type": "stream",
     "text": [
      "Epoch 1/20\n",
      "160/160 [==============================] - 1s 7ms/step - loss: 0.0908 - accuracy: 0.9862 - val_loss: 0.0014 - val_accuracy: 1.0000\n",
      "Epoch 2/20\n",
      "160/160 [==============================] - 1s 6ms/step - loss: 0.0084 - accuracy: 0.9981 - val_loss: 4.3957e-04 - val_accuracy: 1.0000\n",
      "Epoch 3/20\n",
      "160/160 [==============================] - 1s 6ms/step - loss: 9.4207e-04 - accuracy: 0.9994 - val_loss: 3.3826e-04 - val_accuracy: 1.0000\n",
      "Epoch 4/20\n",
      "160/160 [==============================] - 1s 6ms/step - loss: 0.0981 - accuracy: 0.9906 - val_loss: 0.0249 - val_accuracy: 0.9975\n",
      "Epoch 5/20\n",
      "160/160 [==============================] - 1s 6ms/step - loss: 0.0227 - accuracy: 0.9956 - val_loss: 0.0013 - val_accuracy: 1.0000\n",
      "Epoch 6/20\n",
      "160/160 [==============================] - 1s 6ms/step - loss: 0.0033 - accuracy: 0.9994 - val_loss: 2.0129e-05 - val_accuracy: 1.0000\n",
      "Epoch 7/20\n",
      "160/160 [==============================] - 1s 6ms/step - loss: 0.0433 - accuracy: 0.9956 - val_loss: 2.4834e-06 - val_accuracy: 1.0000\n",
      "Epoch 8/20\n",
      "160/160 [==============================] - 1s 6ms/step - loss: 0.0341 - accuracy: 0.9962 - val_loss: 2.5135e-04 - val_accuracy: 1.0000\n",
      "Epoch 9/20\n",
      "160/160 [==============================] - 1s 6ms/step - loss: 0.0425 - accuracy: 0.9919 - val_loss: 0.0158 - val_accuracy: 0.9950\n",
      "Epoch 10/20\n",
      "160/160 [==============================] - 1s 6ms/step - loss: 0.0273 - accuracy: 0.9944 - val_loss: 8.2126e-06 - val_accuracy: 1.0000\n",
      "Epoch 11/20\n",
      "160/160 [==============================] - 1s 6ms/step - loss: 0.0415 - accuracy: 0.9956 - val_loss: 0.0021 - val_accuracy: 1.0000\n",
      "Epoch 12/20\n",
      "160/160 [==============================] - 1s 6ms/step - loss: 0.0148 - accuracy: 0.9950 - val_loss: 1.9391e-04 - val_accuracy: 1.0000\n",
      "Epoch 13/20\n",
      "160/160 [==============================] - 1s 6ms/step - loss: 7.6936e-04 - accuracy: 0.9994 - val_loss: 1.0577e-04 - val_accuracy: 1.0000\n",
      "Epoch 14/20\n",
      "160/160 [==============================] - 1s 6ms/step - loss: 1.1912e-04 - accuracy: 1.0000 - val_loss: 1.2507e-04 - val_accuracy: 1.0000\n",
      "Epoch 15/20\n",
      "160/160 [==============================] - 1s 6ms/step - loss: 0.0039 - accuracy: 0.9981 - val_loss: 6.6070e-05 - val_accuracy: 1.0000\n",
      "Epoch 16/20\n",
      "160/160 [==============================] - 1s 6ms/step - loss: 0.0244 - accuracy: 0.9969 - val_loss: 4.3190e-05 - val_accuracy: 1.0000\n",
      "Epoch 17/20\n",
      "160/160 [==============================] - 1s 6ms/step - loss: 8.8833e-04 - accuracy: 1.0000 - val_loss: 1.7767e-05 - val_accuracy: 1.0000\n",
      "Epoch 18/20\n",
      "160/160 [==============================] - 1s 6ms/step - loss: 0.0084 - accuracy: 0.9981 - val_loss: 1.4693e-05 - val_accuracy: 1.0000\n",
      "Epoch 19/20\n",
      "160/160 [==============================] - 1s 6ms/step - loss: 0.0055 - accuracy: 0.9987 - val_loss: 2.9036e-05 - val_accuracy: 1.0000\n",
      "Epoch 20/20\n",
      "160/160 [==============================] - 1s 6ms/step - loss: 0.0031 - accuracy: 0.9994 - val_loss: 1.2192e-05 - val_accuracy: 1.0000\n"
     ]
    }
   ],
   "source": [
    "# 모델 훈련\n",
    "hist = model.fit(X_train, y_train, epochs=20, batch_size=10, validation_data=(X_val, y_val))"
   ]
  },
  {
   "cell_type": "code",
   "execution_count": 284,
   "id": "9a2c1fac",
   "metadata": {},
   "outputs": [
    {
     "data": {
      "image/png": "[encoded data removed]",
      "text/plain": [
       "<Figure size 432x288 with 2 Axes>"
      ]
     },
     "metadata": {
      "needs_background": "light"
     },
     "output_type": "display_data"
    }
   ],
   "source": [
    "# 학습 결과 시각화\n",
    "%matplotlib inline\n",
    "import matplotlib.pyplot as plt\n",
    "\n",
    "fig, loss_ax = plt.subplots()\n",
    "\n",
    "acc_ax = loss_ax.twinx()\n",
    "\n",
    "loss_ax.plot(hist.history['loss'], 'y', label='train loss')\n",
    "loss_ax.plot(hist.history['val_loss'], 'r', label='val loss')\n",
    "\n",
    "acc_ax.plot(hist.history['accuracy'], 'b', label='train acc')\n",
    "acc_ax.plot(hist.history['val_accuracy'], 'g', label='val acc')\n",
    "\n",
    "loss_ax.set_xlabel('epoch')\n",
    "loss_ax.set_ylabel('loss')\n",
    "acc_ax.set_ylabel('accuray')\n",
    "\n",
    "loss_ax.legend(loc='upper left')\n",
    "acc_ax.legend(loc='lower left')\n",
    "\n",
    "plt.show()"
   ]
  },
  {
   "cell_type": "code",
   "execution_count": 285,
   "id": "cd1bce1f",
   "metadata": {},
   "outputs": [
    {
     "name": "stdout",
     "output_type": "stream",
     "text": [
      "100  images to be resized.\n",
      "100  images resized.\n",
      "100  images to be resized.\n",
      "100  images resized.\n",
      "100  images to be resized.\n",
      "100  images resized.\n",
      "학습데이터(x_train)의 이미지 개수는 300 입니다.\n",
      "x_test shape: (300, 28, 28, 3)\n",
      "y_test shape: (300,)\n"
     ]
    }
   ],
   "source": [
    "image_dir_path = os.getenv(\"HOME\") + \"/aiffel/rock_scissor_paper/test2/scissor\"\n",
    "resize_images(image_dir_path)\n",
    "\n",
    "#바위\n",
    "image_dir_path = os.getenv(\"HOME\") + \"/aiffel/rock_scissor_paper/test2/rock\"\n",
    "resize_images(image_dir_path)\n",
    "\n",
    "#보\n",
    "image_dir_path = os.getenv(\"HOME\") + \"/aiffel/rock_scissor_paper/test2/paper\"\n",
    "resize_images(image_dir_path)\n",
    "\n",
    "image_dir_path = os.getenv(\"HOME\") + \"/aiffel/rock_scissor_paper/test2\"\n",
    "(x_test, y_test)=load_data(image_dir_path, 300)\n",
    "x_test_norm = x_test/255.0   # 입력은 0~1 사이의 값으로 정규화\n",
    "\n",
    "print(\"x_test shape: {}\".format(x_test.shape))\n",
    "print(\"y_test shape: {}\".format(y_test.shape))"
   ]
  },
  {
   "cell_type": "code",
   "execution_count": 286,
   "id": "133011f9",
   "metadata": {},
   "outputs": [
    {
     "name": "stdout",
     "output_type": "stream",
     "text": [
      "10/10 - 0s - loss: 1430.9258 - accuracy: 0.6067\n",
      "test_loss: 1430.92578125 \n",
      "test_accuracy: 0.6066666841506958\n"
     ]
    }
   ],
   "source": [
    "# 모델 평가\n",
    "test_loss, test_accuracy = model.evaluate(x_test, y_test, verbose=2)\n",
    "print(f\"test_loss: {test_loss} \")\n",
    "print(f\"test_accuracy: {test_accuracy}\")"
   ]
  },
  {
   "cell_type": "markdown",
   "id": "327b7395",
   "metadata": {},
   "source": [
    "-> 여전히 정확도가 불안정하게 30%~60%를 웃돌지만 "
   ]
  },
  {
   "cell_type": "markdown",
   "id": "869fe8d1",
   "metadata": {},
   "source": [
    "# 프로젝트 회고\n",
    "\n",
    "## 배운점\n",
    "1.  ValueError: Negative dimension size caused by subtracting 3 from 2 for '{{node conv2d_61/Conv2D}} = Conv2D[T=DT_FLOAT, data_format=\"NHWC\", dilations=[1, 1, 1, 1], explicit_paddings=[], padding=\"VALID\", strides=[1, 1, 1, 1], use_cudnn_on_gpu=true](Placeholder, conv2d_61/Conv2D/ReadVariableOp)' with input shapes: [?,2,2,32], [3,3,32,32]. 오류가 떴다. shape을 맞춰주기 위해 padding = 'same'을 추가하여 해결했다.  \n",
    "  \n",
    "2. 리눅스 환경을 다루는 것을 반복하다 보니 파일 만들기, zip파일 열기, 여러 파일명 한번에 바꾸기 등의 명령어를 사용하는 것에 익숙해졌다. 이 과정이 제일 귀찮고 힘든 과정이었다.\n",
    "  \n",
    "3. 여러 그래프를 twinx()함수를 통하여 하나의 그림으로 나타낼 수 있다는 것을 배웠다. 스크롤을 내릴 필요 없이 한 눈에 볼 수 있어서 좋았다 이를 응용하여 앞으로 더 보기 좋은 그래프를 만들 수 있을 것 같다. \n",
    "\n",
    "4. data 수집의 중요성, 배치정규화, drop, epoch, 모델 구성 등의 시도를 하였고 이런 시도들을 통해 오버피팅을 막고 평가 시 정확도를 높힐 수 있다는 것을 배웠다.\n",
    "\n",
    "## 부족한점\n",
    "1. 여러 번 반복되는 코드들을 함수로 만들어서 더 보기 좋고 모듈화 되어있는 코드 구성이 되면 더 좋았을 것 같다.\n",
    "\n",
    "2. 크게 3일을 거쳐서 결과가 바뀌었는데 첫 날에는 train, data와 validaion data를 나누지 않을 때 모델 구성만 바꿔도 정확도 60%를 넘는 것이 기본으로 나와서 이 프로젝트를 쉽게 할 수 있을 것이라고 생각했는데 둘째 날과 셋째 날에 시행할 때는 50% 이상으로 잘 나오지 않아서 너무 힘들었다. 처음에는 데이터량이 부족한 것으로 생각했으나 데이터량을 늘려도 비슷한 것을 보아 단순히 가위, 바위, 보 사진뿐만 아니라 배경의 영향도 큰 것으로 보인다. 이 문제도 데이터량이 많아지면 극복이 될지, 혹으 모델구성이나 다른 요인들을 이용히면 될지 앞으로 더 도전을 해보아야 할 것 같다.\n",
    "\n",
    "\n",
    "## 종합의견\n",
    "\n",
    "여러 가지 시도를 하면서 캐글, 데이콘과는 다른 느낌의 도전적인 프로젝트였다. 같은 모델을 돌리는 데도 매번 학습할 때마다 일치하는 패턴 없이 불안정하게 학습되며 정확도도 수치가 계속 크게 바뀌었다. 그러나 원래 목표였던 60%를 넘겨서 뿌듯하다."
   ]
  },
  {
   "cell_type": "markdown",
   "id": "8ca5a0cc",
   "metadata": {},
   "source": [
    "# Reference\n",
    "1. 케라스 sequential model 참고  \n",
    "https://keras.io/ko/getting-started/sequential-model-guide/    \n",
    "2. 평가지표   \n",
    "https://tykimos.github.io/2017/07/09/Training_Monitoring/  \n",
    "3. 과적합 극복하는 방법  \n",
    "https://wikidocs.net/61374  \n",
    "4. 시각화 twinx 설명  \n",
    "https://heytech.tistory.com/449  \n"
   ]
  },
  {
   "cell_type": "code",
   "execution_count": null,
   "id": "3e2d6bf1",
   "metadata": {},
   "outputs": [],
   "source": []
  }
 ],
 "metadata": {
  "kernelspec": {
   "display_name": "Python 3 (ipykernel)",
   "language": "python",
   "name": "python3"
  },
  "language_info": {
   "codemirror_mode": {
    "name": "ipython",
    "version": 3
   },
   "file_extension": ".py",
   "mimetype": "text/x-python",
   "name": "python",
   "nbconvert_exporter": "python",
   "pygments_lexer": "ipython3",
   "version": "3.9.7"
  }
 },
 "nbformat": 4,
 "nbformat_minor": 5
}
