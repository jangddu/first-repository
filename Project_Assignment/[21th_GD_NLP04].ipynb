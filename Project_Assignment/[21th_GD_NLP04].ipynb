{
 "cells": [
  {
   "cell_type": "markdown",
   "id": "7ede1e63",
   "metadata": {},
   "source": [
    "# 주제: 뉴스 기사 요약해보기\n",
    "\n",
    "## 데이터\n",
    "뉴스 기사 데이터: https://github.com/sunnysai12345/News_Summary  \n",
    "\n",
    "## 목표\n",
    "1. 분석단계, 정제단계, 정규화와 불용어 제거, 데이터셋 분리, 인코딩 과정이 빠짐없이 체계적으로 진행되었다.  \n",
    "2. 모델 학습이 진행되면서 train loss와 validation loss가 감소하는 경향을 그래프를 통해 확인했으며, 실제 요약문에 있는 핵심 단어들이 요약 문장 안에 포함되었다.  \n",
    "3. 두 요약 결과를 문법완성도 측면과 핵심단어 포함 측면으로 나누어 비교하고 분석 결과를 표로 정리하여 제시하였다.  "
   ]
  },
  {
   "cell_type": "markdown",
   "id": "98ff3bbf",
   "metadata": {},
   "source": [
    "## Step 1. 데이터 수집하기"
   ]
  },
  {
   "cell_type": "code",
   "execution_count": 13,
   "id": "b6da5012",
   "metadata": {},
   "outputs": [
    {
     "name": "stdout",
     "output_type": "stream",
     "text": [
      "3.6.5\n",
      "2.6.0\n",
      "1.2.0\n"
     ]
    },
    {
     "name": "stderr",
     "output_type": "stream",
     "text": [
      "[nltk_data] Downloading package stopwords to /aiffel/nltk_data...\n",
      "[nltk_data]   Unzipping corpora/stopwords.zip.\n"
     ]
    }
   ],
   "source": [
    "import numpy as np\n",
    "import pandas as pd\n",
    "import tensorflow as tf\n",
    "import os\n",
    "import re\n",
    "import matplotlib.pyplot as plt\n",
    "\n",
    "from importlib.metadata import version\n",
    "import summa\n",
    "import nltk\n",
    "nltk.download('stopwords')\n",
    "\n",
    "from nltk.corpus import stopwords\n",
    "from bs4 import BeautifulSoup \n",
    "from tensorflow.keras.preprocessing.text import Tokenizer \n",
    "from tensorflow.keras.preprocessing.sequence import pad_sequences\n",
    "import urllib.request\n",
    "import warnings\n",
    "warnings.filterwarnings(\"ignore\", category=UserWarning, module='bs4')\n",
    "print(nltk.__version__)\n",
    "print(tf.__version__)\n",
    "print(version('summa'))"
   ]
  },
  {
   "cell_type": "code",
   "execution_count": 14,
   "id": "35682e80",
   "metadata": {},
   "outputs": [],
   "source": [
    "import urllib.request\n",
    "urllib.request.urlretrieve(\"https://raw.githubusercontent.com/sunnysai12345/News_Summary/master/news_summary_more.csv\", filename=\"news_summary_more.csv\")\n",
    "data = pd.read_csv('news_summary_more.csv', encoding='iso-8859-1')"
   ]
  },
  {
   "cell_type": "code",
   "execution_count": 15,
   "id": "5aa044b9",
   "metadata": {},
   "outputs": [
    {
     "data": {
      "text/html": [
       "<div>\n",
       "<style scoped>\n",
       "    .dataframe tbody tr th:only-of-type {\n",
       "        vertical-align: middle;\n",
       "    }\n",
       "\n",
       "    .dataframe tbody tr th {\n",
       "        vertical-align: top;\n",
       "    }\n",
       "\n",
       "    .dataframe thead th {\n",
       "        text-align: right;\n",
       "    }\n",
       "</style>\n",
       "<table border=\"1\" class=\"dataframe\">\n",
       "  <thead>\n",
       "    <tr style=\"text-align: right;\">\n",
       "      <th></th>\n",
       "      <th>headlines</th>\n",
       "      <th>text</th>\n",
       "    </tr>\n",
       "  </thead>\n",
       "  <tbody>\n",
       "    <tr>\n",
       "      <th>15999</th>\n",
       "      <td>After mutual funds, Paytm Money may offer shar...</td>\n",
       "      <td>Paytm's wealth management subsidiary Paytm Mon...</td>\n",
       "    </tr>\n",
       "    <tr>\n",
       "      <th>72362</th>\n",
       "      <td>Arun Gawli denied parole to attend premiere of...</td>\n",
       "      <td>Gangster-turned-politician Arun Gawli has been...</td>\n",
       "    </tr>\n",
       "    <tr>\n",
       "      <th>18795</th>\n",
       "      <td>Give list of people who went with PM Modi on f...</td>\n",
       "      <td>Central Information Commission has directed th...</td>\n",
       "    </tr>\n",
       "    <tr>\n",
       "      <th>814</th>\n",
       "      <td>Bharat needs Eid release, couldn't fit in time...</td>\n",
       "      <td>Katrina Kaif, who opted out of choreographer-f...</td>\n",
       "    </tr>\n",
       "    <tr>\n",
       "      <th>60228</th>\n",
       "      <td>Start time of first 2 ODIs vs SL changed owing...</td>\n",
       "      <td>The BCCI has changed the start timings of the ...</td>\n",
       "    </tr>\n",
       "    <tr>\n",
       "      <th>67714</th>\n",
       "      <td>Tom Alter wanted MS Dhoni banned after he reti...</td>\n",
       "      <td>Late actor Tom Alter wanted Mahendra Singh Dho...</td>\n",
       "    </tr>\n",
       "    <tr>\n",
       "      <th>2093</th>\n",
       "      <td>US woman turns 110-year-old tree in her yard i...</td>\n",
       "      <td>A woman in the US state of Idaho has turned a ...</td>\n",
       "    </tr>\n",
       "    <tr>\n",
       "      <th>28113</th>\n",
       "      <td>Nobel laureate Satyarthi launches app to track...</td>\n",
       "      <td>Nobel Peace Prize recipient Kailash Satyarthi,...</td>\n",
       "    </tr>\n",
       "    <tr>\n",
       "      <th>79662</th>\n",
       "      <td>Thousands of cockroaches flood street, task fo...</td>\n",
       "      <td>Thousands of cockroaches emerged from a sewer ...</td>\n",
       "    </tr>\n",
       "    <tr>\n",
       "      <th>3282</th>\n",
       "      <td>Cong an insignificant force in UP, don't need ...</td>\n",
       "      <td>Calling Congress an \"insignificant force\" in U...</td>\n",
       "    </tr>\n",
       "  </tbody>\n",
       "</table>\n",
       "</div>"
      ],
      "text/plain": [
       "                                               headlines  \\\n",
       "15999  After mutual funds, Paytm Money may offer shar...   \n",
       "72362  Arun Gawli denied parole to attend premiere of...   \n",
       "18795  Give list of people who went with PM Modi on f...   \n",
       "814    Bharat needs Eid release, couldn't fit in time...   \n",
       "60228  Start time of first 2 ODIs vs SL changed owing...   \n",
       "67714  Tom Alter wanted MS Dhoni banned after he reti...   \n",
       "2093   US woman turns 110-year-old tree in her yard i...   \n",
       "28113  Nobel laureate Satyarthi launches app to track...   \n",
       "79662  Thousands of cockroaches flood street, task fo...   \n",
       "3282   Cong an insignificant force in UP, don't need ...   \n",
       "\n",
       "                                                    text  \n",
       "15999  Paytm's wealth management subsidiary Paytm Mon...  \n",
       "72362  Gangster-turned-politician Arun Gawli has been...  \n",
       "18795  Central Information Commission has directed th...  \n",
       "814    Katrina Kaif, who opted out of choreographer-f...  \n",
       "60228  The BCCI has changed the start timings of the ...  \n",
       "67714  Late actor Tom Alter wanted Mahendra Singh Dho...  \n",
       "2093   A woman in the US state of Idaho has turned a ...  \n",
       "28113  Nobel Peace Prize recipient Kailash Satyarthi,...  \n",
       "79662  Thousands of cockroaches emerged from a sewer ...  \n",
       "3282   Calling Congress an \"insignificant force\" in U...  "
      ]
     },
     "execution_count": 15,
     "metadata": {},
     "output_type": "execute_result"
    }
   ],
   "source": [
    "data.sample(10)"
   ]
  },
  {
   "cell_type": "markdown",
   "id": "93e864de",
   "metadata": {},
   "source": [
    "## Step 2. 데이터 전처리하기 (추상적 요약)\n",
    "\n",
    "### (1) 데이터 전처리"
   ]
  },
  {
   "cell_type": "code",
   "execution_count": 16,
   "id": "1a0318e8",
   "metadata": {},
   "outputs": [
    {
     "name": "stdout",
     "output_type": "stream",
     "text": [
      "Text 열에서 중복을 배제한 유일한 샘플의 수 : 98360\n",
      "Summary 열에서 중복을 배제한 유일한 샘플의 수 : 98280\n"
     ]
    }
   ],
   "source": [
    "print('text 열에서 중복을 배제한 유일한 샘플의 수 :', data['text'].nunique())\n",
    "print('headlines 열에서 중복을 배제한 유일한 샘플의 수 :', data['headlines'].nunique())"
   ]
  },
  {
   "cell_type": "code",
   "execution_count": 17,
   "id": "01f2e8a1",
   "metadata": {},
   "outputs": [
    {
     "name": "stdout",
     "output_type": "stream",
     "text": [
      "전체 샘플수 : 98360\n"
     ]
    }
   ],
   "source": [
    "# inplace=True 를 설정하면 DataFrame 타입 값을 return 하지 않고 data 내부를 직접적으로 바꾼다\n",
    "data.drop_duplicates(subset = ['text'], inplace=True)\n",
    "print('전체 샘플수 :', (len(data)))"
   ]
  },
  {
   "cell_type": "code",
   "execution_count": 18,
   "id": "b078c9f8",
   "metadata": {},
   "outputs": [
    {
     "name": "stdout",
     "output_type": "stream",
     "text": [
      "headlines    0\n",
      "text         0\n",
      "dtype: int64\n"
     ]
    }
   ],
   "source": [
    "print(data.isnull().sum())"
   ]
  },
  {
   "cell_type": "code",
   "execution_count": 19,
   "id": "628a451a",
   "metadata": {},
   "outputs": [
    {
     "name": "stdout",
     "output_type": "stream",
     "text": [
      "정규화 사전의 수:  120\n"
     ]
    }
   ],
   "source": [
    "# 텍스트 정규화\n",
    "contractions = {\"ain't\": \"is not\", \"aren't\": \"are not\",\"can't\": \"cannot\", \"'cause\": \"because\", \"could've\": \"could have\", \"couldn't\": \"could not\",\n",
    "                           \"didn't\": \"did not\",  \"doesn't\": \"does not\", \"don't\": \"do not\", \"hadn't\": \"had not\", \"hasn't\": \"has not\", \"haven't\": \"have not\",\n",
    "                           \"he'd\": \"he would\",\"he'll\": \"he will\", \"he's\": \"he is\", \"how'd\": \"how did\", \"how'd'y\": \"how do you\", \"how'll\": \"how will\", \"how's\": \"how is\",\n",
    "                           \"I'd\": \"I would\", \"I'd've\": \"I would have\", \"I'll\": \"I will\", \"I'll've\": \"I will have\",\"I'm\": \"I am\", \"I've\": \"I have\", \"i'd\": \"i would\",\n",
    "                           \"i'd've\": \"i would have\", \"i'll\": \"i will\",  \"i'll've\": \"i will have\",\"i'm\": \"i am\", \"i've\": \"i have\", \"isn't\": \"is not\", \"it'd\": \"it would\",\n",
    "                           \"it'd've\": \"it would have\", \"it'll\": \"it will\", \"it'll've\": \"it will have\",\"it's\": \"it is\", \"let's\": \"let us\", \"ma'am\": \"madam\",\n",
    "                           \"mayn't\": \"may not\", \"might've\": \"might have\",\"mightn't\": \"might not\",\"mightn't've\": \"might not have\", \"must've\": \"must have\",\n",
    "                           \"mustn't\": \"must not\", \"mustn't've\": \"must not have\", \"needn't\": \"need not\", \"needn't've\": \"need not have\",\"o'clock\": \"of the clock\",\n",
    "                           \"oughtn't\": \"ought not\", \"oughtn't've\": \"ought not have\", \"shan't\": \"shall not\", \"sha'n't\": \"shall not\", \"shan't've\": \"shall not have\",\n",
    "                           \"she'd\": \"she would\", \"she'd've\": \"she would have\", \"she'll\": \"she will\", \"she'll've\": \"she will have\", \"she's\": \"she is\",\n",
    "                           \"should've\": \"should have\", \"shouldn't\": \"should not\", \"shouldn't've\": \"should not have\", \"so've\": \"so have\",\"so's\": \"so as\",\n",
    "                           \"this's\": \"this is\",\"that'd\": \"that would\", \"that'd've\": \"that would have\", \"that's\": \"that is\", \"there'd\": \"there would\",\n",
    "                           \"there'd've\": \"there would have\", \"there's\": \"there is\", \"here's\": \"here is\",\"they'd\": \"they would\", \"they'd've\": \"they would have\",\n",
    "                           \"they'll\": \"they will\", \"they'll've\": \"they will have\", \"they're\": \"they are\", \"they've\": \"they have\", \"to've\": \"to have\",\n",
    "                           \"wasn't\": \"was not\", \"we'd\": \"we would\", \"we'd've\": \"we would have\", \"we'll\": \"we will\", \"we'll've\": \"we will have\", \"we're\": \"we are\",\n",
    "                           \"we've\": \"we have\", \"weren't\": \"were not\", \"what'll\": \"what will\", \"what'll've\": \"what will have\", \"what're\": \"what are\",\n",
    "                           \"what's\": \"what is\", \"what've\": \"what have\", \"when's\": \"when is\", \"when've\": \"when have\", \"where'd\": \"where did\", \"where's\": \"where is\",\n",
    "                           \"where've\": \"where have\", \"who'll\": \"who will\", \"who'll've\": \"who will have\", \"who's\": \"who is\", \"who've\": \"who have\",\n",
    "                           \"why's\": \"why is\", \"why've\": \"why have\", \"will've\": \"will have\", \"won't\": \"will not\", \"won't've\": \"will not have\",\n",
    "                           \"would've\": \"would have\", \"wouldn't\": \"would not\", \"wouldn't've\": \"would not have\", \"y'all\": \"you all\",\n",
    "                           \"y'all'd\": \"you all would\",\"y'all'd've\": \"you all would have\",\"y'all're\": \"you all are\",\"y'all've\": \"you all have\",\n",
    "                           \"you'd\": \"you would\", \"you'd've\": \"you would have\", \"you'll\": \"you will\", \"you'll've\": \"you will have\",\n",
    "                           \"you're\": \"you are\", \"you've\": \"you have\"}\n",
    "\n",
    "print(\"정규화 사전의 수: \", len(contractions))"
   ]
  },
  {
   "cell_type": "code",
   "execution_count": 20,
   "id": "467c39e7",
   "metadata": {},
   "outputs": [
    {
     "name": "stdout",
     "output_type": "stream",
     "text": [
      "불용어 개수 : 179\n",
      "['i', 'me', 'my', 'myself', 'we', 'our', 'ours', 'ourselves', 'you', \"you're\", \"you've\", \"you'll\", \"you'd\", 'your', 'yours', 'yourself', 'yourselves', 'he', 'him', 'his', 'himself', 'she', \"she's\", 'her', 'hers', 'herself', 'it', \"it's\", 'its', 'itself', 'they', 'them', 'their', 'theirs', 'themselves', 'what', 'which', 'who', 'whom', 'this', 'that', \"that'll\", 'these', 'those', 'am', 'is', 'are', 'was', 'were', 'be', 'been', 'being', 'have', 'has', 'had', 'having', 'do', 'does', 'did', 'doing', 'a', 'an', 'the', 'and', 'but', 'if', 'or', 'because', 'as', 'until', 'while', 'of', 'at', 'by', 'for', 'with', 'about', 'against', 'between', 'into', 'through', 'during', 'before', 'after', 'above', 'below', 'to', 'from', 'up', 'down', 'in', 'out', 'on', 'off', 'over', 'under', 'again', 'further', 'then', 'once', 'here', 'there', 'when', 'where', 'why', 'how', 'all', 'any', 'both', 'each', 'few', 'more', 'most', 'other', 'some', 'such', 'no', 'nor', 'not', 'only', 'own', 'same', 'so', 'than', 'too', 'very', 's', 't', 'can', 'will', 'just', 'don', \"don't\", 'should', \"should've\", 'now', 'd', 'll', 'm', 'o', 're', 've', 'y', 'ain', 'aren', \"aren't\", 'couldn', \"couldn't\", 'didn', \"didn't\", 'doesn', \"doesn't\", 'hadn', \"hadn't\", 'hasn', \"hasn't\", 'haven', \"haven't\", 'isn', \"isn't\", 'ma', 'mightn', \"mightn't\", 'mustn', \"mustn't\", 'needn', \"needn't\", 'shan', \"shan't\", 'shouldn', \"shouldn't\", 'wasn', \"wasn't\", 'weren', \"weren't\", 'won', \"won't\", 'wouldn', \"wouldn't\"]\n"
     ]
    }
   ],
   "source": [
    "print('불용어 개수 :', len(stopwords.words('english') ))\n",
    "print(stopwords.words('english'))"
   ]
  },
  {
   "cell_type": "code",
   "execution_count": 21,
   "id": "d0f17c77",
   "metadata": {},
   "outputs": [
    {
     "name": "stdout",
     "output_type": "stream",
     "text": [
      "=3\n"
     ]
    }
   ],
   "source": [
    "# 데이터 전처리 함수\n",
    "def preprocess_sentence(sentence, remove_stopwords=True):\n",
    "    sentence = sentence.lower() # 텍스트 소문자화\n",
    "    sentence = BeautifulSoup(sentence, \"lxml\").text # <br />, <a href = ...> 등의 html 태그 제거\n",
    "    sentence = re.sub(r'\\([^)]*\\)', '', sentence) # 괄호로 닫힌 문자열 (...) 제거 Ex) my husband (and myself!) for => my husband for\n",
    "    sentence = re.sub('\"','', sentence) # 쌍따옴표 \" 제거\n",
    "    sentence = ' '.join([contractions[t] if t in contractions else t for t in sentence.split(\" \")]) # 약어 정규화\n",
    "    sentence = re.sub(r\"'s\\b\",\"\", sentence) # 소유격 제거. Ex) roland's -> roland\n",
    "    sentence = re.sub(\"[^a-zA-Z]\", \" \", sentence) # 영어 외 문자(숫자, 특수문자 등) 공백으로 변환\n",
    "    sentence = re.sub('[m]{2,}', 'mm', sentence) # m이 3개 이상이면 2개로 변경. Ex) ummmmmmm yeah -> umm yeah\n",
    "    \n",
    "    # 불용어 제거 (text)\n",
    "    if remove_stopwords:\n",
    "        tokens = ' '.join(word for word in sentence.split() if not word in stopwords.words('english') if len(word) > 1)\n",
    "    # 불용어 미제거 (headlines)\n",
    "    else:\n",
    "        tokens = ' '.join(word for word in sentence.split() if len(word) > 1)\n",
    "    return tokens\n",
    "print('=3')"
   ]
  },
  {
   "cell_type": "code",
   "execution_count": 24,
   "id": "1814a9be",
   "metadata": {},
   "outputs": [
    {
     "name": "stdout",
     "output_type": "stream",
     "text": [
      "text:  everything bought great infact ordered twice third ordered wasfor mother father\n",
      "summary: great way to start the day\n"
     ]
    }
   ],
   "source": [
    "temp_text = 'Everything I bought was great, infact I ordered twice and the third ordered was<br />for my mother and father.'\n",
    "temp_summary = 'Great way to start (or finish) the day!!!'\n",
    "\n",
    "print(\"text: \", preprocess_sentence(temp_text))\n",
    "print(\"headlines:\", preprocess_sentence(temp_summary, False))  # 불용어를 제거하지 않는다"
   ]
  },
  {
   "cell_type": "code",
   "execution_count": 22,
   "id": "fbc03cc4",
   "metadata": {},
   "outputs": [
    {
     "name": "stdout",
     "output_type": "stream",
     "text": [
      "Text 전처리 후 결과:  ['saurav kant alumnus upgrad iiit pg program machine learning artificial intelligence sr systems engineer infosys almost years work experience program upgrad degree career support helped transition data scientist tech mahindra salary hike upgrad online power learning powered lakh careers', 'kunal shah credit card bill payment platform cred gave users chance win free food swiggy one year pranav kaushik delhi techie bagged reward spending cred coins users get one cred coin per rupee bill paid used avail rewards brands like ixigo bookmyshow ubereats cult fit', 'new zealand defeated india wickets fourth odi hamilton thursday win first match five match odi series india lost international match rohit sharma captaincy consecutive victories dating back march match witnessed india getting seventh lowest total odi cricket history', 'aegon life iterm insurance plan customers enjoy tax benefits premiums paid save taxes plan provides life cover age years also customers options insure critical illnesses disability accidental death benefit rider life cover age years', 'speaking sexual harassment allegations rajkumar hirani sonam kapoor said known hirani many years true metoo movement get derailed metoo movement always believe woman case need reserve judgment added hirani accused assistant worked sanju']\n"
     ]
    }
   ],
   "source": [
    "clean_text = []\n",
    "# 전체 Text 데이터에 대한 전처리 : 10분 이상 시간이 걸림\n",
    "for s in data['text']:\n",
    "    clean_text.append(preprocess_sentence(s))\n",
    "\n",
    "# 전처리 후 출력\n",
    "print(\"Text 전처리 후 결과: \", clean_text[:5])"
   ]
  },
  {
   "cell_type": "code",
   "execution_count": 25,
   "id": "21e78997",
   "metadata": {},
   "outputs": [
    {
     "name": "stdout",
     "output_type": "stream",
     "text": [
      "Summary 전처리 후 결과:  ['upgrad learner switches to career in ml al with salary hike', 'delhi techie wins free food from swiggy for one year on cred', 'new zealand end rohit sharma led india match winning streak', 'aegon life iterm insurance plan helps customers save tax', 'have known hirani for yrs what if metoo claims are not true sonam']\n"
     ]
    }
   ],
   "source": [
    "clean_summary = []\n",
    "# 전체 headlines 데이터에 대한 전처리 : 5분 이상 시간이 걸릴 수 있다.\n",
    "for s in data['headlines']:\n",
    "    clean_summary.append(preprocess_sentence(s, False))\n",
    "\n",
    "print(\"headlines 전처리 후 결과: \", clean_summary[:5])"
   ]
  },
  {
   "cell_type": "code",
   "execution_count": 26,
   "id": "2d556feb",
   "metadata": {},
   "outputs": [
    {
     "name": "stdout",
     "output_type": "stream",
     "text": [
      "=3\n"
     ]
    }
   ],
   "source": [
    "data['text'] = clean_text\n",
    "data['headlines'] = clean_summary\n",
    "\n",
    "# 빈 값을 Null 값으로 변환\n",
    "data.replace('', np.nan, inplace=True)\n",
    "print('=3')"
   ]
  },
  {
   "cell_type": "code",
   "execution_count": 27,
   "id": "6fbad4a3",
   "metadata": {},
   "outputs": [
    {
     "data": {
      "text/plain": [
       "headlines    0\n",
       "text         0\n",
       "dtype: int64"
      ]
     },
     "execution_count": 27,
     "metadata": {},
     "output_type": "execute_result"
    }
   ],
   "source": [
    "data.isnull().sum()"
   ]
  },
  {
   "cell_type": "code",
   "execution_count": 28,
   "id": "490288cd",
   "metadata": {},
   "outputs": [
    {
     "name": "stdout",
     "output_type": "stream",
     "text": [
      "전체 샘플수 : 98360\n"
     ]
    }
   ],
   "source": [
    "data.dropna(axis=0, inplace=True)\n",
    "print('전체 샘플수 :', (len(data)))"
   ]
  },
  {
   "cell_type": "markdown",
   "id": "7394314f",
   "metadata": {},
   "source": [
    "### (2) 훈련데이터와 테스트 데이터 분리하기"
   ]
  },
  {
   "cell_type": "code",
   "execution_count": 29,
   "id": "2213f8b5",
   "metadata": {},
   "outputs": [
    {
     "name": "stdout",
     "output_type": "stream",
     "text": [
      "텍스트의 최소 길이 : 1\n",
      "텍스트의 최대 길이 : 60\n",
      "텍스트의 평균 길이 : 35.09968483123221\n",
      "요약의 최소 길이 : 1\n",
      "요약의 최대 길이 : 16\n",
      "요약의 평균 길이 : 9.299532330215534\n"
     ]
    },
    {
     "data": {
      "image/png": "[encoded data removed]",
      "text/plain": [
       "<Figure size 432x288 with 2 Axes>"
      ]
     },
     "metadata": {
      "needs_background": "light"
     },
     "output_type": "display_data"
    },
    {
     "data": {
      "image/png": "[encoded data removed]",
      "text/plain": [
       "<Figure size 432x288 with 1 Axes>"
      ]
     },
     "metadata": {
      "needs_background": "light"
     },
     "output_type": "display_data"
    },
    {
     "data": {
      "image/png": "[encoded data removed]",
      "text/plain": [
       "<Figure size 432x288 with 1 Axes>"
      ]
     },
     "metadata": {
      "needs_background": "light"
     },
     "output_type": "display_data"
    }
   ],
   "source": [
    "# 길이 분포 출력\n",
    "import matplotlib.pyplot as plt\n",
    "\n",
    "text_len = [len(s.split()) for s in data['text']]\n",
    "summary_len = [len(s.split()) for s in data['headlines']]\n",
    "\n",
    "print('텍스트의 최소 길이 : {}'.format(np.min(text_len)))\n",
    "print('텍스트의 최대 길이 : {}'.format(np.max(text_len)))\n",
    "print('텍스트의 평균 길이 : {}'.format(np.mean(text_len)))\n",
    "print('제목의 최소 길이 : {}'.format(np.min(summary_len)))\n",
    "print('제목의 최대 길이 : {}'.format(np.max(summary_len)))\n",
    "print('제목의 평균 길이 : {}'.format(np.mean(summary_len)))\n",
    "\n",
    "plt.subplot(1,2,1)\n",
    "plt.boxplot(text_len)\n",
    "plt.title('text')\n",
    "plt.subplot(1,2,2)\n",
    "plt.boxplot(summary_len)\n",
    "plt.title('headlines')\n",
    "plt.tight_layout()\n",
    "plt.show()\n",
    "\n",
    "plt.title('text')\n",
    "plt.hist(text_len, bins = 40)\n",
    "plt.xlabel('length of samples')\n",
    "plt.ylabel('number of samples')\n",
    "plt.show()\n",
    "\n",
    "plt.title('headlines')\n",
    "plt.hist(summary_len, bins = 40)\n",
    "plt.xlabel('length of samples')\n",
    "plt.ylabel('number of samples')\n",
    "plt.show()"
   ]
  },
  {
   "cell_type": "code",
   "execution_count": 33,
   "id": "9c3f80b1",
   "metadata": {},
   "outputs": [
    {
     "name": "stdout",
     "output_type": "stream",
     "text": [
      "=3\n"
     ]
    }
   ],
   "source": [
    "text_max_len = 40\n",
    "summary_max_len = 10\n",
    "print('=3')"
   ]
  },
  {
   "cell_type": "code",
   "execution_count": 34,
   "id": "bab6ea68",
   "metadata": {},
   "outputs": [
    {
     "name": "stdout",
     "output_type": "stream",
     "text": [
      "=3\n"
     ]
    }
   ],
   "source": [
    "def below_threshold_len(max_len, nested_list):\n",
    "    cnt = 0\n",
    "    for s in nested_list:\n",
    "        if(len(s.split()) <= max_len):\n",
    "            cnt = cnt + 1\n",
    "    print('전체 샘플 중 길이가 %s 이하인 샘플의 비율: %s'%(max_len, (cnt / len(nested_list))))\n",
    "print('=3')"
   ]
  },
  {
   "cell_type": "code",
   "execution_count": 35,
   "id": "a2324775",
   "metadata": {},
   "outputs": [
    {
     "name": "stdout",
     "output_type": "stream",
     "text": [
      "전체 샘플 중 길이가 40 이하인 샘플의 비율: 0.9238714924766165\n",
      "전체 샘플 중 길이가 10 이하인 샘플의 비율: 0.8162972753151687\n"
     ]
    }
   ],
   "source": [
    "below_threshold_len(text_max_len, data['text'])\n",
    "below_threshold_len(summary_max_len,  data['headlines'])"
   ]
  },
  {
   "cell_type": "code",
   "execution_count": 36,
   "id": "171fef85",
   "metadata": {},
   "outputs": [
    {
     "name": "stdout",
     "output_type": "stream",
     "text": [
      "전체 샘플수 : 74102\n"
     ]
    }
   ],
   "source": [
    "data = data[data['text'].apply(lambda x: len(x.split()) <= text_max_len)]\n",
    "data = data[data['headlines'].apply(lambda x: len(x.split()) <= summary_max_len)]\n",
    "print('전체 샘플수 :', (len(data)))"
   ]
  },
  {
   "cell_type": "code",
   "execution_count": 37,
   "id": "ef1a0a71",
   "metadata": {},
   "outputs": [
    {
     "data": {
      "text/html": [
       "<div>\n",
       "<style scoped>\n",
       "    .dataframe tbody tr th:only-of-type {\n",
       "        vertical-align: middle;\n",
       "    }\n",
       "\n",
       "    .dataframe tbody tr th {\n",
       "        vertical-align: top;\n",
       "    }\n",
       "\n",
       "    .dataframe thead th {\n",
       "        text-align: right;\n",
       "    }\n",
       "</style>\n",
       "<table border=\"1\" class=\"dataframe\">\n",
       "  <thead>\n",
       "    <tr style=\"text-align: right;\">\n",
       "      <th></th>\n",
       "      <th>headlines</th>\n",
       "      <th>text</th>\n",
       "      <th>decoder_input</th>\n",
       "      <th>decoder_target</th>\n",
       "    </tr>\n",
       "  </thead>\n",
       "  <tbody>\n",
       "    <tr>\n",
       "      <th>2</th>\n",
       "      <td>new zealand end rohit sharma led india match w...</td>\n",
       "      <td>new zealand defeated india wickets fourth odi ...</td>\n",
       "      <td>sostoken new zealand end rohit sharma led indi...</td>\n",
       "      <td>new zealand end rohit sharma led india match w...</td>\n",
       "    </tr>\n",
       "    <tr>\n",
       "      <th>3</th>\n",
       "      <td>aegon life iterm insurance plan helps customer...</td>\n",
       "      <td>aegon life iterm insurance plan customers enjo...</td>\n",
       "      <td>sostoken aegon life iterm insurance plan helps...</td>\n",
       "      <td>aegon life iterm insurance plan helps customer...</td>\n",
       "    </tr>\n",
       "    <tr>\n",
       "      <th>5</th>\n",
       "      <td>rahat fateh ali khan denies getting notice for...</td>\n",
       "      <td>pakistani singer rahat fateh ali khan denied r...</td>\n",
       "      <td>sostoken rahat fateh ali khan denies getting n...</td>\n",
       "      <td>rahat fateh ali khan denies getting notice for...</td>\n",
       "    </tr>\n",
       "    <tr>\n",
       "      <th>9</th>\n",
       "      <td>cong wins ramgarh bypoll in rajasthan takes to...</td>\n",
       "      <td>congress candidate shafia zubair ramgarh assem...</td>\n",
       "      <td>sostoken cong wins ramgarh bypoll in rajasthan...</td>\n",
       "      <td>cong wins ramgarh bypoll in rajasthan takes to...</td>\n",
       "    </tr>\n",
       "    <tr>\n",
       "      <th>10</th>\n",
       "      <td>up cousins fed human excreta for friendship wi...</td>\n",
       "      <td>two minor cousins uttar pradesh gorakhpur alle...</td>\n",
       "      <td>sostoken up cousins fed human excreta for frie...</td>\n",
       "      <td>up cousins fed human excreta for friendship wi...</td>\n",
       "    </tr>\n",
       "  </tbody>\n",
       "</table>\n",
       "</div>"
      ],
      "text/plain": [
       "                                            headlines  \\\n",
       "2   new zealand end rohit sharma led india match w...   \n",
       "3   aegon life iterm insurance plan helps customer...   \n",
       "5   rahat fateh ali khan denies getting notice for...   \n",
       "9   cong wins ramgarh bypoll in rajasthan takes to...   \n",
       "10  up cousins fed human excreta for friendship wi...   \n",
       "\n",
       "                                                 text  \\\n",
       "2   new zealand defeated india wickets fourth odi ...   \n",
       "3   aegon life iterm insurance plan customers enjo...   \n",
       "5   pakistani singer rahat fateh ali khan denied r...   \n",
       "9   congress candidate shafia zubair ramgarh assem...   \n",
       "10  two minor cousins uttar pradesh gorakhpur alle...   \n",
       "\n",
       "                                        decoder_input  \\\n",
       "2   sostoken new zealand end rohit sharma led indi...   \n",
       "3   sostoken aegon life iterm insurance plan helps...   \n",
       "5   sostoken rahat fateh ali khan denies getting n...   \n",
       "9   sostoken cong wins ramgarh bypoll in rajasthan...   \n",
       "10  sostoken up cousins fed human excreta for frie...   \n",
       "\n",
       "                                       decoder_target  \n",
       "2   new zealand end rohit sharma led india match w...  \n",
       "3   aegon life iterm insurance plan helps customer...  \n",
       "5   rahat fateh ali khan denies getting notice for...  \n",
       "9   cong wins ramgarh bypoll in rajasthan takes to...  \n",
       "10  up cousins fed human excreta for friendship wi...  "
      ]
     },
     "execution_count": 37,
     "metadata": {},
     "output_type": "execute_result"
    }
   ],
   "source": [
    "# 요약 데이터에는 시작 토큰과 종료 토큰을 추가한다.\n",
    "data['decoder_input'] = data['headlines'].apply(lambda x : 'sostoken '+ x)\n",
    "data['decoder_target'] = data['headlines'].apply(lambda x : x + ' eostoken')\n",
    "data.head()"
   ]
  },
  {
   "cell_type": "code",
   "execution_count": 38,
   "id": "0f2dce2d",
   "metadata": {},
   "outputs": [
    {
     "name": "stdout",
     "output_type": "stream",
     "text": [
      "=3\n"
     ]
    }
   ],
   "source": [
    "encoder_input = np.array(data['text']) # 인코더의 입력\n",
    "decoder_input = np.array(data['decoder_input']) # 디코더의 입력\n",
    "decoder_target = np.array(data['decoder_target']) # 디코더의 레이블\n",
    "print('=3')"
   ]
  },
  {
   "cell_type": "code",
   "execution_count": 39,
   "id": "3dafc067",
   "metadata": {},
   "outputs": [
    {
     "name": "stdout",
     "output_type": "stream",
     "text": [
      "[35275  4528 68772 ... 13767  3984 63044]\n"
     ]
    }
   ],
   "source": [
    "indices = np.arange(encoder_input.shape[0])\n",
    "np.random.shuffle(indices)\n",
    "print(indices)"
   ]
  },
  {
   "cell_type": "code",
   "execution_count": 40,
   "id": "7194611e",
   "metadata": {},
   "outputs": [
    {
     "name": "stdout",
     "output_type": "stream",
     "text": [
      "=3\n"
     ]
    }
   ],
   "source": [
    "encoder_input = encoder_input[indices]\n",
    "decoder_input = decoder_input[indices]\n",
    "decoder_target = decoder_target[indices]\n",
    "print('=3')"
   ]
  },
  {
   "cell_type": "code",
   "execution_count": 41,
   "id": "be8a92f3",
   "metadata": {},
   "outputs": [
    {
     "name": "stdout",
     "output_type": "stream",
     "text": [
      "테스트 데이터의 수 : 14820\n"
     ]
    }
   ],
   "source": [
    "n_of_val = int(len(encoder_input)*0.2)\n",
    "print('테스트 데이터의 수 :', n_of_val)"
   ]
  },
  {
   "cell_type": "code",
   "execution_count": 42,
   "id": "5bcb58d0",
   "metadata": {},
   "outputs": [
    {
     "name": "stdout",
     "output_type": "stream",
     "text": [
      "훈련 데이터의 개수 : 59282\n",
      "훈련 레이블의 개수 : 59282\n",
      "테스트 데이터의 개수 : 14820\n",
      "테스트 레이블의 개수 : 14820\n"
     ]
    }
   ],
   "source": [
    "encoder_input_train = encoder_input[:-n_of_val]\n",
    "decoder_input_train = decoder_input[:-n_of_val]\n",
    "decoder_target_train = decoder_target[:-n_of_val]\n",
    "\n",
    "encoder_input_test = encoder_input[-n_of_val:]\n",
    "decoder_input_test = decoder_input[-n_of_val:]\n",
    "decoder_target_test = decoder_target[-n_of_val:]\n",
    "\n",
    "print('훈련 데이터의 개수 :', len(encoder_input_train))\n",
    "print('훈련 레이블의 개수 :', len(decoder_input_train))\n",
    "print('테스트 데이터의 개수 :', len(encoder_input_test))\n",
    "print('테스트 레이블의 개수 :', len(decoder_input_test))"
   ]
  },
  {
   "cell_type": "markdown",
   "id": "71376843",
   "metadata": {},
   "source": [
    "### (3) 단어 집합(vocabulary) 만들기: 정수 인코딩"
   ]
  },
  {
   "cell_type": "markdown",
   "id": "c36c57c2",
   "metadata": {},
   "source": [
    "- 인코더"
   ]
  },
  {
   "cell_type": "code",
   "execution_count": 43,
   "id": "ac89fea1",
   "metadata": {},
   "outputs": [
    {
     "name": "stdout",
     "output_type": "stream",
     "text": [
      "=3\n"
     ]
    }
   ],
   "source": [
    "src_tokenizer = Tokenizer() # 토크나이저 정의\n",
    "src_tokenizer.fit_on_texts(encoder_input_train) # 입력된 데이터로부터 단어 집합 생성\n",
    "print('=3')"
   ]
  },
  {
   "cell_type": "code",
   "execution_count": 44,
   "id": "d9540f1d",
   "metadata": {},
   "outputs": [
    {
     "name": "stdout",
     "output_type": "stream",
     "text": [
      "단어 집합(vocabulary)의 크기 : 61550\n",
      "등장 빈도가 6번 이하인 희귀 단어의 수: 42220\n",
      "단어 집합에서 희귀 단어를 제외시킬 경우의 단어 집합의 크기 19330\n",
      "단어 집합에서 희귀 단어의 비율: 68.59463850528026\n",
      "전체 등장 빈도에서 희귀 단어 등장 빈도 비율: 4.191856922113868\n"
     ]
    }
   ],
   "source": [
    "threshold = 7\n",
    "total_cnt = len(src_tokenizer.word_index) # 단어의 수\n",
    "rare_cnt = 0 # 등장 빈도수가 threshold보다 작은 단어의 개수를 카운트\n",
    "total_freq = 0 # 훈련 데이터의 전체 단어 빈도수 총 합\n",
    "rare_freq = 0 # 등장 빈도수가 threshold보다 작은 단어의 등장 빈도수의 총 합\n",
    "\n",
    "# 단어와 빈도수의 쌍(pair)을 key와 value로 받는다.\n",
    "for key, value in src_tokenizer.word_counts.items():\n",
    "    total_freq = total_freq + value\n",
    "\n",
    "    # 단어의 등장 빈도수가 threshold보다 작으면\n",
    "    if(value < threshold):\n",
    "        rare_cnt = rare_cnt + 1\n",
    "        rare_freq = rare_freq + value\n",
    "\n",
    "print('단어 집합(vocabulary)의 크기 :', total_cnt)\n",
    "print('등장 빈도가 %s번 이하인 희귀 단어의 수: %s'%(threshold - 1, rare_cnt))\n",
    "print('단어 집합에서 희귀 단어를 제외시킬 경우의 단어 집합의 크기 %s'%(total_cnt - rare_cnt))\n",
    "print(\"단어 집합에서 희귀 단어의 비율:\", (rare_cnt / total_cnt)*100)\n",
    "print(\"전체 등장 빈도에서 희귀 단어 등장 빈도 비율:\", (rare_freq / total_freq)*100)"
   ]
  },
  {
   "cell_type": "code",
   "execution_count": 45,
   "id": "c006fa1b",
   "metadata": {},
   "outputs": [
    {
     "name": "stdout",
     "output_type": "stream",
     "text": [
      "=3\n"
     ]
    }
   ],
   "source": [
    "src_vocab = 19000\n",
    "src_tokenizer = Tokenizer(num_words=src_vocab) # 단어 집합의 크기를 19,000으로 제한\n",
    "src_tokenizer.fit_on_texts(encoder_input_train) # 단어 집합 재생성\n",
    "print('=3')"
   ]
  },
  {
   "cell_type": "code",
   "execution_count": 46,
   "id": "6a68e408",
   "metadata": {},
   "outputs": [
    {
     "name": "stdout",
     "output_type": "stream",
     "text": [
      "[[67, 61, 5681, 1979, 13762, 1420, 574, 1548, 190, 61, 678, 6884, 156, 1798, 5196, 14389, 996, 1537, 947, 362, 11, 245, 7963, 156, 6435, 568, 67], [21, 523, 13763, 49, 997, 160, 1354, 2, 15, 39, 4120, 1154, 5538, 37, 61, 2240, 520, 39, 476, 748, 114, 3141, 39, 959, 1602, 765, 37, 160, 84, 71, 1487, 843], [27, 21, 52, 1065, 5909, 13764, 3405, 29, 184, 306, 23, 2263, 506, 2014, 71, 94, 10, 71, 3405, 996, 58, 326, 1311, 13764, 3405, 956, 92, 29, 38, 74, 53]]\n"
     ]
    }
   ],
   "source": [
    "# 텍스트 시퀀스를 정수 시퀀스로 변환\n",
    "encoder_input_train = src_tokenizer.texts_to_sequences(encoder_input_train) \n",
    "encoder_input_test = src_tokenizer.texts_to_sequences(encoder_input_test)\n",
    "\n",
    "# 잘 진행되었는지 샘플 출력\n",
    "print(encoder_input_train[:3])"
   ]
  },
  {
   "cell_type": "markdown",
   "id": "8ca8b515",
   "metadata": {},
   "source": [
    "- 디코더"
   ]
  },
  {
   "cell_type": "code",
   "execution_count": 47,
   "id": "3386927c",
   "metadata": {},
   "outputs": [
    {
     "name": "stdout",
     "output_type": "stream",
     "text": [
      "=3\n"
     ]
    }
   ],
   "source": [
    "tar_tokenizer = Tokenizer()\n",
    "tar_tokenizer.fit_on_texts(decoder_input_train)\n",
    "print('=3')"
   ]
  },
  {
   "cell_type": "code",
   "execution_count": 48,
   "id": "7bb52912",
   "metadata": {},
   "outputs": [
    {
     "name": "stdout",
     "output_type": "stream",
     "text": [
      "단어 집합(vocabulary)의 크기 : 27367\n",
      "등장 빈도가 5번 이하인 희귀 단어의 수: 18334\n",
      "단어 집합에서 희귀 단어를 제외시킬 경우의 단어 집합의 크기 9033\n",
      "단어 집합에서 희귀 단어의 비율: 66.99309387218183\n",
      "전체 등장 빈도에서 희귀 단어 등장 빈도 비율: 5.998667687648298\n"
     ]
    }
   ],
   "source": [
    "threshold = 6\n",
    "total_cnt = len(tar_tokenizer.word_index) # 단어의 수\n",
    "rare_cnt = 0 # 등장 빈도수가 threshold보다 작은 단어의 개수를 카운트\n",
    "total_freq = 0 # 훈련 데이터의 전체 단어 빈도수 총 합\n",
    "rare_freq = 0 # 등장 빈도수가 threshold보다 작은 단어의 등장 빈도수의 총 합\n",
    "\n",
    "# 단어와 빈도수의 쌍(pair)을 key와 value로 받는다.\n",
    "for key, value in tar_tokenizer.word_counts.items():\n",
    "    total_freq = total_freq + value\n",
    "\n",
    "    # 단어의 등장 빈도수가 threshold보다 작으면\n",
    "    if(value < threshold):\n",
    "        rare_cnt = rare_cnt + 1\n",
    "        rare_freq = rare_freq + value\n",
    "\n",
    "print('단어 집합(vocabulary)의 크기 :', total_cnt)\n",
    "print('등장 빈도가 %s번 이하인 희귀 단어의 수: %s'%(threshold - 1, rare_cnt))\n",
    "print('단어 집합에서 희귀 단어를 제외시킬 경우의 단어 집합의 크기 %s'%(total_cnt - rare_cnt))\n",
    "print(\"단어 집합에서 희귀 단어의 비율:\", (rare_cnt / total_cnt)*100)\n",
    "print(\"전체 등장 빈도에서 희귀 단어 등장 빈도 비율:\", (rare_freq / total_freq)*100)"
   ]
  },
  {
   "cell_type": "code",
   "execution_count": 49,
   "id": "cc13506c",
   "metadata": {},
   "outputs": [
    {
     "name": "stdout",
     "output_type": "stream",
     "text": [
      "input\n",
      "input  [[1, 34, 1848, 4, 6, 289], [1, 336, 20, 63, 82, 964, 5, 748, 1412, 600], [1, 6976, 2010, 536, 35, 272, 768, 4, 45, 38, 3127], [1, 116, 88, 392, 436, 1442, 15, 1283, 87, 6498], [1, 528, 74, 1919, 891, 4, 645, 2296, 6, 437, 182]]\n",
      "target\n",
      "decoder  [[34, 1848, 4, 6, 289, 2], [336, 20, 63, 82, 964, 5, 748, 1412, 600, 2], [6976, 2010, 536, 35, 272, 768, 4, 45, 38, 3127, 2], [116, 88, 392, 436, 1442, 15, 1283, 87, 6498, 2], [528, 74, 1919, 891, 4, 645, 2296, 6, 437, 182, 2]]\n"
     ]
    }
   ],
   "source": [
    "tar_vocab = 9000\n",
    "tar_tokenizer = Tokenizer(num_words=tar_vocab) \n",
    "tar_tokenizer.fit_on_texts(decoder_input_train)\n",
    "tar_tokenizer.fit_on_texts(decoder_target_train)\n",
    "\n",
    "# 텍스트 시퀀스를 정수 시퀀스로 변환\n",
    "decoder_input_train = tar_tokenizer.texts_to_sequences(decoder_input_train) \n",
    "decoder_target_train = tar_tokenizer.texts_to_sequences(decoder_target_train)\n",
    "decoder_input_test = tar_tokenizer.texts_to_sequences(decoder_input_test)\n",
    "decoder_target_test = tar_tokenizer.texts_to_sequences(decoder_target_test)\n",
    "\n",
    "# 잘 변환되었는지 확인\n",
    "print('input')\n",
    "print('input ',decoder_input_train[:5])\n",
    "print('target')\n",
    "print('decoder ',decoder_target_train[:5])"
   ]
  },
  {
   "cell_type": "markdown",
   "id": "4b085379",
   "metadata": {},
   "source": [
    "- 빈 데이터 삭제"
   ]
  },
  {
   "cell_type": "code",
   "execution_count": 50,
   "id": "2dc6caff",
   "metadata": {},
   "outputs": [
    {
     "name": "stdout",
     "output_type": "stream",
     "text": [
      "삭제할 훈련 데이터의 개수 : 1\n",
      "삭제할 테스트 데이터의 개수 : 0\n",
      "훈련 데이터의 개수 : 59281\n",
      "훈련 레이블의 개수 : 59281\n",
      "테스트 데이터의 개수 : 14820\n",
      "테스트 레이블의 개수 : 14820\n"
     ]
    }
   ],
   "source": [
    "# 빈 데이터가 되어버린 데이터들 삭제\n",
    "drop_train = [index for index, sentence in enumerate(decoder_input_train) if len(sentence) == 1]\n",
    "drop_test = [index for index, sentence in enumerate(decoder_input_test) if len(sentence) == 1]\n",
    "\n",
    "print('삭제할 훈련 데이터의 개수 :', len(drop_train))\n",
    "print('삭제할 테스트 데이터의 개수 :', len(drop_test))\n",
    "\n",
    "encoder_input_train = [sentence for index, sentence in enumerate(encoder_input_train) if index not in drop_train]\n",
    "decoder_input_train = [sentence for index, sentence in enumerate(decoder_input_train) if index not in drop_train]\n",
    "decoder_target_train = [sentence for index, sentence in enumerate(decoder_target_train) if index not in drop_train]\n",
    "\n",
    "encoder_input_test = [sentence for index, sentence in enumerate(encoder_input_test) if index not in drop_test]\n",
    "decoder_input_test = [sentence for index, sentence in enumerate(decoder_input_test) if index not in drop_test]\n",
    "decoder_target_test = [sentence for index, sentence in enumerate(decoder_target_test) if index not in drop_test]\n",
    "\n",
    "print('훈련 데이터의 개수 :', len(encoder_input_train))\n",
    "print('훈련 레이블의 개수 :', len(decoder_input_train))\n",
    "print('테스트 데이터의 개수 :', len(encoder_input_test))\n",
    "print('테스트 레이블의 개수 :', len(decoder_input_test))"
   ]
  },
  {
   "cell_type": "markdown",
   "id": "57e3fbd7",
   "metadata": {},
   "source": [
    "- 패딩"
   ]
  },
  {
   "cell_type": "code",
   "execution_count": 51,
   "id": "9b189c5c",
   "metadata": {},
   "outputs": [
    {
     "name": "stdout",
     "output_type": "stream",
     "text": [
      "=3\n"
     ]
    }
   ],
   "source": [
    "# 패딩\n",
    "encoder_input_train = pad_sequences(encoder_input_train, maxlen=text_max_len, padding='post')\n",
    "encoder_input_test = pad_sequences(encoder_input_test, maxlen=text_max_len, padding='post')\n",
    "decoder_input_train = pad_sequences(decoder_input_train, maxlen=summary_max_len, padding='post')\n",
    "decoder_target_train = pad_sequences(decoder_target_train, maxlen=summary_max_len, padding='post')\n",
    "decoder_input_test = pad_sequences(decoder_input_test, maxlen=summary_max_len, padding='post')\n",
    "decoder_target_test = pad_sequences(decoder_target_test, maxlen=summary_max_len, padding='post')\n",
    "print('=3')"
   ]
  },
  {
   "cell_type": "markdown",
   "id": "f0238bb5",
   "metadata": {},
   "source": [
    "## Step 3. 어텐션 메커니즘 사용하기 (추상적 요약)"
   ]
  },
  {
   "cell_type": "code",
   "execution_count": 56,
   "id": "fff6a40f",
   "metadata": {},
   "outputs": [],
   "source": [
    "from tensorflow.keras.layers import Input, LSTM, Embedding, Dense, Concatenate, TimeDistributed\n",
    "from tensorflow.keras.models import Model\n",
    "from tensorflow.keras.callbacks import EarlyStopping, ModelCheckpoint\n",
    "\n",
    "\n",
    "# 인코더 설계 시작\n",
    "embedding_dim = 128\n",
    "hidden_size = 256\n",
    "\n",
    "# 인코더\n",
    "encoder_inputs = Input(shape=(text_max_len,))\n",
    "\n",
    "# 인코더의 임베딩 층\n",
    "enc_emb = Embedding(src_vocab, embedding_dim)(encoder_inputs)\n",
    "\n",
    "# 인코더의 LSTM 1\n",
    "# encoder_lstm1 = LSTM(hidden_size, return_sequences=True, return_state=True ,dropout = 0.4, recurrent_dropout = 0.4)\n",
    "encoder_lstm1 = LSTM(hidden_size, return_sequences=True, return_state=True ,dropout = 0.4)\n",
    "encoder_output1, state_h1, state_c1 = encoder_lstm1(enc_emb)\n",
    "\n",
    "# 인코더의 LSTM 2\n",
    "# encoder_lstm2 = LSTM(hidden_size, return_sequences=True, return_state=True, dropout=0.4, recurrent_dropout=0.4)\n",
    "encoder_lstm2 = LSTM(hidden_size, return_sequences=True, return_state=True, dropout=0.4)\n",
    "encoder_output2, state_h2, state_c2 = encoder_lstm2(encoder_output1)\n",
    "\n",
    "# 인코더의 LSTM 3\n",
    "# encoder_lstm3 = LSTM(hidden_size, return_state=True, return_sequences=True, dropout=0.4, recurrent_dropout=0.4)\n",
    "encoder_lstm3 = LSTM(hidden_size, return_state=True, return_sequences=True, dropout=0.4)\n",
    "encoder_outputs, state_h, state_c= encoder_lstm3(encoder_output2)"
   ]
  },
  {
   "cell_type": "code",
   "execution_count": 57,
   "id": "ac93d119",
   "metadata": {},
   "outputs": [],
   "source": [
    "# 디코더 설계\n",
    "decoder_inputs = Input(shape=(None,))\n",
    "\n",
    "# 디코더의 임베딩 층\n",
    "dec_emb_layer = Embedding(tar_vocab, embedding_dim)\n",
    "dec_emb = dec_emb_layer(decoder_inputs)\n",
    "\n",
    "# 디코더의 LSTM\n",
    "# decoder_lstm = LSTM(hidden_size, return_sequences=True, return_state=True, dropout=0.4, recurrent_dropout=0.2)\n",
    "decoder_lstm = LSTM(hidden_size, return_sequences=True, return_state=True, dropout=0.4)\n",
    "decoder_outputs, _, _ = decoder_lstm(dec_emb, initial_state=[state_h, state_c])"
   ]
  },
  {
   "cell_type": "code",
   "execution_count": 58,
   "id": "16432098",
   "metadata": {},
   "outputs": [
    {
     "name": "stdout",
     "output_type": "stream",
     "text": [
      "Model: \"model\"\n",
      "__________________________________________________________________________________________________\n",
      "Layer (type)                    Output Shape         Param #     Connected to                     \n",
      "==================================================================================================\n",
      "input_1 (InputLayer)            [(None, 40)]         0                                            \n",
      "__________________________________________________________________________________________________\n",
      "embedding (Embedding)           (None, 40, 128)      2432000     input_1[0][0]                    \n",
      "__________________________________________________________________________________________________\n",
      "lstm (LSTM)                     [(None, 40, 256), (N 394240      embedding[0][0]                  \n",
      "__________________________________________________________________________________________________\n",
      "input_2 (InputLayer)            [(None, None)]       0                                            \n",
      "__________________________________________________________________________________________________\n",
      "lstm_1 (LSTM)                   [(None, 40, 256), (N 525312      lstm[0][0]                       \n",
      "__________________________________________________________________________________________________\n",
      "embedding_1 (Embedding)         (None, None, 128)    1152000     input_2[0][0]                    \n",
      "__________________________________________________________________________________________________\n",
      "lstm_2 (LSTM)                   [(None, 40, 256), (N 525312      lstm_1[0][0]                     \n",
      "__________________________________________________________________________________________________\n",
      "lstm_3 (LSTM)                   [(None, None, 256),  394240      embedding_1[0][0]                \n",
      "                                                                 lstm_2[0][1]                     \n",
      "                                                                 lstm_2[0][2]                     \n",
      "__________________________________________________________________________________________________\n",
      "dense (Dense)                   (None, None, 9000)   2313000     lstm_3[0][0]                     \n",
      "==================================================================================================\n",
      "Total params: 7,736,104\n",
      "Trainable params: 7,736,104\n",
      "Non-trainable params: 0\n",
      "__________________________________________________________________________________________________\n"
     ]
    }
   ],
   "source": [
    "# 디코더의 출력층\n",
    "decoder_softmax_layer = Dense(tar_vocab, activation='softmax')\n",
    "decoder_softmax_outputs = decoder_softmax_layer(decoder_outputs) \n",
    "\n",
    "# 모델 정의\n",
    "model = Model([encoder_inputs, decoder_inputs], decoder_softmax_outputs)\n",
    "model.summary()"
   ]
  },
  {
   "cell_type": "code",
   "execution_count": 59,
   "id": "69e92d23",
   "metadata": {},
   "outputs": [
    {
     "name": "stdout",
     "output_type": "stream",
     "text": [
      "Model: \"model_1\"\n",
      "__________________________________________________________________________________________________\n",
      "Layer (type)                    Output Shape         Param #     Connected to                     \n",
      "==================================================================================================\n",
      "input_1 (InputLayer)            [(None, 40)]         0                                            \n",
      "__________________________________________________________________________________________________\n",
      "embedding (Embedding)           (None, 40, 128)      2432000     input_1[0][0]                    \n",
      "__________________________________________________________________________________________________\n",
      "lstm (LSTM)                     [(None, 40, 256), (N 394240      embedding[0][0]                  \n",
      "__________________________________________________________________________________________________\n",
      "input_2 (InputLayer)            [(None, None)]       0                                            \n",
      "__________________________________________________________________________________________________\n",
      "lstm_1 (LSTM)                   [(None, 40, 256), (N 525312      lstm[0][0]                       \n",
      "__________________________________________________________________________________________________\n",
      "embedding_1 (Embedding)         (None, None, 128)    1152000     input_2[0][0]                    \n",
      "__________________________________________________________________________________________________\n",
      "lstm_2 (LSTM)                   [(None, 40, 256), (N 525312      lstm_1[0][0]                     \n",
      "__________________________________________________________________________________________________\n",
      "lstm_3 (LSTM)                   [(None, None, 256),  394240      embedding_1[0][0]                \n",
      "                                                                 lstm_2[0][1]                     \n",
      "                                                                 lstm_2[0][2]                     \n",
      "__________________________________________________________________________________________________\n",
      "attention_layer (AdditiveAttent (None, None, 256)    256         lstm_3[0][0]                     \n",
      "                                                                 lstm_2[0][0]                     \n",
      "__________________________________________________________________________________________________\n",
      "concat_layer (Concatenate)      (None, None, 512)    0           lstm_3[0][0]                     \n",
      "                                                                 attention_layer[0][0]            \n",
      "__________________________________________________________________________________________________\n",
      "dense_1 (Dense)                 (None, None, 9000)   4617000     concat_layer[0][0]               \n",
      "==================================================================================================\n",
      "Total params: 10,040,360\n",
      "Trainable params: 10,040,360\n",
      "Non-trainable params: 0\n",
      "__________________________________________________________________________________________________\n"
     ]
    }
   ],
   "source": [
    "from tensorflow.keras.layers import AdditiveAttention\n",
    "\n",
    "# 어텐션 층(어텐션 함수)\n",
    "attn_layer = AdditiveAttention(name='attention_layer')\n",
    "\n",
    "# 인코더와 디코더의 모든 time step의 hidden state를 어텐션 층에 전달하고 결과를 리턴\n",
    "attn_out = attn_layer([decoder_outputs, encoder_outputs])\n",
    "\n",
    "\n",
    "# 어텐션의 결과와 디코더의 hidden state들을 연결\n",
    "decoder_concat_input = Concatenate(axis=-1, name='concat_layer')([decoder_outputs, attn_out])\n",
    "\n",
    "# 디코더의 출력층\n",
    "decoder_softmax_layer = Dense(tar_vocab, activation='softmax')\n",
    "decoder_softmax_outputs = decoder_softmax_layer(decoder_concat_input)\n",
    "\n",
    "# 모델 정의\n",
    "model = Model([encoder_inputs, decoder_inputs], decoder_softmax_outputs)\n",
    "model.summary()"
   ]
  },
  {
   "cell_type": "code",
   "execution_count": 60,
   "id": "4fe10ac8",
   "metadata": {},
   "outputs": [
    {
     "name": "stdout",
     "output_type": "stream",
     "text": [
      "Epoch 1/50\n",
      "232/232 [==============================] - 57s 82ms/step - loss: 6.3071 - val_loss: 5.9003\n",
      "Epoch 2/50\n",
      "232/232 [==============================] - 18s 78ms/step - loss: 5.7600 - val_loss: 5.5388\n",
      "Epoch 3/50\n",
      "232/232 [==============================] - 18s 79ms/step - loss: 5.4163 - val_loss: 5.2760\n",
      "Epoch 4/50\n",
      "232/232 [==============================] - 19s 80ms/step - loss: 5.1219 - val_loss: 5.0382\n",
      "Epoch 5/50\n",
      "232/232 [==============================] - 19s 82ms/step - loss: 4.8808 - val_loss: 4.8883\n",
      "Epoch 6/50\n",
      "232/232 [==============================] - 19s 83ms/step - loss: 4.6862 - val_loss: 4.7821\n",
      "Epoch 7/50\n",
      "232/232 [==============================] - 20s 85ms/step - loss: 4.5223 - val_loss: 4.6767\n",
      "Epoch 8/50\n",
      "232/232 [==============================] - 20s 85ms/step - loss: 4.3715 - val_loss: 4.5932\n",
      "Epoch 9/50\n",
      "232/232 [==============================] - 19s 84ms/step - loss: 4.2374 - val_loss: 4.5363\n",
      "Epoch 10/50\n",
      "232/232 [==============================] - 19s 84ms/step - loss: 4.1142 - val_loss: 4.4754\n",
      "Epoch 11/50\n",
      "232/232 [==============================] - 20s 84ms/step - loss: 4.0006 - val_loss: 4.4330\n",
      "Epoch 12/50\n",
      "232/232 [==============================] - 20s 84ms/step - loss: 3.8955 - val_loss: 4.3881\n",
      "Epoch 13/50\n",
      "232/232 [==============================] - 20s 84ms/step - loss: 3.7966 - val_loss: 4.3607\n",
      "Epoch 14/50\n",
      "232/232 [==============================] - 20s 84ms/step - loss: 3.7035 - val_loss: 4.3382\n",
      "Epoch 15/50\n",
      "232/232 [==============================] - 20s 84ms/step - loss: 3.6165 - val_loss: 4.3164\n",
      "Epoch 16/50\n",
      "232/232 [==============================] - 19s 84ms/step - loss: 3.5397 - val_loss: 4.3029\n",
      "Epoch 17/50\n",
      "232/232 [==============================] - 20s 84ms/step - loss: 3.4613 - val_loss: 4.2864\n",
      "Epoch 18/50\n",
      "232/232 [==============================] - 20s 84ms/step - loss: 3.3918 - val_loss: 4.2791\n",
      "Epoch 19/50\n",
      "232/232 [==============================] - 20s 84ms/step - loss: 3.3282 - val_loss: 4.2762\n",
      "Epoch 20/50\n",
      "232/232 [==============================] - 20s 84ms/step - loss: 3.2610 - val_loss: 4.2680\n",
      "Epoch 21/50\n",
      "232/232 [==============================] - 19s 84ms/step - loss: 3.1989 - val_loss: 4.2669\n",
      "Epoch 22/50\n",
      "232/232 [==============================] - 20s 84ms/step - loss: 3.1393 - val_loss: 4.2680\n",
      "Epoch 23/50\n",
      "232/232 [==============================] - 20s 84ms/step - loss: 3.0884 - val_loss: 4.2649\n",
      "Epoch 24/50\n",
      "232/232 [==============================] - 20s 84ms/step - loss: 3.0351 - val_loss: 4.2682\n",
      "Epoch 25/50\n",
      "232/232 [==============================] - 20s 84ms/step - loss: 2.9835 - val_loss: 4.2766\n",
      "Epoch 00025: early stopping\n"
     ]
    }
   ],
   "source": [
    "model.compile(optimizer='rmsprop', loss='sparse_categorical_crossentropy') # 시간이 20분 이상 걸림\n",
    "es = EarlyStopping(monitor='val_loss', patience=2, verbose=1)\n",
    "history = model.fit(x=[encoder_input_train, decoder_input_train], y=decoder_target_train, \\\n",
    "          validation_data=([encoder_input_test, decoder_input_test], decoder_target_test), \\\n",
    "          batch_size=256, callbacks=[es], epochs=50)"
   ]
  },
  {
   "cell_type": "code",
   "execution_count": 61,
   "id": "48749829",
   "metadata": {},
   "outputs": [
    {
     "data": {
      "image/png": "[encoded data removed]",
      "text/plain": [
       "<Figure size 432x288 with 1 Axes>"
      ]
     },
     "metadata": {
      "needs_background": "light"
     },
     "output_type": "display_data"
    }
   ],
   "source": [
    "plt.plot(history.history['loss'], label='train')\n",
    "plt.plot(history.history['val_loss'], label='test')\n",
    "plt.legend()\n",
    "plt.show()"
   ]
  },
  {
   "cell_type": "markdown",
   "id": "208f5912",
   "metadata": {},
   "source": [
    "-> 약간의 오버피팅이 있지만 train, test 둘다 loss가 줄어다는 것을 확인할 수 있다."
   ]
  },
  {
   "cell_type": "markdown",
   "id": "36f95f51",
   "metadata": {},
   "source": [
    "## Step 4. 실제 결과와 요약문 비교하기 (추상적 요약)"
   ]
  },
  {
   "cell_type": "code",
   "execution_count": 62,
   "id": "b75cf9f7",
   "metadata": {},
   "outputs": [
    {
     "name": "stdout",
     "output_type": "stream",
     "text": [
      "=3\n"
     ]
    }
   ],
   "source": [
    "src_index_to_word = src_tokenizer.index_word # 원문 단어 집합에서 정수 -> 단어를 얻음\n",
    "tar_word_to_index = tar_tokenizer.word_index # 요약 단어 집합에서 단어 -> 정수를 얻음\n",
    "tar_index_to_word = tar_tokenizer.index_word # 요약 단어 집합에서 정수 -> 단어를 얻음\n",
    "\n",
    "print('=3')"
   ]
  },
  {
   "cell_type": "code",
   "execution_count": 63,
   "id": "4d51e3cb",
   "metadata": {},
   "outputs": [
    {
     "name": "stdout",
     "output_type": "stream",
     "text": [
      "=3\n"
     ]
    }
   ],
   "source": [
    "# 인코더 설계\n",
    "encoder_model = Model(inputs=encoder_inputs, outputs=[encoder_outputs, state_h, state_c])\n",
    "\n",
    "# 이전 시점의 상태들을 저장하는 텐서\n",
    "decoder_state_input_h = Input(shape=(hidden_size,))\n",
    "decoder_state_input_c = Input(shape=(hidden_size,))\n",
    "\n",
    "dec_emb2 = dec_emb_layer(decoder_inputs)\n",
    "\n",
    "# 문장의 다음 단어를 예측하기 위해서 초기 상태(initial_state)를 이전 시점의 상태로 사용. 이는 뒤의 함수 decode_sequence()에 구현\n",
    "# 훈련 과정에서와 달리 LSTM의 리턴하는 은닉 상태와 셀 상태인 state_h와 state_c를 버리지 않음.\n",
    "decoder_outputs2, state_h2, state_c2 = decoder_lstm(dec_emb2, initial_state=[decoder_state_input_h, decoder_state_input_c])\n",
    "\n",
    "print('=3')"
   ]
  },
  {
   "cell_type": "code",
   "execution_count": 64,
   "id": "8f674fd2",
   "metadata": {},
   "outputs": [
    {
     "name": "stdout",
     "output_type": "stream",
     "text": [
      "=3\n"
     ]
    }
   ],
   "source": [
    "# 어텐션 함수\n",
    "decoder_hidden_state_input = Input(shape=(text_max_len, hidden_size))\n",
    "attn_out_inf = attn_layer([decoder_outputs2, decoder_hidden_state_input])\n",
    "decoder_inf_concat = Concatenate(axis=-1, name='concat')([decoder_outputs2, attn_out_inf])\n",
    "\n",
    "# 디코더의 출력층\n",
    "decoder_outputs2 = decoder_softmax_layer(decoder_inf_concat) \n",
    "\n",
    "# 최종 디코더 모델\n",
    "decoder_model = Model(\n",
    "    [decoder_inputs] + [decoder_hidden_state_input,decoder_state_input_h, decoder_state_input_c],\n",
    "    [decoder_outputs2] + [state_h2, state_c2])\n",
    "\n",
    "print('=3')"
   ]
  },
  {
   "cell_type": "code",
   "execution_count": 65,
   "id": "836ee0b6",
   "metadata": {},
   "outputs": [
    {
     "name": "stdout",
     "output_type": "stream",
     "text": [
      "=3\n"
     ]
    }
   ],
   "source": [
    "def decode_sequence(input_seq):\n",
    "    # 입력으로부터 인코더의 상태를 얻음\n",
    "    e_out, e_h, e_c = encoder_model.predict(input_seq)\n",
    "\n",
    "     # <SOS>에 해당하는 토큰 생성\n",
    "    target_seq = np.zeros((1,1))\n",
    "    target_seq[0, 0] = tar_word_to_index['sostoken']\n",
    "\n",
    "    stop_condition = False\n",
    "    decoded_sentence = ''\n",
    "    while not stop_condition: # stop_condition이 True가 될 때까지 루프 반복\n",
    "\n",
    "        output_tokens, h, c = decoder_model.predict([target_seq] + [e_out, e_h, e_c])\n",
    "        sampled_token_index = np.argmax(output_tokens[0, -1, :])\n",
    "        sampled_token = tar_index_to_word[sampled_token_index]\n",
    "\n",
    "        if (sampled_token!='eostoken'):\n",
    "            decoded_sentence += ' '+sampled_token\n",
    "\n",
    "        #  <eos>에 도달하거나 최대 길이를 넘으면 중단.\n",
    "        if (sampled_token == 'eostoken'  or len(decoded_sentence.split()) >= (summary_max_len-1)):\n",
    "            stop_condition = True\n",
    "\n",
    "        # 길이가 1인 타겟 시퀀스를 업데이트\n",
    "        target_seq = np.zeros((1,1))\n",
    "        target_seq[0, 0] = sampled_token_index\n",
    "\n",
    "        # 상태를 업데이트 합니다.\n",
    "        e_h, e_c = h, c\n",
    "\n",
    "    return decoded_sentence\n",
    "print('=3')"
   ]
  },
  {
   "cell_type": "code",
   "execution_count": 66,
   "id": "41c54d97",
   "metadata": {},
   "outputs": [
    {
     "name": "stdout",
     "output_type": "stream",
     "text": [
      "=3\n"
     ]
    }
   ],
   "source": [
    "# 원문의 정수 시퀀스를 텍스트 시퀀스로 변환\n",
    "def seq2text(input_seq):\n",
    "    temp=''\n",
    "    for i in input_seq:\n",
    "        if (i!=0):\n",
    "            temp = temp + src_index_to_word[i]+' '\n",
    "    return temp\n",
    "\n",
    "# 제목의 정수 시퀀스를 텍스트 시퀀스로 변환\n",
    "def seq2summary(input_seq):\n",
    "    temp=''\n",
    "    for i in input_seq:\n",
    "        if ((i!=0 and i!=tar_word_to_index['sostoken']) and i!=tar_word_to_index['eostoken']):\n",
    "            temp = temp + tar_index_to_word[i] + ' '\n",
    "    return temp\n",
    "\n",
    "print('=3')"
   ]
  },
  {
   "cell_type": "code",
   "execution_count": 67,
   "id": "359c41c4",
   "metadata": {},
   "outputs": [
    {
     "name": "stdout",
     "output_type": "stream",
     "text": [
      "원문 : reacting recent violence africans india group african said india took action prevent violence africans properly condemn greater noida attack also termed attacks african nationals india racial sought international inquiry matter along demanding strong \n",
      "실제 요약 : india did not act to stop violence against envoys \n",
      "예측 요약 :  no proof for violence on the journalists activist\n",
      "\n",
      "\n",
      "원문 : nia court convicted people organising secret camp banned outfit students islamic movement india kerala acquitted others many terror cases birth terror group indian mujahideen traced camp reports said founding member indian mujahideen abdul qureshi also attended camp \n",
      "실제 요약 : convicted of organising banned outfit camp in kerala \n",
      "예측 요약 :  myanmar cops who to stop crimes against terrorism\n",
      "\n",
      "\n",
      "원문 : team ed cbi london holding talks uk prosecutors extradition vijay mallya agencies briefing authorities highest level plug loopholes used official said home secretary level talks ensure uk government board indian authorities added \n",
      "실제 요약 : cbi ed team in london to vijay mallya extradition \n",
      "예측 요약 :  brazil defence secy mallya to be out of mallya\n",
      "\n",
      "\n",
      "원문 : former mp rao detained saturday protesting fir lodged conspiracy backward class therefore trying put pressure say anything wrong rao claimed rao allegedly caught video misbehaving policeman \n",
      "실제 요약 : ex cong mp who abused cop detained in hyderabad \n",
      "예측 요약 :  was not me for violence bjp leader\n",
      "\n",
      "\n",
      "원문 : rohan bopanna canadian mixed doubles partner defeated second seeds sania mirza ivan quarterfinal french open monday mirza second mixed doubles title roland bopanna course register maiden mixed doubles french open title \n",
      "실제 요약 : bopanna ousts sania from french open with win in quarters \n",
      "예측 요약 :  bopanna to be out of women olympics coach\n",
      "\n",
      "\n",
      "원문 : targeting opposition save constitution rally held mumbai friday maharashtra chief minister devendra fadnavis said rally held save party constitution constitution intact held today save party rally save constitution rally congress ncp power remember constitution said \n",
      "실제 요약 : opp held rally to save party not constitution maha cm \n",
      "예측 요약 :  tdp govt to protest against yogi over political remark\n",
      "\n",
      "\n",
      "원문 : shares tech giant ibm dropped friday around wiping billion market capitalisation came billionaire warren buffett announced berkshire hathaway ibm largest shareholder shed third stake company value ibm way six years ago buffett said \n",
      "실제 요약 : ibm loses crore in valuation as buffett drops stake \n",
      "예측 요약 :  alibaba founder becomes world most valuable company\n",
      "\n",
      "\n",
      "원문 : maldives president abdulla yameen abdul gayoom thursday lifted state emergency imposed country period days emergency imposed maldives supreme court ordered release nine jailed opposition mps including country first democratically elected president mohamed nasheed government termed order attempt overthrow president \n",
      "실제 요약 : maldives lifts state of emergency after days \n",
      "예측 요약 :  maldives prez rejects prez order amid emergency crisis\n",
      "\n",
      "\n",
      "원문 : congress president rahul gandhi jawaharlal nehru th birth anniversary said best way honour country first prime minister freedom democracy secularism core values believed fought rahul tweeted said core values bind nation together \n",
      "실제 요약 : to honour nehru must to freedom rahul \n",
      "예측 요약 :  rahul gandhi was the most powerful president\n",
      "\n",
      "\n",
      "원문 : nearly indigenous akash missiles tested far found defective comptroller auditor general report stated missiles manufactured state run bharat electronics limited test fired six failed tests missiles fell short target low velocity critical units malfunctioned report added \n",
      "실제 요약 : india made akash missiles reported failure rate cag \n",
      "예측 요약 :  us successfully test fires over its first time\n",
      "\n",
      "\n",
      "원문 : pradeep candidate pyramid party india upcoming telangana assembly elections believes non causing global warming pradeep btech graduate said scientific researches done proves non one primary reasons global warming huge acres land animal farms breed animals meat \n",
      "실제 요약 : non cause of global warming gana party leader \n",
      "예측 요약 :  bjp mp quits lok sabha party\n",
      "\n",
      "\n",
      "원문 : scientists developed smartphone tool track user work developed researchers cornell university measures pupil size captured burst photographs taken every time users unlock smartphones according researchers people alert pupils pupils contract \n",
      "실제 요약 : smartphone tool to track employees at work made \n",
      "예측 요약 :  device which can detect cancer in seconds developed\n",
      "\n",
      "\n",
      "원문 : russian president vladimir putin spokesman dmitry peskov said sexual harassment complaints hollywood producer harvey weinstein made actresses effectively prostitutes earned millions dollars years say weinstein bad added hollywood actresses including angelina jolie accused weinstein sexual harassment rape \n",
      "실제 요약 : putin likens weinstein to prostitutes \n",
      "예측 요약 :  us judge jokes hillary clinton to leave\n",
      "\n",
      "\n",
      "원문 : manchester united named world valuable football club forbes first time five years valuation billion united followed barcelona real madrid led list last four years united also profitable operating income million \n",
      "실제 요약 : man utd world most valuable club at cr forbes \n",
      "예측 요약 :  world most valuable world most valuable world most valuable\n",
      "\n",
      "\n",
      "원문 : india demanded immediate release indian national hamid ansari whose three year jail term ended saturday ansari arrested illegally entering pakistan afghanistan reportedly meet girl befriended online tried espionage given three year sentence \n",
      "실제 요약 : india demands immediate release of prisoner held in pakistan \n",
      "예측 요약 :  indian officer abducted by indian soldiers in india\n",
      "\n",
      "\n",
      "원문 : brazilian football club lost match angry fans stole pizzas delivered players fans paid delivery boy told pizzas players fans reportedly angry one last five matches \n",
      "실제 요약 : angry fans steal players pizzas after team suffers loss \n",
      "예측 요약 :  football club club after pitch in match\n",
      "\n",
      "\n",
      "원문 : calling pm narendra modi democratically elected leader criticised aimim president asaduddin owaisi asked bjp cm said make us flee say anything pm proclaimed god earlier cm yogi adityanath said owaisi brother flee telangana like bjp elected \n",
      "실제 요약 : has pm modi himself as god asks owaisi \n",
      "예측 요약 :  pm modi wants to pm modi for talks\n",
      "\n",
      "\n",
      "원문 : rajya sabha friday rejected private member bill seeking guarantee employment every citizen years age provide unemployment allowance bill moved sp mp prasad opposed bjp said focus making people rather making dependent government allowance \n",
      "실제 요약 : rs rejects private bill to make employment fundamental right \n",
      "예측 요약 :  bill to be for lok sabha general secretary\n",
      "\n",
      "\n",
      "원문 : dell statement wednesday said reset passwords accounts online electronics store november happened five days stopped hackers november breached network steal customer data dell said investigators found evidence hackers succeeded data may still stolen \n",
      "실제 요약 : dell all store users passwords after \n",
      "예측 요약 :  data breach of lakh in us\n",
      "\n",
      "\n",
      "원문 : global sea levels predicted rise metres greenland ice sheet completely according new mapping us uk based researchers map reveals many glaciers drain ice sheet metres previously estimated also shows complex controlling ice sheet changes warmer ocean currents \n",
      "실제 요약 : sea level may rise metres if greenland ice study \n",
      "예측 요약 :  new zealand ice iceberg in south africa\n",
      "\n",
      "\n",
      "원문 : class boy found dead washroom sainik school south karnataka district saturday boy father sports coach school earlier informed authorities son harassed teachers school police registered case murder \n",
      "실제 요약 : class boy found dead in school washroom in karnataka \n",
      "예측 요약 :  class girl dies after being hit by in school\n",
      "\n",
      "\n",
      "원문 : banned australian cricketer david warner left pitch batting grade cricket match sydney today warner turned today reportedly called disgrace jason hughes older brother late australian cricketer hughes returned crease two minutes later went score \n",
      "실제 요약 : warner leaves pitch after being comes back min later \n",
      "예측 요약 :  warner warner gets life tampering of ball tampering\n",
      "\n",
      "\n",
      "원문 : rescue workers helped pull two year old girl six metre deep tumbled family hike swiss alps said police friday police said emerged basically hour ordeal toddler given signs life throughout rescue operation \n",
      "실제 요약 : toddler rescued after hours in swiss alps \n"
     ]
    },
    {
     "name": "stdout",
     "output_type": "stream",
     "text": [
      "예측 요약 :  yr old baby dies after falling into mumbai\n",
      "\n",
      "\n",
      "원문 : least six people killed four injured sunday collision two speeding cars karnataka head collision occurred due fog lack lights reports said case registered police investigation underway \n",
      "실제 요약 : killed injured in car collision in karnataka \n",
      "예측 요약 :  killed injured in car crash in bihar\n",
      "\n",
      "\n",
      "원문 : cops punjab filed case police station alleged theft electricity notably rules mandate fir lodged living entities punjab state power corporation limited official said surprised charge booked instead police station \n",
      "실제 요약 : cops file case against police station over electricity theft \n",
      "예측 요약 :  fir against cops for not in haryana\n",
      "\n",
      "\n",
      "원문 : site wikileaks claimed us cryptocurrency exchange coinbase closed account opened online store allegedly violating terms service wikileaks shop said action taken coinbase without notice explanation response wikileaks called global boycott coinbase calling unfit member crypto community \n",
      "실제 요약 : us crypto exchange suspends account of wikileaks shop \n",
      "예측 요약 :  cia faces complaint against us over hack\n",
      "\n",
      "\n",
      "원문 : veteran actor dilip kumar honoured living legend lifetime award punjab association tuesday god kind humbled receiving living legend lifetime award wrote twitter actor also addressed reports health tweeted much better discomfort back pain \n",
      "실제 요약 : dilip kumar honoured with living legend lifetime award \n",
      "예측 요약 :  actor singh attends his award for\n",
      "\n",
      "\n",
      "원문 : japanese company charge fukushima nuclear power plant released images lava like rocks inside reactor first images believed nuclear fuel melted six years ago company sent underwater robot resembling submarine explore inside reactor \n",
      "실제 요약 : nuclear fuel seen for first time at fukushima plant \n",
      "예측 요약 :  world biggest disaster put up on nuclear\n",
      "\n",
      "\n",
      "원문 : salman khan talking brother law aayush sharma said getting kind aayush sent scripts loveratri like hearing loveratri script aayush told see playing character see playing characters added \n",
      "실제 요약 : aayush rejected scripts before salman khan \n",
      "예측 요약 :  was not scared of my life sequel salman khan\n",
      "\n",
      "\n",
      "원문 : maharashtra government announced immediate aid crore flood hit kerala announcement comes prime minister narendra modi announced crore relief fund state meeting cm pinarayi vijayan saturday least lives lost state worst floods since \n",
      "실제 요약 : maharashtra announces crore aid for flood hit kerala \n",
      "예측 요약 :  centre announces crore aid for kerala flood relief\n",
      "\n",
      "\n",
      "원문 : online classifieds platform quikr posted increase net revenue crore financial year compared crore previous fiscal company also revealed losses reduced crore crore period per filings far company raised million risk capital \n",
      "실제 요약 : quikr posts rise in net revenue at crore in fy \n",
      "예측 요약 :  losses posts crore loss in fy\n",
      "\n",
      "\n",
      "원문 : users testing google upcoming android suggested latest android operating system could named cookie based references source code follows screenshots shared twitter users found cookie reference presented google last month previous rumours hinted android called oreo \n",
      "실제 요약 : source code suggests android could be named \n",
      "예측 요약 :  google pixel xl users find user devices report\n",
      "\n",
      "\n",
      "원문 : karan johar planned make film late actress sridevi reportedly decided project per reports star sridevi sanjay dutt varun dhawan alia bhatt lead roles would sridevi first film dharma productions since film \n",
      "실제 요약 : johar his film post sridevi demise report \n",
      "예측 요약 :  new poster of comedian taapsee starrer out\n",
      "\n",
      "\n",
      "원문 : death toll las vegas mass shooting risen people injured police said adding suspected shooter police said believe shooters shooter allegedly used automatic weapon attack city bay casino music festival \n",
      "실제 요약 : las vegas shooting death toll rises to over injured \n",
      "예측 요약 :  killed injured in attack in indonesia\n",
      "\n",
      "\n",
      "원문 : according reports reliance jio may offer feature phone jiophone buyers option return handset stipulated three year period get part security deposit back jio likely announce terms refund scheme next days reports added notably booking phone starts august \n",
      "실제 요약 : jio may offer part refund for jiophone before years \n",
      "예측 요약 :  jio jio ceasefire may be deployed in\n",
      "\n",
      "\n",
      "원문 : chelsea legend ex england captain john terry retired football age without club since leaving championship side aston villa summer terry played matches england represented chelsea times seasons winning major trophies heart always belong chelsea terry wrote farewell note \n",
      "실제 요약 : chelsea legend and ex england captain john retires aged \n",
      "예측 요약 :  england captain retires from his th century\n",
      "\n",
      "\n",
      "원문 : according reports actress kangana ranaut start shooting biopic rani laxmibai birthday march however filmmaker mehta longer direct film per reports mehta reportedly wanted shoot film english wanted biopic global appeal kangana agree \n",
      "실제 요약 : kangana to start rani laxmibai biopic on day reports \n",
      "예측 요약 :  kangana to manikarnika in manikarnika report\n",
      "\n",
      "\n",
      "원문 : former convicted sexual offences third time housed luxury apartment paid church england paul found guilty downloading child porn convicted family found child porn computer using fake name online \n",
      "실제 요약 : in luxury flat paid for by church \n",
      "예측 요약 :  ex jailed for yrs for stealing sex\n",
      "\n",
      "\n",
      "원문 : discussing differences captaincy styles ms dhoni virat kohli spinner ravichandran ashwin said virat kohli aggressive field sometimes calling dhoni captaincy mature ashwin added virat completely different individual likes confrontation likes thick things probably generation transforming individual \n",
      "실제 요약 : virat is so aggressive feel bit scared says ashwin \n",
      "예측 요약 :  kohli has been like captain says virat kohli\n",
      "\n",
      "\n",
      "원문 : team india captain virat kohli raised bat towards members lord long room heading towards dressing room second test day friday kohli come bat scored one run two deliveries play stopped due rain kohli got runs innings \n",
      "실제 요약 : virat kohli raises bat after entering lord long room \n",
      "예측 요약 :  virat kohli smashes his first ever bat in hrs\n",
      "\n",
      "\n",
      "원문 : pakistan hassan ali pulled neck muscle performing bomb explosion celebration second odi zimbabwe asked teammate khan perform fifth odi pacer asked perform move dismissing zimbabwe captain hamilton th pulled move ali stood next \n",
      "실제 요약 : pacer asks teammate to do his bomb explosion celebration \n",
      "예측 요약 :  indian pacer mocks ms dhoni for his flying\n",
      "\n",
      "\n",
      "원문 : around lakh commuters mumbai likely affected employees brihanmumbai electric supply transport went indefinite strike monday night demands include merging best budget bmc appointments wages resolving concern employee housing around buses roads part strike \n",
      "실제 요약 : mumbai commuters to be affected as best staff on strike \n",
      "예측 요약 :  mumbai air strike buses out of lakh by pollution\n",
      "\n",
      "\n",
      "원문 : swiss tennis ace time grand slam winner roger federer suffered first loss grand slams thursday australian open wimbledon earlier year federer loss argentina juan mart del potro also means face rafael nadal semis could first ever meeting tournament \n",
      "실제 요약 : roger federer suffers st loss in grand slams this year \n",
      "예측 요약 :  federer is not djokovic federer on wimbledon\n",
      "\n",
      "\n",
      "원문 : nine people arrested allegedly attacking policemen raising pro pakistan slogan clash villagers cops jharkhand district wednesday two dozen people including several policemen deputy commissioner dileep kumar jha injured clashes cops arrived area following information cows allegedly slaughtered \n",
      "실제 요약 : held for attacking cops raising pro pak slogan in khand \n",
      "예측 요약 :  held for lynching of bulandshahr clashes in up\n",
      "\n",
      "\n",
      "원문 : following dialogue us external affairs minister sushma swaraj thursday said india seeks non discriminatory approach visa regime program significantly impacts innovation competitiveness people people partnership vital source strength india us ties swaraj added \n",
      "실제 요약 : seek us non discriminatory approach to visas india \n",
      "예측 요약 :  us to issue with us citizens to brexit\n",
      "\n",
      "\n",
      "원문 : former union minister bjp leader dattatreya year old son died heart attack wednesday hyderabad third year mbbs student complained chest pain soon eating dinner family tuesday rushed hospital died undergoing treatment hospital \n",
      "실제 요약 : bjp leader son dies of heart attack at \n",
      "예측 요약 :  ex congress leader dies after heart attack\n",
      "\n",
      "\n",
      "원문 : us give million ukraine enhance naval capabilities russia seized three ukrainian ships detained ukrainian sailors last month move follows decisions lithuania uk increase security assistance ukraine state department said us called russia return ukraine seized vessels detained sailors \n",
      "실제 요약 : us to give million to ukraine amid standoff with russia \n"
     ]
    },
    {
     "name": "stdout",
     "output_type": "stream",
     "text": [
      "예측 요약 :  us troops in us to korea\n",
      "\n",
      "\n",
      "원문 : leak detected international space station wednesday night believed caused rocky space cabin pressure drop traced hole measuring millimetres russian side space station however hole using tape six member crew safe said nasa \n",
      "실제 요약 : leak detected aboard the international space station \n",
      "예측 요약 :  nasa captures ice from space station\n",
      "\n",
      "\n",
      "원문 : delhi electricity regulatory commission notified new rule consumers compensated power distribution companies restore outage two three hours consumers get compensation per kw per hour power distribution companies scheme comes effect september \n",
      "실제 요약 : delhi power suppliers to pay consumers for long power cuts \n",
      "예측 요약 :  delhi govt clears deadline to reduce dengue cases\n",
      "\n",
      "\n",
      "원문 : lok sabha wednesday passed bill proposing protect unauthorised slums colonies delhi disciplinary action three years existing deadline relocate slums colonies december centre said regulatory authorities still carrying surveys deal encroachments take time \n",
      "실제 요약 : lok sabha passes bill to protect unauthorised delhi \n",
      "예측 요약 :  bill to pay for lakh to increase bill sabha\n",
      "\n",
      "\n"
     ]
    }
   ],
   "source": [
    "for i in range(50, 60):\n",
    "    print(\"원문 :\", seq2text(encoder_input_test[i]))\n",
    "    print(\"실제 제목 :\", seq2summary(decoder_input_test[i]))\n",
    "    print(\"예측 제목 :\", decode_sequence(encoder_input_test[i].reshape(1, text_max_len)))\n",
    "    print(\"\\n\")"
   ]
  },
  {
   "cell_type": "markdown",
   "id": "258414b5",
   "metadata": {},
   "source": [
    "- 첫 번째 text  \n",
    "\n",
    "원문:최근의 폭력에 대응하는 아프리카 인디아 그룹 아프리카는 아프리카인들이 폭력을 적절히 방지하기 위해 조치를 취했다고 말했습니다. 또한 아프리카인들은 공격이라고도 불리는 더 큰 노이다 공격을 비난합니다. 인도 인종은 강력한 요구와 함께 국제 조사 문제를 추구했습니다   \n",
    "실제 제목: 인도는 사절에 대한 폭력을 멈추기 위해 행동하지 않았습니다   \n",
    "예측 제목: 언론인 활동가에 대한 폭력에 대한 증거 없음  \n",
    "\n",
    "- 두 번째 text  \n",
    "\n",
    "원문: 나이아 법원은 비밀 캠프를 조직한 사람들에게 유죄 판결을 내렸습니다. 학생들의 이슬람 운동 금지 의상을 입은 인도 케랄라는 다른 많은 테러 사건들에 무죄를 선고했습니다. 탄생 테러 단체인 인도 무자헤딘은 캠프 보고서에서 창립 멤버인 인도 무자헤딘 압둘 쿠레시도 캠프에 참석했다고 말했습니다   \n",
    "실제 제목: 케랄라에서 금지된 의상 캠프를 조직한 혐의로 유죄 판결을 받았습니다   \n",
    "예측 제목: 테러에 대한 범죄를 저지하기 위한 미얀마 경찰  \n",
    "\n",
    "- 열 번째 text  \n",
    "\n",
    "원문: 테스트를 거친 거의 고유의 아카시 미사일이 결함이 있는 것으로 판명된 감사원 보고서는 미사일 제조 상태에서 바라트 전자 제한 시험 발사 6개의 실패한 시험 미사일이 목표물에 미달하는 저속 임계 장치 오작동 보고서를 추가했습니다   \n",
    "실제 제목: 인도는 실패율이 보고된 캐시 미사일을 만들었습니다   \n",
    "예측 제목: 우리는 처음으로 성공적으로 화재를 테스트했습니다  "
   ]
  },
  {
   "cell_type": "markdown",
   "id": "8cf0dafd",
   "metadata": {},
   "source": [
    "-> 파파고 번역기를 이용해서 확인해 보았을 때 번역 상태가 완벽하지는 않지만 대체로 원문에 있는 내용의 핵심 단어들을 사용하며 원문에는 없는 단어를 새롭게 생성하여 문장을 완성하는 것을 볼 수 있다. 두 번째 text를 보면 굉장히 적절한 제목을 잘 지었지만 첫 번째 text와 열 번째 text는 내용은 잘 담아냈지만 그 방향이 완전히 반대가 되어 다른 내용의 기사 제목이 되어버리는 경우도 있다. "
   ]
  },
  {
   "cell_type": "markdown",
   "id": "0c149851",
   "metadata": {},
   "source": [
    "## Step 5. Summa을 이용해서 추출적 요약해보기"
   ]
  },
  {
   "cell_type": "code",
   "execution_count": null,
   "id": "cffde2f5",
   "metadata": {},
   "outputs": [],
   "source": [
    "#$ pip list | grep summa"
   ]
  },
  {
   "cell_type": "code",
   "execution_count": 68,
   "id": "07662c1f",
   "metadata": {},
   "outputs": [],
   "source": [
    "import requests\n",
    "from summa.summarizer import summarize"
   ]
  },
  {
   "cell_type": "code",
   "execution_count": 74,
   "id": "85f5335a",
   "metadata": {},
   "outputs": [],
   "source": [
    "urllib.request.urlretrieve(\"https://raw.githubusercontent.com/sunnysai12345/News_Summary/master/news_summary_more.csv\", filename=\"news_summary_more.csv\")\n",
    "data = pd.read_csv('news_summary_more.csv', encoding='iso-8859-1')"
   ]
  },
  {
   "cell_type": "code",
   "execution_count": 75,
   "id": "0f026df1",
   "metadata": {},
   "outputs": [
    {
     "data": {
      "text/html": [
       "<div>\n",
       "<style scoped>\n",
       "    .dataframe tbody tr th:only-of-type {\n",
       "        vertical-align: middle;\n",
       "    }\n",
       "\n",
       "    .dataframe tbody tr th {\n",
       "        vertical-align: top;\n",
       "    }\n",
       "\n",
       "    .dataframe thead th {\n",
       "        text-align: right;\n",
       "    }\n",
       "</style>\n",
       "<table border=\"1\" class=\"dataframe\">\n",
       "  <thead>\n",
       "    <tr style=\"text-align: right;\">\n",
       "      <th></th>\n",
       "      <th>headlines</th>\n",
       "      <th>text</th>\n",
       "    </tr>\n",
       "  </thead>\n",
       "  <tbody>\n",
       "    <tr>\n",
       "      <th>0</th>\n",
       "      <td>upGrad learner switches to career in ML &amp; Al w...</td>\n",
       "      <td>Saurav Kant, an alumnus of upGrad and IIIT-B's...</td>\n",
       "    </tr>\n",
       "    <tr>\n",
       "      <th>1</th>\n",
       "      <td>Delhi techie wins free food from Swiggy for on...</td>\n",
       "      <td>Kunal Shah's credit card bill payment platform...</td>\n",
       "    </tr>\n",
       "    <tr>\n",
       "      <th>2</th>\n",
       "      <td>New Zealand end Rohit Sharma-led India's 12-ma...</td>\n",
       "      <td>New Zealand defeated India by 8 wickets in the...</td>\n",
       "    </tr>\n",
       "    <tr>\n",
       "      <th>3</th>\n",
       "      <td>Aegon life iTerm insurance plan helps customer...</td>\n",
       "      <td>With Aegon Life iTerm Insurance plan, customer...</td>\n",
       "    </tr>\n",
       "    <tr>\n",
       "      <th>4</th>\n",
       "      <td>Have known Hirani for yrs, what if MeToo claim...</td>\n",
       "      <td>Speaking about the sexual harassment allegatio...</td>\n",
       "    </tr>\n",
       "  </tbody>\n",
       "</table>\n",
       "</div>"
      ],
      "text/plain": [
       "                                           headlines  \\\n",
       "0  upGrad learner switches to career in ML & Al w...   \n",
       "1  Delhi techie wins free food from Swiggy for on...   \n",
       "2  New Zealand end Rohit Sharma-led India's 12-ma...   \n",
       "3  Aegon life iTerm insurance plan helps customer...   \n",
       "4  Have known Hirani for yrs, what if MeToo claim...   \n",
       "\n",
       "                                                text  \n",
       "0  Saurav Kant, an alumnus of upGrad and IIIT-B's...  \n",
       "1  Kunal Shah's credit card bill payment platform...  \n",
       "2  New Zealand defeated India by 8 wickets in the...  \n",
       "3  With Aegon Life iTerm Insurance plan, customer...  \n",
       "4  Speaking about the sexual harassment allegatio...  "
      ]
     },
     "execution_count": 75,
     "metadata": {},
     "output_type": "execute_result"
    }
   ],
   "source": [
    "data.head()"
   ]
  },
  {
   "cell_type": "code",
   "execution_count": 76,
   "id": "101443a4",
   "metadata": {},
   "outputs": [],
   "source": [
    "data['summary'] = data['text'].apply(lambda x: summarize(x, ratio=0.4)) # 5분정도 걸린다"
   ]
  },
  {
   "cell_type": "code",
   "execution_count": 77,
   "id": "d61205f9",
   "metadata": {},
   "outputs": [
    {
     "data": {
      "text/html": [
       "<div>\n",
       "<style scoped>\n",
       "    .dataframe tbody tr th:only-of-type {\n",
       "        vertical-align: middle;\n",
       "    }\n",
       "\n",
       "    .dataframe tbody tr th {\n",
       "        vertical-align: top;\n",
       "    }\n",
       "\n",
       "    .dataframe thead th {\n",
       "        text-align: right;\n",
       "    }\n",
       "</style>\n",
       "<table border=\"1\" class=\"dataframe\">\n",
       "  <thead>\n",
       "    <tr style=\"text-align: right;\">\n",
       "      <th></th>\n",
       "      <th>headlines</th>\n",
       "      <th>text</th>\n",
       "      <th>summary</th>\n",
       "    </tr>\n",
       "  </thead>\n",
       "  <tbody>\n",
       "    <tr>\n",
       "      <th>0</th>\n",
       "      <td>upGrad learner switches to career in ML &amp; Al w...</td>\n",
       "      <td>Saurav Kant, an alumnus of upGrad and IIIT-B's...</td>\n",
       "      <td>upGrad's Online Power Learning has powered 3 l...</td>\n",
       "    </tr>\n",
       "    <tr>\n",
       "      <th>1</th>\n",
       "      <td>Delhi techie wins free food from Swiggy for on...</td>\n",
       "      <td>Kunal Shah's credit card bill payment platform...</td>\n",
       "      <td>Users get one CRED coin per rupee of bill paid...</td>\n",
       "    </tr>\n",
       "    <tr>\n",
       "      <th>2</th>\n",
       "      <td>New Zealand end Rohit Sharma-led India's 12-ma...</td>\n",
       "      <td>New Zealand defeated India by 8 wickets in the...</td>\n",
       "      <td>The match witnessed India getting all out for ...</td>\n",
       "    </tr>\n",
       "    <tr>\n",
       "      <th>3</th>\n",
       "      <td>Aegon life iTerm insurance plan helps customer...</td>\n",
       "      <td>With Aegon Life iTerm Insurance plan, customer...</td>\n",
       "      <td>Also, customers have options to insure against...</td>\n",
       "    </tr>\n",
       "    <tr>\n",
       "      <th>4</th>\n",
       "      <td>Have known Hirani for yrs, what if MeToo claim...</td>\n",
       "      <td>Speaking about the sexual harassment allegatio...</td>\n",
       "      <td>Speaking about the sexual harassment allegatio...</td>\n",
       "    </tr>\n",
       "  </tbody>\n",
       "</table>\n",
       "</div>"
      ],
      "text/plain": [
       "                                           headlines  \\\n",
       "0  upGrad learner switches to career in ML & Al w...   \n",
       "1  Delhi techie wins free food from Swiggy for on...   \n",
       "2  New Zealand end Rohit Sharma-led India's 12-ma...   \n",
       "3  Aegon life iTerm insurance plan helps customer...   \n",
       "4  Have known Hirani for yrs, what if MeToo claim...   \n",
       "\n",
       "                                                text  \\\n",
       "0  Saurav Kant, an alumnus of upGrad and IIIT-B's...   \n",
       "1  Kunal Shah's credit card bill payment platform...   \n",
       "2  New Zealand defeated India by 8 wickets in the...   \n",
       "3  With Aegon Life iTerm Insurance plan, customer...   \n",
       "4  Speaking about the sexual harassment allegatio...   \n",
       "\n",
       "                                             summary  \n",
       "0  upGrad's Online Power Learning has powered 3 l...  \n",
       "1  Users get one CRED coin per rupee of bill paid...  \n",
       "2  The match witnessed India getting all out for ...  \n",
       "3  Also, customers have options to insure against...  \n",
       "4  Speaking about the sexual harassment allegatio...  "
      ]
     },
     "execution_count": 77,
     "metadata": {},
     "output_type": "execute_result"
    }
   ],
   "source": [
    "data.head()"
   ]
  },
  {
   "cell_type": "code",
   "execution_count": 81,
   "id": "d50de651",
   "metadata": {},
   "outputs": [
    {
     "name": "stdout",
     "output_type": "stream",
     "text": [
      "원문 : Saurav Kant, an alumnus of upGrad and IIIT-B's PG Program in Machine learning and Artificial Intelligence, was a Sr Systems Engineer at Infosys with almost 5 years of work experience. The program and upGrad's 360-degree career support helped him transition to a Data Scientist at Tech Mahindra with 90% salary hike. upGrad's Online Power Learning has powered 3 lakh+ careers.\n",
      "실제 제목 : upGrad learner switches to career in ML & Al with 90% salary hike\n",
      "추출 요약 : upGrad's Online Power Learning has powered 3 lakh+ careers.\n",
      "\n",
      "\n",
      "원문 : Kunal Shah's credit card bill payment platform, CRED, gave users a chance to win free food from Swiggy for one year. Pranav Kaushik, a Delhi techie, bagged this reward after spending 2000 CRED coins. Users get one CRED coin per rupee of bill paid, which can be used to avail rewards from brands like Ixigo, BookMyShow, UberEats, Cult.Fit and more.\n",
      "실제 제목 : Delhi techie wins free food from Swiggy for one year on CRED\n",
      "추출 요약 : Users get one CRED coin per rupee of bill paid, which can be used to avail rewards from brands like Ixigo, BookMyShow, UberEats, Cult.Fit and more.\n",
      "\n",
      "\n",
      "원문 : New Zealand defeated India by 8 wickets in the fourth ODI at Hamilton on Thursday to win their first match of the five-match ODI series. India lost an international match under Rohit Sharma's captaincy after 12 consecutive victories dating back to March 2018. The match witnessed India getting all out for 92, their seventh lowest total in ODI cricket history.\n",
      "실제 제목 : New Zealand end Rohit Sharma-led India's 12-match winning streak\n",
      "추출 요약 : The match witnessed India getting all out for 92, their seventh lowest total in ODI cricket history.\n",
      "\n",
      "\n",
      "원문 : With Aegon Life iTerm Insurance plan, customers can enjoy tax benefits on your premiums paid and save up to Ã¢ÂÂ¹46,800^ on taxes. The plan provides life cover up to the age of 100 years. Also, customers have options to insure against Critical Illnesses, Disability and Accidental Death Benefit Rider with a life cover up to the age of 80 years.\n",
      "실제 제목 : Aegon life iTerm insurance plan helps customers save tax\n",
      "추출 요약 : Also, customers have options to insure against Critical Illnesses, Disability and Accidental Death Benefit Rider with a life cover up to the age of 80 years.\n",
      "\n",
      "\n",
      "원문 : Speaking about the sexual harassment allegations against Rajkumar Hirani, Sonam Kapoor said, \"I've known Hirani for many years...What if it's not true, the [#MeToo] movement will get derailed.\" \"In the #MeToo movement, I always believe a woman. But in this case, we need to reserve our judgment,\" she added. Hirani has been accused by an assistant who worked in 'Sanju'.\n",
      "실제 제목 : Have known Hirani for yrs, what if MeToo claims are not true: Sonam\n",
      "추출 요약 : Speaking about the sexual harassment allegations against Rajkumar Hirani, Sonam Kapoor said, \"I've known Hirani for many years...What if it's not true, the [#MeToo] movement will get derailed.\" \"In the #MeToo movement, I always believe a woman.\n",
      "\n",
      "\n",
      "원문 : Pakistani singer Rahat Fateh Ali Khan has denied receiving any notice from the Enforcement Directorate over allegedly smuggling foreign currency out of India. \"It would have been better if the authorities would have served the notice first if any and then publicised this,\" reads a press release issued on behalf of Rahat. The statement further called the allegation \"bizarre\".\n",
      "실제 제목 : Rahat Fateh Ali Khan denies getting notice for smuggling currency\n",
      "추출 요약 : Pakistani singer Rahat Fateh Ali Khan has denied receiving any notice from the Enforcement Directorate over allegedly smuggling foreign currency out of India.\n",
      "\n",
      "\n",
      "원문 : India recorded their lowest ODI total in New Zealand after getting all out for 92 runs in 30.5 overs in the fourth ODI at Hamilton on Thursday. Seven of India's batsmen were dismissed for single-digit scores, while their number ten batsman Yuzvendra Chahal top-scored with 18*(37). India's previous lowest ODI total in New Zealand was 108.\n",
      "실제 제목 : India get all out for 92, their lowest ODI total in New Zealand\n",
      "추출 요약 : India's previous lowest ODI total in New Zealand was 108.\n",
      "\n",
      "\n",
      "원문 : Weeks after ex-CBI Director Alok Verma told the Department of Personnel and Training to consider him retired, the Home Ministry asked him to join work on the last day of his fixed tenure as Director on Thursday. The ministry directed him to immediately join as DG, Fire Services, the post he was transferred to after his removal as CBI chief.\n",
      "실제 제목 : Govt directs Alok Verma to join work 1 day before his retirement\n",
      "추출 요약 : \n",
      "\n",
      "\n",
      "원문 : Andhra Pradesh CM N Chandrababu Naidu has said, \"When I met then US President Bill Clinton, I addressed him as Mr Clinton, not as 'sir'. (PM Narendra) Modi is my junior in politics...I addressed him as sir 10 times.\" \"I did this...to satisfy his ego in the hope that he will do justice to the state,\" he added.\n",
      "실제 제목 : Called PM Modi 'sir' 10 times to satisfy his ego: Andhra CM\n",
      "추출 요약 : \n",
      "\n",
      "\n",
      "원문 : Congress candidate Shafia Zubair won the Ramgarh Assembly seat in Rajasthan, by defeating BJP's Sukhwant Singh with a margin of 12,228 votes in the bypoll. With this victory, Congress has taken its total to 100 seats in the 200-member assembly. The election to the Ramgarh seat was delayed due to the death of sitting MLA and BSP candidate Laxman Singh.\n",
      "실제 제목 : Cong wins Ramgarh bypoll in Rajasthan, takes total to 100 seats\n",
      "추출 요약 : Congress candidate Shafia Zubair won the Ramgarh Assembly seat in Rajasthan, by defeating BJP's Sukhwant Singh with a margin of 12,228 votes in the bypoll.\n",
      "\n",
      "\n"
     ]
    }
   ],
   "source": [
    "for i in range(10):\n",
    "    print(\"원문 :\", data['text'][i])\n",
    "    print(\"실제 제목 :\", data['headlines'][i])\n",
    "    print(\"추출 요약 :\", data['summary'][i])\n",
    "    print(\"\\n\")"
   ]
  },
  {
   "cell_type": "markdown",
   "id": "c3ad9ca5",
   "metadata": {},
   "source": [
    "- 첫 번째 headlines   \n",
    "\n",
    "원문: upgrad와 IIIT-B의 기계 학습 및 인공 지능 분야 PG 프로그램 졸업생인 Saurav Kant는 Infosys의 Sr Systems Engineer로 거의 5년의 업무 경험이 있습니다. 이 프로그램과 upGrad의 360도 경력 지원 덕분에 Tech Mahindra의 데이터 사이언티스트로 전환할 수 있었고 급여는 90% 인상되었습니다. UpGrad의 온라인 파워 러닝은 3개 이상의 경력을 쌓았습니다.  \n",
    "실제 제목: upgrad 학습자는 90%의 급여 인상으로 ML & Al에서 경력으로 전환합니다  \n",
    "추출 요약: upGrad의 온라인 파워 러닝은 3개 이상의 경력을 쌓았습니다.  \n",
    "\n",
    "- 두 번째 headlines  \n",
    "\n",
    "원문: Kunal Shah의 신용카드 결제 플랫폼인 CRED는 사용자들에게 1년 동안 Swiggy로부터 무료 음식을 얻을 수 있는 기회를 주었습니다. 델리의 기술자인 Pranav Kaushik은 2000개의 크레디트 동전을 쓴 후에 이 보상을 챙겼습니다. 사용자는 지불된 청구서의 루피 당 1개의 크레디트 코인을 받을 수 있으며, 이는 Ixigo, Book MyShow, UberEats, Cult와 같은 브랜드의 보상을 이용하는 데 사용될 수 있습니다.핏 그 이상.  \n",
    "실제 제목: Delhi Techie는 CED에서 Swiggy로부터 1년간 무료 음식을 획득했습니다  \n",
    "추출 요약: 사용자는 지불된 청구서의 루피 당 1개의 크레디트 코인을 받을 수 있으며, 이는 Ixigo, Book MyShow, UberEats, Cult와 같은 브랜드의 보상을 이용하는 데 사용될 수 있습니다.핏 그 이상.  \n",
    "\n",
    "- 열 번째 headlines  \n",
    "\n",
    "원문: 의회 후보 Shafia Zubair는 보궐선거에서 12,228표 차이로 BJP의 Sukhwant Singh를 꺾고 라자스탄의 람가르 의회 의석을 차지했습니다. 이번 승리로, 의회는 200명의 의원 중에서 총 100석을 차지했습니다. 람가르 의석의 선거는 현직 MLA와 BSP 후보인 락스만 싱의 사망으로 인해 연기되었습니다.  \n",
    "실제 제목: 라자스탄에서 실시된 람가르 바이 여론조사에서 승리한 의회는 총 100석을 차지합니다  \n",
    "추출 요약: 의회 후보 Shafia Zubair는 보궐선거에서 12,228표 차이로 BJP의 Sukhwant Singh를 꺾고 라자스탄의 람가르 의회 의석을 차지했습니다.  "
   ]
  },
  {
   "cell_type": "markdown",
   "id": "62e9a4f3",
   "metadata": {},
   "source": [
    "## step6. 결과 분석\n",
    "### (1) 자세한 분석\n",
    "\n",
    "- Attention 10번째 문장   \n",
    "\n",
    "원문 : lok sabha wednesday passed bill proposing protect unauthorised slums colonies delhi disciplinary action three years existing deadline relocate slums colonies december centre said regulatory authorities still carrying surveys deal encroachments take time \n",
    "실제 요약 : lok sabha passes bill to protect unauthorised delhi \n",
    "예측 요약 :  bill to pay for lakh to increase bill sabha\n",
    "-> 이 글의 핵심 단어는 테스트를 진행했다는 점과 처음으로 오작동 보고서를 제출했다는 단어이다. 예측 요약에서 테스트를 진행했다는 내용이 포함되어 있지만 오작동 보고서를 처음으로 제출한 것이 아니라 테스트 성공을 처음으로 했다는 식으로 요약이 되어 있어서 정확도가 80%정도라고 볼 수 있다. \n",
    "\n",
    "- summa 10번째 문장  \n",
    "\n",
    "원문 : Congress candidate Shafia Zubair won the Ramgarh Assembly seat in Rajasthan, by defeating BJP's Sukhwant Singh with a margin of 12,228 votes in the bypoll. With this victory, Congress has taken its total to 100 seats in the 200-member assembly. The election to the Ramgarh seat was delayed due to the death of sitting MLA and BSP candidate Laxman Singh.\n",
    "실제 제목 : Cong wins Ramgarh bypoll in Rajasthan, takes total to 100 seats\n",
    "추출 요약 : Congress candidate Shafia Zubair won the Ramgarh Assembly seat in Rajasthan, by defeating BJP's Sukhwant Singh with a margin of 12,228 votes in the bypoll.\n",
    "->\n",
    "\n",
    "### (2) 종합 분석\n",
    "- 괄호 안의 점수는 각각 요약 방식에 따른 10개의 문장을 분석하여 괜찮으면 10점, 애매하면 5점, 이상하면 0점을 차등 분배하여 총 100점이 만점이 되도록 만들었다. 종합평가는 그렇게 나온 결과의 평균 점수를 매겼다. \n",
    "\n",
    "|요약 방법|사용 방식|문법완성도|핵심단어|종합평가|\n",
    "|------|---|---|---|---|\n",
    "|추상적 요약|Attention|문법이 꽤 자연스럽게 생성되었다(90)|핵심 단어를 잘 추출하지만 방향이 다르기도 하다(70)|80|\n",
    "|추출적 요약|summa|문장 추출이 안되는 경우도 있다.(80)|문장 추출이 안된 두 문장을 제외한 점수(70)|75|\n",
    "\n",
    "-> 문장 추출이 안되는 이유로는 원문이 너무 짧은 것을 원인으로 추측된다. "
   ]
  },
  {
   "attachments": {
    "image.png": {
     "image/png": "[encoded data removed]"
    }
   },
   "cell_type": "markdown",
   "id": "9c846714",
   "metadata": {},
   "source": [
    "# 프로젝트\n",
    "\n",
    "## 배운점\n",
    "1. 어텐션 메커니즘 (Attention Mechanism)은 정보 손실, 기울기 소실 문제를 보완하기 위한 방법이다. 어텐션의 아이디어는 디코더에서 출력 단어를 예측하는 매 시점(time step)마다, 인코더에서의 전체 입력 문장을 다시 한 번 참고한다는 점이다. 단, 전체 입력 문장을 전부 다 동일한 비율로 참고하는 것이 아니라, 해당 시점에서 예측해야할 단어와 연관이 있는 입력 단어 부분을 좀 더 집중(attention)해서 보게 되는 것이다. 그래서 attention이다. \n",
    "2. 텍스트 요약에는 추출적 요약과 추상적 요약 크게 두 가지로 분류하며 추상적 요약이 NLG와 관련된다. \n",
    "\n",
    "## 아쉬운점\n",
    "1. 어텐션 기본 개념에 대한 수학적, 기술적 지식을 좀 더 공부해보아야겠다. \n",
    "2. from deep_translator import GoogleTranslator을 이용하면 일일히 복사해서 번역하고 다시 붙여넣는 작업을 하지 않아도 바로 원문과 번역문을 같이 볼 수 있다는 것을 뒤늦게 알았다. 나중에 이것도 시도해보아야겠다.  \n",
    "\n",
    "## 종합의견\n",
    "NLP 분야는  Attention이 등장하기 전과 등장한 후로 나뉜다고 한다.  가장 혁신적인 등장인 어텐션에 대해 공부 할 수 있어서 좋았다. 좀 더 공부해보아야 할 것 같다. 내일은 여전히 남아있는 RNN의 문제를 해결하는 Transformer에 대해 공부하는데 그 구조와 자세한 코드와 수학적 개념, 지식에 대해 더 공부하고 싶다. \n",
    "<center><img src=\"attachment:image.png\" width=\"300\" height=\"300\"></center>"
   ]
  },
  {
   "cell_type": "markdown",
   "id": "005460e6",
   "metadata": {},
   "source": [
    "# Reference\n",
    "1. 어텐션 메커니즘 텐서플로  \n",
    "https://www.tensorflow.org/api_docs/python/tf/keras/layers/AdditiveAttention  \n",
    "2. 어텐션 메커니즘 설명  \n",
    "https://wikidocs.net/22893  \n",
    "3. 텍스트 분석을 위한 어텐션 메커니즘  \n",
    "https://wikidocs.net/72820  \n",
    "4. 마크다운 이미지 resize  \n",
    "https://blog.yena.io/studynote/2017/11/23/Github-resize-image.html  "
   ]
  }
 ],
 "metadata": {
  "kernelspec": {
   "display_name": "Python 3 (ipykernel)",
   "language": "python",
   "name": "python3"
  },
  "language_info": {
   "codemirror_mode": {
    "name": "ipython",
    "version": 3
   },
   "file_extension": ".py",
   "mimetype": "text/x-python",
   "name": "python",
   "nbconvert_exporter": "python",
   "pygments_lexer": "ipython3",
   "version": "3.9.7"
  }
 },
 "nbformat": 4,
 "nbformat_minor": 5
}
