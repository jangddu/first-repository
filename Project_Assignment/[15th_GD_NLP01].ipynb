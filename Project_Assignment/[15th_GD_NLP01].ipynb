{
 "cells": [
  {
   "cell_type": "markdown",
   "id": "0bc84d5f",
   "metadata": {},
   "source": [
    "# 프로젝트: 작사가 인공지능 만들기\n",
    "\n",
    "## 데이터:\n",
    "1Mb 남짓한 노래 가사 텍스트 파일\n",
    "\n",
    "## 목표:\n",
    "1. 특수문자 제거, 토크나이저 생성, 패딩 처리의 작업들이 빠짐없이 진행되었는가?\n",
    "2. 텍스트 제너레이션 결과로 생성된 문장이 해석 가능한 문장인가?\n",
    "3. 텍스트 생성모델의 validation loss가 2.2 이하로 낮아졌는가?"
   ]
  },
  {
   "cell_type": "markdown",
   "id": "dc593d0d",
   "metadata": {},
   "source": [
    "## (1) 라이브러리 및 데이터 불러오기"
   ]
  },
  {
   "cell_type": "code",
   "execution_count": 42,
   "id": "731fcc39",
   "metadata": {},
   "outputs": [
    {
     "name": "stdout",
     "output_type": "stream",
     "text": [
      "2.6.0\n"
     ]
    }
   ],
   "source": [
    "import glob  #glob 모듈의 glob 함수는 사용자가 제시한 조건에 맞는 파일명을 리스트 형식으로 반환한다\n",
    "import tensorflow as tf\n",
    "import os\n",
    "import re\n",
    "\n",
    "print(tf.__version__)"
   ]
  },
  {
   "cell_type": "code",
   "execution_count": 43,
   "id": "1afb1621",
   "metadata": {},
   "outputs": [
    {
     "name": "stdout",
     "output_type": "stream",
     "text": [
      "데이터 크기: 187088\n",
      "Examples:\n",
      " ['', '', '[Spoken Intro:]']\n"
     ]
    }
   ],
   "source": [
    "txt_file_path = os.getenv('HOME')+'/aiffel/lyricist/data/lyrics/*' \n",
    "txt_list = glob.glob(txt_file_path) \n",
    "raw_corpus = [] \n",
    "\n",
    "# 여러개의 txt 파일을 모두 읽어서 raw_corpus 에 담습니다.\n",
    "for txt_file in txt_list:\n",
    "    with open(txt_file, \"r\") as f:\n",
    "        raw = f.read().splitlines() \n",
    "        raw_corpus.extend(raw) # extend() : 리스트함수로 추가적인 내용을 연장 한다.\n",
    "\n",
    "print(\"데이터 크기:\", len(raw_corpus))\n",
    "print(\"Examples:\\n\", raw_corpus[:3])"
   ]
  },
  {
   "cell_type": "code",
   "execution_count": 44,
   "id": "3a7237a5",
   "metadata": {},
   "outputs": [
    {
     "name": "stdout",
     "output_type": "stream",
     "text": [
      "It's not warm when she's away \n"
     ]
    }
   ],
   "source": [
    "# 문장 확인\n",
    "for idx, sentence in enumerate(raw_corpus):\n",
    "    if len(sentence) == 0: continue   # 길이가 0인 문장은 건너뜀\n",
    "    if sentence[-1] == \":\": continue  # 문장의 끝이 : 인 문장은 건너뜀\n",
    "    if idx > 15: break   # 문장 15개 미만만 확인\n",
    "        \n",
    "print(sentence)"
   ]
  },
  {
   "cell_type": "markdown",
   "id": "409ad48b",
   "metadata": {},
   "source": [
    "## (2) 데이터 전처리"
   ]
  },
  {
   "cell_type": "code",
   "execution_count": 45,
   "id": "642260cb",
   "metadata": {},
   "outputs": [
    {
     "name": "stdout",
     "output_type": "stream",
     "text": [
      "<start> this is sample sentence . <end>\n"
     ]
    }
   ],
   "source": [
    "# 입력된 문장 필터링\n",
    "#     1. 소문자로 바꾸고, 양쪽 공백 지우기\n",
    "#     2. 특수문자 양쪽에 공백 넣기\n",
    "#     3. 여러개의 공백은 하나의 공백으로 바꾸기\n",
    "#     4. a-zA-Z?.!,¿가 아닌 모든 문자를 하나의 공백으로 바꾸기\n",
    "#     5. 다시 양쪽 공백을 지우기\n",
    "#     6. 문장 시작에는 <start>, 끝에는 <end>를 추가\n",
    "def preprocess_sentence(sentence):\n",
    "    sentence = sentence.lower().strip() # 1\n",
    "    sentence = re.sub(r\"([?.!,¿])\", r\" \\1 \", sentence) # 2\n",
    "    sentence = re.sub(r'[\" \"]+', \" \", sentence) # 3\n",
    "    sentence = re.sub(r\"[^a-zA-Z?.!,¿]+\", \" \", sentence) # 4\n",
    "    sentence = sentence.strip() # 5\n",
    "    sentence = '<start> ' + sentence + ' <end>' # 6\n",
    "    return sentence\n",
    "\n",
    "# 필터링 확인\n",
    "print(preprocess_sentence(\"This @_is ;;;sample        sentence.\"))"
   ]
  },
  {
   "cell_type": "code",
   "execution_count": 46,
   "id": "27b3e96c",
   "metadata": {},
   "outputs": [
    {
     "data": {
      "text/plain": [
       "['<start> spoken intro <end>',\n",
       " '<start> you ever want something <end>',\n",
       " '<start> that you know you shouldn t have <end>',\n",
       " '<start> the more you know you shouldn t have it , <end>',\n",
       " '<start> the more you want it <end>',\n",
       " '<start> and then one day you get it , <end>',\n",
       " '<start> it s so good too <end>',\n",
       " '<start> but it s just like my girl <end>',\n",
       " '<start> when she s around me <end>',\n",
       " '<start> i just feel so good , so good <end>']"
      ]
     },
     "execution_count": 46,
     "metadata": {},
     "output_type": "execute_result"
    }
   ],
   "source": [
    "# 정제된 문장 모으기\n",
    "corpus = []\n",
    "\n",
    "# raw_corpus list에 저장된 문장들을 순서대로 반환하여 sentence에 저장\n",
    "for sentence in raw_corpus:\n",
    "    if len(sentence) == 0: continue\n",
    "    if sentence[-1] == \":\": continue\n",
    "    \n",
    "    # 앞서 구현한 preprocess_sentence() 함수를 이용\n",
    "    preprocessed_sentence = preprocess_sentence(sentence)\n",
    "    corpus.append(preprocessed_sentence)\n",
    "        \n",
    "# 정제된 결과 확인\n",
    "corpus[:10]"
   ]
  },
  {
   "cell_type": "code",
   "execution_count": 47,
   "id": "361234ab",
   "metadata": {},
   "outputs": [
    {
     "name": "stdout",
     "output_type": "stream",
     "text": [
      "[[   2 2701 2584 ...    0    0    0]\n",
      " [   2    7  156 ...    0    0    0]\n",
      " [   2   17    7 ...    0    0    0]\n",
      " ...\n",
      " [   2  311    1 ...    0    0    0]\n",
      " [   5   34   45 ... 1161  143    3]\n",
      " [   5   34   45 ... 1161  143    3]] <keras_preprocessing.text.Tokenizer object at 0x7f8f9a44e6d0>\n"
     ]
    }
   ],
   "source": [
    "#벡터화(토큰화 + 사전만들기)\n",
    "# 토큰화 할 때 텐서플로우의 Tokenizer와 pad_sequences 사용\n",
    "# https://www.tensorflow.org/api_docs/python/tf/keras/preprocessing/text/Tokenizer\n",
    "# https://www.tensorflow.org/api_docs/python/tf/keras/preprocessing/sequence/pad_sequences\n",
    "def tokenize(corpus):\n",
    "    # 7000단어를 기억할 수 있는 tokenizer를 만들 것임\n",
    "    # 우리는 이미 문장을 정제했으니 filters가 필요없음\n",
    "    # 7000단어에 포함되지 못한 단어는 '<unk>'로 바꿀 것임\n",
    "    tokenizer = tf.keras.preprocessing.text.Tokenizer(\n",
    "        num_words=7000, \n",
    "        filters=' ',\n",
    "        oov_token=\"<unk>\"\n",
    "    )\n",
    "    \n",
    "    tokenizer.fit_on_texts(corpus) # 리스트의 형태로 변환 \n",
    "    tensor = tokenizer.texts_to_sequences(corpus)  #숫자의 시퀀스 형태로 변환\n",
    "    tensor = tf.keras.preprocessing.sequence.pad_sequences(tensor, padding='post',maxlen=15)  \n",
    "    # 입력 데이터의 시퀀스 길이를 일정하게 맞춤\n",
    "    \n",
    "    print(tensor,tokenizer)\n",
    "    return tensor, tokenizer\n",
    "\n",
    "tensor, tokenizer = tokenize(corpus)"
   ]
  },
  {
   "cell_type": "code",
   "execution_count": 48,
   "id": "fc3cdb20",
   "metadata": {},
   "outputs": [
    {
     "name": "stdout",
     "output_type": "stream",
     "text": [
      "[[   2 2701 2584    3    0    0    0    0    0    0]\n",
      " [   2    7  156   62  199    3    0    0    0    0]\n",
      " [   2   17    7   34    7 1518   15   76    3    0]]\n"
     ]
    }
   ],
   "source": [
    "print(tensor[:3, :10])"
   ]
  },
  {
   "cell_type": "code",
   "execution_count": 49,
   "id": "f1cda1f7",
   "metadata": {},
   "outputs": [
    {
     "name": "stdout",
     "output_type": "stream",
     "text": [
      "1 : <unk>\n",
      "2 : <start>\n",
      "3 : <end>\n",
      "4 : ,\n",
      "5 : i\n",
      "6 : the\n",
      "7 : you\n",
      "8 : and\n",
      "9 : a\n",
      "10 : to\n"
     ]
    }
   ],
   "source": [
    "# 단어 사전 확인\n",
    "# 현재 계산된 단어의 인덱스와 인덱스에 해당하는 단어를 dictionary 형대로 반환 \n",
    "for idx in tokenizer.index_word:\n",
    "    print(idx, \":\", tokenizer.index_word[idx])\n",
    "\n",
    "    if idx >= 10: break"
   ]
  },
  {
   "cell_type": "markdown",
   "id": "a3f8c24a",
   "metadata": {},
   "source": [
    "## (3) 평가 데이터셋 분리"
   ]
  },
  {
   "cell_type": "code",
   "execution_count": 50,
   "id": "204f0aa0",
   "metadata": {},
   "outputs": [
    {
     "name": "stdout",
     "output_type": "stream",
     "text": [
      "[   2 2701 2584    3    0    0    0    0    0    0    0    0    0    0]\n",
      "[2701 2584    3    0    0    0    0    0    0    0    0    0    0    0]\n"
     ]
    }
   ],
   "source": [
    "# tensor에서 마지막 토큰을 잘라내서 소스 문장을 생성\n",
    "src_input = tensor[:, :-1]  \n",
    "# tensor에서 <start>를 잘라내서 타겟 문장을 생성\n",
    "tgt_input = tensor[:, 1:]    \n",
    "\n",
    "print(src_input[0])\n",
    "print(tgt_input[0])"
   ]
  },
  {
   "cell_type": "code",
   "execution_count": 51,
   "id": "2a6407fc",
   "metadata": {},
   "outputs": [
    {
     "data": {
      "text/plain": [
       "<BatchDataset shapes: ((256, 14), (256, 14)), types: (tf.int32, tf.int32)>"
      ]
     },
     "execution_count": 51,
     "metadata": {},
     "output_type": "execute_result"
    }
   ],
   "source": [
    "BUFFER_SIZE = len(src_input)\n",
    "BATCH_SIZE = 256\n",
    "steps_per_epoch = len(src_input) // BATCH_SIZE\n",
    "\n",
    " # tokenizer.num_words: 주어진 데이터의 문장들에서 빈도수가 높은 n개의 단어만 선택\n",
    " # tokenize() 함수에서 선언한 대로tokenizer.num_words의 값은 <pad>를 제외한 7000개\n",
    "VOCAB_SIZE = tokenizer.num_words + 1   \n",
    "\n",
    "# 데이터셋 제작 \n",
    "dataset = tf.data.Dataset.from_tensor_slices((src_input, tgt_input))\n",
    "dataset = dataset.shuffle(BUFFER_SIZE)\n",
    "dataset = dataset.batch(BATCH_SIZE, drop_remainder=True)\n",
    "dataset"
   ]
  },
  {
   "cell_type": "code",
   "execution_count": 52,
   "id": "70d8e6b5",
   "metadata": {},
   "outputs": [],
   "source": [
    "# test, train 분리\n",
    "from sklearn.model_selection import train_test_split\n",
    "\n",
    "# 데이터셋을 입력하고, 테스트 세트의 비율을 설정\n",
    "enc_train, enc_test, dec_train, dec_test = train_test_split(src_input, tgt_input, test_size=0.2, random_state=42)\n"
   ]
  },
  {
   "cell_type": "markdown",
   "id": "842b7edf",
   "metadata": {},
   "source": [
    "## (4) 모델 구성 및 학습"
   ]
  },
  {
   "cell_type": "code",
   "execution_count": 12,
   "id": "47e0fce2",
   "metadata": {},
   "outputs": [],
   "source": [
    "# 모델 구성\n",
    "class TextGenerator(tf.keras.Model):\n",
    "    def __init__(self, vocab_size, embedding_size, hidden_size):\n",
    "        super().__init__()\n",
    "        self.embedding = tf.keras.layers.Embedding(vocab_size, embedding_size) \n",
    "        self.rnn_1 = tf.keras.layers.LSTM(hidden_size, return_sequences=True)  \n",
    "        self.rnn_2 = tf.keras.layers.LSTM(hidden_size, return_sequences=True)\n",
    "        self.linear = tf.keras.layers.Dense(vocab_size)\n",
    "        \n",
    "    def call(self, x):\n",
    "        out = self.embedding(x)\n",
    "        out = self.rnn_1(out)\n",
    "        out = self.rnn_2(out)\n",
    "        out = self.linear(out)\n",
    "        \n",
    "        return out\n",
    "\n",
    "embedding_size = 256 # 워드 벡터의 차원수 추상적으로 표현되는 크기\n",
    "hidden_size = 1024 # 모델에 얼마나 많은 일꾼을 둘 것인가? \n",
    "model = TextGenerator(tokenizer.num_words + 1, embedding_size , hidden_size) \n",
    "# pad 때문에 +1추가"
   ]
  },
  {
   "cell_type": "code",
   "execution_count": 13,
   "id": "298efff9",
   "metadata": {},
   "outputs": [
    {
     "data": {
      "text/plain": [
       "<tf.Tensor: shape=(256, 14, 7001), dtype=float32, numpy=\n",
       "array([[[-8.47537158e-05,  1.09941386e-04,  1.38459545e-05, ...,\n",
       "          3.59420083e-04, -1.43884317e-04,  3.52643656e-05],\n",
       "        [-1.02597020e-04,  2.53502978e-04,  1.64390600e-04, ...,\n",
       "          7.03881815e-05, -4.86015982e-04, -5.12304192e-04],\n",
       "        [ 6.55732947e-06,  5.08917787e-04,  2.25460215e-04, ...,\n",
       "         -2.18618061e-05, -6.79485500e-04, -7.55652378e-04],\n",
       "        ...,\n",
       "        [ 2.88372859e-03,  3.40811303e-03,  2.03097676e-04, ...,\n",
       "          9.92263551e-04, -2.61317496e-03, -8.57981911e-04],\n",
       "        [ 3.29460250e-03,  4.05709073e-03,  2.00920913e-04, ...,\n",
       "          1.27326394e-03, -2.67134723e-03, -8.88636336e-04],\n",
       "        [ 3.65048461e-03,  4.67057666e-03,  1.84406599e-04, ...,\n",
       "          1.54226646e-03, -2.71359133e-03, -8.90710973e-04]],\n",
       "\n",
       "       [[-8.47537158e-05,  1.09941386e-04,  1.38459545e-05, ...,\n",
       "          3.59420083e-04, -1.43884317e-04,  3.52643656e-05],\n",
       "        [-4.49039595e-04,  4.87703015e-04,  1.58713738e-04, ...,\n",
       "          2.36739506e-04, -2.46510288e-04,  7.00061282e-05],\n",
       "        [-1.04574068e-03,  3.20356135e-04,  2.18726127e-04, ...,\n",
       "          8.67189447e-05, -1.98043737e-04,  4.95211898e-05],\n",
       "        ...,\n",
       "        [-9.54175659e-04, -2.39944886e-04,  1.08140043e-03, ...,\n",
       "         -1.72828522e-03,  2.59330758e-04, -1.71005598e-03],\n",
       "        [-9.87365493e-04, -4.29596636e-04,  1.36621215e-03, ...,\n",
       "         -1.61220052e-03,  5.77989616e-04, -1.40172523e-03],\n",
       "        [-4.92721214e-04, -2.40451336e-04,  1.15860160e-03, ...,\n",
       "         -1.00222102e-03,  5.66883944e-04, -1.40046037e-03]],\n",
       "\n",
       "       [[-8.47537158e-05,  1.09941386e-04,  1.38459545e-05, ...,\n",
       "          3.59420083e-04, -1.43884317e-04,  3.52643656e-05],\n",
       "        [-6.25777902e-05, -2.35011612e-04,  4.24691498e-05, ...,\n",
       "          2.40204157e-04, -4.41954726e-05, -2.29751095e-04],\n",
       "        [-2.87653384e-04, -3.38139071e-04, -2.71621539e-05, ...,\n",
       "          7.77180132e-04, -4.70189152e-05, -4.95500106e-04],\n",
       "        ...,\n",
       "        [ 2.47394433e-03,  2.70523736e-03,  7.75484252e-04, ...,\n",
       "          7.50429172e-04, -2.00557592e-03, -1.24907086e-03],\n",
       "        [ 2.83156685e-03,  3.43672466e-03,  6.89620269e-04, ...,\n",
       "          1.07735384e-03, -2.13661860e-03, -1.20591826e-03],\n",
       "        [ 3.15866037e-03,  4.12897533e-03,  5.92185941e-04, ...,\n",
       "          1.39456510e-03, -2.23841262e-03, -1.14709057e-03]],\n",
       "\n",
       "       ...,\n",
       "\n",
       "       [[-8.47537158e-05,  1.09941386e-04,  1.38459545e-05, ...,\n",
       "          3.59420083e-04, -1.43884317e-04,  3.52643656e-05],\n",
       "        [-6.63578103e-05,  1.32584202e-04,  1.10485540e-04, ...,\n",
       "          3.97479336e-04, -3.75812699e-04, -1.80475356e-04],\n",
       "        [ 7.74799701e-05, -2.47994940e-05,  3.86752072e-04, ...,\n",
       "          3.73383838e-04, -5.03400515e-04, -6.32724084e-04],\n",
       "        ...,\n",
       "        [ 2.71949847e-03,  1.79189933e-03,  1.56543474e-03, ...,\n",
       "         -4.47065286e-05, -2.05388712e-03, -1.16708747e-03],\n",
       "        [ 3.11060064e-03,  2.50804704e-03,  1.50046742e-03, ...,\n",
       "          2.70460325e-04, -2.19839509e-03, -1.05000648e-03],\n",
       "        [ 3.46275792e-03,  3.22625693e-03,  1.39160547e-03, ...,\n",
       "          6.01623033e-04, -2.30959849e-03, -9.35920165e-04]],\n",
       "\n",
       "       [[-8.47537158e-05,  1.09941386e-04,  1.38459545e-05, ...,\n",
       "          3.59420083e-04, -1.43884317e-04,  3.52643656e-05],\n",
       "        [-2.72295700e-04,  1.68364553e-04, -4.17996162e-05, ...,\n",
       "          2.75680533e-04, -5.51918638e-04, -1.24841215e-04],\n",
       "        [-5.34915540e-04, -2.46240215e-05, -1.44971476e-04, ...,\n",
       "          4.17429896e-04, -7.27919396e-04, -3.64759122e-04],\n",
       "        ...,\n",
       "        [ 4.32922272e-04,  1.66929080e-04,  1.92313702e-04, ...,\n",
       "         -4.65107965e-04, -6.16074132e-04, -8.12165788e-04],\n",
       "        [ 9.60350095e-04,  9.42545827e-04,  2.14959276e-04, ...,\n",
       "         -1.43673227e-04, -8.27128009e-04, -8.48723575e-04],\n",
       "        [ 1.48693286e-03,  1.76273449e-03,  1.96229928e-04, ...,\n",
       "          2.18393208e-04, -1.00408471e-03, -8.56867409e-04]],\n",
       "\n",
       "       [[-8.47537158e-05,  1.09941386e-04,  1.38459545e-05, ...,\n",
       "          3.59420083e-04, -1.43884317e-04,  3.52643656e-05],\n",
       "        [-2.48602300e-04,  1.48497726e-04, -2.29554978e-04, ...,\n",
       "          6.86587184e-04, -5.23003808e-04,  2.18683825e-04],\n",
       "        [-4.61210089e-04,  3.03928973e-04, -5.23790484e-04, ...,\n",
       "          6.60007994e-04, -6.29635819e-04,  7.37780530e-04],\n",
       "        ...,\n",
       "        [ 1.39656849e-03,  2.31674826e-03, -4.05192142e-04, ...,\n",
       "          3.98336357e-04, -2.18007551e-03, -1.64596378e-04],\n",
       "        [ 1.95611990e-03,  2.97638355e-03, -3.48266505e-04, ...,\n",
       "          6.93424488e-04, -2.33323569e-03, -4.28636064e-04],\n",
       "        [ 2.45684106e-03,  3.64331505e-03, -3.05735884e-04, ...,\n",
       "          9.94489412e-04, -2.45239376e-03, -6.14789315e-04]]],\n",
       "      dtype=float32)>"
      ]
     },
     "execution_count": 13,
     "metadata": {},
     "output_type": "execute_result"
    }
   ],
   "source": [
    "for src_sample, tgt_sample in dataset.take(1): break\n",
    "\n",
    "# 한 배치만 불러온 데이터를 모델에 넣어 보기\n",
    "model(src_sample)"
   ]
  },
  {
   "cell_type": "code",
   "execution_count": 14,
   "id": "1fd3d097",
   "metadata": {},
   "outputs": [
    {
     "name": "stdout",
     "output_type": "stream",
     "text": [
      "Model: \"text_generator\"\n",
      "_________________________________________________________________\n",
      "Layer (type)                 Output Shape              Param #   \n",
      "=================================================================\n",
      "embedding (Embedding)        multiple                  1792256   \n",
      "_________________________________________________________________\n",
      "lstm (LSTM)                  multiple                  5246976   \n",
      "_________________________________________________________________\n",
      "lstm_1 (LSTM)                multiple                  8392704   \n",
      "_________________________________________________________________\n",
      "dense (Dense)                multiple                  7176025   \n",
      "=================================================================\n",
      "Total params: 22,607,961\n",
      "Trainable params: 22,607,961\n",
      "Non-trainable params: 0\n",
      "_________________________________________________________________\n"
     ]
    }
   ],
   "source": [
    "# 모델의 구조를 확인\n",
    "model.summary()"
   ]
  },
  {
   "cell_type": "code",
   "execution_count": 15,
   "id": "d13ad10b",
   "metadata": {},
   "outputs": [],
   "source": [
    "# 모델 컴파일과 학습\n",
    "optimizer = tf.keras.optimizers.Adam() \n",
    "loss = tf.keras.losses.SparseCategoricalCrossentropy( \n",
    "    from_logits=True, # 기본값은 False, True = softmax함수가 적용되지 않음 \n",
    "    reduction='none'  # 기본값은 SUM. 각자 나오는 값의 반환 원할 때 None을 사용\n",
    ")\n",
    "# 모델 컴파일\n",
    "model.compile(loss=loss, optimizer=optimizer) "
   ]
  },
  {
   "cell_type": "code",
   "execution_count": 16,
   "id": "a58961e2",
   "metadata": {},
   "outputs": [
    {
     "name": "stdout",
     "output_type": "stream",
     "text": [
      "Epoch 1/10\n",
      "879/879 [==============================] - 68s 74ms/step - loss: 3.4895 - val_loss: 3.1429\n",
      "Epoch 2/10\n",
      "879/879 [==============================] - 69s 78ms/step - loss: 3.0121 - val_loss: 2.9374\n",
      "Epoch 3/10\n",
      "879/879 [==============================] - 70s 80ms/step - loss: 2.8174 - val_loss: 2.8183\n",
      "Epoch 4/10\n",
      "879/879 [==============================] - 70s 80ms/step - loss: 2.6609 - val_loss: 2.7323\n",
      "Epoch 5/10\n",
      "879/879 [==============================] - 70s 80ms/step - loss: 2.5182 - val_loss: 2.6655\n",
      "Epoch 6/10\n",
      "879/879 [==============================] - 70s 80ms/step - loss: 2.3816 - val_loss: 2.6127\n",
      "Epoch 7/10\n",
      "879/879 [==============================] - 70s 80ms/step - loss: 2.2501 - val_loss: 2.5737\n",
      "Epoch 8/10\n",
      "879/879 [==============================] - 70s 80ms/step - loss: 2.1236 - val_loss: 2.5456\n",
      "Epoch 9/10\n",
      "879/879 [==============================] - 70s 80ms/step - loss: 2.0017 - val_loss: 2.5225\n",
      "Epoch 10/10\n",
      "879/879 [==============================] - 70s 80ms/step - loss: 1.8844 - val_loss: 2.5089\n"
     ]
    }
   ],
   "source": [
    "# 모델 학습\n",
    "history = model.fit(enc_train, dec_train, batch_size=128, epochs=10, validation_split=0.2)"
   ]
  },
  {
   "cell_type": "code",
   "execution_count": 17,
   "id": "23536c50",
   "metadata": {},
   "outputs": [
    {
     "data": {
      "image/png": "[encoded data removed]",
      "text/plain": [
       "<Figure size 864x360 with 1 Axes>"
      ]
     },
     "metadata": {},
     "output_type": "display_data"
    }
   ],
   "source": [
    "# 모델 학습 히스토리에서 loss, val_loss, mae, val_mae를 차트로 보여줌\n",
    "import matplotlib.pyplot as plt\n",
    "plt.style.use('seaborn-white')\n",
    "\n",
    "history_dict = history.history\n",
    "\n",
    "loss = history_dict['loss']\n",
    "val_loss = history_dict['val_loss']\n",
    "\n",
    "epochs = range(1, len(loss) + 1)\n",
    "fig = plt.figure(figsize=(12, 5))\n",
    "\n",
    "ax1 = fig.add_subplot(1, 2, 1)\n",
    "ax1.plot(epochs, loss, 'b-', label='train_loss')\n",
    "ax1.plot(epochs, val_loss, 'r-', label='val_loss')\n",
    "ax1.set_title('Train and Validation Loss')\n",
    "ax1.set_xlabel('Epochs')\n",
    "ax1.set_ylabel('Loss')\n",
    "ax1.grid()\n",
    "ax1.legend()\n",
    "\n",
    "plt.show()"
   ]
  },
  {
   "cell_type": "markdown",
   "id": "e29c6f18",
   "metadata": {},
   "source": [
    "-> train_loss는 점점 일정하게 줄어드는 반면에 val_loss는 2.5시점에서 더이상 내려가지 않고 train_loss와 차이가 점점 벌어지는 그림을 보인다. 따라서 과대적합이 된 것으로 볼 수 있다. "
   ]
  },
  {
   "cell_type": "markdown",
   "id": "6321f4ba",
   "metadata": {},
   "source": [
    "## (5) 평가하기"
   ]
  },
  {
   "cell_type": "code",
   "execution_count": 18,
   "id": "d4c23d4a",
   "metadata": {},
   "outputs": [],
   "source": [
    "#문장생성 함수 정의\n",
    "#모델에게 시작 문장을 전달하면 모델이 시작 문장을 바탕으로 작문을 진행\n",
    "def generate_text(model, tokenizer, init_sentence=\"<start>\", max_len=15): # 디폴트값 <start>\n",
    "    test_input = tokenizer.texts_to_sequences([init_sentence]) #텍스트 안의 단어들을 숫자의 시퀀스의 형태로 변환\n",
    "    test_tensor = tf.convert_to_tensor(test_input, dtype=tf.int64)\n",
    "    end_token = tokenizer.word_index[\"<end>\"]\n",
    "\n",
    "    # 단어 하나씩 예측해 문장을 만듭니다\n",
    "    #    1. 입력받은 문장의 텐서를 입력합니다\n",
    "    #    2. 예측된 값 중 가장 높은 확률인 word index를 뽑아냅니다\n",
    "    #    3. 2에서 예측된 word index를 문장 뒤에 붙입니다\n",
    "    #    4. 모델이 <end>를 예측했거나, max_len에 도달했다면 문장 생성을 마칩니다 (도달 하지 못하였으면 while 루프를 돌면서 다음 단어를 예측)\n",
    "    while True: #루프를 돌면서 init_sentence에 단어를 하나씩 생성성\n",
    "        # 1\n",
    "        predict = model(test_tensor) \n",
    "        # 2\n",
    "        predict_word = tf.argmax(tf.nn.softmax(predict, axis=-1), axis=-1)[:, -1] \n",
    "        # 3 \n",
    "        test_tensor = tf.concat([test_tensor, tf.expand_dims(predict_word, axis=0)], axis=-1)\n",
    "        # 4 \n",
    "        if predict_word.numpy()[0] == end_token: break\n",
    "        if test_tensor.shape[1] >= max_len: break\n",
    "\n",
    "    generated = \"\"\n",
    "    # tokenizer를 이용해 word index를 단어로 하나씩 변환\n",
    "    for word_index in test_tensor[0].numpy():\n",
    "        generated += tokenizer.index_word[word_index] + \" \"\n",
    "\n",
    "    return generated #최종적으로 모델이 생성한 문장을 반환"
   ]
  },
  {
   "cell_type": "code",
   "execution_count": 19,
   "id": "dc56e935",
   "metadata": {},
   "outputs": [
    {
     "data": {
      "text/plain": [
       "'<start> i want to get in the zone <end> '"
      ]
     },
     "execution_count": 19,
     "metadata": {},
     "output_type": "execute_result"
    }
   ],
   "source": [
    "generate_text(model, tokenizer, init_sentence=\"<start> I want\") "
   ]
  },
  {
   "cell_type": "code",
   "execution_count": 20,
   "id": "bfdc1e93",
   "metadata": {},
   "outputs": [
    {
     "data": {
      "text/plain": [
       "'<start> i like the way how you re kissin me <end> '"
      ]
     },
     "execution_count": 20,
     "metadata": {},
     "output_type": "execute_result"
    }
   ],
   "source": [
    "generate_text(model, tokenizer, init_sentence=\"<start> I like\") "
   ]
  },
  {
   "cell_type": "code",
   "execution_count": 21,
   "id": "560ea9aa",
   "metadata": {},
   "outputs": [
    {
     "data": {
      "text/plain": [
       "'<start> i love you <end> '"
      ]
     },
     "execution_count": 21,
     "metadata": {},
     "output_type": "execute_result"
    }
   ],
   "source": [
    "generate_text(model, tokenizer, init_sentence=\"<start> I love\") "
   ]
  },
  {
   "cell_type": "code",
   "execution_count": 22,
   "id": "72d68000",
   "metadata": {},
   "outputs": [
    {
     "data": {
      "text/plain": [
       "'<start> i hope you can t stay <end> '"
      ]
     },
     "execution_count": 22,
     "metadata": {},
     "output_type": "execute_result"
    }
   ],
   "source": [
    "generate_text(model, tokenizer, init_sentence=\"<start> I hope\") "
   ]
  },
  {
   "cell_type": "code",
   "execution_count": 23,
   "id": "f798d74b",
   "metadata": {},
   "outputs": [
    {
     "data": {
      "text/plain": [
       "'<start> i just wanna be your favorite <end> '"
      ]
     },
     "execution_count": 23,
     "metadata": {},
     "output_type": "execute_result"
    }
   ],
   "source": [
    "generate_text(model, tokenizer, init_sentence=\"<start> I just\") "
   ]
  },
  {
   "cell_type": "code",
   "execution_count": 24,
   "id": "2e75a6e2",
   "metadata": {},
   "outputs": [
    {
     "data": {
      "text/plain": [
       "'<start> i hate to see the <unk> and the <unk> <end> '"
      ]
     },
     "execution_count": 24,
     "metadata": {},
     "output_type": "execute_result"
    }
   ],
   "source": [
    "generate_text(model, tokenizer, init_sentence=\"<start> I hate\") "
   ]
  },
  {
   "cell_type": "code",
   "execution_count": 25,
   "id": "f2aa5bba",
   "metadata": {},
   "outputs": [
    {
     "data": {
      "text/plain": [
       "'<start> bad bad really , really bad <end> '"
      ]
     },
     "execution_count": 25,
     "metadata": {},
     "output_type": "execute_result"
    }
   ],
   "source": [
    "generate_text(model, tokenizer, init_sentence=\"<start> bad\") "
   ]
  },
  {
   "cell_type": "code",
   "execution_count": 26,
   "id": "08a39d81",
   "metadata": {},
   "outputs": [
    {
     "data": {
      "text/plain": [
       "'<start> i m sad and i m <unk> <end> '"
      ]
     },
     "execution_count": 26,
     "metadata": {},
     "output_type": "execute_result"
    }
   ],
   "source": [
    "generate_text(model, tokenizer, init_sentence=\"<start> I m sad\") "
   ]
  },
  {
   "cell_type": "code",
   "execution_count": 27,
   "id": "5c6f438a",
   "metadata": {},
   "outputs": [
    {
     "data": {
      "text/plain": [
       "'<start> you look so good <end> '"
      ]
     },
     "execution_count": 27,
     "metadata": {},
     "output_type": "execute_result"
    }
   ],
   "source": [
    "generate_text(model, tokenizer, init_sentence=\"<start> you look\") "
   ]
  },
  {
   "cell_type": "code",
   "execution_count": 28,
   "id": "cffd2d29",
   "metadata": {},
   "outputs": [
    {
     "data": {
      "text/plain": [
       "'<start> we ll be bangin on the wall <end> '"
      ]
     },
     "execution_count": 28,
     "metadata": {},
     "output_type": "execute_result"
    }
   ],
   "source": [
    "generate_text(model, tokenizer, init_sentence=\"<start> we\") "
   ]
  },
  {
   "cell_type": "markdown",
   "id": "46b1749e",
   "metadata": {},
   "source": [
    "-> 전반적으로 가사에 쓰기에 자연스러운 문장들이 잘 만들어졌다. "
   ]
  },
  {
   "cell_type": "markdown",
   "id": "0cb100a3",
   "metadata": {},
   "source": [
    "## (6) 성능높히기\n",
    "\n",
    "validation loss를 2.2보다 낮추기 위하여 여러가지 시도를 해볼 것이다. \n",
    "\n",
    "## 1. 모델 구성 바꾸기\n",
    "### (1) 첫 번째 시도"
   ]
  },
  {
   "cell_type": "code",
   "execution_count": 29,
   "id": "fff13aee",
   "metadata": {},
   "outputs": [
    {
     "name": "stdout",
     "output_type": "stream",
     "text": [
      "Epoch 1/10\n",
      "879/879 [==============================] - 105s 112ms/step - loss: 3.4865 - val_loss: 3.2060\n",
      "Epoch 2/10\n",
      "879/879 [==============================] - 98s 111ms/step - loss: 3.0942 - val_loss: 3.0443\n",
      "Epoch 3/10\n",
      "879/879 [==============================] - 98s 111ms/step - loss: 2.9518 - val_loss: 2.9590\n",
      "Epoch 4/10\n",
      "879/879 [==============================] - 98s 111ms/step - loss: 2.8384 - val_loss: 2.8886\n",
      "Epoch 5/10\n",
      "879/879 [==============================] - 98s 111ms/step - loss: 2.7347 - val_loss: 2.8338\n",
      "Epoch 6/10\n",
      "879/879 [==============================] - 98s 111ms/step - loss: 2.6386 - val_loss: 2.7835\n",
      "Epoch 7/10\n",
      "879/879 [==============================] - 98s 111ms/step - loss: 2.5462 - val_loss: 2.7470\n",
      "Epoch 8/10\n",
      "879/879 [==============================] - 98s 111ms/step - loss: 2.4577 - val_loss: 2.7168\n",
      "Epoch 9/10\n",
      "879/879 [==============================] - 98s 111ms/step - loss: 2.3718 - val_loss: 2.6933\n",
      "Epoch 10/10\n",
      "879/879 [==============================] - 98s 111ms/step - loss: 2.2875 - val_loss: 2.6769\n"
     ]
    }
   ],
   "source": [
    "# 모델 구성\n",
    "class TextGenerator(tf.keras.Model):\n",
    "    def __init__(self, vocab_size, embedding_size, hidden_size):\n",
    "        super().__init__()\n",
    "        self.embedding = tf.keras.layers.Embedding(vocab_size, embedding_size) \n",
    "        self.rnn_1 = tf.keras.layers.LSTM(hidden_size, return_sequences=True)  \n",
    "        self.rnn_2 = tf.keras.layers.LSTM(hidden_size, return_sequences=True)\n",
    "        self.rnn_3 = tf.keras.layers.LSTM(hidden_size, return_sequences=True)\n",
    "        self.linear = tf.keras.layers.Dense(vocab_size)\n",
    "        \n",
    "    def call(self, x):\n",
    "        out = self.embedding(x)\n",
    "        out = self.rnn_1(out)\n",
    "        out = self.rnn_2(out)\n",
    "        out = self.rnn_3(out)\n",
    "        out = self.linear(out)\n",
    "        \n",
    "        return out\n",
    "\n",
    "embedding_size = 256 # 워드 벡터의 차원수 추상적으로 표현되는 크기\n",
    "hidden_size = 1024 # 모델에 얼마나 많은 일꾼을 둘 것인가? \n",
    "model = TextGenerator(tokenizer.num_words + 1, embedding_size , hidden_size) \n",
    "# pad 때문에 +1추가\n",
    "\n",
    "# 모델 컴파일과 학습\n",
    "optimizer = tf.keras.optimizers.Adam() \n",
    "loss = tf.keras.losses.SparseCategoricalCrossentropy( \n",
    "    from_logits=True, # 기본값은 False, True = softmax함수가 적용되지 않음 \n",
    "    reduction='none'  # 기본값은 SUM. 각자 나오는 값의 반환 원할 때 None을 사용\n",
    ")\n",
    "# 모델 컴파일\n",
    "model.compile(loss=loss, optimizer=optimizer) \n",
    "\n",
    "# 모델 학습\n",
    "history = model.fit(enc_train, dec_train, batch_size=128, epochs=10, validation_split=0.2)"
   ]
  },
  {
   "cell_type": "markdown",
   "id": "f67757d5",
   "metadata": {},
   "source": [
    "-> layer을 추가하니 val_loss 값이 굉장히 천천히 낮아지는 것을 확인 할 수 있다. \n",
    "\n",
    "### (2) 두 번째 시도"
   ]
  },
  {
   "cell_type": "code",
   "execution_count": 30,
   "id": "48a90516",
   "metadata": {
    "scrolled": true
   },
   "outputs": [
    {
     "name": "stdout",
     "output_type": "stream",
     "text": [
      "Epoch 1/10\n",
      "879/879 [==============================] - 106s 113ms/step - loss: 3.2774 - val_loss: 2.9940\n",
      "Epoch 2/10\n",
      "879/879 [==============================] - 99s 112ms/step - loss: 2.8387 - val_loss: 2.7862\n",
      "Epoch 3/10\n",
      "879/879 [==============================] - 99s 112ms/step - loss: 2.6094 - val_loss: 2.6566\n",
      "Epoch 4/10\n",
      "879/879 [==============================] - 98s 111ms/step - loss: 2.4178 - val_loss: 2.5698\n",
      "Epoch 5/10\n",
      "879/879 [==============================] - 99s 112ms/step - loss: 2.2507 - val_loss: 2.5181\n",
      "Epoch 6/10\n",
      "879/879 [==============================] - 98s 111ms/step - loss: 2.1017 - val_loss: 2.4718\n",
      "Epoch 7/10\n",
      "879/879 [==============================] - 99s 112ms/step - loss: 1.9689 - val_loss: 2.4414\n",
      "Epoch 8/10\n",
      "879/879 [==============================] - 98s 112ms/step - loss: 1.8480 - val_loss: 2.4235\n",
      "Epoch 9/10\n",
      "879/879 [==============================] - 98s 111ms/step - loss: 1.7410 - val_loss: 2.4138\n",
      "Epoch 10/10\n",
      "879/879 [==============================] - 99s 112ms/step - loss: 1.6435 - val_loss: 2.4103\n"
     ]
    }
   ],
   "source": [
    "# 모델 구성\n",
    "class TextGenerator(tf.keras.Model):\n",
    "    def __init__(self, vocab_size, embedding_size, hidden_size):\n",
    "        super().__init__()\n",
    "        self.embedding = tf.keras.layers.Embedding(vocab_size, embedding_size) \n",
    "        self.rnn_1 = tf.keras.layers.LSTM(hidden_size, return_sequences=True)  \n",
    "        self.rnn_2 = tf.keras.layers.LSTM(hidden_size, return_sequences=True)\n",
    "        self.batch = tf.keras.layers.BatchNormalization()\n",
    "        self.drop = tf.keras.layers.Dropout(0.2)\n",
    "        self.rnn_3 = tf.keras.layers.LSTM(hidden_size, return_sequences=True)\n",
    "        self.linear = tf.keras.layers.Dense(vocab_size)\n",
    "        \n",
    "    def call(self, x):\n",
    "        out = self.embedding(x)\n",
    "        out = self.rnn_1(out)\n",
    "        out = self.rnn_2(out)\n",
    "        out = self.batch(out)\n",
    "        out = self.drop(out)\n",
    "        out = self.rnn_3(out)\n",
    "        out = self.linear(out)\n",
    "        \n",
    "        return out\n",
    "\n",
    "embedding_size = 256 # 워드 벡터의 차원수 추상적으로 표현되는 크기\n",
    "hidden_size = 1024 # 모델에 얼마나 많은 일꾼을 둘 것인가? \n",
    "model = TextGenerator(tokenizer.num_words + 1, embedding_size , hidden_size) \n",
    "# pad 때문에 +1추가\n",
    "\n",
    "# 모델 컴파일과 학습\n",
    "optimizer = tf.keras.optimizers.Adam() \n",
    "loss = tf.keras.losses.SparseCategoricalCrossentropy( \n",
    "    from_logits=True, # 기본값은 False, True = softmax함수가 적용되지 않음 \n",
    "    reduction='none'  # 기본값은 SUM. 각자 나오는 값의 반환 원할 때 None을 사용\n",
    ")\n",
    "# 모델 컴파일\n",
    "model.compile(loss=loss, optimizer=optimizer) \n",
    "\n",
    "# 모델 학습\n",
    "history = model.fit(enc_train, dec_train, batch_size=128, epochs=10, validation_split=0.2)"
   ]
  },
  {
   "cell_type": "markdown",
   "id": "3a32739a",
   "metadata": {},
   "source": [
    "-> 앞선 모델 중에 가장 성능이 좋았다. 배치정규화와 드롭아웃 layer을 더 추가하여 시도해보아야겠다.  \n",
    "\n",
    "### (3) 세 번째 시도"
   ]
  },
  {
   "cell_type": "code",
   "execution_count": 31,
   "id": "24e3c4bc",
   "metadata": {},
   "outputs": [
    {
     "name": "stdout",
     "output_type": "stream",
     "text": [
      "Epoch 1/10\n",
      "879/879 [==============================] - 109s 116ms/step - loss: 3.1077 - val_loss: 2.8224\n",
      "Epoch 2/10\n",
      "879/879 [==============================] - 101s 115ms/step - loss: 2.7049 - val_loss: 2.6438\n",
      "Epoch 3/10\n",
      "879/879 [==============================] - 101s 115ms/step - loss: 2.4946 - val_loss: 2.5416\n",
      "Epoch 4/10\n",
      "879/879 [==============================] - 101s 115ms/step - loss: 2.3281 - val_loss: 2.4732\n",
      "Epoch 5/10\n",
      "879/879 [==============================] - 101s 115ms/step - loss: 2.1862 - val_loss: 2.4315\n",
      "Epoch 6/10\n",
      "879/879 [==============================] - 101s 115ms/step - loss: 2.0610 - val_loss: 2.4096\n",
      "Epoch 7/10\n",
      "879/879 [==============================] - 101s 115ms/step - loss: 1.9540 - val_loss: 2.3820\n",
      "Epoch 8/10\n",
      "879/879 [==============================] - 101s 115ms/step - loss: 1.8606 - val_loss: 2.3732\n",
      "Epoch 9/10\n",
      "879/879 [==============================] - 101s 115ms/step - loss: 1.7796 - val_loss: 2.3783\n",
      "Epoch 10/10\n",
      "879/879 [==============================] - 101s 115ms/step - loss: 1.7090 - val_loss: 2.3799\n"
     ]
    }
   ],
   "source": [
    "# 모델 구성\n",
    "class TextGenerator(tf.keras.Model):\n",
    "    def __init__(self, vocab_size, embedding_size, hidden_size):\n",
    "        super().__init__()\n",
    "        self.embedding = tf.keras.layers.Embedding(vocab_size, embedding_size) \n",
    "        self.rnn_1 = tf.keras.layers.LSTM(hidden_size, return_sequences=True)  \n",
    "        self.batch1 = tf.keras.layers.BatchNormalization()\n",
    "        self.drop1 = tf.keras.layers.Dropout(0.2)\n",
    "        self.rnn_2 = tf.keras.layers.LSTM(hidden_size, return_sequences=True)\n",
    "        self.batch2 = tf.keras.layers.BatchNormalization()\n",
    "        self.drop2 = tf.keras.layers.Dropout(0.2)\n",
    "        self.rnn_3 = tf.keras.layers.LSTM(hidden_size, return_sequences=True)\n",
    "        self.batch3 = tf.keras.layers.BatchNormalization()\n",
    "        self.drop3 = tf.keras.layers.Dropout(0.2)\n",
    "        self.linear = tf.keras.layers.Dense(vocab_size)\n",
    "        \n",
    "    def call(self, x):\n",
    "        out = self.embedding(x)\n",
    "        out = self.rnn_1(out)\n",
    "        out = self.batch1(out)\n",
    "        out = self.drop1(out)\n",
    "        out = self.rnn_2(out)\n",
    "        out = self.batch2(out)\n",
    "        out = self.drop2(out)\n",
    "        out = self.rnn_3(out)\n",
    "        out = self.batch3(out)\n",
    "        out = self.drop3(out)\n",
    "        out = self.linear(out)\n",
    "        \n",
    "        return out\n",
    "\n",
    "embedding_size = 256 # 워드 벡터의 차원수 추상적으로 표현되는 크기\n",
    "hidden_size = 1024 # 모델에 얼마나 많은 일꾼을 둘 것인가? \n",
    "model = TextGenerator(tokenizer.num_words + 1, embedding_size , hidden_size) \n",
    "# pad 때문에 +1추가\n",
    "\n",
    "# 모델 컴파일과 학습\n",
    "optimizer = tf.keras.optimizers.Adam() \n",
    "loss = tf.keras.losses.SparseCategoricalCrossentropy( \n",
    "    from_logits=True, # 기본값은 False, True = softmax함수가 적용되지 않음 \n",
    "    reduction='none'  # 기본값은 SUM. 각자 나오는 값의 반환 원할 때 None을 사용\n",
    ")\n",
    "# 모델 컴파일\n",
    "model.compile(loss=loss, optimizer=optimizer) \n",
    "\n",
    "# 모델 학습\n",
    "history = model.fit(enc_train, dec_train, batch_size=128, epochs=10, validation_split=0.2)"
   ]
  },
  {
   "cell_type": "markdown",
   "id": "89dec947",
   "metadata": {},
   "source": [
    "-> 이전 모델보다 꾸준하게 val_loss가 잘 내려간다! 에폭 수만 늘리면 더 나아질 것도 같지만 layer, 배치정규화, 드롭아웃을 한번씩 더 추가해서 만들어볼 것이다.\n",
    "\n",
    "### (4) 네 번재 시도"
   ]
  },
  {
   "cell_type": "code",
   "execution_count": 32,
   "id": "08482b46",
   "metadata": {},
   "outputs": [
    {
     "name": "stdout",
     "output_type": "stream",
     "text": [
      "Epoch 1/10\n",
      "879/879 [==============================] - 140s 150ms/step - loss: 3.1866 - val_loss: 2.9224\n",
      "Epoch 2/10\n",
      "879/879 [==============================] - 130s 148ms/step - loss: 2.8156 - val_loss: 2.7753\n",
      "Epoch 3/10\n",
      "879/879 [==============================] - 130s 148ms/step - loss: 2.6398 - val_loss: 2.6474\n",
      "Epoch 4/10\n",
      "879/879 [==============================] - 130s 148ms/step - loss: 2.5045 - val_loss: 2.5864\n",
      "Epoch 5/10\n",
      "879/879 [==============================] - 130s 148ms/step - loss: 2.3912 - val_loss: 2.5367\n",
      "Epoch 6/10\n",
      "879/879 [==============================] - 130s 148ms/step - loss: 2.2920 - val_loss: 2.5056\n",
      "Epoch 7/10\n",
      "879/879 [==============================] - 130s 148ms/step - loss: 2.2042 - val_loss: 2.4834\n",
      "Epoch 8/10\n",
      "879/879 [==============================] - 130s 148ms/step - loss: 2.1263 - val_loss: 2.4710\n",
      "Epoch 9/10\n",
      "879/879 [==============================] - 130s 148ms/step - loss: 2.0551 - val_loss: 2.4581\n",
      "Epoch 10/10\n",
      "879/879 [==============================] - 130s 148ms/step - loss: 1.9916 - val_loss: 2.5019\n"
     ]
    }
   ],
   "source": [
    "# 모델 구성\n",
    "class TextGenerator(tf.keras.Model):\n",
    "    def __init__(self, vocab_size, embedding_size, hidden_size):\n",
    "        super().__init__()\n",
    "        self.embedding = tf.keras.layers.Embedding(vocab_size, embedding_size) \n",
    "        self.rnn_1 = tf.keras.layers.LSTM(hidden_size, return_sequences=True)  \n",
    "        self.batch1 = tf.keras.layers.BatchNormalization()\n",
    "        self.drop1 = tf.keras.layers.Dropout(0.2)\n",
    "        self.rnn_2 = tf.keras.layers.LSTM(hidden_size, return_sequences=True)\n",
    "        self.batch2 = tf.keras.layers.BatchNormalization()\n",
    "        self.drop2 = tf.keras.layers.Dropout(0.2)\n",
    "        self.rnn_3 = tf.keras.layers.LSTM(hidden_size, return_sequences=True)\n",
    "        self.batch3 = tf.keras.layers.BatchNormalization()\n",
    "        self.drop3 = tf.keras.layers.Dropout(0.2)\n",
    "        self.rnn_4 = tf.keras.layers.LSTM(hidden_size, return_sequences=True)\n",
    "        self.batch4 = tf.keras.layers.BatchNormalization()\n",
    "        self.drop4 = tf.keras.layers.Dropout(0.2)\n",
    "        self.linear = tf.keras.layers.Dense(vocab_size)\n",
    "        \n",
    "    def call(self, x):\n",
    "        out = self.embedding(x)\n",
    "        out = self.rnn_1(out)\n",
    "        out = self.batch1(out)\n",
    "        out = self.drop1(out)\n",
    "        out = self.rnn_2(out)\n",
    "        out = self.batch2(out)\n",
    "        out = self.drop2(out)\n",
    "        out = self.rnn_3(out)\n",
    "        out = self.batch3(out)\n",
    "        out = self.drop3(out)\n",
    "        out = self.rnn_4(out)\n",
    "        out = self.batch4(out)\n",
    "        out = self.drop4(out)\n",
    "        out = self.linear(out)\n",
    "        \n",
    "        return out\n",
    "\n",
    "embedding_size = 256 # 워드 벡터의 차원수 추상적으로 표현되는 크기\n",
    "hidden_size = 1024 # 모델에 얼마나 많은 일꾼을 둘 것인가? \n",
    "model = TextGenerator(tokenizer.num_words + 1, embedding_size , hidden_size) \n",
    "# pad 때문에 +1추가\n",
    "\n",
    "# 모델 컴파일과 학습\n",
    "optimizer = tf.keras.optimizers.Adam() \n",
    "loss = tf.keras.losses.SparseCategoricalCrossentropy( \n",
    "    from_logits=True, # 기본값은 False, True = softmax함수가 적용되지 않음 \n",
    "    reduction='none'  # 기본값은 SUM. 각자 나오는 값의 반환 원할 때 None을 사용\n",
    ")\n",
    "# 모델 컴파일\n",
    "model.compile(loss=loss, optimizer=optimizer) \n",
    "\n",
    "# 모델 학습\n",
    "history = model.fit(enc_train, dec_train, batch_size=128, epochs=10, validation_split=0.2)"
   ]
  },
  {
   "cell_type": "markdown",
   "id": "702cefc8",
   "metadata": {},
   "source": [
    "-> 세 번째 시도보다 val_loss가 높게 나왓다. 아무래도 너무 깊은 신경망을 만든 탓인 것 같다. 좀더 간결하게 만들면서 드롭아웃의 비율을 높혀야겠다. \n",
    "\n",
    "### (5) 다섯 번째 시도"
   ]
  },
  {
   "cell_type": "code",
   "execution_count": 33,
   "id": "ff6da46c",
   "metadata": {},
   "outputs": [
    {
     "name": "stdout",
     "output_type": "stream",
     "text": [
      "Epoch 1/10\n",
      "879/879 [==============================] - 109s 116ms/step - loss: 3.1405 - val_loss: 2.8560\n",
      "Epoch 2/10\n",
      "879/879 [==============================] - 101s 115ms/step - loss: 2.7675 - val_loss: 2.6905\n",
      "Epoch 3/10\n",
      "879/879 [==============================] - 101s 115ms/step - loss: 2.5891 - val_loss: 2.5825\n",
      "Epoch 4/10\n",
      "879/879 [==============================] - 101s 115ms/step - loss: 2.4542 - val_loss: 2.5221\n",
      "Epoch 5/10\n",
      "879/879 [==============================] - 101s 115ms/step - loss: 2.3436 - val_loss: 2.4740\n",
      "Epoch 6/10\n",
      "879/879 [==============================] - 101s 115ms/step - loss: 2.2454 - val_loss: 2.4460\n",
      "Epoch 7/10\n",
      "879/879 [==============================] - 101s 115ms/step - loss: 2.1606 - val_loss: 2.4176\n",
      "Epoch 8/10\n",
      "879/879 [==============================] - 101s 115ms/step - loss: 2.0850 - val_loss: 2.3952\n",
      "Epoch 9/10\n",
      "879/879 [==============================] - 101s 115ms/step - loss: 2.0173 - val_loss: 2.4207\n",
      "Epoch 10/10\n",
      "879/879 [==============================] - 101s 115ms/step - loss: 1.9564 - val_loss: 2.3814\n"
     ]
    }
   ],
   "source": [
    "# 모델 구성\n",
    "class TextGenerator(tf.keras.Model):\n",
    "    def __init__(self, vocab_size, embedding_size, hidden_size):\n",
    "        super().__init__()\n",
    "        self.embedding = tf.keras.layers.Embedding(vocab_size, embedding_size) \n",
    "        self.rnn_1 = tf.keras.layers.LSTM(hidden_size, return_sequences=True)  \n",
    "        self.batch1 = tf.keras.layers.BatchNormalization()\n",
    "        self.drop1 = tf.keras.layers.Dropout(0.3)\n",
    "        self.rnn_2 = tf.keras.layers.LSTM(hidden_size, return_sequences=True)\n",
    "        self.batch2 = tf.keras.layers.BatchNormalization()\n",
    "        self.drop2 = tf.keras.layers.Dropout(0.3)\n",
    "        self.rnn_3 = tf.keras.layers.LSTM(hidden_size, return_sequences=True)\n",
    "        self.batch3 = tf.keras.layers.BatchNormalization()\n",
    "        self.drop3 = tf.keras.layers.Dropout(0.3)\n",
    "        self.linear = tf.keras.layers.Dense(vocab_size)\n",
    "        \n",
    "    def call(self, x):\n",
    "        out = self.embedding(x)\n",
    "        out = self.rnn_1(out)\n",
    "        out = self.batch1(out)\n",
    "        out = self.drop1(out)\n",
    "        out = self.rnn_2(out)\n",
    "        out = self.batch2(out)\n",
    "        out = self.drop2(out)\n",
    "        out = self.rnn_3(out)\n",
    "        out = self.batch3(out)\n",
    "        out = self.drop3(out)\n",
    "        out = self.linear(out)\n",
    "        \n",
    "        return out\n",
    "\n",
    "embedding_size = 256 # 워드 벡터의 차원수 추상적으로 표현되는 크기\n",
    "hidden_size = 1024 # 모델에 얼마나 많은 일꾼을 둘 것인가? \n",
    "model = TextGenerator(tokenizer.num_words + 1, embedding_size , hidden_size) \n",
    "# pad 때문에 +1추가\n",
    "\n",
    "# 모델 컴파일과 학습\n",
    "optimizer = tf.keras.optimizers.Adam() \n",
    "loss = tf.keras.losses.SparseCategoricalCrossentropy( \n",
    "    from_logits=True, # 기본값은 False, True = softmax함수가 적용되지 않음 \n",
    "    reduction='none'  # 기본값은 SUM. 각자 나오는 값의 반환 원할 때 None을 사용\n",
    ")\n",
    "# 모델 컴파일\n",
    "model.compile(loss=loss, optimizer=optimizer) \n",
    "\n",
    "# 모델 학습\n",
    "history = model.fit(enc_train, dec_train, batch_size=128, epochs=10, validation_split=0.2)"
   ]
  },
  {
   "cell_type": "markdown",
   "id": "66b6e4fe",
   "metadata": {},
   "source": [
    "-> 역시나 2.38까지 낮추는데에는 성공하였지만 에폭수를 더 늘리거나 다른 모델을 사용하는 방법밖에 안남은 것 같다."
   ]
  },
  {
   "cell_type": "markdown",
   "id": "ca6dfc2e",
   "metadata": {},
   "source": [
    "## 2. 다른 모델 사용하기\n",
    "\n",
    "### (1) GRU"
   ]
  },
  {
   "cell_type": "code",
   "execution_count": 38,
   "id": "effb0630",
   "metadata": {},
   "outputs": [
    {
     "name": "stdout",
     "output_type": "stream",
     "text": [
      "Epoch 1/10\n",
      "879/879 [==============================] - 90s 95ms/step - loss: 3.1657 - val_loss: 2.9199\n",
      "Epoch 2/10\n",
      "879/879 [==============================] - 82s 94ms/step - loss: 2.8489 - val_loss: 2.7758\n",
      "Epoch 3/10\n",
      "879/879 [==============================] - 82s 94ms/step - loss: 2.7299 - val_loss: 2.7101\n",
      "Epoch 4/10\n",
      "879/879 [==============================] - 82s 94ms/step - loss: 2.6513 - val_loss: 2.6705\n",
      "Epoch 5/10\n",
      "879/879 [==============================] - 82s 94ms/step - loss: 2.5922 - val_loss: 2.6408\n",
      "Epoch 6/10\n",
      "879/879 [==============================] - 82s 93ms/step - loss: 2.5416 - val_loss: 2.6203\n",
      "Epoch 7/10\n",
      "879/879 [==============================] - 82s 93ms/step - loss: 2.5014 - val_loss: 2.6075\n",
      "Epoch 8/10\n",
      "879/879 [==============================] - 82s 93ms/step - loss: 2.4640 - val_loss: 2.5922\n",
      "Epoch 9/10\n",
      "879/879 [==============================] - 82s 93ms/step - loss: 2.4322 - val_loss: 2.5834\n",
      "Epoch 10/10\n",
      "879/879 [==============================] - 82s 93ms/step - loss: 2.4037 - val_loss: 2.5787\n"
     ]
    }
   ],
   "source": [
    "# 모델 구성\n",
    "class TextGenerator(tf.keras.Model):\n",
    "    def __init__(self, vocab_size, embedding_size, hidden_size):\n",
    "        super().__init__()\n",
    "        self.embedding = tf.keras.layers.Embedding(vocab_size, embedding_size) \n",
    "        self.rnn_1 = tf.keras.layers.GRU(hidden_size, return_sequences=True)  \n",
    "        self.batch1 = tf.keras.layers.BatchNormalization()\n",
    "        self.drop1 = tf.keras.layers.Dropout(0.3)\n",
    "        self.rnn_2 = tf.keras.layers.GRU(hidden_size, return_sequences=True)\n",
    "        self.batch2 = tf.keras.layers.BatchNormalization()\n",
    "        self.drop2 = tf.keras.layers.Dropout(0.3)\n",
    "        self.rnn_3 = tf.keras.layers.GRU(hidden_size, return_sequences=True)\n",
    "        self.batch3 = tf.keras.layers.BatchNormalization()\n",
    "        self.drop3 = tf.keras.layers.Dropout(0.3)\n",
    "        self.linear = tf.keras.layers.Dense(vocab_size)\n",
    "        \n",
    "    def call(self, x):\n",
    "        out = self.embedding(x)\n",
    "        out = self.rnn_1(out)\n",
    "        out = self.batch1(out)\n",
    "        out = self.drop1(out)\n",
    "        out = self.rnn_2(out)\n",
    "        out = self.batch2(out)\n",
    "        out = self.drop2(out)\n",
    "        out = self.rnn_3(out)\n",
    "        out = self.batch3(out)\n",
    "        out = self.drop3(out)\n",
    "        out = self.linear(out)\n",
    "        \n",
    "        return out\n",
    "\n",
    "embedding_size = 256 # 워드 벡터의 차원수 추상적으로 표현되는 크기\n",
    "hidden_size = 1024 # 모델에 얼마나 많은 일꾼을 둘 것인가? \n",
    "model = TextGenerator(tokenizer.num_words + 1, embedding_size , hidden_size) \n",
    "# pad 때문에 +1추가\n",
    "\n",
    "# 모델 컴파일과 학습\n",
    "optimizer = tf.keras.optimizers.Adam() \n",
    "loss = tf.keras.losses.SparseCategoricalCrossentropy( \n",
    "    from_logits=True, # 기본값은 False, True = softmax함수가 적용되지 않음 \n",
    "    reduction='none'  # 기본값은 SUM. 각자 나오는 값의 반환 원할 때 None을 사용\n",
    ")\n",
    "# 모델 컴파일\n",
    "model.compile(loss=loss, optimizer=optimizer) \n",
    "\n",
    "# 모델 학습\n",
    "history = model.fit(enc_train, dec_train, batch_size=128, epochs=10, validation_split=0.2)"
   ]
  },
  {
   "cell_type": "markdown",
   "id": "0a72c890",
   "metadata": {},
   "source": [
    "-> GRU는 데이터가 적은 경우에 더 적합하다. LSTM을 사용한 모델보다 loss와 val_loss 값이 더 높게 나왔다. 이 데이터는 약 7000개로, 데이터가 많아서 GRU보다 LSTM이 더 적합한 것 같다."
   ]
  },
  {
   "cell_type": "markdown",
   "id": "e3607f1c",
   "metadata": {},
   "source": [
    "### (2) Bidirectional LSTM"
   ]
  },
  {
   "cell_type": "code",
   "execution_count": 53,
   "id": "02350e21",
   "metadata": {},
   "outputs": [
    {
     "name": "stdout",
     "output_type": "stream",
     "text": [
      "Epoch 1/3\n",
      "879/879 [==============================] - 85s 92ms/step - loss: 1.5772 - val_loss: 0.4339\n",
      "Epoch 2/3\n",
      "879/879 [==============================] - 80s 91ms/step - loss: 0.2373 - val_loss: 0.1578\n",
      "Epoch 3/3\n",
      "879/879 [==============================] - 80s 91ms/step - loss: 0.0653 - val_loss: 0.0898\n"
     ]
    }
   ],
   "source": [
    "# 모델 구성\n",
    "class TextGenerator(tf.keras.Model):\n",
    "    def __init__(self, vocab_size, embedding_size, hidden_size):\n",
    "        super().__init__()\n",
    "        self.embedding = tf.keras.layers.Embedding(vocab_size, embedding_size)\n",
    "        self.rnn = tf.keras.layers.Bidirectional(tf.keras.layers.LSTM(hidden_size, return_sequences=True))\n",
    "        self.linear = tf.keras.layers.Dense(vocab_size)\n",
    "        \n",
    "    def call(self, x):\n",
    "        out = self.embedding(x)\n",
    "        out = self.rnn(out)\n",
    "        out = self.linear(out)\n",
    "        \n",
    "        return out\n",
    "\n",
    "embedding_size = 256 # 워드 벡터의 차원수 추상적으로 표현되는 크기\n",
    "hidden_size = 1024 # 모델에 얼마나 많은 일꾼을 둘 것인가? \n",
    "model = TextGenerator(tokenizer.num_words + 1, embedding_size , hidden_size) \n",
    "# pad 때문에 +1추가\n",
    "\n",
    "# 모델 컴파일과 학습\n",
    "optimizer = tf.keras.optimizers.Adam() \n",
    "loss = tf.keras.losses.SparseCategoricalCrossentropy( \n",
    "    from_logits=True, # 기본값은 False, True = softmax함수가 적용되지 않음 \n",
    "    reduction='none'  # 기본값은 SUM. 각자 나오는 값의 반환 원할 때 None을 사용\n",
    ")\n",
    "# 모델 컴파일\n",
    "model.compile(loss=loss, optimizer=optimizer) \n",
    "\n",
    "# 모델 학습\n",
    "history = model.fit(enc_train, dec_train, batch_size=128, epochs=3, validation_split=0.2)"
   ]
  },
  {
   "cell_type": "markdown",
   "id": "181565dd",
   "metadata": {},
   "source": [
    "-> BidirectionalLSTM를 사용하였다. 기존의 단방향인 LSTM과 다르게 양방향으로 정보를 전달하는 양방향 LSTM이다. 지금까지 돌려본 모델 중에서 가장 혁신적이었다."
   ]
  },
  {
   "cell_type": "markdown",
   "id": "c0a5365c",
   "metadata": {},
   "source": [
    "### (3) Transformer "
   ]
  },
  {
   "cell_type": "code",
   "execution_count": 39,
   "id": "8725a024",
   "metadata": {},
   "outputs": [
    {
     "ename": "NameError",
     "evalue": "name 'keras' is not defined",
     "output_type": "error",
     "traceback": [
      "\u001b[0;31m---------------------------------------------------------------------------\u001b[0m",
      "\u001b[0;31mNameError\u001b[0m                                 Traceback (most recent call last)",
      "\u001b[0;32m/tmp/ipykernel_830/2933739728.py\u001b[0m in \u001b[0;36m<module>\u001b[0;34m\u001b[0m\n\u001b[1;32m     37\u001b[0m \u001b[0mnum_classes\u001b[0m \u001b[0;34m=\u001b[0m \u001b[0;36m10\u001b[0m\u001b[0;34m\u001b[0m\u001b[0;34m\u001b[0m\u001b[0m\n\u001b[1;32m     38\u001b[0m \u001b[0;34m\u001b[0m\u001b[0m\n\u001b[0;32m---> 39\u001b[0;31m \u001b[0mmodel\u001b[0m \u001b[0;34m=\u001b[0m \u001b[0mcreate_transformer_model\u001b[0m\u001b[0;34m(\u001b[0m\u001b[0mmax_sequence_length\u001b[0m\u001b[0;34m,\u001b[0m \u001b[0mnum_heads\u001b[0m\u001b[0;34m,\u001b[0m \u001b[0mnum_layers\u001b[0m\u001b[0;34m,\u001b[0m \u001b[0membedding_dim\u001b[0m\u001b[0;34m,\u001b[0m \u001b[0mnum_classes\u001b[0m\u001b[0;34m)\u001b[0m\u001b[0;34m\u001b[0m\u001b[0;34m\u001b[0m\u001b[0m\n\u001b[0m\u001b[1;32m     40\u001b[0m \u001b[0;34m\u001b[0m\u001b[0m\n\u001b[1;32m     41\u001b[0m \u001b[0;31m# 모델 컴파일과 학습\u001b[0m\u001b[0;34m\u001b[0m\u001b[0;34m\u001b[0m\u001b[0m\n",
      "\u001b[0;32m/tmp/ipykernel_830/2933739728.py\u001b[0m in \u001b[0;36mcreate_transformer_model\u001b[0;34m(max_sequence_length, num_heads, num_layers, embedding_dim, num_classes)\u001b[0m\n\u001b[1;32m     27\u001b[0m \u001b[0;34m\u001b[0m\u001b[0m\n\u001b[1;32m     28\u001b[0m     \u001b[0;31m# 모델 생성\u001b[0m\u001b[0;34m\u001b[0m\u001b[0;34m\u001b[0m\u001b[0m\n\u001b[0;32m---> 29\u001b[0;31m     \u001b[0mmodel\u001b[0m \u001b[0;34m=\u001b[0m \u001b[0mkeras\u001b[0m\u001b[0;34m.\u001b[0m\u001b[0mModel\u001b[0m\u001b[0;34m(\u001b[0m\u001b[0minputs\u001b[0m\u001b[0;34m=\u001b[0m\u001b[0minputs\u001b[0m\u001b[0;34m,\u001b[0m \u001b[0moutputs\u001b[0m\u001b[0;34m=\u001b[0m\u001b[0moutputs\u001b[0m\u001b[0;34m)\u001b[0m\u001b[0;34m\u001b[0m\u001b[0;34m\u001b[0m\u001b[0m\n\u001b[0m\u001b[1;32m     30\u001b[0m     \u001b[0;32mreturn\u001b[0m \u001b[0mmodel\u001b[0m\u001b[0;34m\u001b[0m\u001b[0;34m\u001b[0m\u001b[0m\n\u001b[1;32m     31\u001b[0m \u001b[0;34m\u001b[0m\u001b[0m\n",
      "\u001b[0;31mNameError\u001b[0m: name 'keras' is not defined"
     ]
    }
   ],
   "source": [
    "from tensorflow.keras import layers\n",
    "\n",
    "# 트랜스포머 모델 구성\n",
    "def create_transformer_model(max_sequence_length, num_heads, num_layers, embedding_dim, num_classes):\n",
    "    # 입력 레이어\n",
    "    inputs = layers.Input(shape=(max_sequence_length,))\n",
    "    \n",
    "    # 입력 임베딩\n",
    "    embedding = layers.Embedding(input_dim=num_classes, output_dim=embedding_dim)(inputs)\n",
    "    positional_encoding = layers.Embedding(input_dim=max_sequence_length, output_dim=embedding_dim)(inputs)\n",
    "    inputs_combined = embedding + positional_encoding\n",
    "    \n",
    "    # 인코더 레이어\n",
    "    encoder_outputs = inputs_combined\n",
    "    for _ in range(num_layers):\n",
    "        attention = layers.MultiHeadAttention(num_heads=num_heads, key_dim=embedding_dim)(encoder_outputs, encoder_outputs)\n",
    "        attention = layers.Dropout(0.1)(attention)\n",
    "        add = layers.Add()([encoder_outputs, attention])\n",
    "        normalization = layers.LayerNormalization()(add)\n",
    "        encoder_outputs = normalization\n",
    "    \n",
    "    # 디코더 레이어 (추가적인 구성이 필요한 경우)\n",
    "    # decoder_outputs = ...\n",
    "    \n",
    "    # 출력 레이어\n",
    "    outputs = layers.Dense(num_classes, activation=\"softmax\")(encoder_outputs)\n",
    "    \n",
    "    # 모델 생성\n",
    "    model = keras.Model(inputs=inputs, outputs=outputs)\n",
    "    return model\n",
    "\n",
    "# 트랜스포머 모델 생성\n",
    "max_sequence_length = 14\n",
    "num_heads = 8\n",
    "num_layers = 4\n",
    "embedding_dim = 256\n",
    "num_classes = 10\n",
    "\n",
    "model = create_transformer_model(max_sequence_length, num_heads, num_layers, embedding_dim, num_classes)\n",
    "\n",
    "# 모델 컴파일과 학습\n",
    "optimizer = tf.keras.optimizers.Adam() \n",
    "loss = tf.keras.losses.SparseCategoricalCrossentropy( \n",
    "    from_logits=True, # 기본값은 False, True = softmax함수가 적용되지 않음 \n",
    "    reduction='none'  # 기본값은 SUM. 각자 나오는 값의 반환 원할 때 None을 사용\n",
    ")\n",
    "# 모델 컴파일\n",
    "model.compile(loss=loss, optimizer=optimizer) \n",
    "\n",
    "# 모델 학습\n",
    "history = model.fit(enc_train, dec_train, batch_size=128, epochs=10, validation_split=0.2)"
   ]
  },
  {
   "cell_type": "markdown",
   "id": "fd97c215",
   "metadata": {},
   "source": [
    "-> 적용이 잘못된건지.. loss값이 계산되지 않는다. 이 부분은 더 공부해야할 것 같다. "
   ]
  },
  {
   "cell_type": "markdown",
   "id": "b91794bc",
   "metadata": {},
   "source": [
    "### (4) BERT"
   ]
  },
  {
   "cell_type": "code",
   "execution_count": 40,
   "id": "a8acd2e7",
   "metadata": {},
   "outputs": [
    {
     "data": {
      "application/vnd.jupyter.widget-view+json": {
       "model_id": "eeb7134062344a6a93430b6025bae6a5",
       "version_major": 2,
       "version_minor": 0
      },
      "text/plain": [
       "Downloading:   0%|          | 0.00/226k [00:00<?, ?B/s]"
      ]
     },
     "metadata": {},
     "output_type": "display_data"
    },
    {
     "data": {
      "application/vnd.jupyter.widget-view+json": {
       "model_id": "8041f837a0254c44980f4174d463cff0",
       "version_major": 2,
       "version_minor": 0
      },
      "text/plain": [
       "Downloading:   0%|          | 0.00/28.0 [00:00<?, ?B/s]"
      ]
     },
     "metadata": {},
     "output_type": "display_data"
    },
    {
     "data": {
      "application/vnd.jupyter.widget-view+json": {
       "model_id": "6ebeed66581b4ecda72149a3adba704d",
       "version_major": 2,
       "version_minor": 0
      },
      "text/plain": [
       "Downloading:   0%|          | 0.00/455k [00:00<?, ?B/s]"
      ]
     },
     "metadata": {},
     "output_type": "display_data"
    },
    {
     "data": {
      "application/vnd.jupyter.widget-view+json": {
       "model_id": "8019f5a3261148b29b999093cc7bf7ea",
       "version_major": 2,
       "version_minor": 0
      },
      "text/plain": [
       "Downloading:   0%|          | 0.00/570 [00:00<?, ?B/s]"
      ]
     },
     "metadata": {},
     "output_type": "display_data"
    },
    {
     "data": {
      "application/vnd.jupyter.widget-view+json": {
       "model_id": "eaf9c7581a394960943b8394c1fdc966",
       "version_major": 2,
       "version_minor": 0
      },
      "text/plain": [
       "Downloading:   0%|          | 0.00/511M [00:00<?, ?B/s]"
      ]
     },
     "metadata": {},
     "output_type": "display_data"
    },
    {
     "name": "stderr",
     "output_type": "stream",
     "text": [
      "Some layers from the model checkpoint at bert-base-uncased were not used when initializing TFBertModel: ['mlm___cls', 'nsp___cls']\n",
      "- This IS expected if you are initializing TFBertModel from the checkpoint of a model trained on another task or with another architecture (e.g. initializing a BertForSequenceClassification model from a BertForPreTraining model).\n",
      "- This IS NOT expected if you are initializing TFBertModel from the checkpoint of a model that you expect to be exactly identical (initializing a BertForSequenceClassification model from a BertForSequenceClassification model).\n",
      "All the layers of TFBertModel were initialized from the model checkpoint at bert-base-uncased.\n",
      "If your task is similar to the task the model of the checkpoint was trained on, you can already use TFBertModel for predictions without further training.\n"
     ]
    },
    {
     "name": "stdout",
     "output_type": "stream",
     "text": [
      "Epoch 1/10\n"
     ]
    },
    {
     "ename": "TypeError",
     "evalue": "in user code:\n\n    /opt/conda/lib/python3.9/site-packages/keras/engine/training.py:853 train_function  *\n        return step_function(self, iterator)\n    /tmp/ipykernel_830/1279922149.py:21 call  *\n        out = self.bert_model(out)[0]  # BERT 모델의 출력을 사용\n    /opt/conda/lib/python3.9/site-packages/transformers/models/bert/modeling_tf_bert.py:887 call  *\n        outputs = self.bert(\n    /opt/conda/lib/python3.9/site-packages/transformers/models/bert/modeling_tf_bert.py:645 call  *\n        embedding_output = self.embeddings(\n    /opt/conda/lib/python3.9/site-packages/transformers/models/bert/modeling_tf_bert.py:188 call  *\n        inputs_embeds = tf.gather(params=self.weight, indices=input_ids)\n    /opt/conda/lib/python3.9/site-packages/tensorflow/python/util/dispatch.py:206 wrapper  **\n        return target(*args, **kwargs)\n    /opt/conda/lib/python3.9/site-packages/tensorflow/python/ops/array_ops.py:5069 gather_v2\n        return gather(\n    /opt/conda/lib/python3.9/site-packages/tensorflow/python/util/deprecation.py:549 new_func\n        return func(*args, **kwargs)\n    /opt/conda/lib/python3.9/site-packages/tensorflow/python/util/dispatch.py:206 wrapper\n        return target(*args, **kwargs)\n    /opt/conda/lib/python3.9/site-packages/tensorflow/python/ops/array_ops.py:5056 gather\n        return params.sparse_read(indices, name=name)\n    /opt/conda/lib/python3.9/site-packages/tensorflow/python/ops/resource_variable_ops.py:713 sparse_read\n        value = gen_resource_variable_ops.resource_gather(\n    /opt/conda/lib/python3.9/site-packages/tensorflow/python/ops/gen_resource_variable_ops.py:566 resource_gather\n        _, _, _op, _outputs = _op_def_library._apply_op_helper(\n    /opt/conda/lib/python3.9/site-packages/tensorflow/python/framework/op_def_library.py:628 _apply_op_helper\n        _SatisfiesTypeConstraint(base_type,\n    /opt/conda/lib/python3.9/site-packages/tensorflow/python/framework/op_def_library.py:59 _SatisfiesTypeConstraint\n        raise TypeError(\n\n    TypeError: Value passed to parameter 'indices' has DataType float32 not in list of allowed values: int32, int64\n",
     "output_type": "error",
     "traceback": [
      "\u001b[0;31m---------------------------------------------------------------------------\u001b[0m",
      "\u001b[0;31mTypeError\u001b[0m                                 Traceback (most recent call last)",
      "\u001b[0;32m/tmp/ipykernel_830/1279922149.py\u001b[0m in \u001b[0;36m<module>\u001b[0;34m\u001b[0m\n\u001b[1;32m     48\u001b[0m \u001b[0mnum_words\u001b[0m \u001b[0;34m=\u001b[0m \u001b[0;36m7000\u001b[0m\u001b[0;34m\u001b[0m\u001b[0;34m\u001b[0m\u001b[0m\n\u001b[1;32m     49\u001b[0m \u001b[0;31m# 모델 학습\u001b[0m\u001b[0;34m\u001b[0m\u001b[0;34m\u001b[0m\u001b[0m\n\u001b[0;32m---> 50\u001b[0;31m \u001b[0mhistory\u001b[0m \u001b[0;34m=\u001b[0m \u001b[0mmodel\u001b[0m\u001b[0;34m.\u001b[0m\u001b[0mfit\u001b[0m\u001b[0;34m(\u001b[0m\u001b[0menc_train\u001b[0m\u001b[0;34m,\u001b[0m \u001b[0mdec_train\u001b[0m\u001b[0;34m,\u001b[0m \u001b[0mbatch_size\u001b[0m\u001b[0;34m=\u001b[0m\u001b[0;36m128\u001b[0m\u001b[0;34m,\u001b[0m \u001b[0mepochs\u001b[0m\u001b[0;34m=\u001b[0m\u001b[0;36m10\u001b[0m\u001b[0;34m,\u001b[0m \u001b[0mvalidation_split\u001b[0m\u001b[0;34m=\u001b[0m\u001b[0;36m0.2\u001b[0m\u001b[0;34m)\u001b[0m\u001b[0;34m\u001b[0m\u001b[0;34m\u001b[0m\u001b[0m\n\u001b[0m",
      "\u001b[0;32m/opt/conda/lib/python3.9/site-packages/keras/engine/training.py\u001b[0m in \u001b[0;36mfit\u001b[0;34m(self, x, y, batch_size, epochs, verbose, callbacks, validation_split, validation_data, shuffle, class_weight, sample_weight, initial_epoch, steps_per_epoch, validation_steps, validation_batch_size, validation_freq, max_queue_size, workers, use_multiprocessing)\u001b[0m\n\u001b[1;32m   1182\u001b[0m                 _r=1):\n\u001b[1;32m   1183\u001b[0m               \u001b[0mcallbacks\u001b[0m\u001b[0;34m.\u001b[0m\u001b[0mon_train_batch_begin\u001b[0m\u001b[0;34m(\u001b[0m\u001b[0mstep\u001b[0m\u001b[0;34m)\u001b[0m\u001b[0;34m\u001b[0m\u001b[0;34m\u001b[0m\u001b[0m\n\u001b[0;32m-> 1184\u001b[0;31m               \u001b[0mtmp_logs\u001b[0m \u001b[0;34m=\u001b[0m \u001b[0mself\u001b[0m\u001b[0;34m.\u001b[0m\u001b[0mtrain_function\u001b[0m\u001b[0;34m(\u001b[0m\u001b[0miterator\u001b[0m\u001b[0;34m)\u001b[0m\u001b[0;34m\u001b[0m\u001b[0;34m\u001b[0m\u001b[0m\n\u001b[0m\u001b[1;32m   1185\u001b[0m               \u001b[0;32mif\u001b[0m \u001b[0mdata_handler\u001b[0m\u001b[0;34m.\u001b[0m\u001b[0mshould_sync\u001b[0m\u001b[0;34m:\u001b[0m\u001b[0;34m\u001b[0m\u001b[0;34m\u001b[0m\u001b[0m\n\u001b[1;32m   1186\u001b[0m                 \u001b[0mcontext\u001b[0m\u001b[0;34m.\u001b[0m\u001b[0masync_wait\u001b[0m\u001b[0;34m(\u001b[0m\u001b[0;34m)\u001b[0m\u001b[0;34m\u001b[0m\u001b[0;34m\u001b[0m\u001b[0m\n",
      "\u001b[0;32m/opt/conda/lib/python3.9/site-packages/tensorflow/python/eager/def_function.py\u001b[0m in \u001b[0;36m__call__\u001b[0;34m(self, *args, **kwds)\u001b[0m\n\u001b[1;32m    883\u001b[0m \u001b[0;34m\u001b[0m\u001b[0m\n\u001b[1;32m    884\u001b[0m       \u001b[0;32mwith\u001b[0m \u001b[0mOptionalXlaContext\u001b[0m\u001b[0;34m(\u001b[0m\u001b[0mself\u001b[0m\u001b[0;34m.\u001b[0m\u001b[0m_jit_compile\u001b[0m\u001b[0;34m)\u001b[0m\u001b[0;34m:\u001b[0m\u001b[0;34m\u001b[0m\u001b[0;34m\u001b[0m\u001b[0m\n\u001b[0;32m--> 885\u001b[0;31m         \u001b[0mresult\u001b[0m \u001b[0;34m=\u001b[0m \u001b[0mself\u001b[0m\u001b[0;34m.\u001b[0m\u001b[0m_call\u001b[0m\u001b[0;34m(\u001b[0m\u001b[0;34m*\u001b[0m\u001b[0margs\u001b[0m\u001b[0;34m,\u001b[0m \u001b[0;34m**\u001b[0m\u001b[0mkwds\u001b[0m\u001b[0;34m)\u001b[0m\u001b[0;34m\u001b[0m\u001b[0;34m\u001b[0m\u001b[0m\n\u001b[0m\u001b[1;32m    886\u001b[0m \u001b[0;34m\u001b[0m\u001b[0m\n\u001b[1;32m    887\u001b[0m       \u001b[0mnew_tracing_count\u001b[0m \u001b[0;34m=\u001b[0m \u001b[0mself\u001b[0m\u001b[0;34m.\u001b[0m\u001b[0mexperimental_get_tracing_count\u001b[0m\u001b[0;34m(\u001b[0m\u001b[0;34m)\u001b[0m\u001b[0;34m\u001b[0m\u001b[0;34m\u001b[0m\u001b[0m\n",
      "\u001b[0;32m/opt/conda/lib/python3.9/site-packages/tensorflow/python/eager/def_function.py\u001b[0m in \u001b[0;36m_call\u001b[0;34m(self, *args, **kwds)\u001b[0m\n\u001b[1;32m    931\u001b[0m       \u001b[0;31m# This is the first call of __call__, so we have to initialize.\u001b[0m\u001b[0;34m\u001b[0m\u001b[0;34m\u001b[0m\u001b[0m\n\u001b[1;32m    932\u001b[0m       \u001b[0minitializers\u001b[0m \u001b[0;34m=\u001b[0m \u001b[0;34m[\u001b[0m\u001b[0;34m]\u001b[0m\u001b[0;34m\u001b[0m\u001b[0;34m\u001b[0m\u001b[0m\n\u001b[0;32m--> 933\u001b[0;31m       \u001b[0mself\u001b[0m\u001b[0;34m.\u001b[0m\u001b[0m_initialize\u001b[0m\u001b[0;34m(\u001b[0m\u001b[0margs\u001b[0m\u001b[0;34m,\u001b[0m \u001b[0mkwds\u001b[0m\u001b[0;34m,\u001b[0m \u001b[0madd_initializers_to\u001b[0m\u001b[0;34m=\u001b[0m\u001b[0minitializers\u001b[0m\u001b[0;34m)\u001b[0m\u001b[0;34m\u001b[0m\u001b[0;34m\u001b[0m\u001b[0m\n\u001b[0m\u001b[1;32m    934\u001b[0m     \u001b[0;32mfinally\u001b[0m\u001b[0;34m:\u001b[0m\u001b[0;34m\u001b[0m\u001b[0;34m\u001b[0m\u001b[0m\n\u001b[1;32m    935\u001b[0m       \u001b[0;31m# At this point we know that the initialization is complete (or less\u001b[0m\u001b[0;34m\u001b[0m\u001b[0;34m\u001b[0m\u001b[0m\n",
      "\u001b[0;32m/opt/conda/lib/python3.9/site-packages/tensorflow/python/eager/def_function.py\u001b[0m in \u001b[0;36m_initialize\u001b[0;34m(self, args, kwds, add_initializers_to)\u001b[0m\n\u001b[1;32m    757\u001b[0m     \u001b[0mself\u001b[0m\u001b[0;34m.\u001b[0m\u001b[0m_graph_deleter\u001b[0m \u001b[0;34m=\u001b[0m \u001b[0mFunctionDeleter\u001b[0m\u001b[0;34m(\u001b[0m\u001b[0mself\u001b[0m\u001b[0;34m.\u001b[0m\u001b[0m_lifted_initializer_graph\u001b[0m\u001b[0;34m)\u001b[0m\u001b[0;34m\u001b[0m\u001b[0;34m\u001b[0m\u001b[0m\n\u001b[1;32m    758\u001b[0m     self._concrete_stateful_fn = (\n\u001b[0;32m--> 759\u001b[0;31m         self._stateful_fn._get_concrete_function_internal_garbage_collected(  # pylint: disable=protected-access\n\u001b[0m\u001b[1;32m    760\u001b[0m             *args, **kwds))\n\u001b[1;32m    761\u001b[0m \u001b[0;34m\u001b[0m\u001b[0m\n",
      "\u001b[0;32m/opt/conda/lib/python3.9/site-packages/tensorflow/python/eager/function.py\u001b[0m in \u001b[0;36m_get_concrete_function_internal_garbage_collected\u001b[0;34m(self, *args, **kwargs)\u001b[0m\n\u001b[1;32m   3064\u001b[0m       \u001b[0margs\u001b[0m\u001b[0;34m,\u001b[0m \u001b[0mkwargs\u001b[0m \u001b[0;34m=\u001b[0m \u001b[0;32mNone\u001b[0m\u001b[0;34m,\u001b[0m \u001b[0;32mNone\u001b[0m\u001b[0;34m\u001b[0m\u001b[0;34m\u001b[0m\u001b[0m\n\u001b[1;32m   3065\u001b[0m     \u001b[0;32mwith\u001b[0m \u001b[0mself\u001b[0m\u001b[0;34m.\u001b[0m\u001b[0m_lock\u001b[0m\u001b[0;34m:\u001b[0m\u001b[0;34m\u001b[0m\u001b[0;34m\u001b[0m\u001b[0m\n\u001b[0;32m-> 3066\u001b[0;31m       \u001b[0mgraph_function\u001b[0m\u001b[0;34m,\u001b[0m \u001b[0m_\u001b[0m \u001b[0;34m=\u001b[0m \u001b[0mself\u001b[0m\u001b[0;34m.\u001b[0m\u001b[0m_maybe_define_function\u001b[0m\u001b[0;34m(\u001b[0m\u001b[0margs\u001b[0m\u001b[0;34m,\u001b[0m \u001b[0mkwargs\u001b[0m\u001b[0;34m)\u001b[0m\u001b[0;34m\u001b[0m\u001b[0;34m\u001b[0m\u001b[0m\n\u001b[0m\u001b[1;32m   3067\u001b[0m     \u001b[0;32mreturn\u001b[0m \u001b[0mgraph_function\u001b[0m\u001b[0;34m\u001b[0m\u001b[0;34m\u001b[0m\u001b[0m\n\u001b[1;32m   3068\u001b[0m \u001b[0;34m\u001b[0m\u001b[0m\n",
      "\u001b[0;32m/opt/conda/lib/python3.9/site-packages/tensorflow/python/eager/function.py\u001b[0m in \u001b[0;36m_maybe_define_function\u001b[0;34m(self, args, kwargs)\u001b[0m\n\u001b[1;32m   3461\u001b[0m \u001b[0;34m\u001b[0m\u001b[0m\n\u001b[1;32m   3462\u001b[0m           \u001b[0mself\u001b[0m\u001b[0;34m.\u001b[0m\u001b[0m_function_cache\u001b[0m\u001b[0;34m.\u001b[0m\u001b[0mmissed\u001b[0m\u001b[0;34m.\u001b[0m\u001b[0madd\u001b[0m\u001b[0;34m(\u001b[0m\u001b[0mcall_context_key\u001b[0m\u001b[0;34m)\u001b[0m\u001b[0;34m\u001b[0m\u001b[0;34m\u001b[0m\u001b[0m\n\u001b[0;32m-> 3463\u001b[0;31m           \u001b[0mgraph_function\u001b[0m \u001b[0;34m=\u001b[0m \u001b[0mself\u001b[0m\u001b[0;34m.\u001b[0m\u001b[0m_create_graph_function\u001b[0m\u001b[0;34m(\u001b[0m\u001b[0margs\u001b[0m\u001b[0;34m,\u001b[0m \u001b[0mkwargs\u001b[0m\u001b[0;34m)\u001b[0m\u001b[0;34m\u001b[0m\u001b[0;34m\u001b[0m\u001b[0m\n\u001b[0m\u001b[1;32m   3464\u001b[0m           \u001b[0mself\u001b[0m\u001b[0;34m.\u001b[0m\u001b[0m_function_cache\u001b[0m\u001b[0;34m.\u001b[0m\u001b[0mprimary\u001b[0m\u001b[0;34m[\u001b[0m\u001b[0mcache_key\u001b[0m\u001b[0;34m]\u001b[0m \u001b[0;34m=\u001b[0m \u001b[0mgraph_function\u001b[0m\u001b[0;34m\u001b[0m\u001b[0;34m\u001b[0m\u001b[0m\n\u001b[1;32m   3465\u001b[0m \u001b[0;34m\u001b[0m\u001b[0m\n",
      "\u001b[0;32m/opt/conda/lib/python3.9/site-packages/tensorflow/python/eager/function.py\u001b[0m in \u001b[0;36m_create_graph_function\u001b[0;34m(self, args, kwargs, override_flat_arg_shapes)\u001b[0m\n\u001b[1;32m   3296\u001b[0m     \u001b[0marg_names\u001b[0m \u001b[0;34m=\u001b[0m \u001b[0mbase_arg_names\u001b[0m \u001b[0;34m+\u001b[0m \u001b[0mmissing_arg_names\u001b[0m\u001b[0;34m\u001b[0m\u001b[0;34m\u001b[0m\u001b[0m\n\u001b[1;32m   3297\u001b[0m     graph_function = ConcreteFunction(\n\u001b[0;32m-> 3298\u001b[0;31m         func_graph_module.func_graph_from_py_func(\n\u001b[0m\u001b[1;32m   3299\u001b[0m             \u001b[0mself\u001b[0m\u001b[0;34m.\u001b[0m\u001b[0m_name\u001b[0m\u001b[0;34m,\u001b[0m\u001b[0;34m\u001b[0m\u001b[0;34m\u001b[0m\u001b[0m\n\u001b[1;32m   3300\u001b[0m             \u001b[0mself\u001b[0m\u001b[0;34m.\u001b[0m\u001b[0m_python_function\u001b[0m\u001b[0;34m,\u001b[0m\u001b[0;34m\u001b[0m\u001b[0;34m\u001b[0m\u001b[0m\n",
      "\u001b[0;32m/opt/conda/lib/python3.9/site-packages/tensorflow/python/framework/func_graph.py\u001b[0m in \u001b[0;36mfunc_graph_from_py_func\u001b[0;34m(name, python_func, args, kwargs, signature, func_graph, autograph, autograph_options, add_control_dependencies, arg_names, op_return_value, collections, capture_by_value, override_flat_arg_shapes, acd_record_initial_resource_uses)\u001b[0m\n\u001b[1;32m   1005\u001b[0m         \u001b[0m_\u001b[0m\u001b[0;34m,\u001b[0m \u001b[0moriginal_func\u001b[0m \u001b[0;34m=\u001b[0m \u001b[0mtf_decorator\u001b[0m\u001b[0;34m.\u001b[0m\u001b[0munwrap\u001b[0m\u001b[0;34m(\u001b[0m\u001b[0mpython_func\u001b[0m\u001b[0;34m)\u001b[0m\u001b[0;34m\u001b[0m\u001b[0;34m\u001b[0m\u001b[0m\n\u001b[1;32m   1006\u001b[0m \u001b[0;34m\u001b[0m\u001b[0m\n\u001b[0;32m-> 1007\u001b[0;31m       \u001b[0mfunc_outputs\u001b[0m \u001b[0;34m=\u001b[0m \u001b[0mpython_func\u001b[0m\u001b[0;34m(\u001b[0m\u001b[0;34m*\u001b[0m\u001b[0mfunc_args\u001b[0m\u001b[0;34m,\u001b[0m \u001b[0;34m**\u001b[0m\u001b[0mfunc_kwargs\u001b[0m\u001b[0;34m)\u001b[0m\u001b[0;34m\u001b[0m\u001b[0;34m\u001b[0m\u001b[0m\n\u001b[0m\u001b[1;32m   1008\u001b[0m \u001b[0;34m\u001b[0m\u001b[0m\n\u001b[1;32m   1009\u001b[0m       \u001b[0;31m# invariant: `func_outputs` contains only Tensors, CompositeTensors,\u001b[0m\u001b[0;34m\u001b[0m\u001b[0;34m\u001b[0m\u001b[0m\n",
      "\u001b[0;32m/opt/conda/lib/python3.9/site-packages/tensorflow/python/eager/def_function.py\u001b[0m in \u001b[0;36mwrapped_fn\u001b[0;34m(*args, **kwds)\u001b[0m\n\u001b[1;32m    666\u001b[0m         \u001b[0;31m# the function a weak reference to itself to avoid a reference cycle.\u001b[0m\u001b[0;34m\u001b[0m\u001b[0;34m\u001b[0m\u001b[0m\n\u001b[1;32m    667\u001b[0m         \u001b[0;32mwith\u001b[0m \u001b[0mOptionalXlaContext\u001b[0m\u001b[0;34m(\u001b[0m\u001b[0mcompile_with_xla\u001b[0m\u001b[0;34m)\u001b[0m\u001b[0;34m:\u001b[0m\u001b[0;34m\u001b[0m\u001b[0;34m\u001b[0m\u001b[0m\n\u001b[0;32m--> 668\u001b[0;31m           \u001b[0mout\u001b[0m \u001b[0;34m=\u001b[0m \u001b[0mweak_wrapped_fn\u001b[0m\u001b[0;34m(\u001b[0m\u001b[0;34m)\u001b[0m\u001b[0;34m.\u001b[0m\u001b[0m__wrapped__\u001b[0m\u001b[0;34m(\u001b[0m\u001b[0;34m*\u001b[0m\u001b[0margs\u001b[0m\u001b[0;34m,\u001b[0m \u001b[0;34m**\u001b[0m\u001b[0mkwds\u001b[0m\u001b[0;34m)\u001b[0m\u001b[0;34m\u001b[0m\u001b[0;34m\u001b[0m\u001b[0m\n\u001b[0m\u001b[1;32m    669\u001b[0m         \u001b[0;32mreturn\u001b[0m \u001b[0mout\u001b[0m\u001b[0;34m\u001b[0m\u001b[0;34m\u001b[0m\u001b[0m\n\u001b[1;32m    670\u001b[0m \u001b[0;34m\u001b[0m\u001b[0m\n",
      "\u001b[0;32m/opt/conda/lib/python3.9/site-packages/tensorflow/python/framework/func_graph.py\u001b[0m in \u001b[0;36mwrapper\u001b[0;34m(*args, **kwargs)\u001b[0m\n\u001b[1;32m    992\u001b[0m           \u001b[0;32mexcept\u001b[0m \u001b[0mException\u001b[0m \u001b[0;32mas\u001b[0m \u001b[0me\u001b[0m\u001b[0;34m:\u001b[0m  \u001b[0;31m# pylint:disable=broad-except\u001b[0m\u001b[0;34m\u001b[0m\u001b[0;34m\u001b[0m\u001b[0m\n\u001b[1;32m    993\u001b[0m             \u001b[0;32mif\u001b[0m \u001b[0mhasattr\u001b[0m\u001b[0;34m(\u001b[0m\u001b[0me\u001b[0m\u001b[0;34m,\u001b[0m \u001b[0;34m\"ag_error_metadata\"\u001b[0m\u001b[0;34m)\u001b[0m\u001b[0;34m:\u001b[0m\u001b[0;34m\u001b[0m\u001b[0;34m\u001b[0m\u001b[0m\n\u001b[0;32m--> 994\u001b[0;31m               \u001b[0;32mraise\u001b[0m \u001b[0me\u001b[0m\u001b[0;34m.\u001b[0m\u001b[0mag_error_metadata\u001b[0m\u001b[0;34m.\u001b[0m\u001b[0mto_exception\u001b[0m\u001b[0;34m(\u001b[0m\u001b[0me\u001b[0m\u001b[0;34m)\u001b[0m\u001b[0;34m\u001b[0m\u001b[0;34m\u001b[0m\u001b[0m\n\u001b[0m\u001b[1;32m    995\u001b[0m             \u001b[0;32melse\u001b[0m\u001b[0;34m:\u001b[0m\u001b[0;34m\u001b[0m\u001b[0;34m\u001b[0m\u001b[0m\n\u001b[1;32m    996\u001b[0m               \u001b[0;32mraise\u001b[0m\u001b[0;34m\u001b[0m\u001b[0;34m\u001b[0m\u001b[0m\n",
      "\u001b[0;31mTypeError\u001b[0m: in user code:\n\n    /opt/conda/lib/python3.9/site-packages/keras/engine/training.py:853 train_function  *\n        return step_function(self, iterator)\n    /tmp/ipykernel_830/1279922149.py:21 call  *\n        out = self.bert_model(out)[0]  # BERT 모델의 출력을 사용\n    /opt/conda/lib/python3.9/site-packages/transformers/models/bert/modeling_tf_bert.py:887 call  *\n        outputs = self.bert(\n    /opt/conda/lib/python3.9/site-packages/transformers/models/bert/modeling_tf_bert.py:645 call  *\n        embedding_output = self.embeddings(\n    /opt/conda/lib/python3.9/site-packages/transformers/models/bert/modeling_tf_bert.py:188 call  *\n        inputs_embeds = tf.gather(params=self.weight, indices=input_ids)\n    /opt/conda/lib/python3.9/site-packages/tensorflow/python/util/dispatch.py:206 wrapper  **\n        return target(*args, **kwargs)\n    /opt/conda/lib/python3.9/site-packages/tensorflow/python/ops/array_ops.py:5069 gather_v2\n        return gather(\n    /opt/conda/lib/python3.9/site-packages/tensorflow/python/util/deprecation.py:549 new_func\n        return func(*args, **kwargs)\n    /opt/conda/lib/python3.9/site-packages/tensorflow/python/util/dispatch.py:206 wrapper\n        return target(*args, **kwargs)\n    /opt/conda/lib/python3.9/site-packages/tensorflow/python/ops/array_ops.py:5056 gather\n        return params.sparse_read(indices, name=name)\n    /opt/conda/lib/python3.9/site-packages/tensorflow/python/ops/resource_variable_ops.py:713 sparse_read\n        value = gen_resource_variable_ops.resource_gather(\n    /opt/conda/lib/python3.9/site-packages/tensorflow/python/ops/gen_resource_variable_ops.py:566 resource_gather\n        _, _, _op, _outputs = _op_def_library._apply_op_helper(\n    /opt/conda/lib/python3.9/site-packages/tensorflow/python/framework/op_def_library.py:628 _apply_op_helper\n        _SatisfiesTypeConstraint(base_type,\n    /opt/conda/lib/python3.9/site-packages/tensorflow/python/framework/op_def_library.py:59 _SatisfiesTypeConstraint\n        raise TypeError(\n\n    TypeError: Value passed to parameter 'indices' has DataType float32 not in list of allowed values: int32, int64\n"
     ]
    }
   ],
   "source": [
    "from transformers import BertTokenizer, TFBertModel\n",
    "\n",
    "class TextGenerator(tf.keras.Model):\n",
    "    def __init__(self, vocab_size, embedding_size, hidden_size):\n",
    "        super().__init__()\n",
    "        self.embedding = tf.keras.layers.Embedding(vocab_size, embedding_size)\n",
    "        self.bert_model = TFBertModel.from_pretrained('bert-base-uncased')\n",
    "        self.rnn_1 = tf.keras.layers.LSTM(hidden_size, return_sequences=True)\n",
    "        self.batch1 = tf.keras.layers.BatchNormalization()\n",
    "        self.drop1 = tf.keras.layers.Dropout(0.3)\n",
    "        self.rnn_2 = tf.keras.layers.LSTM(hidden_size, return_sequences=True)\n",
    "        self.batch2 = tf.keras.layers.BatchNormalization()\n",
    "        self.drop2 = tf.keras.layers.Dropout(0.3)\n",
    "        self.rnn_3 = tf.keras.layers.LSTM(hidden_size, return_sequences=True)\n",
    "        self.batch3 = tf.keras.layers.BatchNormalization()\n",
    "        self.drop3 = tf.keras.layers.Dropout(0.3)\n",
    "        self.linear = tf.keras.layers.Dense(vocab_size)\n",
    "        \n",
    "    def call(self, x):\n",
    "        out = self.embedding(x)\n",
    "        out = self.bert_model(out)[0]  # BERT 모델의 출력을 사용\n",
    "        out = self.rnn_1(out)\n",
    "        out = self.batch1(out)\n",
    "        out = self.drop1(out)\n",
    "        out = self.rnn_2(out)\n",
    "        out = self.batch2(out)\n",
    "        out = self.drop2(out)\n",
    "        out = self.rnn_3(out)\n",
    "        out = self.batch3(out)\n",
    "        out = self.drop3(out)\n",
    "        out = self.linear(out)\n",
    "        \n",
    "        return out\n",
    "\n",
    "embedding_size = 256\n",
    "hidden_size = 1024\n",
    "\n",
    "# BERT 토크나이저 로드\n",
    "tokenizer = BertTokenizer.from_pretrained('bert-base-uncased')\n",
    "\n",
    "# 모델 구성\n",
    "model = TextGenerator(tokenizer.vocab_size, embedding_size, hidden_size)\n",
    "\n",
    "# 모델 컴파일\n",
    "optimizer = tf.keras.optimizers.Adam()\n",
    "loss = tf.keras.losses.SparseCategoricalCrossentropy(from_logits=True, reduction='none')\n",
    "model.compile(loss=loss, optimizer=optimizer)\n",
    "num_words = 7000\n",
    "# 모델 학습\n",
    "history = model.fit(enc_train, dec_train, batch_size=128, epochs=10, validation_split=0.2)\n"
   ]
  },
  {
   "cell_type": "markdown",
   "id": "15fcf268",
   "metadata": {},
   "source": [
    "-> -> BERT를 적용하려면 토큰화 단계부터 적용해야한다. 시간이 부족해서 앞으로 더 공부해서 추가해보도록 해야겠다."
   ]
  },
  {
   "attachments": {
    "image-2.png": {
     "image/png": "[encoded data removed]"
    },
    "image-4.png": {
     "image/png": "[encoded data removed]"
    },
    "image.png": {
     "image/png": "[encoded data removed]"
    }
   },
   "cell_type": "markdown",
   "id": "f77397f8",
   "metadata": {},
   "source": [
    "# 자연어 처리 모델 공부하기\n",
    "## 1. GRU\n",
    "- GRU의 구조\n",
    "![image-4.png](attachment:image-4.png)\n",
    "\n",
    "- GRU는 LSTM과 비슷한 이유로 만들어졌는데, LSTM을 구성하는 Time-Step의 Cell을 조금 더 간소화한 버전이다.  \n",
    "- GRU는 LSTM보다 학습 속도가 빠르다고 알려져있지만, 여러 평가에서 GRU는 LSTM과 비슷한 성능을 보인다.\n",
    "- 데이터 양이 적을 때는, 매개 변수의 양이 적은 GRU가 조금 더 낫고, 데이터 양이 더 많으면 LSTM이 더 낫다.\n",
    "\n",
    "## 2. Transformer\n",
    "- Transformer의 구조\n",
    "![image.png](attachment:image.png)\n",
    "\n",
    "- Transformer은 Attention을 기반으로 만들어진 아키텍쳐이다.  \n",
    "- 2021년 기준으로 최신 고성능 모델들은 Transformer을 기반으로 구성된다. (GTP, BERT)\n",
    "- CNN, RNN을 전혀 사용하지 않고 오로지 Attention 기법만을 사용하여 기계 번역부터 모든 자연어 처리가 가능하다.\n",
    "- 기존 Seq2Seq 모델의 소스 문장의 정보를 압축하여 발생하는 병목현상 문제점을 해결한다. \n",
    "- 디코더는 인코더의 모든 출력 중에서 어떤 정보가 중요한지 계산하여 중요한 정보만을 선택해 활용한다.  \n",
    "\n",
    "## 3. BERT\n",
    "- BERT의 구조  \n",
    "![image-2.png](attachment:image-2.png)\n",
    "\n",
    "-  \"Bidirectional Encoder Representations from Transformers\"의 약자  \n",
    "- 2018년에 개발된 Transformer 기반 자연어 처리 모델  \n",
    "- 사전 훈련된 언어 모델로서 다양한 자연어 처리 작업에서 매우 좋은 성능을 보인다.  "
   ]
  },
  {
   "cell_type": "markdown",
   "id": "23e63c8c",
   "metadata": {},
   "source": [
    "# 프로젝트 회고\n",
    "\n",
    "## 배운점\n",
    "1. strip() 함수는 문자열에서 양쪽 끝에 있는 공백이나 특정 문자를 제거하는 데 사용된다.  \n",
    "2. tf.keras.preprocessing.text.Tokenizer를 사용하면 쉽게 토큰화 할 수 있다. \n",
    "3. loss 종류 중 하나인 SparseCategoricalCrossentropy은 정수로 된 label을 주면 내부적으로 one-hot vector로 변환해서 알아서 loss를 계산해주는 손실함수이다.분류 문제에서 사용된다.  \n",
    "4. 다른 모델을 사용해보기 위하여 말로만 들었던 GRU, Transformer, BERT, BidirectionalLSTM에 대해 상세하진 않지만 대략적인 개념을 공부하였다.\n",
    "\n",
    "## 아쉬운점\n",
    "1. Transformer과 BERT는 기존의 RNN, LSTM과 다르게 성능이 굉장히 좋다고 하여 이 모델을 사용하면 val_loss가 굉장히 낮은 값으로 잘 될 줄 알았는데 아예 기록도 안되어서 어리둥절했다. 아직 개념이해도 다 안된 상태여서 잘 사용을 못했던 것 같다. 더 공부해서 이 프로젝트에 맞춰서 잘 사용해보고 싶다.  \n",
    "2. 기존의 LSTM에서 에폭 10 안에 val_loss가 2.2 이하로 나오지 않아서 아쉽다. 결국 조원의 정보제공 덕분에 val_loss를 2.2 미만을 넘어서 0.xx까지 낮추었지만 val_loss가 2.5정도였던 기존의 모델보다 문장이 어색했다. \n",
    "\n",
    "## 종합평가\n",
    "자연어 처리는 전처리부터 모델 구성까지 어렵지만 재밌는 과정으로 느껴진다. 모델 학습하는 데에도 시간이 굉장히 오래 걸려서 기다리는 시간이 힘들었다. 이번 기회를 통해 말로만 들었던 GRU, Transformer, BERT에 대해 공부할 수 있어서 유익했다. 아직 컴퓨터 비전 분야보다 더 생소하고 어렵지만 앞으로 더 많이 알고 공부하고 싶다."
   ]
  },
  {
   "cell_type": "markdown",
   "id": "7684d367",
   "metadata": {},
   "source": [
    "# Reference\n",
    "1. model.fit 가이드  \n",
    "https://www.tensorflow.org/api_docs/python/tf/keras/Model#fit  \n",
    "2. Dataset 함수  \n",
    "https://www.tensorflow.org/api_docs/python/tf/data/Dataset   \n",
    "3. loss: SparseCategoricalCrossentropy  \n",
    "https://www.tensorflow.org/api_docs/python/tf/keras/losses/SparseCategoricalCrossentropy  \n",
    "4. SparseCategoricalCrossentropy 설명  \n",
    "https://jins-sw.tistory.com/16  \n",
    "5. 자연어 처리 모델 종류 및 주요 특징  \n",
    "https://thinkingpocket.tistory.com/entry/%EC%9E%90%EC%97%B0%EC%96%B4-%EC%B2%98%EB%A6%AC-%EB%AA%A8%EB%8D%B8%EC%9D%98-%EC%A2%85%EB%A5%98-%EB%B0%8F-%EC%A3%BC%EC%9A%94-%ED%8A%B9%EC%A7%95  \n",
    "6. 트렌스포머 모델 설명  \n",
    "https://123okk2.tistory.com/164  \n",
    "7. 여러 모델들에 대한 설명 담긴 책: 딥러닝을 통한 자연어 처리 입문  \n",
    "https://wikidocs.net/31379  \n",
    "8. 버트 논문 리뷰  \n",
    "https://m.blog.naver.com/PostView.naver?isHttpsRedirect=true&blogId=winddori2002&logNo=222022178447  \n",
    "9. RNN, LSTM, GRU 설명  \n",
    "https://wooono.tistory.com/242  "
   ]
  }
 ],
 "metadata": {
  "kernelspec": {
   "display_name": "Python 3 (ipykernel)",
   "language": "python",
   "name": "python3"
  },
  "language_info": {
   "codemirror_mode": {
    "name": "ipython",
    "version": 3
   },
   "file_extension": ".py",
   "mimetype": "text/x-python",
   "name": "python",
   "nbconvert_exporter": "python",
   "pygments_lexer": "ipython3",
   "version": "3.9.7"
  }
 },
 "nbformat": 4,
 "nbformat_minor": 5
}
