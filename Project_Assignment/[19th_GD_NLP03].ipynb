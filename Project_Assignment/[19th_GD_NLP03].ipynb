{
 "cells": [
  {
   "cell_type": "markdown",
   "id": "82797b43",
   "metadata": {},
   "source": [
    "# 주제: Word-Level로 번역기 업그레이드하기\n",
    "\n",
    "## 데이터\n",
    "영어와 프랑스어의 병렬 코퍼스  \n",
    "상위 33,000개의 샘플만 사용  \n",
    "출처: https://www.manythings.org/anki/  \n",
    "## 목표\n",
    "1. 구두점, 대소문자, 띄어쓰기 등 번역기 모델에 요구되는 전처리가 정상적으로 진행\n",
    "2. seq2seq 모델 훈련결과를 그래프로 출력해보고, validation loss그래프가 우하향하는 경향성을 보이며 학습이 진행\n",
    "3. 테스트용 디코더 모델이 정상적으로 만들어졌으며, input(영어)와 output(프랑스어) 모두 한글로 번역해서 결과를 출력해보았고, 둘의 내용이 유사함을 확인"
   ]
  },
  {
   "cell_type": "markdown",
   "id": "289401a9",
   "metadata": {},
   "source": [
    "## (1) 라이브러리 및 데이터 불러오기"
   ]
  },
  {
   "cell_type": "code",
   "execution_count": 1,
   "id": "32c64c2e",
   "metadata": {},
   "outputs": [],
   "source": [
    "import pandas as pd\n",
    "from tensorflow.keras.preprocessing.text import Tokenizer\n",
    "from tensorflow.keras.preprocessing.sequence import pad_sequences\n",
    "from tensorflow.keras.utils import to_categorical\n",
    "import numpy as np\n",
    "import os\n",
    "from tensorflow.keras.layers import Input, LSTM, Embedding, Dense, Masking\n",
    "from tensorflow.keras.models import Model"
   ]
  },
  {
   "cell_type": "code",
   "execution_count": 2,
   "id": "4c192a41",
   "metadata": {},
   "outputs": [
    {
     "name": "stdout",
     "output_type": "stream",
     "text": [
      "전체 샘플의 수 : 217975\n"
     ]
    },
    {
     "data": {
      "text/html": [
       "<div>\n",
       "<style scoped>\n",
       "    .dataframe tbody tr th:only-of-type {\n",
       "        vertical-align: middle;\n",
       "    }\n",
       "\n",
       "    .dataframe tbody tr th {\n",
       "        vertical-align: top;\n",
       "    }\n",
       "\n",
       "    .dataframe thead th {\n",
       "        text-align: right;\n",
       "    }\n",
       "</style>\n",
       "<table border=\"1\" class=\"dataframe\">\n",
       "  <thead>\n",
       "    <tr style=\"text-align: right;\">\n",
       "      <th></th>\n",
       "      <th>eng</th>\n",
       "      <th>fra</th>\n",
       "      <th>cc</th>\n",
       "    </tr>\n",
       "  </thead>\n",
       "  <tbody>\n",
       "    <tr>\n",
       "      <th>207401</th>\n",
       "      <td>You don't seem to be as organized as Tom seems...</td>\n",
       "      <td>Tu ne sembles pas aussi organisée que Tom.</td>\n",
       "      <td>CC-BY 2.0 (France) Attribution: tatoeba.org #6...</td>\n",
       "    </tr>\n",
       "    <tr>\n",
       "      <th>201285</th>\n",
       "      <td>Fewer young people know how to write in longhand.</td>\n",
       "      <td>De moins en moins de jeunes savent écrire en é...</td>\n",
       "      <td>CC-BY 2.0 (France) Attribution: tatoeba.org #9...</td>\n",
       "    </tr>\n",
       "    <tr>\n",
       "      <th>10171</th>\n",
       "      <td>Can I help you?</td>\n",
       "      <td>Puis-je t'aider ?</td>\n",
       "      <td>CC-BY 2.0 (France) Attribution: tatoeba.org #2...</td>\n",
       "    </tr>\n",
       "    <tr>\n",
       "      <th>113064</th>\n",
       "      <td>I didn't even try to respond.</td>\n",
       "      <td>Je n'ai même pas essayé de répliquer.</td>\n",
       "      <td>CC-BY 2.0 (France) Attribution: tatoeba.org #5...</td>\n",
       "    </tr>\n",
       "    <tr>\n",
       "      <th>165110</th>\n",
       "      <td>You're lucky nobody saw you do that.</td>\n",
       "      <td>Tu es chanceux que personne ne t'ait vu faire ça.</td>\n",
       "      <td>CC-BY 2.0 (France) Attribution: tatoeba.org #3...</td>\n",
       "    </tr>\n",
       "  </tbody>\n",
       "</table>\n",
       "</div>"
      ],
      "text/plain": [
       "                                                      eng  \\\n",
       "207401  You don't seem to be as organized as Tom seems...   \n",
       "201285  Fewer young people know how to write in longhand.   \n",
       "10171                                     Can I help you?   \n",
       "113064                      I didn't even try to respond.   \n",
       "165110               You're lucky nobody saw you do that.   \n",
       "\n",
       "                                                      fra  \\\n",
       "207401         Tu ne sembles pas aussi organisée que Tom.   \n",
       "201285  De moins en moins de jeunes savent écrire en é...   \n",
       "10171                                   Puis-je t'aider ?   \n",
       "113064              Je n'ai même pas essayé de répliquer.   \n",
       "165110  Tu es chanceux que personne ne t'ait vu faire ça.   \n",
       "\n",
       "                                                       cc  \n",
       "207401  CC-BY 2.0 (France) Attribution: tatoeba.org #6...  \n",
       "201285  CC-BY 2.0 (France) Attribution: tatoeba.org #9...  \n",
       "10171   CC-BY 2.0 (France) Attribution: tatoeba.org #2...  \n",
       "113064  CC-BY 2.0 (France) Attribution: tatoeba.org #5...  \n",
       "165110  CC-BY 2.0 (France) Attribution: tatoeba.org #3...  "
      ]
     },
     "execution_count": 2,
     "metadata": {},
     "output_type": "execute_result"
    }
   ],
   "source": [
    "file_path = os.getenv('HOME')+'/aiffel/translator_seq2seq/data/fra.txt'\n",
    "lines = pd.read_csv(file_path, names=['eng', 'fra', 'cc'], sep='\\t')\n",
    "print('전체 샘플의 수 :',len(lines))\n",
    "lines.sample(5) #샘플 5개 출력"
   ]
  },
  {
   "cell_type": "markdown",
   "id": "d4d68880",
   "metadata": {},
   "source": [
    "## (2) 데이터 전처리"
   ]
  },
  {
   "cell_type": "code",
   "execution_count": 3,
   "id": "b80ae698",
   "metadata": {},
   "outputs": [
    {
     "data": {
      "text/html": [
       "<div>\n",
       "<style scoped>\n",
       "    .dataframe tbody tr th:only-of-type {\n",
       "        vertical-align: middle;\n",
       "    }\n",
       "\n",
       "    .dataframe tbody tr th {\n",
       "        vertical-align: top;\n",
       "    }\n",
       "\n",
       "    .dataframe thead th {\n",
       "        text-align: right;\n",
       "    }\n",
       "</style>\n",
       "<table border=\"1\" class=\"dataframe\">\n",
       "  <thead>\n",
       "    <tr style=\"text-align: right;\">\n",
       "      <th></th>\n",
       "      <th>eng</th>\n",
       "      <th>fra</th>\n",
       "    </tr>\n",
       "  </thead>\n",
       "  <tbody>\n",
       "    <tr>\n",
       "      <th>18864</th>\n",
       "      <td>Did you tell Tom?</td>\n",
       "      <td>L'avez-vous dit à Tom ?</td>\n",
       "    </tr>\n",
       "    <tr>\n",
       "      <th>9755</th>\n",
       "      <td>What a scream!</td>\n",
       "      <td>Quel cri !</td>\n",
       "    </tr>\n",
       "    <tr>\n",
       "      <th>7425</th>\n",
       "      <td>I always walk.</td>\n",
       "      <td>Je marche toujours.</td>\n",
       "    </tr>\n",
       "    <tr>\n",
       "      <th>24079</th>\n",
       "      <td>You're all alone.</td>\n",
       "      <td>Tu es tout seul.</td>\n",
       "    </tr>\n",
       "    <tr>\n",
       "      <th>27926</th>\n",
       "      <td>Somebody's coming.</td>\n",
       "      <td>Quelqu'un est en train d'arriver.</td>\n",
       "    </tr>\n",
       "  </tbody>\n",
       "</table>\n",
       "</div>"
      ],
      "text/plain": [
       "                      eng                                fra\n",
       "18864   Did you tell Tom?            L'avez-vous dit à Tom ?\n",
       "9755       What a scream!                         Quel cri !\n",
       "7425       I always walk.                Je marche toujours.\n",
       "24079   You're all alone.                   Tu es tout seul.\n",
       "27926  Somebody's coming.  Quelqu'un est en train d'arriver."
      ]
     },
     "execution_count": 3,
     "metadata": {},
     "output_type": "execute_result"
    }
   ],
   "source": [
    "# 3번째 열은 불필요하므로 제거\n",
    "lines = lines[['eng', 'fra']][:33000] # 3만3천개 샘플 사용\n",
    "lines.sample(5)"
   ]
  },
  {
   "cell_type": "markdown",
   "id": "4daad4a0",
   "metadata": {},
   "source": [
    "- 소문자로 통일하기, 구두점 분리하기, 띄워쓰기로 나누기, 디코더 앞뒤에 토큰 첨부하기"
   ]
  },
  {
   "cell_type": "code",
   "execution_count": 4,
   "id": "938d4cfa",
   "metadata": {},
   "outputs": [],
   "source": [
    "import re\n",
    "sos_token = '<sos>'\n",
    "eos_token = '<eos>'\n",
    "    \n",
    "# 입력된 문장 필터링\n",
    "#     1. 소문자로 바꾸고, 양쪽 공백 지우기\n",
    "#     2. 특수문자 양쪽에 공백 넣기\n",
    "#     3. 여러개의 공백은 하나의 공백으로 바꾸기\n",
    "#     4. a-zA-Z나 특수문자가 아닌 모든 문자를 하나의 공백으로 바꾸기\n",
    "#     5. 다시 양쪽 공백을 지우기\n",
    "#     6. 디코더 앞 뒤에 시작토큰과 종료토큰 첨부하기\n",
    "def preprocess_sentence(sentence, plus_token = True):\n",
    "    sentence = sentence.lower().strip() # 1\n",
    "    sentence = re.sub(r\"([?.!,¿])\", r\" \\1 \", sentence) # 2\n",
    "    sentence = re.sub(r'[\" \"]+', \" \", sentence) # 3\n",
    "    sentence = re.sub(r\"[^a-zA-Z?.!,¿@#$%^&*()<>{}']+\", \" \", sentence) # 4\n",
    "    sentence = sentence.strip() # 5\n",
    "    if plus_token == True: #6\n",
    "        sentence = sos_token + ' ' + sentence + ' ' + eos_token\n",
    "\n",
    "    return sentence"
   ]
  },
  {
   "cell_type": "code",
   "execution_count": 5,
   "id": "bf84c25e",
   "metadata": {},
   "outputs": [],
   "source": [
    "eng_lines = []\n",
    "fra_lines = []\n",
    "\n",
    "for eng, fra in zip(lines.eng, lines.fra):\n",
    "    if len(eng) == 0: continue\n",
    "    if len(fra) == 0: continue   \n",
    "        \n",
    "    eng_lines.append(preprocess_sentence(eng, plus_token = False))\n",
    "    fra_lines.append(preprocess_sentence(fra))"
   ]
  },
  {
   "cell_type": "code",
   "execution_count": 6,
   "id": "f6f2f5ba",
   "metadata": {},
   "outputs": [
    {
     "name": "stdout",
     "output_type": "stream",
     "text": [
      "['go .', 'go .', 'go .', 'go .', 'hi .']\n",
      "['<sos> va ! <eos>', '<sos> marche . <eos>', '<sos> en route ! <eos>', '<sos> bouge ! <eos>', '<sos> salut ! <eos>']\n"
     ]
    }
   ],
   "source": [
    "print(eng_lines[:5])\n",
    "print(fra_lines[:5])"
   ]
  },
  {
   "cell_type": "code",
   "execution_count": 7,
   "id": "e422d60e",
   "metadata": {},
   "outputs": [
    {
     "name": "stdout",
     "output_type": "stream",
     "text": [
      "[59, 8, 21]\n",
      "got it !\n"
     ]
    }
   ],
   "source": [
    "eng_tokenizer = Tokenizer(filters = ' ')   # 단어 단위로 Tokenizer를 생성\n",
    "eng_tokenizer.fit_on_texts(eng_lines)               # 33000개의 행을 가진 eng의 각 행에 토큰화를 수행\n",
    "input_text = eng_tokenizer.texts_to_sequences(eng_lines)    # 단어를 숫자값 인덱스로 변환하여 저장\n",
    "eng_text = eng_tokenizer.sequences_to_texts(input_text)     # 숫자값을 다시 단어로 변환하여 저장\n",
    "print(input_text[100])\n",
    "print(eng_text[100])"
   ]
  },
  {
   "cell_type": "code",
   "execution_count": 8,
   "id": "1534dcd5",
   "metadata": {},
   "outputs": [
    {
     "name": "stdout",
     "output_type": "stream",
     "text": [
      "[1, 2240, 8, 2]\n",
      "<sos> filez ! <eos>\n"
     ]
    }
   ],
   "source": [
    "fra_tokenizer = Tokenizer(filters = ' ')   # 단어 단위로 Tokenizer를 생성 \n",
    "fra_tokenizer.fit_on_texts(fra_lines)                 # 33000개의 행을 가진 fra의 각 행에 토큰화를 수행\n",
    "target_text = fra_tokenizer.texts_to_sequences(fra_lines)     # 단어를 숫자값 인덱스로 변환하여 저장\n",
    "fra_text = fra_tokenizer.sequences_to_texts(target_text)      # 숫자값을 다시 단어로 변환하여 저장\n",
    "print(target_text[10])\n",
    "print(fra_text[10])"
   ]
  },
  {
   "cell_type": "code",
   "execution_count": 9,
   "id": "ab317918",
   "metadata": {},
   "outputs": [],
   "source": [
    "# 단어장 크기\n",
    "eng_vocab_size = len(eng_tokenizer.word_index) + 1\n",
    "fra_vocab_size = len(fra_tokenizer.word_index) + 1"
   ]
  },
  {
   "cell_type": "code",
   "execution_count": 10,
   "id": "c4716458",
   "metadata": {},
   "outputs": [],
   "source": [
    "# 단어 시퀀스 최대 길이\n",
    "max_eng_seq_len = max([len(line) for line in input_text])\n",
    "max_fra_seq_len = max([len(line) for line in target_text])"
   ]
  },
  {
   "cell_type": "code",
   "execution_count": 11,
   "id": "618af5a9",
   "metadata": {},
   "outputs": [
    {
     "name": "stdout",
     "output_type": "stream",
     "text": [
      "전체 샘플의 수 : 33000\n",
      "영어 단어장의 크기 : 4609\n",
      "프랑스어 단어장의 크기 : 7767\n",
      "영어 시퀀스의 최대 길이 8\n",
      "프랑스어 시퀀스의 최대 길이 16\n"
     ]
    }
   ],
   "source": [
    "print('전체 샘플의 수 :',len(lines))\n",
    "print('영어 단어장의 크기 :', eng_vocab_size)\n",
    "print('프랑스어 단어장의 크기 :', fra_vocab_size)\n",
    "print('영어 시퀀스의 최대 길이', max_eng_seq_len)\n",
    "print('프랑스어 시퀀스의 최대 길이', max_fra_seq_len)"
   ]
  },
  {
   "cell_type": "code",
   "execution_count": 12,
   "id": "5acd7455",
   "metadata": {},
   "outputs": [
    {
     "name": "stdout",
     "output_type": "stream",
     "text": [
      "You're morons.\n",
      "you're morons .\n",
      "Vous êtes des idiots.\n",
      "<sos> vous tes des idiots . <eos>\n"
     ]
    }
   ],
   "source": [
    "# 바뀌기 전과 바꾸고 난 후 비교하기\n",
    "print(lines.eng[10000])\n",
    "print(eng_text[10000])\n",
    "print(lines.fra[10000])\n",
    "print(fra_text[10000])"
   ]
  },
  {
   "cell_type": "markdown",
   "id": "7277df20",
   "metadata": {},
   "source": [
    "-> 비교를 해보니 대문자는 소문자로 모두 바뀌고 특수문자를 포함하여 단어 단위마다 띄어쓰기가 잘 진행되었다.\n",
    "디코더에 활용될 프랑스어의 앞뒤에 시작토큰과 종료토큰도 잘 추가되었다. 다만 작은 따움표가 포함되도록 할지 말지가 고민된다. "
   ]
  },
  {
   "cell_type": "markdown",
   "id": "8362f3e8",
   "metadata": {},
   "source": [
    "## (3) 인코더, 디코더 만들기 "
   ]
  },
  {
   "cell_type": "code",
   "execution_count": 13,
   "id": "ff197266",
   "metadata": {},
   "outputs": [],
   "source": [
    "encoder_input = input_text\n",
    "# 종료 토큰 제거\n",
    "decoder_input = [[ char for char in line if char != fra_tokenizer.word_index[eos_token] ] for line in target_text] \n",
    "# 시작 토큰 제거\n",
    "decoder_target = [[ char for char in line if char != fra_tokenizer.word_index[sos_token] ] for line in target_text]"
   ]
  },
  {
   "cell_type": "code",
   "execution_count": 14,
   "id": "c7029f1e",
   "metadata": {},
   "outputs": [
    {
     "name": "stdout",
     "output_type": "stream",
     "text": [
      "[[1, 67, 8], [1, 358, 3], [1, 27, 559, 8]]\n",
      "[[67, 8, 2], [358, 3, 2], [27, 559, 8, 2]]\n"
     ]
    }
   ],
   "source": [
    "print(decoder_input[:3])\n",
    "print(decoder_target[:3])"
   ]
  },
  {
   "cell_type": "code",
   "execution_count": 15,
   "id": "e07bfb9a",
   "metadata": {},
   "outputs": [
    {
     "name": "stdout",
     "output_type": "stream",
     "text": [
      "영어 데이터의 크기(shape) : (33000, 8)\n",
      "프랑스어 입력데이터의 크기(shape) : (33000, 16)\n",
      "프랑스어 출력데이터의 크기(shape) : (33000, 16)\n"
     ]
    }
   ],
   "source": [
    "encoder_input = pad_sequences(encoder_input, maxlen = max_eng_seq_len, padding='post')\n",
    "decoder_input = pad_sequences(decoder_input, maxlen = max_fra_seq_len, padding='post')\n",
    "decoder_target = pad_sequences(decoder_target, maxlen = max_fra_seq_len, padding='post')\n",
    "print('영어 데이터의 크기(shape) :',np.shape(encoder_input))\n",
    "print('프랑스어 입력데이터의 크기(shape) :',np.shape(decoder_input))\n",
    "print('프랑스어 출력데이터의 크기(shape) :',np.shape(decoder_target))"
   ]
  },
  {
   "cell_type": "code",
   "execution_count": 16,
   "id": "7a724a88",
   "metadata": {},
   "outputs": [
    {
     "name": "stdout",
     "output_type": "stream",
     "text": [
      "[24  1  0  0  0  0  0  0]\n"
     ]
    }
   ],
   "source": [
    "print(encoder_input[0])"
   ]
  },
  {
   "cell_type": "code",
   "execution_count": 17,
   "id": "6955d473",
   "metadata": {},
   "outputs": [
    {
     "name": "stdout",
     "output_type": "stream",
     "text": [
      "영어 데이터의 크기(shape) : (33000, 8)\n",
      "프랑스어 입력데이터의 크기(shape) : (33000, 16)\n",
      "프랑스어 출력데이터의 크기(shape) : (33000, 16)\n"
     ]
    }
   ],
   "source": [
    "print('영어 데이터의 크기(shape) :',np.shape(encoder_input))\n",
    "print('프랑스어 입력데이터의 크기(shape) :',np.shape(decoder_input))\n",
    "print('프랑스어 출력데이터의 크기(shape) :',np.shape(decoder_target))\n",
    "# 샘플의 수 × 샘플의 길이 × 단어장의 크기"
   ]
  },
  {
   "cell_type": "markdown",
   "id": "5498cf78",
   "metadata": {},
   "source": [
    "## (4) 훈련데이터, 평가데이터 분리"
   ]
  },
  {
   "cell_type": "code",
   "execution_count": 18,
   "id": "fef12640",
   "metadata": {},
   "outputs": [],
   "source": [
    "indices = np.arange(encoder_input.shape[0])\n",
    "np.random.shuffle(indices)\n",
    "\n",
    "encoder_input = encoder_input[indices]\n",
    "decoder_input = decoder_input[indices]\n",
    "decoder_target = decoder_target[indices]"
   ]
  },
  {
   "cell_type": "code",
   "execution_count": 19,
   "id": "191342ec",
   "metadata": {},
   "outputs": [
    {
     "name": "stdout",
     "output_type": "stream",
     "text": [
      "영어 학습데이터의 크기(shape) : (30000, 8)\n",
      "프랑스어 학습 입력데이터의 크기(shape) : (30000, 16)\n",
      "프랑스어 학습 출력데이터의 크기(shape) : (30000, 16)\n",
      "영어 훈련데이터의 크기(shape) : (3000, 8)\n",
      "프랑스어 학습 입력데이터의 크기(shape) : (3000, 16)\n",
      "프랑스어 학습 출력데이터의 크기(shape) : (3000, 16)\n"
     ]
    }
   ],
   "source": [
    "n_of_val = 3000\n",
    "\n",
    "encoder_input_train = encoder_input[:-n_of_val]\n",
    "decoder_input_train = decoder_input[:-n_of_val]\n",
    "decoder_target_train = decoder_target[:-n_of_val]\n",
    "\n",
    "encoder_input_test = encoder_input[-n_of_val:]\n",
    "decoder_input_test = decoder_input[-n_of_val:]\n",
    "decoder_target_test = decoder_target[-n_of_val:]\n",
    "\n",
    "print('영어 학습데이터의 크기(shape) :', encoder_input_train.shape)\n",
    "print('프랑스어 학습 입력데이터의 크기(shape) :',decoder_input_train.shape)\n",
    "print('프랑스어 학습 출력데이터의 크기(shape) :',decoder_target_train.shape)\n",
    "print('영어 훈련데이터의 크기(shape) :',np.shape(encoder_input_test))\n",
    "print('프랑스어 학습 입력데이터의 크기(shape) :',np.shape(decoder_input_test))\n",
    "print('프랑스어 학습 출력데이터의 크기(shape) :',np.shape(decoder_target_test))"
   ]
  },
  {
   "cell_type": "markdown",
   "id": "e7cd5d77",
   "metadata": {},
   "source": [
    "## (5) 모델 구성-인코더, 디코더"
   ]
  },
  {
   "cell_type": "code",
   "execution_count": 20,
   "id": "326d26b3",
   "metadata": {},
   "outputs": [],
   "source": [
    "embedding_size = 128\n",
    "hidden_size = 128\n",
    "# 인코더에서 사용할 임베딩 층 사용 예시\n",
    "encoder_inputs = Input(shape=(None, ), name='encoder_input')\n",
    "enc_emb =  Embedding(eng_vocab_size, embedding_size,\n",
    "                    input_length=max_eng_seq_len)(encoder_inputs)\n",
    "enc_masking = Masking(mask_value=0.0)(enc_emb)\n",
    "encoder_lstm = LSTM(hidden_size, dropout = 0.5, return_state=True)\n",
    "encoder_outputs, state_h, state_c = encoder_lstm(enc_masking)\n",
    "encoder_states = [state_h, state_c]"
   ]
  },
  {
   "cell_type": "code",
   "execution_count": 21,
   "id": "2ebabdcc",
   "metadata": {},
   "outputs": [],
   "source": [
    "# 디코더\n",
    "decoder_inputs = Input(shape=(None, ), name='decoder_input')\n",
    "dec_emb =  Embedding(fra_vocab_size, embedding_size)(decoder_inputs)\n",
    "dec_masking = Masking(mask_value=0.0)(dec_emb)\n",
    "decoder_lstm = LSTM(hidden_size, dropout = 0.5, return_sequences = True, return_state=True)\n",
    "decoder_outputs, _, _ = decoder_lstm(dec_masking, initial_state = encoder_states)"
   ]
  },
  {
   "cell_type": "code",
   "execution_count": 22,
   "id": "b4dc95a1",
   "metadata": {},
   "outputs": [],
   "source": [
    "# 디코더 출력\n",
    "decoder_softmax_layer = Dense(fra_vocab_size, activation='softmax')\n",
    "decoder_outputs = decoder_softmax_layer(decoder_outputs)"
   ]
  },
  {
   "cell_type": "code",
   "execution_count": 23,
   "id": "8d85a2fa",
   "metadata": {},
   "outputs": [
    {
     "name": "stdout",
     "output_type": "stream",
     "text": [
      "Model: \"model\"\n",
      "__________________________________________________________________________________________________\n",
      "Layer (type)                    Output Shape         Param #     Connected to                     \n",
      "==================================================================================================\n",
      "encoder_input (InputLayer)      [(None, None)]       0                                            \n",
      "__________________________________________________________________________________________________\n",
      "decoder_input (InputLayer)      [(None, None)]       0                                            \n",
      "__________________________________________________________________________________________________\n",
      "embedding (Embedding)           (None, None, 128)    589952      encoder_input[0][0]              \n",
      "__________________________________________________________________________________________________\n",
      "embedding_1 (Embedding)         (None, None, 128)    994176      decoder_input[0][0]              \n",
      "__________________________________________________________________________________________________\n",
      "masking (Masking)               (None, None, 128)    0           embedding[0][0]                  \n",
      "__________________________________________________________________________________________________\n",
      "masking_1 (Masking)             (None, None, 128)    0           embedding_1[0][0]                \n",
      "__________________________________________________________________________________________________\n",
      "lstm (LSTM)                     [(None, 128), (None, 131584      masking[0][0]                    \n",
      "__________________________________________________________________________________________________\n",
      "lstm_1 (LSTM)                   [(None, None, 128),  131584      masking_1[0][0]                  \n",
      "                                                                 lstm[0][1]                       \n",
      "                                                                 lstm[0][2]                       \n",
      "__________________________________________________________________________________________________\n",
      "dense (Dense)                   (None, None, 7767)   1001943     lstm_1[0][0]                     \n",
      "==================================================================================================\n",
      "Total params: 2,849,239\n",
      "Trainable params: 2,849,239\n",
      "Non-trainable params: 0\n",
      "__________________________________________________________________________________________________\n"
     ]
    }
   ],
   "source": [
    "model = Model([encoder_inputs, decoder_inputs], decoder_outputs)\n",
    "model.compile(optimizer=\"rmsprop\", loss=\"sparse_categorical_crossentropy\")\n",
    "model.summary()"
   ]
  },
  {
   "cell_type": "code",
   "execution_count": 24,
   "id": "e1d46225",
   "metadata": {},
   "outputs": [
    {
     "data": {
      "image/png": "[encoded data removed]",
      "text/plain": [
       "<IPython.core.display.Image object>"
      ]
     },
     "execution_count": 24,
     "metadata": {},
     "output_type": "execute_result"
    }
   ],
   "source": [
    "from tensorflow.keras.utils import plot_model\n",
    "plot_model(model)"
   ]
  },
  {
   "cell_type": "markdown",
   "id": "38d3c7d1",
   "metadata": {},
   "source": [
    "## (6) 학습하기"
   ]
  },
  {
   "cell_type": "code",
   "execution_count": 25,
   "id": "d48dfec3",
   "metadata": {},
   "outputs": [
    {
     "name": "stdout",
     "output_type": "stream",
     "text": [
      "Epoch 1/50\n",
      "235/235 [==============================] - 15s 28ms/step - loss: 2.1927 - val_loss: 1.6252\n",
      "Epoch 2/50\n",
      "235/235 [==============================] - 5s 19ms/step - loss: 1.5417 - val_loss: 1.4668\n",
      "Epoch 3/50\n",
      "235/235 [==============================] - 5s 19ms/step - loss: 1.3953 - val_loss: 1.3406\n",
      "Epoch 4/50\n",
      "235/235 [==============================] - 5s 19ms/step - loss: 1.2870 - val_loss: 1.2629\n",
      "Epoch 5/50\n",
      "235/235 [==============================] - 5s 19ms/step - loss: 1.2138 - val_loss: 1.2083\n",
      "Epoch 6/50\n",
      "235/235 [==============================] - 5s 19ms/step - loss: 1.1546 - val_loss: 1.1583\n",
      "Epoch 7/50\n",
      "235/235 [==============================] - 5s 19ms/step - loss: 1.1063 - val_loss: 1.1244\n",
      "Epoch 8/50\n",
      "235/235 [==============================] - 5s 19ms/step - loss: 1.0660 - val_loss: 1.0912\n",
      "Epoch 9/50\n",
      "235/235 [==============================] - 5s 19ms/step - loss: 1.0297 - val_loss: 1.0626\n",
      "Epoch 10/50\n",
      "235/235 [==============================] - 4s 19ms/step - loss: 0.9986 - val_loss: 1.0356\n",
      "Epoch 11/50\n",
      "235/235 [==============================] - 5s 19ms/step - loss: 0.9693 - val_loss: 1.0129\n",
      "Epoch 12/50\n",
      "235/235 [==============================] - 5s 19ms/step - loss: 0.9443 - val_loss: 0.9935\n",
      "Epoch 13/50\n",
      "235/235 [==============================] - 5s 19ms/step - loss: 0.9214 - val_loss: 0.9824\n",
      "Epoch 14/50\n",
      "235/235 [==============================] - 5s 19ms/step - loss: 0.9009 - val_loss: 0.9601\n",
      "Epoch 15/50\n",
      "235/235 [==============================] - 5s 19ms/step - loss: 0.8803 - val_loss: 0.9459\n",
      "Epoch 16/50\n",
      "235/235 [==============================] - 4s 19ms/step - loss: 0.8619 - val_loss: 0.9323\n",
      "Epoch 17/50\n",
      "235/235 [==============================] - 5s 19ms/step - loss: 0.8435 - val_loss: 0.9186\n",
      "Epoch 18/50\n",
      "235/235 [==============================] - 5s 19ms/step - loss: 0.8272 - val_loss: 0.9049\n",
      "Epoch 19/50\n",
      "235/235 [==============================] - 4s 19ms/step - loss: 0.8129 - val_loss: 0.8973\n",
      "Epoch 20/50\n",
      "235/235 [==============================] - 5s 19ms/step - loss: 0.8001 - val_loss: 0.8876\n",
      "Epoch 21/50\n",
      "235/235 [==============================] - 4s 19ms/step - loss: 0.7869 - val_loss: 0.8788\n",
      "Epoch 22/50\n",
      "235/235 [==============================] - 5s 19ms/step - loss: 0.7750 - val_loss: 0.8684\n",
      "Epoch 23/50\n",
      "235/235 [==============================] - 5s 19ms/step - loss: 0.7635 - val_loss: 0.8613\n",
      "Epoch 24/50\n",
      "235/235 [==============================] - 5s 19ms/step - loss: 0.7530 - val_loss: 0.8555\n",
      "Epoch 25/50\n",
      "235/235 [==============================] - 5s 20ms/step - loss: 0.7422 - val_loss: 0.8522\n",
      "Epoch 26/50\n",
      "235/235 [==============================] - 5s 19ms/step - loss: 0.7321 - val_loss: 0.8442\n",
      "Epoch 27/50\n",
      "235/235 [==============================] - 5s 19ms/step - loss: 0.7217 - val_loss: 0.8369\n",
      "Epoch 28/50\n",
      "235/235 [==============================] - 4s 19ms/step - loss: 0.7124 - val_loss: 0.8322\n",
      "Epoch 29/50\n",
      "235/235 [==============================] - 5s 19ms/step - loss: 0.7031 - val_loss: 0.8264\n",
      "Epoch 30/50\n",
      "235/235 [==============================] - 5s 19ms/step - loss: 0.6944 - val_loss: 0.8228\n",
      "Epoch 31/50\n",
      "235/235 [==============================] - 5s 19ms/step - loss: 0.6870 - val_loss: 0.8177\n",
      "Epoch 32/50\n",
      "235/235 [==============================] - 5s 19ms/step - loss: 0.6790 - val_loss: 0.8086\n",
      "Epoch 33/50\n",
      "235/235 [==============================] - 5s 19ms/step - loss: 0.6705 - val_loss: 0.8073\n",
      "Epoch 34/50\n",
      "235/235 [==============================] - 4s 19ms/step - loss: 0.6653 - val_loss: 0.8010\n",
      "Epoch 35/50\n",
      "235/235 [==============================] - 5s 19ms/step - loss: 0.6578 - val_loss: 0.7969\n",
      "Epoch 36/50\n",
      "235/235 [==============================] - 5s 19ms/step - loss: 0.6521 - val_loss: 0.7952\n",
      "Epoch 37/50\n",
      "235/235 [==============================] - 5s 19ms/step - loss: 0.6455 - val_loss: 0.7886\n",
      "Epoch 38/50\n",
      "235/235 [==============================] - 5s 20ms/step - loss: 0.6387 - val_loss: 0.7854\n",
      "Epoch 39/50\n",
      "235/235 [==============================] - 5s 19ms/step - loss: 0.6332 - val_loss: 0.7842\n",
      "Epoch 40/50\n",
      "235/235 [==============================] - 5s 19ms/step - loss: 0.6256 - val_loss: 0.7780\n",
      "Epoch 41/50\n",
      "235/235 [==============================] - 5s 19ms/step - loss: 0.6207 - val_loss: 0.7781\n",
      "Epoch 42/50\n",
      "235/235 [==============================] - 5s 19ms/step - loss: 0.6153 - val_loss: 0.7744\n",
      "Epoch 43/50\n",
      "235/235 [==============================] - 5s 19ms/step - loss: 0.6100 - val_loss: 0.7684\n",
      "Epoch 44/50\n",
      "235/235 [==============================] - 5s 20ms/step - loss: 0.6053 - val_loss: 0.7698\n",
      "Epoch 45/50\n",
      "235/235 [==============================] - 5s 19ms/step - loss: 0.5996 - val_loss: 0.7652\n",
      "Epoch 46/50\n",
      "235/235 [==============================] - 4s 19ms/step - loss: 0.5943 - val_loss: 0.7614\n",
      "Epoch 47/50\n",
      "235/235 [==============================] - 5s 19ms/step - loss: 0.5896 - val_loss: 0.7559\n",
      "Epoch 48/50\n",
      "235/235 [==============================] - 5s 19ms/step - loss: 0.5839 - val_loss: 0.7567\n",
      "Epoch 49/50\n",
      "235/235 [==============================] - 5s 19ms/step - loss: 0.5785 - val_loss: 0.7550\n",
      "Epoch 50/50\n",
      "235/235 [==============================] - 5s 19ms/step - loss: 0.5756 - val_loss: 0.7494\n"
     ]
    }
   ],
   "source": [
    "history = model.fit(x=[encoder_input_train, decoder_input_train], y=decoder_target_train, \\\n",
    "          validation_data = ([encoder_input_test, decoder_input_test], decoder_target_test),\n",
    "          batch_size=128, epochs=50)"
   ]
  },
  {
   "cell_type": "code",
   "execution_count": 26,
   "id": "4c017cc7",
   "metadata": {},
   "outputs": [
    {
     "data": {
      "image/png": "[encoded data removed]",
      "text/plain": [
       "<Figure size 432x288 with 1 Axes>"
      ]
     },
     "metadata": {
      "needs_background": "light"
     },
     "output_type": "display_data"
    }
   ],
   "source": [
    "import matplotlib.pyplot as plt\n",
    "\n",
    "history_dict = history.history\n",
    "loss = history_dict['loss']\n",
    "val_loss = history_dict['val_loss']\n",
    "\n",
    "epochs = range(1, len(loss) + 1)\n",
    "\n",
    "# loss 그래프\n",
    "plt.plot(epochs, loss, 'r', label='Training loss')\n",
    "plt.plot(epochs, val_loss, 'b', label='Validation loss')\n",
    "plt.title('Training and validation loss')\n",
    "plt.xlabel('Epochs')\n",
    "plt.ylabel('Loss')\n",
    "plt.legend()\n",
    "\n",
    "plt.show()"
   ]
  },
  {
   "cell_type": "markdown",
   "id": "6abacb3d",
   "metadata": {},
   "source": [
    "## (7) 모델 테스트하기"
   ]
  },
  {
   "cell_type": "code",
   "execution_count": 27,
   "id": "616c7f94",
   "metadata": {},
   "outputs": [
    {
     "name": "stdout",
     "output_type": "stream",
     "text": [
      "Model: \"model_1\"\n",
      "_________________________________________________________________\n",
      "Layer (type)                 Output Shape              Param #   \n",
      "=================================================================\n",
      "encoder_input (InputLayer)   [(None, None)]            0         \n",
      "_________________________________________________________________\n",
      "embedding (Embedding)        (None, None, 128)         589952    \n",
      "_________________________________________________________________\n",
      "masking (Masking)            (None, None, 128)         0         \n",
      "_________________________________________________________________\n",
      "lstm (LSTM)                  [(None, 128), (None, 128) 131584    \n",
      "=================================================================\n",
      "Total params: 721,536\n",
      "Trainable params: 721,536\n",
      "Non-trainable params: 0\n",
      "_________________________________________________________________\n"
     ]
    }
   ],
   "source": [
    "# 인코더 그대로 사용\n",
    "encoder_model = Model(inputs = encoder_inputs, outputs = encoder_states)\n",
    "encoder_model.summary()"
   ]
  },
  {
   "cell_type": "code",
   "execution_count": 28,
   "id": "059421a6",
   "metadata": {},
   "outputs": [
    {
     "data": {
      "image/png": "[encoded data removed]",
      "text/plain": [
       "<IPython.core.display.Image object>"
      ]
     },
     "execution_count": 28,
     "metadata": {},
     "output_type": "execute_result"
    }
   ],
   "source": [
    "plot_model(encoder_model)"
   ]
  },
  {
   "cell_type": "code",
   "execution_count": 29,
   "id": "905a4b45",
   "metadata": {},
   "outputs": [],
   "source": [
    "# 디코더 새롭게 변화\n",
    "decoder_state_input_h = Input(shape=(embedding_size,))\n",
    "decoder_state_input_c = Input(shape=(embedding_size,))\n",
    "decoder_states_inputs = [decoder_state_input_h, decoder_state_input_c]\n",
    "\n",
    "dec_emb2 = Embedding(fra_vocab_size, embedding_size)(decoder_inputs)\n",
    "decoder_outputs2, state_h2, state_c2 = decoder_lstm(dec_emb2, initial_state = decoder_states_inputs)\n",
    "decoder_states2 = [state_h2, state_c2]\n",
    "\n",
    "decoder_outputs2 = decoder_softmax_layer(decoder_outputs2)"
   ]
  },
  {
   "cell_type": "code",
   "execution_count": 30,
   "id": "2a2cd194",
   "metadata": {},
   "outputs": [
    {
     "name": "stdout",
     "output_type": "stream",
     "text": [
      "Model: \"model_2\"\n",
      "__________________________________________________________________________________________________\n",
      "Layer (type)                    Output Shape         Param #     Connected to                     \n",
      "==================================================================================================\n",
      "decoder_input (InputLayer)      [(None, None)]       0                                            \n",
      "__________________________________________________________________________________________________\n",
      "embedding_2 (Embedding)         (None, None, 128)    994176      decoder_input[0][0]              \n",
      "__________________________________________________________________________________________________\n",
      "input_1 (InputLayer)            [(None, 128)]        0                                            \n",
      "__________________________________________________________________________________________________\n",
      "input_2 (InputLayer)            [(None, 128)]        0                                            \n",
      "__________________________________________________________________________________________________\n",
      "lstm_1 (LSTM)                   [(None, None, 128),  131584      embedding_2[0][0]                \n",
      "                                                                 input_1[0][0]                    \n",
      "                                                                 input_2[0][0]                    \n",
      "__________________________________________________________________________________________________\n",
      "dense (Dense)                   (None, None, 7767)   1001943     lstm_1[1][0]                     \n",
      "==================================================================================================\n",
      "Total params: 2,127,703\n",
      "Trainable params: 2,127,703\n",
      "Non-trainable params: 0\n",
      "__________________________________________________________________________________________________\n"
     ]
    }
   ],
   "source": [
    "# 디코더 출력층\n",
    "decoder_model = Model(inputs=[decoder_inputs] + decoder_states_inputs, outputs=[decoder_outputs2] + decoder_states2)\n",
    "decoder_model.summary()"
   ]
  },
  {
   "cell_type": "code",
   "execution_count": 31,
   "id": "3f28871c",
   "metadata": {},
   "outputs": [
    {
     "data": {
      "image/png": "[encoded data removed]",
      "text/plain": [
       "<IPython.core.display.Image object>"
      ]
     },
     "execution_count": 31,
     "metadata": {},
     "output_type": "execute_result"
    }
   ],
   "source": [
    "plot_model(decoder_model)"
   ]
  },
  {
   "cell_type": "code",
   "execution_count": 32,
   "id": "a4e6f63c",
   "metadata": {},
   "outputs": [],
   "source": [
    "# 이미 존재하는 사전\n",
    "eng2idx = eng_tokenizer.word_index\n",
    "fra2idx = fra_tokenizer.word_index\n",
    "idx2eng = eng_tokenizer.index_word\n",
    "idx2fra = fra_tokenizer.index_word"
   ]
  },
  {
   "cell_type": "code",
   "execution_count": 33,
   "id": "e12dec13",
   "metadata": {},
   "outputs": [],
   "source": [
    "def decode_sequence(input_seq):\n",
    "    # 입력으로부터 인코더의 상태를 얻음\n",
    "    states_value = encoder_model.predict(input_seq)\n",
    "\n",
    "    # <sos>에 해당하는 원-핫 벡터 생성\n",
    "    target_seq = np.zeros((1,1))\n",
    "    target_seq[0, 0] = fra2idx['<sos>']\n",
    "    \n",
    "    stop_condition = False\n",
    "    decoded_sentence = \"\"\n",
    "\n",
    "    # stop_condition이 True가 될 때까지 루프 반복\n",
    "    while not stop_condition:\n",
    "        # 이점 시점의 상태 states_value를 현 시점의 초기 상태로 사용\n",
    "        output_tokens, h, c = decoder_model.predict([target_seq] + states_value)\n",
    "\n",
    "        # 예측 결과를 문자로 변환\n",
    "        sampled_token_index = np.argmax(output_tokens[0, -1, :])\n",
    "        sampled_char = idx2fra[sampled_token_index]\n",
    "\n",
    "        # 현재 시점의 예측 문자를 예측 문장에 추가\n",
    "        decoded_sentence += ' '+sampled_char\n",
    "\n",
    "        # <eos>에 도달하거나 최대 길이를 넘으면 중단.\n",
    "        if (sampled_char == '<eos>' or\n",
    "           len(decoded_sentence) > max_fra_seq_len):\n",
    "            stop_condition = True\n",
    "\n",
    "        # 현재 시점의 예측 결과를 다음 시점의 입력으로 사용하기 위해 저장\n",
    "        target_seq = np.zeros((1, 1))\n",
    "        target_seq[0, 0] = sampled_token_index\n",
    "\n",
    "        # 현재 시점의 상태를 다음 시점의 상태로 사용하기 위해 저장\n",
    "        states_value = [h, c]\n",
    "\n",
    "    return decoded_sentence"
   ]
  },
  {
   "cell_type": "code",
   "execution_count": 34,
   "id": "80272a79",
   "metadata": {},
   "outputs": [],
   "source": [
    "# 원문의 정수 시퀀스를 텍스트 시퀀스로 변환\n",
    "def seq2src(input_seq):\n",
    "    temp=''\n",
    "    for i in input_seq:\n",
    "        if(i!=0):\n",
    "            temp = temp + idx2eng[i]+' '\n",
    "    return temp"
   ]
  },
  {
   "cell_type": "code",
   "execution_count": 35,
   "id": "fe5aa990",
   "metadata": {},
   "outputs": [],
   "source": [
    "# 번역문의 정수 시퀀스를 텍스트 시퀀스로 변환\n",
    "def seq2tar(input_seq):\n",
    "    temp=''\n",
    "    for i in input_seq:\n",
    "        if((i!=0 and i!=fra2idx['<sos>']) and i!=fra2idx['<eos>']):\n",
    "            temp = temp + idx2fra[i] + ' '\n",
    "    return temp"
   ]
  },
  {
   "cell_type": "code",
   "execution_count": 36,
   "id": "77cf45a9",
   "metadata": {},
   "outputs": [
    {
     "name": "stdout",
     "output_type": "stream",
     "text": [
      "-----------------------------------\n",
      "입력 문장: Go.\n",
      "정답 문장: ouge \n",
      "번역기가 번역한 문장:  veuillez s'il s'i\n",
      "-----------------------------------\n",
      "입력 문장: Jump!\n",
      "정답 문장: aute\n",
      "번역기가 번역한 문장:  quelqu'un ai . \n",
      "-----------------------------------\n",
      "입력 문장: I froze.\n",
      "정답 문장: e me suis figée\n",
      "번역기가 번역한 문장:  tom tom marie mari\n",
      "-----------------------------------\n",
      "입력 문장: I read lips.\n",
      "정답 문장: e lis sur les lèvres\n",
      "번역기가 번역한 문장:  as vous faim fai\n",
      "-----------------------------------\n",
      "입력 문장: You're morons.\n",
      "정답 문장: ous êtes des crétins\n",
      "번역기가 번역한 문장:  quelle est cett\n"
     ]
    }
   ],
   "source": [
    "# 출력결과 테스트\n",
    "for seq_index in [3,33,333,3333, 10001]: # 입력 문장의 인덱스 자유롭게 선택\n",
    "    input_seq = encoder_input[seq_index: seq_index + 1]\n",
    "    decoded_sentence = decode_sequence(input_seq)\n",
    "    print(35 * \"-\")\n",
    "    print('입력 문장:', lines.eng[seq_index])\n",
    "    print('정답 문장:', lines.fra[seq_index][1:len(lines.fra[seq_index])-1]) # <sos>와 <eos> 빼고 출력\n",
    "    print('번역기가 번역한 문장:', decoded_sentence[:len(decoded_sentence)-1]) # <eos> 빼고 출력"
   ]
  },
  {
   "cell_type": "markdown",
   "id": "63c8762f",
   "metadata": {},
   "source": [
    "-한글로 번역한 결과-\n",
    "-----------------------------------  \n",
    "입력 문장: 가라.    \n",
    "정답 문장: 빨간색 (red)     \n",
    "번역기가 번역한 문장:  제발제발  (please please)  \n",
    "-----------------------------------  \n",
    "입력 문장: 뛰어라  \n",
    "정답 문장: 인증  (auth)    \n",
    "번역기가 번역한 문장:  누군가 가지고(someone have)     \n",
    "-----------------------------------  \n",
    "입력 문장: 나는 얼었다.  \n",
    "정답 문장: 나는 얼었다.. (I froze)    \n",
    "번역기가 번역한 문장:  톰 톰 마리 남편(tom tom marie husband)   \n",
    "-----------------------------------  \n",
    "입력 문장: 나는 입술을 읽습니다.    \n",
    "정답 문장: 입술읽기 (read lips)   \n",
    "번역기가 번역한 문장:  배고파요? (are you hungry do)   \n",
    "-----------------------------------  \n",
    "입력 문장: 이 바보들아.   \n",
    "정답 문장: 당신은 바보입니다 (you are morons)   \n",
    "번역기가 번역한 문장: 이게 뭔가요 (What is this?)    "
   ]
  },
  {
   "cell_type": "markdown",
   "id": "ed495929",
   "metadata": {},
   "source": [
    "-> 애초에 정답 문장이 잘못된 경우도 있었다. 전처리 과정에서 지우지 말아야 하는 단어들이 삭제된 것이 원인인 듯 하다. 번역기가 번역한 문장이 정답 문장과 완전히 다르지만 그래도 자연스러운 문장을 만들어 냈다는 것에 의의를 두어야 할 것 같다. 그리고 영어와 프랑스어를 번역하는 번역기도 아직 더 개발이 필요한 것으로 보인다 파파고보다는 구글 번역기가 좀 더 프랑스어를 잘 해석한다. "
   ]
  },
  {
   "attachments": {
    "image.png": {
     "image/png": "[encoded data removed]"
    }
   },
   "cell_type": "markdown",
   "id": "ec3ccad8",
   "metadata": {},
   "source": [
    "# 프로젝트 회고\n",
    "\n",
    "## 배운점\n",
    "1. 토큰화할 때 크게 Word-based Tokenization, Character-based Tokenization,Subword Tokenization 이렇게 3가지로 분류된다는 것을 알 수 있었다. 최근엔 Subword를 이용하는 사례가 늘어나고 있다는데 이 방법으로도 시도해보고 싶다.  \n",
    "2. 모델 학습 단계에서 오류 메세지 없이 커널이 임의로 죽는 현상을 발견하였다. 오류 메세지가 없으니까 어디에서 잘못된건지 찾기 어려웠다. 결국 원인은 정수형으로 반환해야하는데 원핫인코딩을 실행한 탓에 shape이 맞지 않아서 오류가 난 것이었다. 따라서 매번 코드블럭을 작성할 때마다 더 세심하게 봐야겠다는 생각이 들었다.   \n",
    "3. 출력 결과물의 정확도가 굉장히 많이 떨어져서 하이퍼파라미터(embadding_size, hidden_size, epoch) 몇가지를 수정하였더니 더 나은 번역기의 결과물이 나왔다. 이렇게 정확도를 높히기 위해 하는 작업들이 재밌는 것 같다.  \n",
    "\n",
    "## 아쉬운점\n",
    "\n",
    "1. 수정을 거듭할수록 결과물이 점점 나아지기는 하지만 그 변화가 미약하고 굉장히 정확도가 떨어진다. 번역기술이 얼마나 어렵고 대단한 기술인지 새삼 느꼈다.   \n",
    "2. 스스로 해결해보려고 했으나 시간이 지나도 도저히 오류가 해결될 기미가 보이지 않아서 검색도 많이하고 gpt한테도 물어보고 팀원들한테도 이야기를 했다. 결국 잘 만든 프로젝트와 1대1 비교를 한 끝에 넣지 말아야하는 코드를 넣어서 오류가 난 것임을 깨달았다. 이를 통해 아직 완전히 내가 쓰는 코드를 이해하고 있던 게 아니었음을 깨달았고 seq2seq에 대한 자세한 공부를 더 해야함을 느꼈다.   \n",
    "\n",
    "## 종합의견\n",
    "번역기술이 얼마나 어렵고 복잡한 일인지 깨달았으며 이 분야에 대해 공부한다면 어려운 큰 산을 많이 부딪히겠지만 더 나아지는 모습을 보면서 흥미와 매력을 느낄 수 있을 것 같다는 생각이 들었다. 현 기술 중에 가장 좋은 성능을 보인다는 Transfomer에 대해서도 빨리 공부하고 싶다.\n",
    "\n",
    "- seq2seq 이해를 돕는 그림 첨부\n",
    "\n",
    "![image.png](attachment:image.png)"
   ]
  },
  {
   "cell_type": "markdown",
   "id": "b599256c",
   "metadata": {},
   "source": [
    "# Reference\n",
    "1. 토큰화  \n",
    "https://wikidocs.net/166796  \n",
    "2. 정수 인코딩  \n",
    "https://wikidocs.net/31766  \n",
    "3. 케라스 임베딩층  \n",
    "https://wikidocs.net/33793  \n",
    "4. seq2seq 설명과 그림  \n",
    "https://wikidocs.net/24996  \n",
    "5. seq2seq란 무엇인가  \n",
    "https://ctkim.tistory.com/entry/RNN-seq2seq%EB%9E%80-%EB%AC%B4%EC%97%87%EC%9D%B8%EA%B0%80  "
   ]
  },
  {
   "cell_type": "code",
   "execution_count": null,
   "id": "deeb37f8",
   "metadata": {},
   "outputs": [],
   "source": []
  }
 ],
 "metadata": {
  "kernelspec": {
   "display_name": "Python 3 (ipykernel)",
   "language": "python",
   "name": "python3"
  },
  "language_info": {
   "codemirror_mode": {
    "name": "ipython",
    "version": 3
   },
   "file_extension": ".py",
   "mimetype": "text/x-python",
   "name": "python",
   "nbconvert_exporter": "python",
   "pygments_lexer": "ipython3",
   "version": "3.9.7"
  }
 },
 "nbformat": 4,
 "nbformat_minor": 5
}
