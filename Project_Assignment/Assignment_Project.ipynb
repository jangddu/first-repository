{
 "cells": [
  {
   "cell_type": "code",
   "execution_count": 10,
   "id": "16bc68e2",
   "metadata": {},
   "outputs": [
    {
     "data": {
      "text/plain": [
       "'010-95475-#####'"
      ]
     },
     "execution_count": 10,
     "metadata": {},
     "output_type": "execute_result"
    }
   ],
   "source": [
    "#first project\n",
    "def change_num(nums):\n",
    "    answer = nums.replace(nums[-5:], '#####')\n",
    "    return answer\n",
    "\n",
    "change_num('010-95475-38578')"
   ]
  },
  {
   "cell_type": "code",
   "execution_count": 11,
   "id": "2ef400b8",
   "metadata": {},
   "outputs": [
    {
     "data": {
      "text/plain": [
       "[1, 2, 3, 4, 5, 6, 7, 8, 9]"
      ]
     },
     "execution_count": 11,
     "metadata": {},
     "output_type": "execute_result"
    }
   ],
   "source": [
    "#second project\n",
    "def flatten(data):\n",
    "    output = []  \n",
    "    for index in data:\n",
    "        if type(index) == list:\n",
    "            output += flatten(index)\n",
    "        else:\n",
    "            output.append(index)\n",
    "    return output\n",
    "\n",
    "a = [[1, 2], 3, [[4, 5, 6], 7], [8, 9]]\n",
    "flatten(a)"
   ]
  },
  {
   "cell_type": "code",
   "execution_count": 12,
   "id": "3a0f491b",
   "metadata": {},
   "outputs": [
    {
     "data": {
      "text/plain": [
       "50"
      ]
     },
     "execution_count": 12,
     "metadata": {},
     "output_type": "execute_result"
    }
   ],
   "source": [
    "#thrid project\n",
    "def mul(*values):\n",
    "    output = 1\n",
    "    for num in values:\n",
    "        if num <= 10:\n",
    "            output *= num\n",
    "        else:\n",
    "            pass\n",
    "    return output\n",
    "\n",
    "mul(5, 14, 10)"
   ]
  },
  {
   "cell_type": "code",
   "execution_count": null,
   "id": "26fc3caf",
   "metadata": {},
   "outputs": [],
   "source": []
  }
 ],
 "metadata": {
  "kernelspec": {
   "display_name": "Python 3 (ipykernel)",
   "language": "python",
   "name": "python3"
  },
  "language_info": {
   "codemirror_mode": {
    "name": "ipython",
    "version": 3
   },
   "file_extension": ".py",
   "mimetype": "text/x-python",
   "name": "python",
   "nbconvert_exporter": "python",
   "pygments_lexer": "ipython3",
   "version": "3.9.7"
  }
 },
 "nbformat": 4,
 "nbformat_minor": 5
}
