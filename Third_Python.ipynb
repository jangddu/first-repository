{
 "cells": [
  {
   "cell_type": "code",
   "execution_count": 4,
   "id": "6595da88",
   "metadata": {},
   "outputs": [
    {
     "name": "stdout",
     "output_type": "stream",
     "text": [
      "name : 규봉이\n",
      "name : 규봉이\n",
      "age : 10\n",
      "gender : male\n",
      "name : 규봉이\n",
      "age : 10\n",
      "breed : 진돗개\n",
      "gender : male\n"
     ]
    }
   ],
   "source": [
    "def dog_info(**kwargs):\n",
    "    for kword, arg in kwargs.items():\n",
    "        print(kword, ':', arg)\n",
    "\n",
    "dog_info(name='규봉이')\n",
    "dog_info(name='규봉이', age=10, gender='male')\n",
    "a = {'name':'규봉이', 'age':10, 'breed':'진돗개', 'gender':'male'}\n",
    "dog_info(**a)"
   ]
  },
  {
   "cell_type": "code",
   "execution_count": null,
   "id": "1ccbb246",
   "metadata": {},
   "outputs": [],
   "source": []
  }
 ],
 "metadata": {
  "kernelspec": {
   "display_name": "Python 3 (ipykernel)",
   "language": "python",
   "name": "python3"
  },
  "language_info": {
   "codemirror_mode": {
    "name": "ipython",
    "version": 3
   },
   "file_extension": ".py",
   "mimetype": "text/x-python",
   "name": "python",
   "nbconvert_exporter": "python",
   "pygments_lexer": "ipython3",
   "version": "3.9.7"
  }
 },
 "nbformat": 4,
 "nbformat_minor": 5
}
