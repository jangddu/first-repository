{
 "cells": [
  {
   "cell_type": "code",
   "execution_count": 11,
   "id": "35c95ce9",
   "metadata": {},
   "outputs": [
    {
     "data": {
      "text/plain": [
       "tuple"
      ]
     },
     "execution_count": 11,
     "metadata": {},
     "output_type": "execute_result"
    }
   ],
   "source": [
    "a = []\n",
    "b = [1, 2, 3]\n",
    "#c = list(1)\n",
    "d = 1, 2, 3\n",
    "e = list(range(10, 31,2))\n",
    "type(d)"
   ]
  },
  {
   "cell_type": "code",
   "execution_count": 14,
   "id": "53cf542a",
   "metadata": {},
   "outputs": [
    {
     "data": {
      "text/plain": [
       "tuple"
      ]
     },
     "execution_count": 14,
     "metadata": {},
     "output_type": "execute_result"
    }
   ],
   "source": [
    "a = tuple([10, 20, 30])\n",
    "a\n",
    "type(a)"
   ]
  },
  {
   "cell_type": "code",
   "execution_count": 17,
   "id": "c7ce3ab2",
   "metadata": {},
   "outputs": [
    {
     "data": {
      "text/plain": [
       "list"
      ]
     },
     "execution_count": 17,
     "metadata": {},
     "output_type": "execute_result"
    }
   ],
   "source": [
    "  a = list([1, 2, 3]) \n",
    "a\n",
    "type(a)"
   ]
  },
  {
   "cell_type": "code",
   "execution_count": 25,
   "id": "9d35c06f",
   "metadata": {},
   "outputs": [
    {
     "data": {
      "text/plain": [
       "(-10, -7, -4, -1, 2, 5, 8)"
      ]
     },
     "execution_count": 25,
     "metadata": {},
     "output_type": "execute_result"
    }
   ],
   "source": [
    "a = range(-10, 10, 3)\n",
    "b = list(range(-10, 10, 3))\n",
    "#c = tuple(-10, 10, 3)\n",
    "d = tuple(range(-10, 10, 3))\n",
    "e = -10, 10, 3\n",
    "type(d)\n",
    "d"
   ]
  },
  {
   "cell_type": "code",
   "execution_count": 28,
   "id": "062728b9",
   "metadata": {},
   "outputs": [
    {
     "name": "stdout",
     "output_type": "stream",
     "text": [
      "[5, 3, 1, -1, -3, -5, -7, -9]\n"
     ]
    }
   ],
   "source": [
    "a = list(range(5, -10, -2))\n",
    "print(a)"
   ]
  },
  {
   "cell_type": "code",
   "execution_count": 42,
   "id": "210d2d84",
   "metadata": {},
   "outputs": [
    {
     "name": "stdout",
     "output_type": "stream",
     "text": [
      "['연진', '사라', '혜정']\n",
      "연진\n",
      "사라\n",
      "['혜정', '사라', '연진']\n"
     ]
    },
    {
     "data": {
      "text/plain": [
       "['연진', '사라', '혜정']"
      ]
     },
     "execution_count": 42,
     "metadata": {},
     "output_type": "execute_result"
    }
   ],
   "source": [
    "a = ['연진','사라','혜정'] #옴맘ㅁ마 더글로리?\n",
    "print(a)\n",
    "print(a[0])\n",
    "print(a[1])\n",
    "print(a[::-1])\n",
    "a.append('도영')\n",
    "a.pop()\n",
    "a"
   ]
  },
  {
   "cell_type": "code",
   "execution_count": 44,
   "id": "e580a611",
   "metadata": {},
   "outputs": [
    {
     "name": "stdout",
     "output_type": "stream",
     "text": [
      "리스트 a의 개수 즉 길이는  6\n",
      "리스트 a의 숫자들의 평균은  5.5\n"
     ]
    }
   ],
   "source": [
    "a = [3, 7, 4, 5, 6, 8]\n",
    "print('리스트 a의 개수 즉 길이는 ', len(a))\n",
    "print('리스트 a의 숫자들의 평균은 ', (a[0]+a[1]+a[2]+a[3]+a[4]+a[5])/len(a))"
   ]
  },
  {
   "cell_type": "code",
   "execution_count": 45,
   "id": "0594c809",
   "metadata": {},
   "outputs": [
    {
     "ename": "SyntaxError",
     "evalue": "invalid syntax (3750421067.py, line 4)",
     "output_type": "error",
     "traceback": [
      "\u001b[0;36m  File \u001b[0;32m\"/tmp/ipykernel_31/3750421067.py\"\u001b[0;36m, line \u001b[0;32m4\u001b[0m\n\u001b[0;31m    print('평균은 ', (for i in a: x+=a[i])/len(a))\u001b[0m\n\u001b[0m                   ^\u001b[0m\n\u001b[0;31mSyntaxError\u001b[0m\u001b[0;31m:\u001b[0m invalid syntax\n"
     ]
    }
   ],
   "source": [
    "a = [3, 7, 4, 5, 6, 8]\n",
    "x = 0\n",
    "print('길이는 ', len(a))\n",
    "print('평균은 ', (for i in a: x+=a[i])/len(a))"
   ]
  },
  {
   "cell_type": "code",
   "execution_count": 51,
   "id": "2416ef53",
   "metadata": {},
   "outputs": [
    {
     "data": {
      "text/plain": [
       "10"
      ]
     },
     "execution_count": 51,
     "metadata": {},
     "output_type": "execute_result"
    }
   ],
   "source": [
    "x = {'a': 10, 'b': 20}\n",
    "#x = {'a'=10, 'b'=20}\n",
    "a = dict()\n",
    "b = dict(a=10, b=20)\n",
    "c = dict({'a': 10, 'b': 20})\n",
    "type(b)\n",
    "b['a']"
   ]
  },
  {
   "cell_type": "code",
   "execution_count": 58,
   "id": "84e16138",
   "metadata": {},
   "outputs": [],
   "source": [
    "x = {10: 'Hello', 'world': 30}\n",
    "#print(x.Hello)\n",
    "#print(x('Hello'))\n",
    "#print(x[Hello])\n",
    "#print(x['Hello'])\n",
    "#print(x[10])"
   ]
  },
  {
   "cell_type": "code",
   "execution_count": 59,
   "id": "86e2d556",
   "metadata": {},
   "outputs": [
    {
     "name": "stdout",
     "output_type": "stream",
     "text": [
      "1500 2000\n"
     ]
    }
   ],
   "source": [
    "fruits = {'apple': 1500, 'pear': 3000, 'grape': 1400}\n",
    "fruits['orange'] = 2000\n",
    "print(fruits['apple'], fruits['orange'])"
   ]
  },
  {
   "cell_type": "code",
   "execution_count": 60,
   "id": "f29dd67a",
   "metadata": {},
   "outputs": [
    {
     "name": "stdout",
     "output_type": "stream",
     "text": [
      "6\n"
     ]
    }
   ],
   "source": [
    "print(len({10:0, 20:1, 30:2, 40:3, 50:4, 60:7}))"
   ]
  },
  {
   "cell_type": "code",
   "execution_count": 69,
   "id": "c8aa66fe",
   "metadata": {},
   "outputs": [
    {
     "ename": "SyntaxError",
     "evalue": "invalid syntax (4273656847.py, line 9)",
     "output_type": "error",
     "traceback": [
      "\u001b[0;36m  File \u001b[0;32m\"/tmp/ipykernel_31/4273656847.py\"\u001b[0;36m, line \u001b[0;32m9\u001b[0m\n\u001b[0;31m    if x = 10:\u001b[0m\n\u001b[0m         ^\u001b[0m\n\u001b[0;31mSyntaxError\u001b[0m\u001b[0;31m:\u001b[0m invalid syntax\n"
     ]
    }
   ],
   "source": [
    "#if (x == 10)\n",
    "#    print('10입니다.')\n",
    "#if x == 10\n",
    "#    print('10입니다.')\n",
    "#if x == 10:\n",
    "#    print('10입니다.')\n",
    "#if x == 10:\n",
    "#     print('10입니다')\n",
    "#if x = 10:\n",
    "#    print('10입니다')"
   ]
  },
  {
   "cell_type": "code",
   "execution_count": 77,
   "id": "dae9d6ef",
   "metadata": {},
   "outputs": [
    {
     "name": "stdout",
     "output_type": "stream",
     "text": [
      "10입니다\n"
     ]
    }
   ],
   "source": [
    "x = 10\n",
    "if x == 10:\n",
    "            print('10입니다')"
   ]
  },
  {
   "cell_type": "code",
   "execution_count": 75,
   "id": "ac1a1b22",
   "metadata": {},
   "outputs": [
    {
     "name": "stdout",
     "output_type": "stream",
     "text": [
      "10입니다.\n"
     ]
    }
   ],
   "source": [
    "if x == 10:\n",
    "    print('10입니다.')"
   ]
  },
  {
   "cell_type": "code",
   "execution_count": 79,
   "id": "0ca2cb08",
   "metadata": {},
   "outputs": [
    {
     "name": "stdout",
     "output_type": "stream",
     "text": [
      "0미만입니다.\n"
     ]
    }
   ],
   "source": [
    "x = -20\n",
    "\n",
    "if x < 0:\n",
    "    print('0미만입니다.')\n",
    "\n",
    "    if x == -10:\n",
    "        print('-10입니다.')\n",
    "#    if x == -20:\n",
    "#     print('-20입니다.')"
   ]
  },
  {
   "cell_type": "code",
   "execution_count": 84,
   "id": "c8374b9a",
   "metadata": {},
   "outputs": [
    {
     "name": "stdout",
     "output_type": "stream",
     "text": [
      "a는 0이다\n"
     ]
    }
   ],
   "source": [
    "a = 0\n",
    "if not a:\n",
    "    print('a는 0이다')\n",
    "\n",
    "#if a != 10:"
   ]
  },
  {
   "cell_type": "code",
   "execution_count": 86,
   "id": "816d996a",
   "metadata": {},
   "outputs": [
    {
     "ename": "SyntaxError",
     "evalue": "invalid syntax (113512362.py, line 4)",
     "output_type": "error",
     "traceback": [
      "\u001b[0;36m  File \u001b[0;32m\"/tmp/ipykernel_31/113512362.py\"\u001b[0;36m, line \u001b[0;32m4\u001b[0m\n\u001b[0;31m    else\u001b[0m\n\u001b[0m        ^\u001b[0m\n\u001b[0;31mSyntaxError\u001b[0m\u001b[0;31m:\u001b[0m invalid syntax\n"
     ]
    }
   ],
   "source": [
    "if x >= 10:\n",
    "    print('x에 들어있는 값은')\n",
    "    print('10 이상입니다.')\n",
    "else\n",
    "   print('x에 들어있는 값은')\n",
    "   print('10 미만입니다.')"
   ]
  },
  {
   "cell_type": "code",
   "execution_count": 87,
   "id": "81b568a4",
   "metadata": {},
   "outputs": [
    {
     "name": "stdout",
     "output_type": "stream",
     "text": [
      "True\n"
     ]
    }
   ],
   "source": [
    "if not '':\n",
    "    print(True)\n",
    "else:\n",
    "    print(False)"
   ]
  },
  {
   "cell_type": "code",
   "execution_count": 101,
   "id": "19a0696d",
   "metadata": {},
   "outputs": [
    {
     "name": "stdout",
     "output_type": "stream",
     "text": [
      "ok\n"
     ]
    }
   ],
   "source": [
    "x = 3\n",
    "y = 5\n",
    "#if x == 10 & y == 20: print('ok')\n",
    "#if x == 10 or y == 20: print('ok')\n",
    "#if x == 10 not y == 20: print('ok')\n",
    "#if x == 10 | y == 20: print('ok')\n",
    "if x and y: print('ok')"
   ]
  },
  {
   "cell_type": "code",
   "execution_count": 102,
   "id": "760e268b",
   "metadata": {},
   "outputs": [
    {
     "name": "stdout",
     "output_type": "stream",
     "text": [
      "홀수\n"
     ]
    }
   ],
   "source": [
    "x = 5\n",
    " \n",
    "if x % 2 == 0:\n",
    "    print('짝수')\n",
    "else:\n",
    "    print('홀수')"
   ]
  },
  {
   "cell_type": "code",
   "execution_count": 113,
   "id": "5d412278",
   "metadata": {},
   "outputs": [
    {
     "name": "stdout",
     "output_type": "stream",
     "text": [
      "1\n",
      "2\n",
      "3\n",
      "4\n",
      "5\n",
      "6\n",
      "7\n",
      "8\n",
      "9\n"
     ]
    }
   ],
   "source": [
    "#for i in range(10): print(i)\n",
    "#for i in range(5, 16): print(i)\n",
    "#for i in range(10, 0): print(i)\n",
    "#for i in range(20, 40, 2): print(i)\n",
    "for i in range(1, 10, 1): print(i)"
   ]
  },
  {
   "cell_type": "code",
   "execution_count": 118,
   "id": "4523d674",
   "metadata": {},
   "outputs": [
    {
     "name": "stdout",
     "output_type": "stream",
     "text": [
      "19\n",
      "18\n",
      "17\n",
      "16\n",
      "15\n",
      "14\n",
      "13\n",
      "12\n",
      "11\n",
      "10\n"
     ]
    }
   ],
   "source": [
    "#for i in range(20, 10):\n",
    "#    print(i)\n",
    "#for i in range(20, 10, 1):\n",
    "#    print(i)\n",
    "#for i in range(20, 9, -1):\n",
    "#    print(i)\n",
    "#for i in reversed(range(10, 21)):\n",
    "#    print(i)\n",
    "for i in reversed(range(10, 20)):\n",
    "    print(i)"
   ]
  },
  {
   "cell_type": "code",
   "execution_count": 121,
   "id": "c73a2f93",
   "metadata": {},
   "outputs": [
    {
     "name": "stdout",
     "output_type": "stream",
     "text": [
      "3\n",
      "i의 값은 0\n",
      "i의 값은 1\n",
      "i의 값은 2\n"
     ]
    }
   ],
   "source": [
    "count = int(input())\n",
    "\n",
    "for i in range(count):\n",
    "    print('i의 값은', end=' ')\n",
    "    print(i)"
   ]
  },
  {
   "cell_type": "code",
   "execution_count": 122,
   "id": "e51f54dc",
   "metadata": {},
   "outputs": [
    {
     "name": "stdout",
     "output_type": "stream",
     "text": [
      "03\n",
      "0  *  0  =  0\n",
      "0  *  1  =  0\n",
      "0  *  2  =  0\n",
      "0  *  3  =  0\n",
      "0  *  4  =  0\n",
      "0  *  5  =  0\n",
      "0  *  6  =  0\n",
      "0  *  7  =  0\n",
      "0  *  8  =  0\n"
     ]
    }
   ],
   "source": [
    "x = 0\n",
    "int(input(x))\n",
    "for i in range(9):\n",
    "    print(x, ' * ', i, ' = ', x * i)"
   ]
  },
  {
   "cell_type": "code",
   "execution_count": 127,
   "id": "3a101594",
   "metadata": {},
   "outputs": [
    {
     "name": "stdout",
     "output_type": "stream",
     "text": [
      "3\n",
      "3  *  0  =  0\n",
      "3  *  1  =  3\n",
      "3  *  2  =  6\n",
      "3  *  3  =  9\n",
      "3  *  4  =  12\n",
      "3  *  5  =  15\n",
      "3  *  6  =  18\n",
      "3  *  7  =  21\n",
      "3  *  8  =  24\n",
      "3  *  9  =  27\n"
     ]
    }
   ],
   "source": [
    "\n",
    "y =int(input())\n",
    "for i in range(10):\n",
    "    print(y, ' * ', i, ' = ', y * i)"
   ]
  },
  {
   "cell_type": "code",
   "execution_count": 129,
   "id": "0afaa9b3",
   "metadata": {},
   "outputs": [
    {
     "name": "stdout",
     "output_type": "stream",
     "text": [
      "Hello, world!\n",
      "Hello, world!\n",
      "Hello, world!\n",
      "Hello, world!\n",
      "Hello, world!\n",
      "Hello, world!\n",
      "Hello, world!\n",
      "Hello, world!\n",
      "Hello, world!\n",
      "Hello, world!\n"
     ]
    }
   ],
   "source": [
    "i = 0\n",
    "\n",
    "while i < 20:\n",
    "    print('Hello, world!')\n",
    "    i = i + 2"
   ]
  },
  {
   "cell_type": "code",
   "execution_count": 130,
   "id": "6f59caf4",
   "metadata": {},
   "outputs": [
    {
     "ename": "IndentationError",
     "evalue": "expected an indented block (4226091286.py, line 5)",
     "output_type": "error",
     "traceback": [
      "\u001b[0;36m  File \u001b[0;32m\"/tmp/ipykernel_31/4226091286.py\"\u001b[0;36m, line \u001b[0;32m5\u001b[0m\n\u001b[0;31m    #while not 0:\u001b[0m\n\u001b[0m                 ^\u001b[0m\n\u001b[0;31mIndentationError\u001b[0m\u001b[0;31m:\u001b[0m expected an indented block\n"
     ]
    }
   ],
   "source": [
    "while '':\n",
    "#while 1.1:\n",
    "#while None:\n",
    "#while False:\n",
    "#while not 0:"
   ]
  },
  {
   "cell_type": "code",
   "execution_count": null,
   "id": "05c9cdca",
   "metadata": {},
   "outputs": [],
   "source": []
  }
 ],
 "metadata": {
  "kernelspec": {
   "display_name": "Python 3 (ipykernel)",
   "language": "python",
   "name": "python3"
  },
  "language_info": {
   "codemirror_mode": {
    "name": "ipython",
    "version": 3
   },
   "file_extension": ".py",
   "mimetype": "text/x-python",
   "name": "python",
   "nbconvert_exporter": "python",
   "pygments_lexer": "ipython3",
   "version": "3.9.7"
  }
 },
 "nbformat": 4,
 "nbformat_minor": 5
}
