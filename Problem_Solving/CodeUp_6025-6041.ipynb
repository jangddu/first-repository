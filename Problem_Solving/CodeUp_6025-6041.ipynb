{
 "cells": [
  {
   "cell_type": "markdown",
   "id": "4223066a",
   "metadata": {},
   "source": [
    "# CodeUp_60025-6041\n",
    "둘째날(04.11) 코드업기초17문제"
   ]
  },
  {
   "cell_type": "markdown",
   "id": "ca09063a",
   "metadata": {},
   "source": [
    "## 6025 : [기초-값변환] 정수 2개 입력받아 합 계산하기(설명)(py)"
   ]
  },
  {
   "cell_type": "code",
   "execution_count": 1,
   "id": "71cd1146",
   "metadata": {},
   "outputs": [
    {
     "name": "stdout",
     "output_type": "stream",
     "text": [
      "3 5\n",
      "8\n"
     ]
    }
   ],
   "source": [
    "a, b = input().split()\n",
    "print(int(a)+int(b))"
   ]
  },
  {
   "cell_type": "markdown",
   "id": "f2fda2c7",
   "metadata": {},
   "source": [
    "## 6026 : [기초-값변환] 실수 2개 입력받아 합 계산하기(설명)(py)"
   ]
  },
  {
   "cell_type": "code",
   "execution_count": 1,
   "id": "8f0838b2",
   "metadata": {},
   "outputs": [
    {
     "name": "stdout",
     "output_type": "stream",
     "text": [
      "2.1 3.1\n",
      "5.2\n"
     ]
    }
   ],
   "source": [
    "a, b = map(float, input().split())\n",
    "print(a + b)"
   ]
  },
  {
   "cell_type": "markdown",
   "id": "cd2ea914",
   "metadata": {},
   "source": [
    "## 6027 : [기초-출력변환] 10진 정수 입력받아 16진수로 출력하기1(설명)(py)"
   ]
  },
  {
   "cell_type": "code",
   "execution_count": 5,
   "id": "17caea7d",
   "metadata": {},
   "outputs": [
    {
     "name": "stdout",
     "output_type": "stream",
     "text": [
      "255\n",
      "ff\n"
     ]
    }
   ],
   "source": [
    "a = int(input())\n",
    "print('%x'%a)"
   ]
  },
  {
   "cell_type": "markdown",
   "id": "eee3e316",
   "metadata": {},
   "source": [
    "## 6028 : [기초-출력변환] 10진 정수 입력받아 16진수로 출력하기2(설명)(py)"
   ]
  },
  {
   "cell_type": "code",
   "execution_count": 7,
   "id": "ce69c8d4",
   "metadata": {},
   "outputs": [
    {
     "name": "stdout",
     "output_type": "stream",
     "text": [
      "255\n",
      "FF\n"
     ]
    }
   ],
   "source": [
    "a = int(input())\n",
    "print('%X'%a)"
   ]
  },
  {
   "cell_type": "markdown",
   "id": "3d89a95f",
   "metadata": {},
   "source": [
    "## 6029 : [기초-값변환] 16진 정수 입력받아 8진수로 출력하기(설명)(py)"
   ]
  },
  {
   "cell_type": "code",
   "execution_count": 8,
   "id": "fdcac821",
   "metadata": {},
   "outputs": [
    {
     "name": "stdout",
     "output_type": "stream",
     "text": [
      "f1\n",
      "361\n"
     ]
    }
   ],
   "source": [
    "a = input()\n",
    "a = int(a, 16)\n",
    "print('%o'%a)"
   ]
  },
  {
   "cell_type": "markdown",
   "id": "20eeca95",
   "metadata": {},
   "source": [
    "## 6030 : [기초-값변환] 영문자 1개 입력받아 10진수로 변환하기(설명)(py)"
   ]
  },
  {
   "cell_type": "code",
   "execution_count": 9,
   "id": "e04834af",
   "metadata": {},
   "outputs": [
    {
     "name": "stdout",
     "output_type": "stream",
     "text": [
      "k\n",
      "107\n"
     ]
    }
   ],
   "source": [
    "a = ord(input())\n",
    "print(a)"
   ]
  },
  {
   "cell_type": "markdown",
   "id": "cb09d6f6",
   "metadata": {},
   "source": [
    "## 6031 : [기초-값변환] 정수 입력받아 유니코드 문자로 변환하기(설명)(py)"
   ]
  },
  {
   "cell_type": "code",
   "execution_count": 10,
   "id": "c441639e",
   "metadata": {},
   "outputs": [
    {
     "name": "stdout",
     "output_type": "stream",
     "text": [
      "33\n",
      "!\n"
     ]
    }
   ],
   "source": [
    "a = int(input())\n",
    "print(chr(a))"
   ]
  },
  {
   "cell_type": "markdown",
   "id": "8a940d14",
   "metadata": {},
   "source": [
    "## 6032 : [기초-산술연산] 정수 1개 입력받아 부호 바꾸기(설명)(py)"
   ]
  },
  {
   "cell_type": "code",
   "execution_count": 11,
   "id": "013f4c60",
   "metadata": {},
   "outputs": [
    {
     "name": "stdout",
     "output_type": "stream",
     "text": [
      "3\n",
      "-3\n"
     ]
    }
   ],
   "source": [
    "a = int(input())\n",
    "print(-a)"
   ]
  },
  {
   "cell_type": "markdown",
   "id": "7470e36f",
   "metadata": {},
   "source": [
    "## 6033 : [기초-산술연산] 문자 1개 입력받아 다음 문자 출력하기(설명)(py)"
   ]
  },
  {
   "cell_type": "code",
   "execution_count": 13,
   "id": "13baa5fb",
   "metadata": {},
   "outputs": [
    {
     "name": "stdout",
     "output_type": "stream",
     "text": [
      "a\n",
      "b\n"
     ]
    }
   ],
   "source": [
    "a = ord(input())\n",
    "print(chr(a+1))"
   ]
  },
  {
   "cell_type": "markdown",
   "id": "08716890",
   "metadata": {},
   "source": [
    "## 6034 : [기초-산술연산] 정수 2개 입력받아 차 계산하기(설명)(py)"
   ]
  },
  {
   "cell_type": "code",
   "execution_count": 15,
   "id": "87351047",
   "metadata": {},
   "outputs": [
    {
     "name": "stdout",
     "output_type": "stream",
     "text": [
      "5 3\n",
      "2\n"
     ]
    }
   ],
   "source": [
    "a,b = map(int,input().split())\n",
    "print(a-b)"
   ]
  },
  {
   "cell_type": "markdown",
   "id": "5a9c60b8",
   "metadata": {},
   "source": [
    "## 6035 : [기초-산술연산] 실수 2개 입력받아 곱 계산하기(설명)(py)"
   ]
  },
  {
   "cell_type": "code",
   "execution_count": 16,
   "id": "5d0b52ea",
   "metadata": {},
   "outputs": [
    {
     "name": "stdout",
     "output_type": "stream",
     "text": [
      "3.14 5.6\n",
      "17.584\n"
     ]
    }
   ],
   "source": [
    "a, b = map(float, input().split())\n",
    "print(a*b)"
   ]
  },
  {
   "cell_type": "markdown",
   "id": "b0ff0d56",
   "metadata": {},
   "source": [
    "## 6036 : [기초-산술연산] 단어 여러 번 출력하기(설명)(py)"
   ]
  },
  {
   "cell_type": "code",
   "execution_count": 17,
   "id": "dc23d7db",
   "metadata": {},
   "outputs": [
    {
     "name": "stdout",
     "output_type": "stream",
     "text": [
      "hello 3\n",
      "hellohellohello\n"
     ]
    }
   ],
   "source": [
    "a, b = input().split()\n",
    "print(a*int(b))"
   ]
  },
  {
   "cell_type": "markdown",
   "id": "0ebc25ee",
   "metadata": {},
   "source": [
    "## 6037 : [기초-산술연산] 문장 여러 번 출력하기(설명)(py)"
   ]
  },
  {
   "cell_type": "code",
   "execution_count": 18,
   "id": "c666bf85",
   "metadata": {},
   "outputs": [
    {
     "name": "stdout",
     "output_type": "stream",
     "text": [
      "3\n",
      "welcome\n",
      "welcomewelcomewelcome\n"
     ]
    }
   ],
   "source": [
    "n = input()\n",
    "s = input()\n",
    "print(int(n)*s)"
   ]
  },
  {
   "cell_type": "markdown",
   "id": "769fc563",
   "metadata": {},
   "source": [
    "## 6038 : [기초-산술연산] 정수 2개 입력받아 거듭제곱 계산하기(설명)(py)"
   ]
  },
  {
   "cell_type": "code",
   "execution_count": 19,
   "id": "7955c875",
   "metadata": {},
   "outputs": [
    {
     "name": "stdout",
     "output_type": "stream",
     "text": [
      "2 10\n",
      "1024\n"
     ]
    }
   ],
   "source": [
    "a,b = map(int,input().split())\n",
    "print(a**b)"
   ]
  },
  {
   "cell_type": "markdown",
   "id": "9cb59989",
   "metadata": {},
   "source": [
    "## 6039 : [기초-산술연산] 실수 2개 입력받아 거듭제곱 계산하기(py)"
   ]
  },
  {
   "cell_type": "code",
   "execution_count": 20,
   "id": "133c7ac8",
   "metadata": {},
   "outputs": [
    {
     "name": "stdout",
     "output_type": "stream",
     "text": [
      "3.14 3\n",
      "30.959144000000002\n"
     ]
    }
   ],
   "source": [
    "a,b = map(float,input().split())\n",
    "print(a**b)"
   ]
  },
  {
   "cell_type": "markdown",
   "id": "27088ee3",
   "metadata": {},
   "source": [
    "## 6040 : [기초-산술연산] 정수 2개 입력받아 나눈 몫 계산하기(설명)(py)"
   ]
  },
  {
   "cell_type": "code",
   "execution_count": 21,
   "id": "3b6a1b65",
   "metadata": {},
   "outputs": [
    {
     "name": "stdout",
     "output_type": "stream",
     "text": [
      "10 3\n",
      "3\n"
     ]
    }
   ],
   "source": [
    "a,b = map(int,input().split())\n",
    "print(a//b)"
   ]
  },
  {
   "cell_type": "markdown",
   "id": "ba43294a",
   "metadata": {},
   "source": [
    "## 6041 : [기초-산술연산] 정수 2개 입력받아 나눈 나머지 계산하기(설명)(py)"
   ]
  },
  {
   "cell_type": "code",
   "execution_count": 22,
   "id": "d134512f",
   "metadata": {},
   "outputs": [
    {
     "name": "stdout",
     "output_type": "stream",
     "text": [
      "20 3\n",
      "2\n"
     ]
    }
   ],
   "source": [
    "a,b = map(int,input().split())\n",
    "print(a%b)"
   ]
  },
  {
   "cell_type": "code",
   "execution_count": null,
   "id": "ab0701f6",
   "metadata": {},
   "outputs": [],
   "source": []
  }
 ],
 "metadata": {
  "kernelspec": {
   "display_name": "Python 3 (ipykernel)",
   "language": "python",
   "name": "python3"
  },
  "language_info": {
   "codemirror_mode": {
    "name": "ipython",
    "version": 3
   },
   "file_extension": ".py",
   "mimetype": "text/x-python",
   "name": "python",
   "nbconvert_exporter": "python",
   "pygments_lexer": "ipython3",
   "version": "3.9.7"
  }
 },
 "nbformat": 4,
 "nbformat_minor": 5
}
