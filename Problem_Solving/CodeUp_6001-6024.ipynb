{
 "cells": [
  {
   "cell_type": "markdown",
   "id": "8026b760",
   "metadata": {},
   "source": [
    "# CodeUp_6001-6024"
   ]
  },
  {
   "cell_type": "markdown",
   "id": "1b0437b4",
   "metadata": {},
   "source": [
    "## 6001 : [기초-출력] 출력하기01(설명)(py)"
   ]
  },
  {
   "cell_type": "code",
   "execution_count": 1,
   "id": "8e9109c6",
   "metadata": {},
   "outputs": [
    {
     "name": "stdout",
     "output_type": "stream",
     "text": [
      "Hello\n"
     ]
    }
   ],
   "source": [
    "print('Hello')"
   ]
  },
  {
   "cell_type": "markdown",
   "id": "6e5ce7ce",
   "metadata": {},
   "source": [
    "## 6002 : [기초-출력] 출력하기02(설명)(py) "
   ]
  },
  {
   "cell_type": "code",
   "execution_count": 2,
   "id": "5438e1ec",
   "metadata": {},
   "outputs": [
    {
     "name": "stdout",
     "output_type": "stream",
     "text": [
      "Hello World\n"
     ]
    }
   ],
   "source": [
    "print('Hello World')"
   ]
  },
  {
   "cell_type": "markdown",
   "id": "d965ade6",
   "metadata": {},
   "source": [
    "## 6003 : [기초-출력] 출력하기03(설명)(py)"
   ]
  },
  {
   "cell_type": "code",
   "execution_count": 3,
   "id": "b417b7c2",
   "metadata": {},
   "outputs": [
    {
     "name": "stdout",
     "output_type": "stream",
     "text": [
      "Hello\n",
      "World\n"
     ]
    }
   ],
   "source": [
    "print('Hello')\n",
    "print('World')"
   ]
  },
  {
   "cell_type": "markdown",
   "id": "df43f37a",
   "metadata": {},
   "source": [
    "## 6004 : [기초-출력] 출력하기04(설명)(py)"
   ]
  },
  {
   "cell_type": "code",
   "execution_count": 5,
   "id": "1b8e8ba4",
   "metadata": {},
   "outputs": [
    {
     "name": "stdout",
     "output_type": "stream",
     "text": [
      "'Hello'\n"
     ]
    }
   ],
   "source": [
    "print(\"'Hello'\")"
   ]
  },
  {
   "cell_type": "markdown",
   "id": "faef6962",
   "metadata": {},
   "source": [
    "## 6005 : [기초-출력] 출력하기05(설명)(py)"
   ]
  },
  {
   "cell_type": "code",
   "execution_count": 6,
   "id": "140c2e24",
   "metadata": {},
   "outputs": [
    {
     "name": "stdout",
     "output_type": "stream",
     "text": [
      "\"Hello Wolrd\"\n"
     ]
    }
   ],
   "source": [
    "print('\"Hello Wolrd\"')"
   ]
  },
  {
   "cell_type": "markdown",
   "id": "d2054917",
   "metadata": {},
   "source": [
    "## 6006 : [기초-출력] 출력하기06(py)"
   ]
  },
  {
   "cell_type": "code",
   "execution_count": 7,
   "id": "6c4b709b",
   "metadata": {},
   "outputs": [
    {
     "name": "stdout",
     "output_type": "stream",
     "text": [
      "\"!@#$%^&*()'\n"
     ]
    }
   ],
   "source": [
    "print('\\\"!@#$%^&*()\\'')"
   ]
  },
  {
   "cell_type": "markdown",
   "id": "499cf3fb",
   "metadata": {},
   "source": [
    "## 6007 : [기초-출력] 출력하기07(py)"
   ]
  },
  {
   "cell_type": "code",
   "execution_count": 8,
   "id": "c54070f1",
   "metadata": {},
   "outputs": [
    {
     "name": "stdout",
     "output_type": "stream",
     "text": [
      "\"C:\\Download\\'hello'.py\"\n"
     ]
    }
   ],
   "source": [
    "print(\"\\\"C:\\\\Download\\\\\\'hello\\'.py\\\"\")"
   ]
  },
  {
   "cell_type": "markdown",
   "id": "d1010e9a",
   "metadata": {},
   "source": [
    "## 6008 : [기초-출력] 출력하기08(py)"
   ]
  },
  {
   "cell_type": "code",
   "execution_count": 9,
   "id": "7ad612ad",
   "metadata": {},
   "outputs": [
    {
     "name": "stdout",
     "output_type": "stream",
     "text": [
      "print(\"Hello\\nWorld\")\n"
     ]
    }
   ],
   "source": [
    "print(\"print(\\\"Hello\\\\nWorld\\\")\")"
   ]
  },
  {
   "cell_type": "markdown",
   "id": "f09c7933",
   "metadata": {},
   "source": [
    "## 6009 : [기초-입출력] 문자 1개 입력받아 그대로 출력하기(설명)(py)"
   ]
  },
  {
   "cell_type": "code",
   "execution_count": 10,
   "id": "af819830",
   "metadata": {},
   "outputs": [
    {
     "name": "stdout",
     "output_type": "stream",
     "text": [
      "c\n",
      "c\n"
     ]
    }
   ],
   "source": [
    "a = input()\n",
    "print(a)"
   ]
  },
  {
   "cell_type": "markdown",
   "id": "49c6094a",
   "metadata": {},
   "source": [
    "## 6010 : [기초-입출력] 정수 1개 입력받아 int로 변환하여 출력하기(설명)(py)"
   ]
  },
  {
   "cell_type": "code",
   "execution_count": 13,
   "id": "f767a066",
   "metadata": {},
   "outputs": [
    {
     "name": "stdout",
     "output_type": "stream",
     "text": [
      "15\n",
      "15\n"
     ]
    }
   ],
   "source": [
    "print(int(input()))"
   ]
  },
  {
   "cell_type": "markdown",
   "id": "6540063c",
   "metadata": {},
   "source": [
    "## 6011 : [기초-입출력] 실수 1개 입력받아 변환하여 출력하기(설명)(py)"
   ]
  },
  {
   "cell_type": "code",
   "execution_count": 14,
   "id": "22f45551",
   "metadata": {},
   "outputs": [
    {
     "name": "stdout",
     "output_type": "stream",
     "text": [
      "3.1414926535\n",
      "3.1414926535\n"
     ]
    }
   ],
   "source": [
    "print(float(input()))"
   ]
  },
  {
   "cell_type": "markdown",
   "id": "230e8b20",
   "metadata": {},
   "source": [
    "## 6012 : [기초-입출력] 정수 2개 입력받아 그대로 출력하기1(설명)(py)"
   ]
  },
  {
   "cell_type": "code",
   "execution_count": 16,
   "id": "7719ca76",
   "metadata": {},
   "outputs": [
    {
     "name": "stdout",
     "output_type": "stream",
     "text": [
      "3\n",
      "5\n",
      "3 5\n"
     ]
    }
   ],
   "source": [
    "a= int(input())\n",
    "b= int(input())\n",
    "print(a, b)"
   ]
  },
  {
   "cell_type": "markdown",
   "id": "7a73d406",
   "metadata": {},
   "source": [
    "## 6013 : [기초-입출력] 문자 2개 입력받아 순서 바꿔 출력하기1(py)"
   ]
  },
  {
   "cell_type": "code",
   "execution_count": 17,
   "id": "5c297a6d",
   "metadata": {},
   "outputs": [
    {
     "name": "stdout",
     "output_type": "stream",
     "text": [
      "a\n",
      "b\n",
      "b a\n"
     ]
    }
   ],
   "source": [
    "a= input()\n",
    "b= input()\n",
    "print(b, a)"
   ]
  },
  {
   "cell_type": "markdown",
   "id": "3852118c",
   "metadata": {},
   "source": [
    "## 6014 : [기초-입출력] 실수 1개 입력받아 3번 출력하기(py)"
   ]
  },
  {
   "cell_type": "code",
   "execution_count": 19,
   "id": "7310123a",
   "metadata": {},
   "outputs": [
    {
     "name": "stdout",
     "output_type": "stream",
     "text": [
      "0.1\n",
      "0.1\n",
      "0.1\n",
      "0.1\n"
     ]
    }
   ],
   "source": [
    "a = float(input())\n",
    "print(a)\n",
    "print(a)\n",
    "print(a)"
   ]
  },
  {
   "cell_type": "markdown",
   "id": "70065a53",
   "metadata": {},
   "source": [
    "## 6015 : [기초-입출력] 정수 2개 입력받아 그대로 출력하기2(설명)(py)"
   ]
  },
  {
   "cell_type": "code",
   "execution_count": 20,
   "id": "c9abac67",
   "metadata": {},
   "outputs": [
    {
     "name": "stdout",
     "output_type": "stream",
     "text": [
      "1 2\n",
      "1\n",
      "2\n"
     ]
    }
   ],
   "source": [
    "a,b = map(int,input().split())\n",
    "print(a)\n",
    "print(b)"
   ]
  },
  {
   "cell_type": "markdown",
   "id": "8d255c22",
   "metadata": {},
   "source": [
    "## 6016 : [기초-입출력] 문자 2개 입력받아 순서 바꿔 출력하기2(설명)(py)"
   ]
  },
  {
   "cell_type": "code",
   "execution_count": 21,
   "id": "be3f86c8",
   "metadata": {},
   "outputs": [
    {
     "name": "stdout",
     "output_type": "stream",
     "text": [
      "a b\n",
      "b a\n"
     ]
    }
   ],
   "source": [
    "a,b=input().split()\n",
    "print(b,a)"
   ]
  },
  {
   "cell_type": "markdown",
   "id": "5592927f",
   "metadata": {},
   "source": [
    "## 6017 : [기초-입출력] 문장 1개 입력받아 3번 출력하기(설명)(py)"
   ]
  },
  {
   "cell_type": "code",
   "execution_count": 22,
   "id": "305f0b1c",
   "metadata": {},
   "outputs": [
    {
     "name": "stdout",
     "output_type": "stream",
     "text": [
      "Hello\n",
      "Hello Hello Hello\n"
     ]
    }
   ],
   "source": [
    "a = input()\n",
    "print(a,a,a)"
   ]
  },
  {
   "cell_type": "markdown",
   "id": "1d593794",
   "metadata": {},
   "source": [
    "## 6018 : [기초-입출력] 시간 입력받아 그대로 출력하기(설명)(py)"
   ]
  },
  {
   "cell_type": "code",
   "execution_count": 25,
   "id": "f6ecd00c",
   "metadata": {},
   "outputs": [
    {
     "name": "stdout",
     "output_type": "stream",
     "text": [
      "3:16\n",
      "3:16\n"
     ]
    }
   ],
   "source": [
    "a,b = input().split(':')\n",
    "print(a,b,sep=':')"
   ]
  },
  {
   "cell_type": "markdown",
   "id": "e89d9c05",
   "metadata": {},
   "source": [
    "## 6019 : [기초-입출력] 연월일 입력받아 순서 바꿔 출력하기(py)"
   ]
  },
  {
   "cell_type": "code",
   "execution_count": 27,
   "id": "13106ee5",
   "metadata": {},
   "outputs": [
    {
     "name": "stdout",
     "output_type": "stream",
     "text": [
      "2023.04.06\n",
      "06-04-2023\n"
     ]
    }
   ],
   "source": [
    "y,m,d = input().split('.')\n",
    "print(d,m,y,sep='-')"
   ]
  },
  {
   "cell_type": "markdown",
   "id": "1d7024ea",
   "metadata": {},
   "source": [
    "## 6020 : [기초-입출력] 주민번호 입력받아 형태 바꿔 출력하기(py)"
   ]
  },
  {
   "cell_type": "code",
   "execution_count": 28,
   "id": "0cfaa309",
   "metadata": {},
   "outputs": [
    {
     "name": "stdout",
     "output_type": "stream",
     "text": [
      "123455-2344332\n",
      "1234552344332\n"
     ]
    }
   ],
   "source": [
    "a,b = input().split('-')\n",
    "print(a,b,sep='')"
   ]
  },
  {
   "cell_type": "markdown",
   "id": "95652370",
   "metadata": {},
   "source": [
    "## 6021 : [기초-입출력] 단어 1개 입력받아 나누어 출력하기(설명)(py)"
   ]
  },
  {
   "cell_type": "code",
   "execution_count": 29,
   "id": "987cd4f0",
   "metadata": {},
   "outputs": [
    {
     "name": "stdout",
     "output_type": "stream",
     "text": [
      "Hello\n",
      "H\n",
      "e\n",
      "l\n",
      "l\n",
      "o\n"
     ]
    }
   ],
   "source": [
    "s = input()\n",
    "print(s[0])\n",
    "print(s[1])\n",
    "print(s[2])\n",
    "print(s[3])\n",
    "print(s[4])"
   ]
  },
  {
   "cell_type": "markdown",
   "id": "d92526ee",
   "metadata": {},
   "source": [
    "## 6022 : [기초-입출력] 연월일 입력받아 나누어 출력하기(설명)(py)"
   ]
  },
  {
   "cell_type": "code",
   "execution_count": 30,
   "id": "b3087577",
   "metadata": {},
   "outputs": [
    {
     "name": "stdout",
     "output_type": "stream",
     "text": [
      "HelloWolrd\n",
      "He ll oW\n"
     ]
    }
   ],
   "source": [
    "s = input()\n",
    "print(s[0:2],s[2:4],s[4:6])"
   ]
  },
  {
   "cell_type": "markdown",
   "id": "0bdad41c",
   "metadata": {},
   "source": [
    "## 6023 : [기초-입출력] 시분초 입력받아 분만 출력하기(py)"
   ]
  },
  {
   "cell_type": "code",
   "execution_count": 31,
   "id": "b44d6c7b",
   "metadata": {},
   "outputs": [
    {
     "name": "stdout",
     "output_type": "stream",
     "text": [
      "18:20:22\n",
      "20\n"
     ]
    }
   ],
   "source": [
    "s = input().split(':') \n",
    "print(s[1])"
   ]
  },
  {
   "cell_type": "markdown",
   "id": "fbcfa202",
   "metadata": {},
   "source": [
    "## 6024 : [기초-입출력] 단어 2개 입력받아 이어 붙이기(설명)(py)"
   ]
  },
  {
   "cell_type": "code",
   "execution_count": 33,
   "id": "f36626f5",
   "metadata": {},
   "outputs": [
    {
     "name": "stdout",
     "output_type": "stream",
     "text": [
      "Hello Word\n",
      "HelloWord\n"
     ]
    }
   ],
   "source": [
    "a, b = input().split()\n",
    "s = a + b \n",
    "print(s)"
   ]
  }
 ],
 "metadata": {
  "kernelspec": {
   "display_name": "Python 3 (ipykernel)",
   "language": "python",
   "name": "python3"
  },
  "language_info": {
   "codemirror_mode": {
    "name": "ipython",
    "version": 3
   },
   "file_extension": ".py",
   "mimetype": "text/x-python",
   "name": "python",
   "nbconvert_exporter": "python",
   "pygments_lexer": "ipython3",
   "version": "3.9.7"
  }
 },
 "nbformat": 4,
 "nbformat_minor": 5
}
