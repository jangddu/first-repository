{
 "cells": [
  {
   "cell_type": "markdown",
   "id": "2356c46a",
   "metadata": {},
   "source": [
    "# CodeUp_6061-6082\n",
    "넷째날(04.18) 코드업기초22문제"
   ]
  },
  {
   "cell_type": "markdown",
   "id": "4e2a3fcb",
   "metadata": {},
   "source": [
    "## 6061 : [기초-비트단위논리연산] 비트단위로 OR 하여 출력하기(설명)(py)"
   ]
  },
  {
   "cell_type": "code",
   "execution_count": 1,
   "id": "9d9348bb",
   "metadata": {},
   "outputs": [
    {
     "name": "stdout",
     "output_type": "stream",
     "text": [
      "3 5\n",
      "7\n"
     ]
    }
   ],
   "source": [
    "a,b = map(int,input().split())\n",
    "print(a|b)"
   ]
  },
  {
   "cell_type": "markdown",
   "id": "b3e97710",
   "metadata": {},
   "source": [
    "## 6062 : [기초-비트단위논리연산] 비트단위로 XOR 하여 출력하기(설명)(py)"
   ]
  },
  {
   "cell_type": "code",
   "execution_count": 2,
   "id": "f95e2ebe",
   "metadata": {},
   "outputs": [
    {
     "name": "stdout",
     "output_type": "stream",
     "text": [
      "4 2\n",
      "6\n"
     ]
    }
   ],
   "source": [
    "a,b = map(int,input().split())\n",
    "print(a^b)"
   ]
  },
  {
   "cell_type": "markdown",
   "id": "d0f660e6",
   "metadata": {},
   "source": [
    "## 6063 : [기초-3항연산] 정수 2개 입력받아 큰 값 출력하기(설명)(py)"
   ]
  },
  {
   "cell_type": "code",
   "execution_count": 3,
   "id": "1f2d2cac",
   "metadata": {},
   "outputs": [
    {
     "name": "stdout",
     "output_type": "stream",
     "text": [
      "4 2\n",
      "4\n"
     ]
    }
   ],
   "source": [
    "a,b = map(int,input().split())\n",
    "if a>=b:\n",
    "    print(a)\n",
    "else: \n",
    "    print(b)"
   ]
  },
  {
   "cell_type": "markdown",
   "id": "53441c20",
   "metadata": {},
   "source": [
    "## 6064 : [기초-3항연산] 정수 3개 입력받아 가장 작은 값 출력하기(설명)(py)"
   ]
  },
  {
   "cell_type": "code",
   "execution_count": 4,
   "id": "09270341",
   "metadata": {},
   "outputs": [
    {
     "name": "stdout",
     "output_type": "stream",
     "text": [
      "1 5 9\n",
      "1\n"
     ]
    }
   ],
   "source": [
    "a,b,c = map(int, input().split())\n",
    "if a < b and a < c:\n",
    "    print(a)\n",
    "elif b < c:\n",
    "    print(b)\n",
    "else:\n",
    "    print(c)"
   ]
  },
  {
   "cell_type": "code",
   "execution_count": 5,
   "id": "ae5f2460",
   "metadata": {},
   "outputs": [
    {
     "name": "stdout",
     "output_type": "stream",
     "text": [
      "3 44 555\n",
      "3\n"
     ]
    }
   ],
   "source": [
    "a,b,c = map(int, input().split())\n",
    "print(min(a, b, c))"
   ]
  },
  {
   "cell_type": "markdown",
   "id": "47615067",
   "metadata": {},
   "source": [
    "## 6065 : [기초-조건/선택실행구조] 정수 3개 입력받아 짝수만 출력하기(설명)(py)"
   ]
  },
  {
   "cell_type": "code",
   "execution_count": 6,
   "id": "40bb1519",
   "metadata": {},
   "outputs": [
    {
     "name": "stdout",
     "output_type": "stream",
     "text": [
      "1 2 3\n",
      "2\n"
     ]
    }
   ],
   "source": [
    "a,b,c = map(int,input().split())\n",
    "if a % 2 ==0:\n",
    "    print(a)\n",
    "if b % 2 ==0:\n",
    "    print(b)\n",
    "if c % 2 ==0:\n",
    "    print(c)"
   ]
  },
  {
   "cell_type": "markdown",
   "id": "18f89964",
   "metadata": {},
   "source": [
    "## 6066 : [기초-조건/선택실행구조] 정수 3개 입력받아 짝/홀 출력하기(설명)(py)"
   ]
  },
  {
   "cell_type": "code",
   "execution_count": 7,
   "id": "2f0f4bf7",
   "metadata": {},
   "outputs": [
    {
     "name": "stdout",
     "output_type": "stream",
     "text": [
      "2 9 5\n",
      "even\n",
      "odd\n",
      "odd\n"
     ]
    }
   ],
   "source": [
    "a,b,c = map(int,input().split())\n",
    "if a % 2 ==0:\n",
    "    print('even')\n",
    "else:\n",
    "    print('odd')\n",
    "if b % 2 ==0:\n",
    "    print('even')\n",
    "else:\n",
    "    print('odd')\n",
    "if c % 2 ==0:\n",
    "    print('even')\n",
    "else:\n",
    "    print('odd')"
   ]
  },
  {
   "cell_type": "markdown",
   "id": "aba19b6b",
   "metadata": {},
   "source": [
    "## 6067 : [기초-조건/선택실행구조] 정수 1개 입력받아 분류하기(설명)(py)"
   ]
  },
  {
   "cell_type": "code",
   "execution_count": 8,
   "id": "589642b8",
   "metadata": {},
   "outputs": [
    {
     "name": "stdout",
     "output_type": "stream",
     "text": [
      "-30\n",
      "A\n"
     ]
    }
   ],
   "source": [
    "a = int(input())\n",
    "if (a < 0):\n",
    "    if (a % 2 == 0):\n",
    "        print(\"A\")\n",
    "    else:\n",
    "        print(\"B\")\n",
    "else:\n",
    "    if (a % 2 == 0):\n",
    "        print(\"C\")\n",
    "    else:\n",
    "        print(\"D\")"
   ]
  },
  {
   "cell_type": "markdown",
   "id": "62278c40",
   "metadata": {},
   "source": [
    "## 6068 : [기초-조건/선택실행구조] 점수 입력받아 평가 출력하기(설명)(py)"
   ]
  },
  {
   "cell_type": "code",
   "execution_count": 9,
   "id": "50ac7521",
   "metadata": {},
   "outputs": [
    {
     "name": "stdout",
     "output_type": "stream",
     "text": [
      "76\n",
      "B\n"
     ]
    }
   ],
   "source": [
    "a=int(input())\n",
    "if a>=90:\n",
    "    print(\"A\")\n",
    "elif a>=70:\n",
    "    print(\"B\")\n",
    "elif a>=40:\n",
    "    print(\"C\")\n",
    "else:\n",
    "    print(\"D\")"
   ]
  },
  {
   "cell_type": "markdown",
   "id": "4b2e9401",
   "metadata": {},
   "source": [
    "## 6069 : [기초-조건/선택실행구조] 평가 입력받아 다르게 출력하기(py)"
   ]
  },
  {
   "cell_type": "code",
   "execution_count": 10,
   "id": "c333a540",
   "metadata": {},
   "outputs": [
    {
     "name": "stdout",
     "output_type": "stream",
     "text": [
      "B\n",
      "good!!\n"
     ]
    }
   ],
   "source": [
    "a=input()\n",
    "if a=='A':\n",
    "    print(\"best!!!\")\n",
    "elif a=='B':\n",
    "    print(\"good!!\")\n",
    "elif a=='C':\n",
    "    print(\"run!\")\n",
    "elif a=='D':\n",
    "    print(\"slowly~\")\n",
    "else:\n",
    "    print(\"what?\")"
   ]
  },
  {
   "cell_type": "markdown",
   "id": "cabaaed1",
   "metadata": {},
   "source": [
    "## 6070 : [기초-조건/선택실행구조] 월 입력받아 계절 출력하기(설명)(py)"
   ]
  },
  {
   "cell_type": "code",
   "execution_count": 11,
   "id": "404d54af",
   "metadata": {},
   "outputs": [
    {
     "name": "stdout",
     "output_type": "stream",
     "text": [
      "4\n",
      "spring\n"
     ]
    }
   ],
   "source": [
    "a=int(input())\n",
    "if a//3 ==1:\n",
    "    print('spring')\n",
    "elif a//3 == 2:\n",
    "    print('summer')\n",
    "elif a//3 == 3:\n",
    "    print('fall')\n",
    "else:\n",
    "    print('winter')"
   ]
  },
  {
   "cell_type": "markdown",
   "id": "3ab98a07",
   "metadata": {},
   "source": [
    "## 6071 : [기초-반복실행구조] 0 입력될 때까지 무한 출력하기(설명)(py)"
   ]
  },
  {
   "cell_type": "code",
   "execution_count": 15,
   "id": "19f0c14d",
   "metadata": {},
   "outputs": [
    {
     "name": "stdout",
     "output_type": "stream",
     "text": [
      "3\n",
      "3\n",
      "6\n",
      "6\n",
      "9\n",
      "9\n",
      "0\n"
     ]
    }
   ],
   "source": [
    "a = int(input())\n",
    "\n",
    "while a != 0:\n",
    "    print(a)\n",
    "    a=int(input())"
   ]
  },
  {
   "cell_type": "markdown",
   "id": "2f7d3bbb",
   "metadata": {},
   "source": [
    "## 6072 : [기초-반복실행구조] 정수 1개 입력받아 카운트다운 출력하기1(설명)(py)"
   ]
  },
  {
   "cell_type": "code",
   "execution_count": 16,
   "id": "82572570",
   "metadata": {},
   "outputs": [
    {
     "name": "stdout",
     "output_type": "stream",
     "text": [
      "5\n",
      "5\n",
      "4\n",
      "3\n",
      "2\n",
      "1\n"
     ]
    }
   ],
   "source": [
    "a = int(input())\n",
    "\n",
    "while a != 0:\n",
    "    print(a)\n",
    "    a -= 1"
   ]
  },
  {
   "cell_type": "markdown",
   "id": "8f2773c5",
   "metadata": {},
   "source": [
    "## 6073 : [기초-반복실행구조] 정수 1개 입력받아 카운트다운 출력하기2(py) "
   ]
  },
  {
   "cell_type": "code",
   "execution_count": 17,
   "id": "c605a8bc",
   "metadata": {},
   "outputs": [
    {
     "name": "stdout",
     "output_type": "stream",
     "text": [
      "6\n",
      "5\n",
      "4\n",
      "3\n",
      "2\n",
      "1\n",
      "0\n"
     ]
    }
   ],
   "source": [
    "n = int(input())\n",
    "\n",
    "while n!=0 :\n",
    "    n = n-1\n",
    "    print(n)"
   ]
  },
  {
   "cell_type": "markdown",
   "id": "a8235b76",
   "metadata": {},
   "source": [
    "## 6074 : [기초-반복실행구조] 문자 1개 입력받아 알파벳 출력하기(설명)(py)"
   ]
  },
  {
   "cell_type": "code",
   "execution_count": 19,
   "id": "265ee3a5",
   "metadata": {},
   "outputs": [
    {
     "name": "stdout",
     "output_type": "stream",
     "text": [
      "f\n",
      "a b c d e f "
     ]
    }
   ],
   "source": [
    "c = ord(input())\n",
    "t = ord('a')\n",
    "while t<=c :\n",
    "  print(chr(t), end=' ')\n",
    "  t += 1"
   ]
  },
  {
   "cell_type": "markdown",
   "id": "28ff531b",
   "metadata": {},
   "source": [
    "## 6075 : [기초-반복실행구조] 정수 1개 입력받아 그 수까지 출력하기1(py)"
   ]
  },
  {
   "cell_type": "code",
   "execution_count": 20,
   "id": "5cddbfae",
   "metadata": {},
   "outputs": [
    {
     "name": "stdout",
     "output_type": "stream",
     "text": [
      "10\n",
      "0\n",
      "1\n",
      "2\n",
      "3\n",
      "4\n",
      "5\n",
      "6\n",
      "7\n",
      "8\n",
      "9\n",
      "10\n"
     ]
    }
   ],
   "source": [
    "n = int(input())\n",
    "s = 0\n",
    "while n != -1:\n",
    "    print(s)\n",
    "    s += 1\n",
    "    n-= 1"
   ]
  },
  {
   "cell_type": "markdown",
   "id": "473d75f6",
   "metadata": {},
   "source": [
    "## 6076 : [기초-반복실행구조] 정수 1개 입력받아 그 수까지 출력하기2(설명)(py)"
   ]
  },
  {
   "cell_type": "code",
   "execution_count": 21,
   "id": "3647629c",
   "metadata": {},
   "outputs": [
    {
     "name": "stdout",
     "output_type": "stream",
     "text": [
      "5\n",
      "0\n",
      "1\n",
      "2\n",
      "3\n",
      "4\n",
      "5\n"
     ]
    }
   ],
   "source": [
    "n = int(input())\n",
    "for i in range(n+1) :\n",
    "  print(i)"
   ]
  },
  {
   "cell_type": "markdown",
   "id": "9510ddd2",
   "metadata": {},
   "source": [
    "## 6077 : [기초-종합] 짝수 합 구하기(설명)(py)"
   ]
  },
  {
   "cell_type": "code",
   "execution_count": 22,
   "id": "08da48ad",
   "metadata": {},
   "outputs": [
    {
     "name": "stdout",
     "output_type": "stream",
     "text": [
      "8\n",
      "20\n"
     ]
    }
   ],
   "source": [
    "n = int(input())\n",
    "s = 0\n",
    "for i in range(1, n+1) :\n",
    "  if i%2==0 :\n",
    "    s += i\n",
    "\n",
    "print(s)\n"
   ]
  },
  {
   "cell_type": "markdown",
   "id": "bd05dbe4",
   "metadata": {},
   "source": [
    "## 6078 : [기초-종합] 원하는 문자가 입력될 때까지 반복 출력하기(py)"
   ]
  },
  {
   "cell_type": "code",
   "execution_count": 25,
   "id": "4391ece4",
   "metadata": {},
   "outputs": [
    {
     "name": "stdout",
     "output_type": "stream",
     "text": [
      "w\n",
      "w\n",
      "e\n",
      "e\n",
      "r\n",
      "r\n",
      "q\n",
      "q\n"
     ]
    }
   ],
   "source": [
    "while True:\n",
    "     x=input()\n",
    "     print(x)\n",
    "     if x=='q':\n",
    "          break"
   ]
  },
  {
   "cell_type": "markdown",
   "id": "3aa75cb9",
   "metadata": {},
   "source": [
    "## 6079 : [기초-종합] 언제까지 더해야 할까?(py)"
   ]
  },
  {
   "cell_type": "code",
   "execution_count": 31,
   "id": "247bf722",
   "metadata": {},
   "outputs": [
    {
     "name": "stdout",
     "output_type": "stream",
     "text": [
      "5\n",
      "3\n"
     ]
    }
   ],
   "source": [
    "a = int(input())\n",
    "s = 0\n",
    "i = 0\n",
    "while 1:\n",
    "    if s >= a:\n",
    "        break\n",
    "    s += i\n",
    "    i += 1\n",
    "print(i-1)"
   ]
  },
  {
   "cell_type": "markdown",
   "id": "693a0970",
   "metadata": {},
   "source": [
    "## 6080 : [기초-종합] 주사위 2개 던지기(설명)(py)"
   ]
  },
  {
   "cell_type": "code",
   "execution_count": 32,
   "id": "0d9d53a4",
   "metadata": {},
   "outputs": [
    {
     "name": "stdout",
     "output_type": "stream",
     "text": [
      "2 3\n",
      "1 1\n",
      "1 2\n",
      "1 3\n",
      "2 1\n",
      "2 2\n",
      "2 3\n"
     ]
    }
   ],
   "source": [
    "n, m = map(int, input().split())\n",
    "for i in range(1, n+1):\n",
    "    for j in range(1, m+1):\n",
    "        print(i, j)"
   ]
  },
  {
   "cell_type": "markdown",
   "id": "1f70c54a",
   "metadata": {},
   "source": [
    "## 6081 : [기초-종합] 16진수 구구단 출력하기(py)"
   ]
  },
  {
   "cell_type": "code",
   "execution_count": 34,
   "id": "966349c5",
   "metadata": {},
   "outputs": [
    {
     "name": "stdout",
     "output_type": "stream",
     "text": [
      "B\n",
      "B*1=B\n",
      "B*2=16\n",
      "B*3=21\n",
      "B*4=2C\n",
      "B*5=37\n",
      "B*6=42\n",
      "B*7=4D\n",
      "B*8=58\n",
      "B*9=63\n",
      "B*A=6E\n",
      "B*B=79\n",
      "B*C=84\n",
      "B*D=8F\n",
      "B*E=9A\n",
      "B*F=A5\n"
     ]
    }
   ],
   "source": [
    "n = int(input(), 16)\n",
    "for i in range(1, int('F', 16)+1):\n",
    "    print('%X'%n, '*%X'%i, '=%X'%(n*i), sep='')"
   ]
  },
  {
   "cell_type": "markdown",
   "id": "0fe58b75",
   "metadata": {},
   "source": [
    "## 6082 : [기초-종합] 3 6 9 게임의 왕이 되자(설명)(py)"
   ]
  },
  {
   "cell_type": "code",
   "execution_count": 42,
   "id": "cec01635",
   "metadata": {},
   "outputs": [
    {
     "name": "stdout",
     "output_type": "stream",
     "text": [
      "29\n",
      "1 2 X 4 5 X 7 8 X 10 11 12 X 14 15 X 17 18 X 20 21 22 X 24 25 X 27 28 X "
     ]
    }
   ],
   "source": [
    "#n범위: 1~29\n",
    "n = int(input())\n",
    "for i in range(1, n+1) :\n",
    "    if i <=10:\n",
    "        if i%3==0 :\n",
    "            print(\"X\", end=' ')    #출력 후 공백문자(빈칸, ' ')로 끝냄\n",
    "        else:\n",
    "            print(i, end=' ')\n",
    "    elif 10 < i <= 20: \n",
    "        if (i -10)%3 ==0:\n",
    "            print(\"X\", end=' ')  \n",
    "        else:\n",
    "            print(i, end=' ')\n",
    "    elif i > 20:\n",
    "        if (i - 20)%3 ==0:\n",
    "            print(\"X\", end=' ')  \n",
    "        else:\n",
    "            print(i, end=' ')"
   ]
  },
  {
   "cell_type": "code",
   "execution_count": 43,
   "id": "eb5f083c",
   "metadata": {},
   "outputs": [
    {
     "name": "stdout",
     "output_type": "stream",
     "text": [
      "39\n",
      "1 2 X 4 5 X 7 8 X 10 11 12 X 14 15 X 17 18 X 20 21 22 X 24 25 X 27 28 X X X X XX X X XX X X XX "
     ]
    }
   ],
   "source": [
    "#만약 30 이상 숫자는?\n",
    "n = int(input()) \n",
    "for i in range(1,n+1):\n",
    "    s = str(i)\n",
    "    num = 0\n",
    "    for x in s:\n",
    "        if (x=='3') or (x=='6') or (x=='9'):\n",
    "            num+=1\n",
    "    if num == 0:\n",
    "        print(i,end=' ')\n",
    "    else:\n",
    "        print(num*'X',end=' ')"
   ]
  },
  {
   "cell_type": "code",
   "execution_count": null,
   "id": "e56bb32d",
   "metadata": {},
   "outputs": [],
   "source": []
  }
 ],
 "metadata": {
  "kernelspec": {
   "display_name": "Python 3 (ipykernel)",
   "language": "python",
   "name": "python3"
  },
  "language_info": {
   "codemirror_mode": {
    "name": "ipython",
    "version": 3
   },
   "file_extension": ".py",
   "mimetype": "text/x-python",
   "name": "python",
   "nbconvert_exporter": "python",
   "pygments_lexer": "ipython3",
   "version": "3.9.7"
  }
 },
 "nbformat": 4,
 "nbformat_minor": 5
}
