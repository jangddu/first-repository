{
 "cells": [
  {
   "cell_type": "markdown",
   "id": "49aa363a",
   "metadata": {},
   "source": [
    "# 노드북 스터디: 넘파이 문제풀이\n",
    "\n",
    "## 문제 1번\n",
    "> 일본에는 한식 열풍이 불고 있습니다. 기회를 엿본 영훈이는 대기업을 퇴사하고 신주쿠에 프랜차이즈 ‘품생사닭갈비’ 가맹점을 냈습니다. 그러나 보수적인 아버지께서는 번듯한 직장을 박차고 나온 영훈이가 못마땅합니다. 아버지를 안심시키기 위해 매달 매출을 보고하려고 하는데요.\n",
    "> \n",
    "\n",
    "문제) 엔화(¥)로 저장한 매출 데이터를 원화(₩)로 변환하는 작업이 필요합니다. numpy를 이용하여 엔화 매출이 담겨 있는 파이썬 리스트가 주어졌습니다. 1엔에 10.38원이라고 가정하고, 원화 매출이 담긴 numpy array를 만들어 출력해주세요. (문제 데이터를 활용해주세요.)"
   ]
  },
  {
   "cell_type": "code",
   "execution_count": 1,
   "id": "ce8a5edd",
   "metadata": {},
   "outputs": [],
   "source": [
    "import numpy as np\n",
    "\n",
    "# revenue_in_yen : 엔화(¥) 매출 데이터\n",
    "revenue_in_yen = [\n",
    "    300000, 340000, 320000, 360000,\n",
    "    440000, 140000, 180000, 340000,\n",
    "    330000, 290000, 280000, 380000,\n",
    "    170000, 140000, 230000, 390000,\n",
    "    400000, 350000, 380000, 380000,\n",
    "    340000, 420000, 150000, 130000,\n",
    "    360000, 320000, 250000\n",
    "]"
   ]
  },
  {
   "cell_type": "code",
   "execution_count": 4,
   "id": "efd1d4bf",
   "metadata": {},
   "outputs": [
    {
     "name": "stdout",
     "output_type": "stream",
     "text": [
      "[300000 340000 320000 360000 440000 140000 180000 340000 330000 290000\n",
      " 280000 380000 170000 140000 230000 390000 400000 350000 380000 380000\n",
      " 340000 420000 150000 130000 360000 320000 250000]\n",
      "[3114000. 3529200. 3321600. 3736800. 4567200. 1453200. 1868400. 3529200.\n",
      " 3425400. 3010200. 2906400. 3944400. 1764600. 1453200. 2387400. 4048200.\n",
      " 4152000. 3633000. 3944400. 3944400. 3529200. 4359600. 1557000. 1349400.\n",
      " 3736800. 3321600. 2595000.]\n"
     ]
    }
   ],
   "source": [
    "# 엔화 np리스트\n",
    "yen_array = np.array(revenue_in_yen)\n",
    "\n",
    "# 원화 np리스트\n",
    "won_array = yen_array * 10.38\n",
    "\n",
    "print(yen_array)\n",
    "print(won_array)"
   ]
  },
  {
   "cell_type": "markdown",
   "id": "4e10279e",
   "metadata": {},
   "source": [
    "## 문제 2번\n",
    "\n",
    "> 영훈이에 이어 소문을 들은 Jimmy가 이에 질세라 신주쿠에 품새사닭갈비 집을 차리는데요. 이제 직장인들에게 소문난 맛집입니다. 그러나 매일 성공적인 것은 아닌데요. 목표 일 매출을 달성하지 못하는 날들이 아직 꽤 있었습니다.\n",
    "> \n",
    "\n",
    "문제) 성공적이지 않은 날의 매출만 골라서 보고 싶습니다. 20만 엔 이하의 매출만 담긴 numpy array를 출력해주세요. (문제 데이터를 활용해주세요.)"
   ]
  },
  {
   "cell_type": "code",
   "execution_count": 5,
   "id": "ac4deaaa",
   "metadata": {},
   "outputs": [],
   "source": [
    "import numpy as np\n",
    "\n",
    "# revenue_in_yen : 엔화(¥) 매출 데이터\n",
    "revenue_in_yen = [\n",
    "    300000, 340000, 320000, 360000,\n",
    "    440000, 140000, 180000, 340000,\n",
    "    330000, 290000, 280000, 380000,\n",
    "    170000, 140000, 230000, 390000,\n",
    "    400000, 350000, 380000, 380000,\n",
    "    340000, 420000, 150000, 130000,\n",
    "    360000, 320000, 250000\n",
    "]"
   ]
  },
  {
   "cell_type": "code",
   "execution_count": 25,
   "id": "f86f69e2",
   "metadata": {},
   "outputs": [
    {
     "name": "stdout",
     "output_type": "stream",
     "text": [
      "[140000 180000 170000 140000 150000 130000]\n"
     ]
    }
   ],
   "source": [
    "# en_array : 엔화(¥) 리스트 array로 변환하기\n",
    "en_array = np.array(revenue_in_yen)\n",
    "fillter = np.where(en_array <= 200000)\n",
    "bad_days = en_array[fillter]\n",
    "print(bad_days)"
   ]
  },
  {
   "cell_type": "code",
   "execution_count": 27,
   "id": "e97f53d1",
   "metadata": {},
   "outputs": [
    {
     "data": {
      "text/plain": [
       "array([140000, 180000, 170000, 140000, 150000, 130000])"
      ]
     },
     "execution_count": 27,
     "metadata": {},
     "output_type": "execute_result"
    }
   ],
   "source": [
    "# 위 단계를 더 간단하게 만드는 마법의 코드~\n",
    "en_array[np.where(en_array <= 200000)]"
   ]
  },
  {
   "cell_type": "markdown",
   "id": "b47d36dd",
   "metadata": {},
   "source": [
    "## 문제 3번\n",
    "\n",
    "값이 10~49인 벡터를 만들어보세요.\n",
    "\n",
    "> 문제풀이 tip) np.arange()를 활용하자.\n",
    ">"
   ]
  },
  {
   "cell_type": "code",
   "execution_count": 14,
   "id": "ae07a80f",
   "metadata": {},
   "outputs": [
    {
     "name": "stdout",
     "output_type": "stream",
     "text": [
      "[10 11 12 13 14 15 16 17 18 19 20 21 22 23 24 25 26 27 28 29 30 31 32 33\n",
      " 34 35 36 37 38 39 40 41 42 43 44 45 46 47 48]\n"
     ]
    }
   ],
   "source": [
    "Z1 = np.arange(10,49)\n",
    "print(Z1)"
   ]
  },
  {
   "cell_type": "markdown",
   "id": "be886800",
   "metadata": {},
   "source": [
    "## 문제 4번\n",
    "\n",
    "1부터 9까지의 값을 활용하여 3행 3열 행렬을 만들어보세요.\n",
    "\n",
    "> 문제풀이 tip) np.reshape()를 활용하자.\n",
    ">"
   ]
  },
  {
   "cell_type": "code",
   "execution_count": 32,
   "id": "3234867c",
   "metadata": {},
   "outputs": [
    {
     "name": "stdout",
     "output_type": "stream",
     "text": [
      "[[0 1 2]\n",
      " [3 4 5]\n",
      " [6 7 8]]\n"
     ]
    }
   ],
   "source": [
    "Z2 = np.arange(9).reshape(3,3)\n",
    "print(Z2)"
   ]
  },
  {
   "cell_type": "markdown",
   "id": "3c63daa0",
   "metadata": {},
   "source": [
    "## 문제 5번\n",
    "\n",
    "크기가 50인 랜덤 벡터를 만들고 평균값을 찾아보세요.\n",
    "\n",
    "> 문제풀이 tip1) np.random()을 사용해보자.\n",
    "> \n",
    "\n",
    "> 문제풀이 tip2) np.mean()을 사용해보자.\n",
    ">"
   ]
  },
  {
   "cell_type": "code",
   "execution_count": 34,
   "id": "1113a7a1",
   "metadata": {},
   "outputs": [
    {
     "name": "stdout",
     "output_type": "stream",
     "text": [
      "0.510723986915646\n"
     ]
    }
   ],
   "source": [
    "Z3 = np.random.random(50).mean()\n",
    "print(Z3)"
   ]
  },
  {
   "cell_type": "markdown",
   "id": "719a3972",
   "metadata": {},
   "source": [
    "## 문제 6번\n",
    "\n",
    "크기가 7인 랜덤 벡터를 만들어 정렬해보세요.\n",
    "\n",
    "> 문제풀이 tip) np.sort()를 활용하자.\n",
    ">"
   ]
  },
  {
   "cell_type": "code",
   "execution_count": 40,
   "id": "3390521d",
   "metadata": {},
   "outputs": [
    {
     "name": "stdout",
     "output_type": "stream",
     "text": [
      "[0.05103473 0.15814613 0.48486082 0.70170493 0.729138   0.81225707\n",
      " 0.91291256]\n"
     ]
    }
   ],
   "source": [
    "Z4 = np.random.random(7)\n",
    "Z4.sort()\n",
    "print(Z4)"
   ]
  },
  {
   "cell_type": "markdown",
   "id": "8f29dfa2",
   "metadata": {},
   "source": [
    "## 문제 7번\n",
    "\n",
    "크기가 15인 랜덤 벡터를 만들고 최대값을 0으로 바꾸어보세요.\n",
    "\n",
    "> 문제풀이 tip) np.argmax()를 활용하자.\n",
    ">"
   ]
  },
  {
   "cell_type": "code",
   "execution_count": 46,
   "id": "33859f65",
   "metadata": {},
   "outputs": [
    {
     "name": "stdout",
     "output_type": "stream",
     "text": [
      "[0.62133706 0.81535625 0.08298681 0.69292087 0.01884205 0.10586\n",
      " 0.85887217 0.31764208 0.06376389 0.         0.14235291 0.3631674\n",
      " 0.577328   0.84936279 0.84406372]\n"
     ]
    }
   ],
   "source": [
    "Z5 = np.random.random(15)\n",
    "Z5[Z5.argmax()] = 0\n",
    "print(Z5)"
   ]
  },
  {
   "cell_type": "markdown",
   "id": "dfae2a4c",
   "metadata": {},
   "source": [
    "## 문제 8번\n",
    "\n",
    "1부터 25까지의 원소를 갖는 5X5 행렬을 만들고, 임의의 두 행을 서로 바꾸어보세요.\n",
    "\n",
    "> 문제풀이 tip) 행렬 A에 대해 A[[a, b]] = A[[b, a]] 할 수 있다.\n",
    ">"
   ]
  },
  {
   "cell_type": "code",
   "execution_count": 54,
   "id": "638fac48",
   "metadata": {},
   "outputs": [
    {
     "name": "stdout",
     "output_type": "stream",
     "text": [
      "[[ 1  2  3  4  5]\n",
      " [ 6  7  8  9 10]\n",
      " [11 12 13 14 15]\n",
      " [16 17 18 19 20]\n",
      " [21 22 23 24 25]]\n",
      "[[ 1  6 11 16 21]\n",
      " [ 2  7 12 17 22]\n",
      " [ 3  8 13 18 23]\n",
      " [ 4  9 14 19 24]\n",
      " [ 5 10 15 20 25]]\n"
     ]
    }
   ],
   "source": [
    "A = np.arange(1, 26).reshape(5,5)\n",
    "B = A.T\n",
    "print(A)\n",
    "print(B)"
   ]
  },
  {
   "cell_type": "markdown",
   "id": "854c4b79",
   "metadata": {},
   "source": [
    "## 문제 9번\n",
    "\n",
    "X행렬이 다음과 같을 때, 행렬 인덱싱을 사용하여 4의 배수만을 선택하여 하나의 벡터로 만드는 NumPy 코드를 작성하세요. (단, NumPy 슬라이싱 인덱싱을 사용하지 말 것!)"
   ]
  },
  {
   "cell_type": "code",
   "execution_count": 56,
   "id": "6ce703d9",
   "metadata": {},
   "outputs": [
    {
     "data": {
      "text/plain": [
       "array([[ 1,  1,  1,  1],\n",
       "       [ 1,  2,  4,  8],\n",
       "       [ 1,  3,  5,  7],\n",
       "       [ 1,  4, 16, 32],\n",
       "       [ 1,  5,  9, 13]])"
      ]
     },
     "execution_count": 56,
     "metadata": {},
     "output_type": "execute_result"
    }
   ],
   "source": [
    "X = np.array([[1, 1, 1, 1], [1, 2, 4, 8], [1, 3, 5, 7], [1, 4, 16, 32], [1, 5, 9, 13]])\n",
    "X"
   ]
  },
  {
   "cell_type": "code",
   "execution_count": 67,
   "id": "cc73a425",
   "metadata": {},
   "outputs": [
    {
     "name": "stdout",
     "output_type": "stream",
     "text": [
      "[ 4  8  4 16 32]\n"
     ]
    }
   ],
   "source": [
    "# 방법1\n",
    "for i in X:\n",
    "    for j in X:\n",
    "        a = np.where(X%4 == 0)\n",
    "print(X[a])"
   ]
  },
  {
   "cell_type": "code",
   "execution_count": 65,
   "id": "13f38df0",
   "metadata": {},
   "outputs": [
    {
     "name": "stdout",
     "output_type": "stream",
     "text": [
      "[ 4  8  4 16 32]\n"
     ]
    }
   ],
   "source": [
    "# 방법2\n",
    "print(X[np.where(X % 4 ==0)])"
   ]
  },
  {
   "cell_type": "code",
   "execution_count": 68,
   "id": "a8113dc0",
   "metadata": {},
   "outputs": [
    {
     "data": {
      "text/plain": [
       "array([ 4,  8,  4, 16, 32])"
      ]
     },
     "execution_count": 68,
     "metadata": {},
     "output_type": "execute_result"
    }
   ],
   "source": [
    "# 방법3\n",
    "X[X%4==0]"
   ]
  },
  {
   "cell_type": "markdown",
   "id": "6c941e43",
   "metadata": {},
   "source": [
    "## 문제 10번\n",
    "\n",
    "다음 행렬 X가 5명의 학생이 3번 시험 본 성적이라고 가정했을 때, 각 학생의 최고 성적을 구하는 코드를 작성하세요.\n",
    "\n",
    "> 문제풀이 tip) 행렬 축(axis) 개념을 인지하고 있다면 수월하게 풀 수 있다.\n",
    ">"
   ]
  },
  {
   "cell_type": "code",
   "execution_count": 69,
   "id": "13265f51",
   "metadata": {},
   "outputs": [
    {
     "data": {
      "text/plain": [
       "array([[44, 47, 64],\n",
       "       [67, 67,  9],\n",
       "       [83, 21, 36],\n",
       "       [87, 70, 88],\n",
       "       [88, 12, 58]])"
      ]
     },
     "execution_count": 69,
     "metadata": {},
     "output_type": "execute_result"
    }
   ],
   "source": [
    "np.random.seed(0)\n",
    "X = np.random.randint(0, 100, (5,3))\n",
    "X"
   ]
  },
  {
   "cell_type": "code",
   "execution_count": 75,
   "id": "91e62a17",
   "metadata": {},
   "outputs": [
    {
     "name": "stdout",
     "output_type": "stream",
     "text": [
      "[64 67 83 88 88]\n"
     ]
    }
   ],
   "source": [
    "print(X.max(axis = 1))"
   ]
  }
 ],
 "metadata": {
  "kernelspec": {
   "display_name": "Python 3 (ipykernel)",
   "language": "python",
   "name": "python3"
  },
  "language_info": {
   "codemirror_mode": {
    "name": "ipython",
    "version": 3
   },
   "file_extension": ".py",
   "mimetype": "text/x-python",
   "name": "python",
   "nbconvert_exporter": "python",
   "pygments_lexer": "ipython3",
   "version": "3.9.7"
  }
 },
 "nbformat": 4,
 "nbformat_minor": 5
}
