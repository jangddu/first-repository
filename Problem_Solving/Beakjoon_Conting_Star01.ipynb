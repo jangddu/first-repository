{
 "cells": [
  {
   "cell_type": "markdown",
   "id": "7dce9467",
   "metadata": {},
   "source": [
    "# Beakjoon_2438-2446\n",
    "\n",
    "일곱째날(05.09) 백준별찍기 14문제"
   ]
  },
  {
   "cell_type": "markdown",
   "id": "554ebaed",
   "metadata": {},
   "source": [
    "# 2438번: 별 찍기 - 1\n",
    "첫째 줄에는 별 1개, 둘째 줄에는 별 2개, N번째 줄에는 별 N개를 찍는 문제"
   ]
  },
  {
   "cell_type": "code",
   "execution_count": 4,
   "id": "575f7297",
   "metadata": {},
   "outputs": [
    {
     "name": "stdout",
     "output_type": "stream",
     "text": [
      "5\n",
      "*\n",
      "**\n",
      "***\n",
      "****\n",
      "*****\n"
     ]
    }
   ],
   "source": [
    "n = int(input())\n",
    "\n",
    "for i in range(1,n+1):\n",
    "    print(\"*\" * i)"
   ]
  },
  {
   "cell_type": "markdown",
   "id": "52bff2a9",
   "metadata": {},
   "source": [
    "# 2439번: 별 찍기 - 2\n",
    "첫째 줄에는 별 1개, 둘째 줄에는 별 2개, N번째 줄에는 별 N개를 찍는 문제  \n",
    "\n",
    "하지만, 오른쪽을 기준으로 정렬한 별(예제 참고)을 출력하시오.  "
   ]
  },
  {
   "cell_type": "code",
   "execution_count": 17,
   "id": "cd50b0b3",
   "metadata": {},
   "outputs": [
    {
     "name": "stdout",
     "output_type": "stream",
     "text": [
      "5\n",
      "    *\n",
      "   **\n",
      "  ***\n",
      " ****\n",
      "*****\n"
     ]
    }
   ],
   "source": [
    "n = int(input())\n",
    "for i in range(n):\n",
    "    print(\" \" * (n-i-1) + \"*\" * (i+1))"
   ]
  },
  {
   "cell_type": "markdown",
   "id": "a617c726",
   "metadata": {},
   "source": [
    "# 2440번: 별 찍기 - 3\n",
    "\n",
    "첫째 줄에는 별 N개, 둘째 줄에는 별 N-1개, ..., N번째 줄에는 별 1개를 찍는 문제"
   ]
  },
  {
   "cell_type": "code",
   "execution_count": 19,
   "id": "c17a9d4d",
   "metadata": {},
   "outputs": [
    {
     "name": "stdout",
     "output_type": "stream",
     "text": [
      "5\n",
      "*****\n",
      "****\n",
      "***\n",
      "**\n",
      "*\n"
     ]
    }
   ],
   "source": [
    "n = int(input())\n",
    "for i in range(n):\n",
    "    print(\"*\" * (n-i))"
   ]
  },
  {
   "cell_type": "markdown",
   "id": "8ac49b36",
   "metadata": {},
   "source": [
    "# 2441번: 별 찍기 - 4\n",
    "\n",
    "첫째 줄에는 별 N개, 둘째 줄에는 별 N-1개, ..., N번째 줄에는 별 1개를 찍는 문제\n",
    "\n",
    "하지만, 오른쪽을 기준으로 정렬한 별(예제 참고)을 출력하시오."
   ]
  },
  {
   "cell_type": "code",
   "execution_count": 21,
   "id": "022bc605",
   "metadata": {},
   "outputs": [
    {
     "name": "stdout",
     "output_type": "stream",
     "text": [
      "5\n",
      "*****\n",
      " ****\n",
      "  ***\n",
      "   **\n",
      "    *\n"
     ]
    }
   ],
   "source": [
    "n = int(input())\n",
    "for i in range(n):\n",
    "    print(\" \" * i + \"*\" * (n-i))"
   ]
  },
  {
   "cell_type": "markdown",
   "id": "3e55ecf5",
   "metadata": {},
   "source": [
    "# 2442번: 별 찍기 - 5\n",
    "\n",
    "첫째 줄에는 별 1개, 둘째 줄에는 별 3개, ..., N번째 줄에는 별 2×N-1개를 찍는 문제  \n",
    "\n",
    "별은 가운데를 기준으로 대칭이어야 한다.  "
   ]
  },
  {
   "cell_type": "code",
   "execution_count": 28,
   "id": "e981b1f3",
   "metadata": {},
   "outputs": [
    {
     "name": "stdout",
     "output_type": "stream",
     "text": [
      "22\n",
      "                     *\n",
      "                    ***\n",
      "                   *****\n",
      "                  *******\n",
      "                 *********\n",
      "                ***********\n",
      "               *************\n",
      "              ***************\n",
      "             *****************\n",
      "            *******************\n",
      "           *********************\n",
      "          ***********************\n",
      "         *************************\n",
      "        ***************************\n",
      "       *****************************\n",
      "      *******************************\n",
      "     *********************************\n",
      "    ***********************************\n",
      "   *************************************\n",
      "  ***************************************\n",
      " *****************************************\n",
      "*******************************************\n"
     ]
    }
   ],
   "source": [
    "n = int(input())\n",
    "\n",
    "for i in range(n):\n",
    "    print(\" \" * (n-i-1) + \"*\" * ((i+1) * 2 - 1))"
   ]
  },
  {
   "cell_type": "markdown",
   "id": "16033b70",
   "metadata": {},
   "source": [
    "# 2443번: 별 찍기 - 6\n",
    "\n",
    "첫째 줄에는 별 2×N-1개, 둘째 줄에는 별 2×N-3개, ..., N번째 줄에는 별 1개를 찍는 문제  \n",
    "\n",
    "별은 가운데를 기준으로 대칭이어야 한다."
   ]
  },
  {
   "cell_type": "code",
   "execution_count": 30,
   "id": "a96fa8c3",
   "metadata": {},
   "outputs": [
    {
     "name": "stdout",
     "output_type": "stream",
     "text": [
      "5\n",
      "*********\n",
      " *******\n",
      "  *****\n",
      "   ***\n",
      "    *\n"
     ]
    }
   ],
   "source": [
    "n = int(input())\n",
    "\n",
    "for i in range(n):\n",
    "    print(\" \" * i + \"*\" * ((n-i) * 2 - 1))"
   ]
  },
  {
   "cell_type": "markdown",
   "id": "fdbcd9af",
   "metadata": {},
   "source": [
    "# 2444번: 별 찍기 - 7\n",
    "\n",
    "마름모꼴로 별 찍기"
   ]
  },
  {
   "cell_type": "code",
   "execution_count": 36,
   "id": "4061a69f",
   "metadata": {},
   "outputs": [
    {
     "name": "stdout",
     "output_type": "stream",
     "text": [
      "5\n",
      "    *\n",
      "   ***\n",
      "  *****\n",
      " *******\n",
      "*********\n",
      " *******\n",
      "  *****\n",
      "   ***\n",
      "    *\n"
     ]
    }
   ],
   "source": [
    "n = int(input())\n",
    "\n",
    "for i in range(n):\n",
    "    print(\" \" * (n-i-1) + \"*\" * ((i+1) * 2 - 1))\n",
    "n -= 1\n",
    "for i in range(n):\n",
    "    print(\" \" * (i+1) + \"*\" * ((n-i) * 2 - 1))"
   ]
  },
  {
   "cell_type": "markdown",
   "id": "c01a6107",
   "metadata": {},
   "source": [
    "# 2445번: 별 찍기 - 8\n",
    "\n",
    "나비 넥타이 모양의 별 찍기"
   ]
  },
  {
   "cell_type": "code",
   "execution_count": 42,
   "id": "c64c3972",
   "metadata": {},
   "outputs": [
    {
     "name": "stdout",
     "output_type": "stream",
     "text": [
      "5\n",
      "*        *\n",
      "**      **\n",
      "***    ***\n",
      "****  ****\n",
      "**********\n",
      "****  ****\n",
      "***    ***\n",
      "**      **\n",
      "*        *\n"
     ]
    }
   ],
   "source": [
    "n = int(input())\n",
    "a = n\n",
    "for i in range(1, n+1):\n",
    "    print(\"*\" * i + \" \" * (a * 2 - 2) + \"*\" * i)\n",
    "    a -= 1\n",
    "n -= 1\n",
    "a = 2\n",
    "for i in range(n):\n",
    "    print(\"*\" * (n-i) + \" \" * (a * 2 - 2) + \"*\" * (n-i))\n",
    "    a += 1"
   ]
  },
  {
   "cell_type": "markdown",
   "id": "8eee3de9",
   "metadata": {},
   "source": [
    "# 2446번: 별 찍기 - 9\n",
    "\n",
    "모래시계 모양으로 별 찍기"
   ]
  },
  {
   "cell_type": "code",
   "execution_count": 57,
   "id": "96a04ac0",
   "metadata": {},
   "outputs": [
    {
     "name": "stdout",
     "output_type": "stream",
     "text": [
      "5\n",
      "*********\n",
      " *******\n",
      "  *****\n",
      "   ***\n",
      "    *\n",
      "   ***\n",
      "  *****\n",
      " *******\n",
      "*********\n"
     ]
    }
   ],
   "source": [
    "n = int(input())\n",
    "\n",
    "for i in range(n):\n",
    "    print(\" \" * i + \"*\" * ((n-i) * 2 - 1))\n",
    "\n",
    "for i in range(n-1):\n",
    "    print(\" \" * (n-i-2) + \"*\" * ((i+1) * 2 - 1+2))"
   ]
  },
  {
   "cell_type": "code",
   "execution_count": null,
   "id": "1d67c8de",
   "metadata": {},
   "outputs": [],
   "source": []
  }
 ],
 "metadata": {
  "kernelspec": {
   "display_name": "Python 3 (ipykernel)",
   "language": "python",
   "name": "python3"
  },
  "language_info": {
   "codemirror_mode": {
    "name": "ipython",
    "version": 3
   },
   "file_extension": ".py",
   "mimetype": "text/x-python",
   "name": "python",
   "nbconvert_exporter": "python",
   "pygments_lexer": "ipython3",
   "version": "3.9.7"
  }
 },
 "nbformat": 4,
 "nbformat_minor": 5
}
