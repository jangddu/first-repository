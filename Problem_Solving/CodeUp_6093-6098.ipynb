{
 "cells": [
  {
   "cell_type": "markdown",
   "id": "34a4e2b7",
   "metadata": {},
   "source": [
    "# CodeUp_6093-6098\n",
    "여섯째날(04.27) 코드업기초6문제"
   ]
  },
  {
   "cell_type": "markdown",
   "id": "417084c9",
   "metadata": {},
   "source": [
    "## 6093 : [기초-리스트] 이상한 출석 번호 부르기2(py)\n",
    "번호를 부른 횟수(n, 1 ~ 10000)가 첫 줄에 입력된다.   \n",
    "n개의 랜덤 번호(k, 1 ~ 23)가 두 번째 줄에 공백을 사이에 두고 순서대로 입력된다.  \n",
    "출석을 부른 번호 순서를 바꾸어 공백을 두고 출력한다.  "
   ]
  },
  {
   "cell_type": "code",
   "execution_count": 8,
   "id": "c13dddac",
   "metadata": {},
   "outputs": [
    {
     "name": "stdout",
     "output_type": "stream",
     "text": [
      "10\n",
      "1 2 3 4 5 6 7 8 9 9\n",
      "9 9 8 7 6 5 4 3 2 1 "
     ]
    }
   ],
   "source": [
    "n = int(input())\n",
    "s = list(map(int,input().split()))\n",
    "\n",
    "for i in range(n-1, -1, -1) :\n",
    "    print(s[i], end=' ')"
   ]
  },
  {
   "cell_type": "markdown",
   "id": "5cddeba0",
   "metadata": {},
   "source": [
    "## 6094 : [기초-리스트] 이상한 출석 번호 부르기3(py)\n",
    "\n",
    "번호를 부른 횟수(n, 1 ~ 10000)가 첫 줄에 입력된다.  \n",
    "n개의 랜덤 번호(k)가 두 번째 줄에 공백을 사이에 두고 순서대로 입력된다.  \n",
    "출석을 부른 번호 중에 가장 빠른 번호를 출력한다.  "
   ]
  },
  {
   "cell_type": "code",
   "execution_count": 13,
   "id": "64aaa2d6",
   "metadata": {},
   "outputs": [
    {
     "name": "stdout",
     "output_type": "stream",
     "text": [
      "3\n",
      "1 2 3\n",
      "1\n"
     ]
    }
   ],
   "source": [
    "n = int(input())\n",
    "s = list(map(int,input().split()))\n",
    "\n",
    "temp = s[0]\n",
    "for i in range(n):\n",
    "    if s[i] < temp:\n",
    "        temp = s[i]\n",
    "print(temp)"
   ]
  },
  {
   "cell_type": "markdown",
   "id": "cfd579f3",
   "metadata": {},
   "source": [
    "## 6095 : [기초-리스트] 바둑판에 흰 돌 놓기(설명)(py)\n",
    "\n",
    "\n",
    "바둑판(19 * 19)에 n개의 흰 돌을 놓는다고 할 때,  \n",
    "n개의 흰 돌이 놓인 위치를 출력하는 프로그램을 작성해보자.  \n",
    "바둑판에 올려 놓을 흰 돌의 개수(n)가 첫 줄에 입력된다.  \n",
    "둘째 줄 부터 n+1 번째 줄까지 힌 돌을 놓을 좌표(x, y)가 n줄 입력된다.  \n",
    "n은 10이하의 자연수이고 x, y 좌표는 1 ~ 19 까지이며, 똑같은 좌표는 입력되지 않는다.   \n",
    "흰 돌이 올려진 바둑판의 상황을 출력한다.  \n",
    "흰 돌이 있는 위치는 1, 없는 곳은 0으로 출력한다.  \n"
   ]
  },
  {
   "cell_type": "code",
   "execution_count": 14,
   "id": "d5c8840d",
   "metadata": {},
   "outputs": [
    {
     "name": "stdout",
     "output_type": "stream",
     "text": [
      "5\n",
      "1 1\n",
      "2 2\n",
      "3 3\n",
      "4 4\n",
      "5 5\n",
      "1 0 0 0 0 0 0 0 0 0 0 0 0 0 0 0 0 0 0 \n",
      "0 1 0 0 0 0 0 0 0 0 0 0 0 0 0 0 0 0 0 \n",
      "0 0 1 0 0 0 0 0 0 0 0 0 0 0 0 0 0 0 0 \n",
      "0 0 0 1 0 0 0 0 0 0 0 0 0 0 0 0 0 0 0 \n",
      "0 0 0 0 1 0 0 0 0 0 0 0 0 0 0 0 0 0 0 \n",
      "0 0 0 0 0 0 0 0 0 0 0 0 0 0 0 0 0 0 0 \n",
      "0 0 0 0 0 0 0 0 0 0 0 0 0 0 0 0 0 0 0 \n",
      "0 0 0 0 0 0 0 0 0 0 0 0 0 0 0 0 0 0 0 \n",
      "0 0 0 0 0 0 0 0 0 0 0 0 0 0 0 0 0 0 0 \n",
      "0 0 0 0 0 0 0 0 0 0 0 0 0 0 0 0 0 0 0 \n",
      "0 0 0 0 0 0 0 0 0 0 0 0 0 0 0 0 0 0 0 \n",
      "0 0 0 0 0 0 0 0 0 0 0 0 0 0 0 0 0 0 0 \n",
      "0 0 0 0 0 0 0 0 0 0 0 0 0 0 0 0 0 0 0 \n",
      "0 0 0 0 0 0 0 0 0 0 0 0 0 0 0 0 0 0 0 \n",
      "0 0 0 0 0 0 0 0 0 0 0 0 0 0 0 0 0 0 0 \n",
      "0 0 0 0 0 0 0 0 0 0 0 0 0 0 0 0 0 0 0 \n",
      "0 0 0 0 0 0 0 0 0 0 0 0 0 0 0 0 0 0 0 \n",
      "0 0 0 0 0 0 0 0 0 0 0 0 0 0 0 0 0 0 0 \n",
      "0 0 0 0 0 0 0 0 0 0 0 0 0 0 0 0 0 0 0 \n"
     ]
    }
   ],
   "source": [
    "d=[]                        #대괄호 [ ] 를 이용해 아무것도 없는 빈 리스트 만들기\n",
    "for i in range(20) :\n",
    "    d.append([])         #리스트 안에 다른 리스트 추가해 넣기\n",
    "    for j in range(20) : \n",
    "        d[i].append(0)    #리스트 안에 들어있는 리스트 안에 0 추가해 넣기\n",
    "\n",
    "n = int(input())\n",
    "for i in range(n) :\n",
    "    x, y = input().split()\n",
    "    d[int(x)][int(y)] = 1\n",
    "\n",
    "for i in range(1, 20) :\n",
    "    for j in range(1, 20) : \n",
    "        print(d[i][j], end=' ')    #공백을 두고 한 줄로 출력\n",
    "    print()                          #줄 바꿈\n",
    "    "
   ]
  },
  {
   "cell_type": "markdown",
   "id": "fb5f3992",
   "metadata": {},
   "source": [
    "## 6096 : [기초-리스트] 바둑알 십자 뒤집기(py)\n",
    "\n",
    "바둑알이 깔려 있는 상황이 19 * 19 크기의 정수값으로 입력된다.  \n",
    "십자 뒤집기 횟수(n)가 입력된다.  \n",
    "십자 뒤집기 좌표가 횟수(n) 만큼 입력된다. 단, n은 10이하의 자연수이다.  \n",
    "십자 뒤집기 결과를 출력한다.  "
   ]
  },
  {
   "cell_type": "code",
   "execution_count": 18,
   "id": "132ee46c",
   "metadata": {},
   "outputs": [
    {
     "name": "stdout",
     "output_type": "stream",
     "text": [
      "0 0 0 0 0 0 0 0 0 1 0 1 0 0 0 0 0 0 0\n",
      "0 0 0 0 0 0 0 0 0 1 0 1 0 0 0 0 0 0 0\n",
      "0 0 0 0 0 0 0 0 0 1 0 1 0 0 0 0 0 0 0\n",
      "0 0 0 0 0 0 0 0 0 1 0 1 0 0 0 0 0 0 0\n",
      "0 0 0 0 0 0 0 0 0 1 0 1 0 0 0 0 0 0 0\n",
      "0 0 0 0 0 0 0 0 0 1 0 1 0 0 0 0 0 0 0\n",
      "0 0 0 0 0 0 0 0 0 1 0 1 0 0 0 0 0 0 0\n",
      "0 0 0 0 0 0 0 0 0 1 0 1 0 0 0 0 0 0 0\n",
      "0 0 0 0 0 0 0 0 0 1 0 1 0 0 0 0 0 0 0\n",
      "1 1 1 1 1 1 1 1 1 1 1 1 1 1 1 1 1 1 1\n",
      "0 0 0 0 0 0 0 0 0 1 0 1 0 0 0 0 0 0 0\n",
      "1 1 1 1 1 1 1 1 1 1 1 1 1 1 1 1 1 1 1\n",
      "0 0 0 0 0 0 0 0 0 1 0 1 0 0 0 0 0 0 0\n",
      "0 0 0 0 0 0 0 0 0 1 0 1 0 0 0 0 0 0 0\n",
      "0 0 0 0 0 0 0 0 0 1 0 1 0 0 0 0 0 0 0\n",
      "0 0 0 0 0 0 0 0 0 1 0 1 0 0 0 0 0 0 0\n",
      "0 0 0 0 0 0 0 0 0 1 0 1 0 0 0 0 0 0 0\n",
      "0 0 0 0 0 0 0 0 0 1 0 1 0 0 0 0 0 0 0\n",
      "0 0 0 0 0 0 0 0 0 1 0 1 0 0 0 0 0 0 0\n",
      "2\n",
      "10 10\n"
     ]
    },
    {
     "ename": "ValueError",
     "evalue": "invalid literal for int() with base 10: '10 10'",
     "output_type": "error",
     "traceback": [
      "\u001b[0;31m---------------------------------------------------------------------------\u001b[0m",
      "\u001b[0;31mValueError\u001b[0m                                Traceback (most recent call last)",
      "\u001b[0;32m/tmp/ipykernel_9949/2585455748.py\u001b[0m in \u001b[0;36m<module>\u001b[0;34m\u001b[0m\n\u001b[1;32m      4\u001b[0m     \u001b[0md\u001b[0m\u001b[0;34m.\u001b[0m\u001b[0mappend\u001b[0m\u001b[0;34m(\u001b[0m\u001b[0ms\u001b[0m\u001b[0;34m)\u001b[0m\u001b[0;34m\u001b[0m\u001b[0;34m\u001b[0m\u001b[0m\n\u001b[1;32m      5\u001b[0m \u001b[0;34m\u001b[0m\u001b[0m\n\u001b[0;32m----> 6\u001b[0;31m \u001b[0mn\u001b[0m \u001b[0;34m=\u001b[0m \u001b[0mint\u001b[0m\u001b[0;34m(\u001b[0m\u001b[0minput\u001b[0m\u001b[0;34m(\u001b[0m\u001b[0;34m)\u001b[0m\u001b[0;34m)\u001b[0m\u001b[0;34m\u001b[0m\u001b[0;34m\u001b[0m\u001b[0m\n\u001b[0m\u001b[1;32m      7\u001b[0m \u001b[0;32mfor\u001b[0m \u001b[0mi\u001b[0m \u001b[0;32min\u001b[0m \u001b[0mrange\u001b[0m\u001b[0;34m(\u001b[0m\u001b[0mn\u001b[0m\u001b[0;34m)\u001b[0m \u001b[0;34m:\u001b[0m\u001b[0;34m\u001b[0m\u001b[0;34m\u001b[0m\u001b[0m\n\u001b[1;32m      8\u001b[0m     \u001b[0mx\u001b[0m\u001b[0;34m,\u001b[0m\u001b[0my\u001b[0m\u001b[0;34m=\u001b[0m\u001b[0minput\u001b[0m\u001b[0;34m(\u001b[0m\u001b[0;34m)\u001b[0m\u001b[0;34m.\u001b[0m\u001b[0msplit\u001b[0m\u001b[0;34m(\u001b[0m\u001b[0;34m)\u001b[0m\u001b[0;34m\u001b[0m\u001b[0;34m\u001b[0m\u001b[0m\n",
      "\u001b[0;31mValueError\u001b[0m: invalid literal for int() with base 10: '10 10'"
     ]
    }
   ],
   "source": [
    "d=[]                        #대괄호 [ ] 를 이용해 아무것도 없는 빈 리스트 만들기\n",
    "for i in range(120) :\n",
    "    s = list(map(int, input().split()))\n",
    "    d.append(s)\n",
    "\n",
    "n = int(input())\n",
    "for i in range(n) :\n",
    "    x,y=input().split()\n",
    "    for j in range(1, 20) :\n",
    "        if d[j][int(y)]==0 :\n",
    "            d[j][int(y)]=1\n",
    "    else :\n",
    "        d[j][int(y)]=0\n",
    "\n",
    "    if d[int(x)][j]==0 :\n",
    "        d[int(x)][j]=1\n",
    "    else :\n",
    "        d[int(x)][j]=0\n",
    "\n",
    "for i in range(1, 20) :\n",
    "    for j in range(1, 20) : \n",
    "        print(d[i][j], end=' ')    #공백을 두고 한 줄로 출력\n",
    "    print()   "
   ]
  },
  {
   "cell_type": "code",
   "execution_count": 6,
   "id": "411718b9",
   "metadata": {
    "scrolled": true
   },
   "outputs": [
    {
     "name": "stdout",
     "output_type": "stream",
     "text": [
      "0 0 0 0 0 0 0 0 0 1 0 1 0 0 0 0 0 0 0\n",
      "0 0 0 0 0 0 0 0 0 1 0 1 0 0 0 0 0 0 0\n",
      "0 0 0 0 0 0 0 0 0 1 0 1 0 0 0 0 0 0 0\n",
      "0 0 0 0 0 0 0 0 0 1 0 1 0 0 0 0 0 0 0\n",
      "0 0 0 0 0 0 0 0 0 1 0 1 0 0 0 0 0 0 0\n",
      "0 0 0 0 0 0 0 0 0 1 0 1 0 0 0 0 0 0 0\n",
      "0 0 0 0 0 0 0 0 0 1 0 1 0 0 0 0 0 0 0\n",
      "0 0 0 0 0 0 0 0 0 1 0 1 0 0 0 0 0 0 0\n",
      "0 0 0 0 0 0 0 0 0 1 0 1 0 0 0 0 0 0 0\n",
      "0 0 0 0 0 0 0 0 0 1 0 1 0 0 0 0 0 0 0\n",
      "0 0 0 0 0 0 0 0 0 1 0 1 0 0 0 0 0 0 0\n",
      "0 0 0 0 0 0 0 0 0 1 0 1 0 0 0 0 0 0 0\n",
      "0 0 0 0 0 0 0 0 0 1 0 1 0 0 0 0 0 0 0\n",
      "0 0 0 0 0 0 0 0 0 1 0 1 0 0 0 0 0 0 0\n",
      "0 0 0 0 0 0 0 0 0 1 0 1 0 0 0 0 0 0 0\n",
      "0 0 0 0 0 0 0 0 0 1 0 1 0 0 0 0 0 0 0\n",
      "0 0 0 0 0 0 0 0 0 1 0 1 0 0 0 0 0 0 0\n",
      "0 0 0 0 0 0 0 0 0 1 0 1 0 0 0 0 0 0 0\n",
      "0 0 0 0 0 0 0 0 0 1 0 1 0 0 0 0 0 0 0\n",
      "2\n",
      "10 10\n",
      "13 13\n",
      "0 0 0 0 0 0 0 0 0 1 1 1 0 1 0 0 0 0 0 \n",
      "0 0 0 0 0 0 0 0 0 1 1 1 0 1 0 0 0 0 0 \n",
      "0 0 0 0 0 0 0 0 0 1 1 1 0 1 0 0 0 0 0 \n",
      "0 0 0 0 0 0 0 0 0 1 1 1 0 1 0 0 0 0 0 \n",
      "0 0 0 0 0 0 0 0 0 1 1 1 0 1 0 0 0 0 0 \n",
      "0 0 0 0 0 0 0 0 0 1 1 1 0 1 0 0 0 0 0 \n",
      "0 0 0 0 0 0 0 0 0 1 1 1 0 1 0 0 0 0 0 \n",
      "0 0 0 0 0 0 0 0 0 1 1 1 0 1 0 0 0 0 0 \n",
      "0 0 0 0 0 0 0 0 0 1 1 1 0 1 0 0 0 0 0 \n",
      "0 0 0 0 0 0 0 0 0 1 1 1 0 1 0 0 0 0 0 \n",
      "0 0 0 0 0 0 0 0 0 1 1 1 0 1 0 0 0 0 1 \n",
      "0 0 0 0 0 0 0 0 0 1 1 1 0 1 0 0 0 0 0 \n",
      "0 0 0 0 0 0 0 0 0 1 1 1 0 1 0 0 0 0 0 \n",
      "0 0 0 0 0 0 0 0 0 1 1 1 0 1 0 0 0 0 1 \n",
      "0 0 0 0 0 0 0 0 0 1 1 1 0 1 0 0 0 0 0 \n",
      "0 0 0 0 0 0 0 0 0 1 1 1 0 1 0 0 0 0 0 \n",
      "0 0 0 0 0 0 0 0 0 1 1 1 0 1 0 0 0 0 0 \n",
      "0 0 0 0 0 0 0 0 0 1 1 1 0 1 0 0 0 0 0 \n",
      "0 0 0 0 0 0 0 0 0 1 0 1 0 0 0 0 0 0 0 \n"
     ]
    }
   ],
   "source": [
    "#2트\n",
    "d=[]                        #대괄호 [ ] 를 이용해 아무것도 없는 빈 리스트 만들기\n",
    "for i in range(19) :\n",
    "    s = list(map(int, input().split()))\n",
    "    d.append(s)\n",
    "\n",
    "n = int(input())\n",
    "for i in range(n) :\n",
    "    x,y=input().split()\n",
    "    for j in range(19) :\n",
    "        if d[j][int(y)]==0 :\n",
    "            d[j][int(y)]=1\n",
    "    else :\n",
    "        d[j][int(y)]=0\n",
    "\n",
    "    if d[int(x)][j]==0 :\n",
    "        d[int(x)][j]=1\n",
    "    else :\n",
    "        d[int(x)][j]=0\n",
    "\n",
    "for i in range(19) :\n",
    "    for j in range(19) : \n",
    "        print(d[i][j], end=' ')    #공백을 두고 한 줄로 출력\n",
    "    print()   \n",
    "\n",
    "# IndexError: list index out of range"
   ]
  },
  {
   "cell_type": "markdown",
   "id": "26531e9b",
   "metadata": {},
   "source": [
    "## 6097"
   ]
  },
  {
   "cell_type": "code",
   "execution_count": null,
   "id": "379716c7",
   "metadata": {},
   "outputs": [],
   "source": []
  },
  {
   "cell_type": "markdown",
   "id": "a47b1622",
   "metadata": {},
   "source": [
    "## 6098"
   ]
  },
  {
   "cell_type": "code",
   "execution_count": null,
   "id": "6896d906",
   "metadata": {},
   "outputs": [],
   "source": []
  }
 ],
 "metadata": {
  "kernelspec": {
   "display_name": "Python 3 (ipykernel)",
   "language": "python",
   "name": "python3"
  },
  "language_info": {
   "codemirror_mode": {
    "name": "ipython",
    "version": 3
   },
   "file_extension": ".py",
   "mimetype": "text/x-python",
   "name": "python",
   "nbconvert_exporter": "python",
   "pygments_lexer": "ipython3",
   "version": "3.9.7"
  }
 },
 "nbformat": 4,
 "nbformat_minor": 5
}
