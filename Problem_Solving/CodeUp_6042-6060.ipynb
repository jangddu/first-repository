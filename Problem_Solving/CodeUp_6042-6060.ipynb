{
 "cells": [
  {
   "cell_type": "markdown",
   "id": "887db56c",
   "metadata": {},
   "source": [
    "# CodeUp_60042-6060\n",
    "셋째날(04.13) 코드업기초19문제"
   ]
  },
  {
   "cell_type": "markdown",
   "id": "d4d11906",
   "metadata": {},
   "source": [
    "## 6042 : [기초-값변환] 실수 1개 입력받아 소숫점이하 자리 변환하기(설명)(py)"
   ]
  },
  {
   "cell_type": "code",
   "execution_count": 2,
   "id": "c9c74cf1",
   "metadata": {},
   "outputs": [
    {
     "name": "stdout",
     "output_type": "stream",
     "text": [
      "3.1415926535\n",
      "3.14\n"
     ]
    }
   ],
   "source": [
    "a = float(input())\n",
    "print(format(a,\".2f\"))"
   ]
  },
  {
   "cell_type": "markdown",
   "id": "9ef9139b",
   "metadata": {},
   "source": [
    "## 6043 : [기초-산술연산] 실수 2개 입력받아 나눈 결과 계산하기(py)"
   ]
  },
  {
   "cell_type": "code",
   "execution_count": 4,
   "id": "55a27726",
   "metadata": {},
   "outputs": [
    {
     "name": "stdout",
     "output_type": "stream",
     "text": [
      "5.34 2.3\n",
      "2.322\n"
     ]
    }
   ],
   "source": [
    "a,b = map(float,input().split())\n",
    "print(format(a/b,\".3f\"))"
   ]
  },
  {
   "cell_type": "markdown",
   "id": "6eec4b2f",
   "metadata": {},
   "source": [
    "## 6044 : [기초-산술연산] 정수 2개 입력받아 자동 계산하기(py)"
   ]
  },
  {
   "cell_type": "code",
   "execution_count": 5,
   "id": "b067de79",
   "metadata": {},
   "outputs": [
    {
     "name": "stdout",
     "output_type": "stream",
     "text": [
      "4 2\n",
      "6\n",
      "2\n",
      "8\n",
      "2\n",
      "0\n",
      "2.00\n"
     ]
    }
   ],
   "source": [
    "a,b = map(int,input().split())\n",
    "print(a+b)\n",
    "print(a-b)\n",
    "print(a*b)\n",
    "print(a//b)\n",
    "print(a%b)\n",
    "print(format(a/b,'.2f'))"
   ]
  },
  {
   "cell_type": "markdown",
   "id": "31db8793",
   "metadata": {},
   "source": [
    "## 6045 : [기초-산술연산] 정수 3개 입력받아 합과 평균 출력하기(설명)(py)"
   ]
  },
  {
   "cell_type": "code",
   "execution_count": 6,
   "id": "d1b401a6",
   "metadata": {},
   "outputs": [
    {
     "name": "stdout",
     "output_type": "stream",
     "text": [
      "1 2 3\n",
      "6 2.00\n"
     ]
    }
   ],
   "source": [
    "a, b, c = map(int,input().split())\n",
    "print(a+b+c,format((a+b+c)/3,'.2f'))"
   ]
  },
  {
   "cell_type": "markdown",
   "id": "68af4658",
   "metadata": {},
   "source": [
    "## 6046 : [기초-비트시프트연산] 정수 1개 입력받아 2배 곱해 출력하기(설명)(py)"
   ]
  },
  {
   "cell_type": "code",
   "execution_count": 7,
   "id": "c37b39ab",
   "metadata": {},
   "outputs": [
    {
     "name": "stdout",
     "output_type": "stream",
     "text": [
      "99\n",
      "9801\n"
     ]
    }
   ],
   "source": [
    "a = int(input())\n",
    "print(a**2)"
   ]
  },
  {
   "cell_type": "markdown",
   "id": "41c7b01f",
   "metadata": {},
   "source": [
    "## 6047 : [기초-비트시프트연산] 2의 거듭제곱 배로 곱해 출력하기(설명)(py)"
   ]
  },
  {
   "cell_type": "code",
   "execution_count": 8,
   "id": "07a9a482",
   "metadata": {},
   "outputs": [
    {
     "name": "stdout",
     "output_type": "stream",
     "text": [
      "3 3\n",
      "24\n"
     ]
    }
   ],
   "source": [
    "a,b = map(int,input().split())\n",
    "print(a*(2**b))"
   ]
  },
  {
   "cell_type": "markdown",
   "id": "252e34e4",
   "metadata": {},
   "source": [
    "## 6048 : [기초-비교연산] 정수 2개 입력받아 비교하기1(설명)(py)"
   ]
  },
  {
   "cell_type": "code",
   "execution_count": 9,
   "id": "da45732f",
   "metadata": {},
   "outputs": [
    {
     "name": "stdout",
     "output_type": "stream",
     "text": [
      "5 9\n",
      "True\n"
     ]
    }
   ],
   "source": [
    "a, b = map(int, input().split())\n",
    "if (a < b):\n",
    "    print(\"True\")\n",
    "else:\n",
    "    print(\"False\")"
   ]
  },
  {
   "cell_type": "markdown",
   "id": "216cbdfa",
   "metadata": {},
   "source": [
    "## 6049 : [기초-비교연산] 정수 2개 입력받아 비교하기2(설명)(py)"
   ]
  },
  {
   "cell_type": "code",
   "execution_count": 10,
   "id": "fa15b58e",
   "metadata": {},
   "outputs": [
    {
     "name": "stdout",
     "output_type": "stream",
     "text": [
      "4 2\n",
      "False\n"
     ]
    }
   ],
   "source": [
    "a, b = map(int, input().split())\n",
    "if (a == b):\n",
    "    print(\"True\")\n",
    "else:\n",
    "    print(\"False\")"
   ]
  },
  {
   "cell_type": "markdown",
   "id": "5b2f1c21",
   "metadata": {},
   "source": [
    "## 6050 : [기초-비교연산] 정수 2개 입력받아 비교하기3(설명)(py)"
   ]
  },
  {
   "cell_type": "code",
   "execution_count": 11,
   "id": "95cb9b26",
   "metadata": {},
   "outputs": [
    {
     "name": "stdout",
     "output_type": "stream",
     "text": [
      "5 9\n",
      "True\n"
     ]
    }
   ],
   "source": [
    "a, b = map(int, input().split())\n",
    "if (a <= b):\n",
    "    print(\"True\")\n",
    "else:\n",
    "    print(\"False\")"
   ]
  },
  {
   "cell_type": "markdown",
   "id": "b3796879",
   "metadata": {},
   "source": [
    "## 6051 : [기초-비교연산] 정수 2개 입력받아 비교하기4(설명)(py)"
   ]
  },
  {
   "cell_type": "code",
   "execution_count": 12,
   "id": "1a50151f",
   "metadata": {},
   "outputs": [
    {
     "name": "stdout",
     "output_type": "stream",
     "text": [
      "4 2\n",
      "True\n"
     ]
    }
   ],
   "source": [
    "a, b = map(int, input().split())\n",
    "if (a != b):\n",
    "    print(\"True\")\n",
    "else:\n",
    "    print(\"False\")"
   ]
  },
  {
   "cell_type": "markdown",
   "id": "44ff94b3",
   "metadata": {},
   "source": [
    "## 6052 : [기초-논리연산] 정수 입력받아 참 거짓 평가하기(설명)(py)"
   ]
  },
  {
   "cell_type": "code",
   "execution_count": 13,
   "id": "05fb9f45",
   "metadata": {},
   "outputs": [
    {
     "name": "stdout",
     "output_type": "stream",
     "text": [
      "0\n",
      "False\n"
     ]
    }
   ],
   "source": [
    "n = int(input())\n",
    "print(bool(n))"
   ]
  },
  {
   "cell_type": "markdown",
   "id": "c9e446e5",
   "metadata": {},
   "source": [
    "## 6053 : [기초-논리연산] 참 거짓 바꾸기(설명)(py)"
   ]
  },
  {
   "cell_type": "code",
   "execution_count": 14,
   "id": "53f13224",
   "metadata": {},
   "outputs": [
    {
     "name": "stdout",
     "output_type": "stream",
     "text": [
      "3\n",
      "False\n"
     ]
    }
   ],
   "source": [
    "n = int(input())\n",
    "a = bool(n)\n",
    "print(not a)"
   ]
  },
  {
   "cell_type": "markdown",
   "id": "9a5db679",
   "metadata": {},
   "source": [
    "## 6054 : [기초-논리연산] 둘 다 참일 경우만 참 출력하기(설명)(py)"
   ]
  },
  {
   "cell_type": "code",
   "execution_count": 15,
   "id": "d18a5d67",
   "metadata": {},
   "outputs": [
    {
     "name": "stdout",
     "output_type": "stream",
     "text": [
      "1 0\n",
      "False\n"
     ]
    }
   ],
   "source": [
    "a, b = map(int,input().split())\n",
    "k = bool(a) and bool(b)\n",
    "print(k)"
   ]
  },
  {
   "cell_type": "markdown",
   "id": "7f31e6e3",
   "metadata": {},
   "source": [
    "## 6055 : [기초-논리연산] 하나라도 참이면 참 출력하기(설명)(py)"
   ]
  },
  {
   "cell_type": "code",
   "execution_count": 16,
   "id": "692f3215",
   "metadata": {},
   "outputs": [
    {
     "name": "stdout",
     "output_type": "stream",
     "text": [
      "0 1\n",
      "True\n"
     ]
    }
   ],
   "source": [
    "a, b = map(int,input().split())\n",
    "k = bool(a) or bool(b)\n",
    "print(k)"
   ]
  },
  {
   "cell_type": "markdown",
   "id": "b5e30deb",
   "metadata": {},
   "source": [
    "## 6056 : [기초-논리연산] 참/거짓이 서로 다를 때에만 참 출력하기(설명)"
   ]
  },
  {
   "cell_type": "code",
   "execution_count": 17,
   "id": "0ed96b60",
   "metadata": {},
   "outputs": [
    {
     "name": "stdout",
     "output_type": "stream",
     "text": [
      "0 1\n",
      "True\n"
     ]
    }
   ],
   "source": [
    "a, b = map(int,input().split())\n",
    "print(bool(a)^bool(b))"
   ]
  },
  {
   "cell_type": "markdown",
   "id": "ea77b7d3",
   "metadata": {},
   "source": [
    "## 6057 : [기초-논리연산] 참/거짓이 서로 같을 때에만 참 출력하기(설명)(py)"
   ]
  },
  {
   "cell_type": "code",
   "execution_count": 18,
   "id": "31ad807a",
   "metadata": {},
   "outputs": [
    {
     "name": "stdout",
     "output_type": "stream",
     "text": [
      "0 1\n",
      "False\n"
     ]
    }
   ],
   "source": [
    "a, b = map(int, input().split())\n",
    "if (bool(a) == bool(b)):\n",
    "    print(\"True\")\n",
    "else:\n",
    "    print(\"False\")"
   ]
  },
  {
   "cell_type": "markdown",
   "id": "59059448",
   "metadata": {},
   "source": [
    "## 6058 : [기초-논리연산] 둘 다 거짓일 경우만 참 출력하기(py)"
   ]
  },
  {
   "cell_type": "code",
   "execution_count": 19,
   "id": "e3d4735e",
   "metadata": {},
   "outputs": [
    {
     "name": "stdout",
     "output_type": "stream",
     "text": [
      "0 0\n",
      "True\n"
     ]
    }
   ],
   "source": [
    "a, b = map(int, input().split())\n",
    "if (bool(a) == False and bool(b) == False):\n",
    "    print(\"True\")\n",
    "else:\n",
    "    print(\"False\")"
   ]
  },
  {
   "cell_type": "markdown",
   "id": "2025d9d7",
   "metadata": {},
   "source": [
    "## 6059 : [기초-비트단위논리연산] 비트단위로 NOT 하여 출력하기(설명)(py)"
   ]
  },
  {
   "cell_type": "code",
   "execution_count": 21,
   "id": "9198435a",
   "metadata": {},
   "outputs": [
    {
     "name": "stdout",
     "output_type": "stream",
     "text": [
      "1\n",
      "-2\n"
     ]
    }
   ],
   "source": [
    "a = int(input())\n",
    "print(~a)"
   ]
  },
  {
   "cell_type": "markdown",
   "id": "8846316a",
   "metadata": {},
   "source": [
    "## 6060 : [기초-비트단위논리연산] 비트단위로 AND 하여 출력하기(설명)(py)"
   ]
  },
  {
   "cell_type": "code",
   "execution_count": 23,
   "id": "1ddbd4ba",
   "metadata": {},
   "outputs": [
    {
     "name": "stdout",
     "output_type": "stream",
     "text": [
      "3 5\n",
      "1\n"
     ]
    }
   ],
   "source": [
    "a, b = map(int, input().split())\n",
    "print(a&b)"
   ]
  },
  {
   "cell_type": "code",
   "execution_count": null,
   "id": "f005577f",
   "metadata": {},
   "outputs": [],
   "source": []
  }
 ],
 "metadata": {
  "kernelspec": {
   "display_name": "Python 3 (ipykernel)",
   "language": "python",
   "name": "python3"
  },
  "language_info": {
   "codemirror_mode": {
    "name": "ipython",
    "version": 3
   },
   "file_extension": ".py",
   "mimetype": "text/x-python",
   "name": "python",
   "nbconvert_exporter": "python",
   "pygments_lexer": "ipython3",
   "version": "3.9.7"
  }
 },
 "nbformat": 4,
 "nbformat_minor": 5
}
