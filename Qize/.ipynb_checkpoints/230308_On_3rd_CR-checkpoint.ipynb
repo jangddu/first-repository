{
 "cells": [
  {
   "cell_type": "markdown",
   "metadata": {
    "id": "jgVjIwsXJ0RB"
   },
   "source": [
    "#### 1. 아래 내용을 참고하여 Player 클래스를 만드세요.\n",
    "1. Player 클래스 생성\n",
    "2. player는 닉네임, HP, MP를 가짐(속성)\n",
    "3. player는 다른 player을 상대로 공격, 스킬, 방어를 가능(함수로 구현)\n",
    "4. (선택사항)속성이나 player 행동에 대한 함수를 자유롭게 추가해도 됨"
   ]
  },
  {
   "cell_type": "code",
   "execution_count": 8,
   "metadata": {
    "id": "AJkIbDLYDoiS"
   },
   "outputs": [
    {
     "name": "stdout",
     "output_type": "stream",
     "text": [
      "안녕, 나는 zizonangel이고 직업은 마법사(이)야.\n",
      "상대방에게  10만큼 피해\n"
     ]
    },
    {
     "data": {
      "text/plain": [
       "90"
      ]
     },
     "execution_count": 8,
     "metadata": {},
     "output_type": "execute_result"
    }
   ],
   "source": [
    "# your code\n",
    "# 정해진 답은 없음, 클래스를 이해하고자라는 의도로 만든 문제\n",
    "\n",
    "class Player:\n",
    "    def __init__(self, name, HP, MP, job, level):\n",
    "        self.name = name\n",
    "        self.HP = HP\n",
    "        self.MP = MP\n",
    "        self.job = job\n",
    "        self.level = level\n",
    "\n",
    "    def attack(self):\n",
    "        print(\"상대방에게 \", \"10만큼 피해\")\n",
    "        self.MP -= 10\n",
    "\n",
    "    def skill(self):\n",
    "        print(\"은닉 스킬 발동\")\n",
    "    \n",
    "    def defense(self):\n",
    "        print(\"피해 방어\")\n",
    "        self.HP -= 5\n",
    "\n",
    "    def heal(self):\n",
    "        print(\"내체력 \", \"10만큼 회복\")\n",
    "        self.MP -= 10\n",
    "    \n",
    "    def hi(self):\n",
    "        print(f\"안녕, 나는 {self.name}이고 직업은 {self.job}(이)야.\")\n",
    "\n",
    "zizonangel = Player(\"zizonangel\", 100, 100, \"마법사\", 5)\n",
    "zizonangel.hi()\n",
    "zizonangel.MP #100\n",
    "zizonangel.attack()\n",
    "zizonangel.MP #90"
   ]
  },
  {
   "cell_type": "markdown",
   "metadata": {
    "id": "kbd8hY3hJ0_Y"
   },
   "source": [
    "#### 2. 아래와 같이 출력 결과가 나오도록 Account 클래스를 만드세요.(your code 부분 작성)\n",
    "```\n",
    "은행이름: SC은행\n",
    "계좌번호: 670-14-689475\n",
    "--------------------\n",
    "총 계좌수: 2\n",
    "총 계좌수: 3\n",
    "--------------------\n",
    "5\n",
    "--------------------\n",
    "100\n",
    "200\n",
    "--------------------\n",
    "은행이름: SC은행\n",
    "예금주: 파이썬\n",
    "계좌번호: 973-96-615694\n",
    "잔고: 10,000\n",
    "--------------------\n",
    "110\n",
    "--------------------\n",
    "100\n",
    "200\n",
    "300\n",
    "--------------------\n",
    "100\n",
    "200\n",
    "--------------------\n",
    "```"
   ]
  },
  {
   "cell_type": "code",
   "execution_count": 15,
   "metadata": {
    "id": "-phAAV24J1Zy"
   },
   "outputs": [
    {
     "name": "stdout",
     "output_type": "stream",
     "text": [
      "은행이름: SC은행\n",
      "계좌번호: 488-71-560036\n",
      "--------------------\n",
      "총 계좌수: 2\n",
      "총 계좌수: 3\n",
      "--------------------\n",
      "은행 총 계좌 수:  5\n",
      "--------------------\n",
      "100\n",
      "200\n",
      "--------------------\n",
      "은행이름:  SC은행\n",
      "예금주:  파이썬\n",
      "계좌번호:  998-54-815097\n",
      "잔고:  10000\n",
      "--------------------\n",
      "110\n",
      "--------------------\n",
      "100\n",
      "200\n",
      "300\n",
      "--------------------\n",
      "100\n",
      "200\n",
      "--------------------\n"
     ]
    }
   ],
   "source": [
    "import random\n",
    "\n",
    "class Account:\n",
    "    # 클래스 변수\n",
    "    account_count = 0\n",
    "\n",
    "    def __init__(self, name, balance):\n",
    "        self.deposit_count = 0  # 입금횟수 초기화\n",
    "        self.deposit_log = []   # 입금내역\n",
    "        self.withdraw_log = []  # 출금내역\n",
    "\n",
    "        self.amount = 0\n",
    "        self.balance = balance\n",
    "        self.name = name\n",
    "        self.bank = \"SC은행\"\n",
    "        \n",
    "        num1 = str(random.randrange(100,1000))\n",
    "        num2 = str(random.randrange(10,100))\n",
    "        num3 = str(random.randrange(100000, 1000000))\n",
    "\n",
    "        self.account_number = num1 + '-' + num2 + '-' + num3\n",
    "        Account.account_count += 1\n",
    "  \n",
    "    @classmethod\n",
    "    def get_account_num(cls):\n",
    "        print(\"은행 총 계좌 수: \", cls.account_count)\n",
    "\n",
    "\n",
    "    def deposit(self, amount):\n",
    "        if amount > 1:\n",
    "            self.deposit_log.append(amount)\n",
    "            self.balance += amount\n",
    "\n",
    "            self.deposit_count += 1\n",
    "            if self.deposit_count % 5 == 0:   # 5, 10, 15 ...\n",
    "                self.balance *= 1.01            # 이자\n",
    "\n",
    "\n",
    "    def withdraw(self, amount):\n",
    "        if self.balance > amount:\n",
    "            self.withdraw_log.append(amount)\n",
    "            self.balance -= amount\n",
    "\n",
    "\n",
    "    def display_info(self):\n",
    "        # 정보출력을 구현\n",
    "        print(\"은행이름: \", self.bank)\n",
    "        print(\"예금주: \", self.name)\n",
    "        print(\"계좌번호: \", self.account_number)\n",
    "        print(\"잔고: \", self.balance)\n",
    "  \n",
    "    def deposit_history(self):\n",
    "        # 예금 히스토리 출력을 구현\n",
    "        for i in self.deposit_log:\n",
    "            print(i)\n",
    "\n",
    "    def withdraw_history(self):\n",
    "        # 출금 히스토리 출력을 구현\n",
    "        for i in self.withdraw_log:\n",
    "            print(i)\n",
    "\n",
    "\n",
    "kim = Account(\"김민수\", 100)\n",
    "print(\"은행이름:\", kim.bank) \n",
    "print(\"계좌번호:\", kim.account_number) \n",
    "print('-'*20)\n",
    "\n",
    "kim = Account(\"김민수\", 100)\n",
    "print(\"총 계좌수:\", Account.account_count)\n",
    "lee = Account(\"이민수\", 100)\n",
    "print(\"총 계좌수:\", Account.account_count)\n",
    "print('-'*20)\n",
    "\n",
    "kim = Account(\"김민수\", 100)\n",
    "lee = Account(\"이민수\", 100)\n",
    "Account.get_account_num()\n",
    "print('-'*20)\n",
    "\n",
    "kim = Account(\"김민수\", 100)\n",
    "kim.deposit(1)\n",
    "print(kim.balance)\n",
    "kim.deposit(100)\n",
    "print(kim.balance)\n",
    "print('-'*20)\n",
    "\n",
    "p = Account(\"파이썬\", 10000)\n",
    "p.display_info()\n",
    "print('-'*20)\n",
    "\n",
    "kim = Account(\"김민수\", 100)\n",
    "kim.deposit(100)\n",
    "kim.withdraw(90)\n",
    "print(kim.balance)\n",
    "print('-'*20)\n",
    "\n",
    "p = Account(\"파이썬\", 10000)\n",
    "p.deposit(100)\n",
    "p.deposit(200)\n",
    "p.deposit(300)\n",
    "p.deposit_history()\n",
    "print('-'*20)\n",
    "\n",
    "p.withdraw(100)\n",
    "p.withdraw(200)\n",
    "p.withdraw_history()\n",
    "print('-'*20)"
   ]
  },
  {
   "cell_type": "markdown",
   "metadata": {
    "id": "beD955U4J1se"
   },
   "source": [
    "#### 3.상점 관리 시스템 만들기(파일 입출력 문제)\n",
    "\n",
    "상점 데이터를 추가하고 원하는 column을 선택하여 읽을 수 있는 프로그램 만드시오.\n",
    "\n",
    "각 상점 데이터 : (상점 이름, 위치, 판매 상품, 전화번호)"
   ]
  },
  {
   "cell_type": "code",
   "execution_count": 22,
   "metadata": {
    "id": "iNnSSGXKJ12j"
   },
   "outputs": [
    {
     "ename": "SyntaxError",
     "evalue": "invalid syntax (1193758574.py, line 32)",
     "output_type": "error",
     "traceback": [
      "\u001b[0;36m  File \u001b[0;32m\"/tmp/ipykernel_71/1193758574.py\"\u001b[0;36m, line \u001b[0;32m32\u001b[0m\n\u001b[0;31m    if selected == 1 :\u001b[0m\n\u001b[0m                     ^\u001b[0m\n\u001b[0;31mSyntaxError\u001b[0m\u001b[0;31m:\u001b[0m invalid syntax\n"
     ]
    }
   ],
   "source": [
    "# 상점 데이터 예시\n",
    "baeks_stores = [\n",
    "    {\n",
    "        'name' : '빽다방 인천송도점',\n",
    "        'location' : '인천광역시 연수구 컨벤시아대로 81 드림시티빌딩',\n",
    "        'goods' : '커피',\n",
    "        'num' : '032-453-3245'\n",
    "    },\n",
    "    {\n",
    "        'name' : '새마을 식당 인천구월점',\n",
    "        'location' : '인천광역시 남동구 인하로507번길 9 103',\n",
    "        'goods' : '고기',\n",
    "        'num' : '032-341-7562'\n",
    "    },\n",
    "    {\n",
    "        'name' : '빽다방 구월로데오점',\n",
    "        'location' : '인천 남동구 성말로 9 이노프라자',\n",
    "        'goods' : '커피',\n",
    "        'num' : '042-245-5324'\n",
    "    },\n",
    "    {\n",
    "        'name' : '홍콩반점 인천송도점',\n",
    "        'location' : '인천광역시 연수구 컨벤시아대로 81 드림시티',\n",
    "        'goods' : '중식',\n",
    "        'num' : '123-457-8999'\n",
    "    }\n",
    "]\n",
    "\n",
    "def main(stores) :\n",
    "    selected = int(input('1 - 상점추가, 2 - 상점 모두 보기, 3 - 상점 위치 찾기, 4 - 판매하는 상품 종 류 보기, 5 - 상점 전화번호 찾기, 0 - 프로그램 종료')\n",
    "    \n",
    "    if selected == 1 :\n",
    "        pass\n",
    "    elif selected == 2 :\n",
    "        for i in stores.get('name'):\n",
    "            print(\"출력: \", i)\n",
    "        main(stores)\n",
    "    elif selected == 3 :\n",
    "        store = input(\"상점 이름: \")\n",
    "        for i in sotres:\n",
    "            if store in stores:\n",
    "                loc = stores.get('location')\n",
    "        print(store, \"의 위치는 \", stores[loc], \"입니다. \")\n",
    "        main(stores)\n",
    "    elif selected == 4 :\n",
    "        store = input(\"상점 이름: \")\n",
    "        for i in sotres:\n",
    "            if store in stores:\n",
    "                item = stores.get('goods')\n",
    "        print(store, \"에서 판매하는 상품은 \", stores[item], \"입니다. \")\n",
    "        main(stores)\n",
    "    elif selected == 5 :\n",
    "        store = input(\"상점 이름: \")\n",
    "        for i in sotres:\n",
    "            if store in stores:\n",
    "                num = stores.get('num')\n",
    "        print(store, \"의 전화번호는 \", stores[num], \"입니다. \")\n",
    "        main(stores)\n",
    "    elif selected == 0 :\n",
    "    exit()\n",
    " \n",
    "# 메인 함수 실행 => 반복 필요\n",
    "main(baeks_stores)\n"
   ]
  },
  {
   "cell_type": "markdown",
   "metadata": {
    "id": "wrBfu52sJIyz"
   },
   "source": [
    "### (3/9 이후) 람다 연습문제"
   ]
  },
  {
   "cell_type": "markdown",
   "metadata": {
    "id": "JfT5mkDdJOR_"
   },
   "source": [
    "#### 1.1~10 사이의 숫자가 들어있는 test_list 객체에서 filter 함수와 람다식을 이용해 짝수만을 선택해 리스트를 반환하는 프로그램을 작성하십시오."
   ]
  },
  {
   "cell_type": "code",
   "execution_count": null,
   "metadata": {
    "id": "SrWj0mahJNym"
   },
   "outputs": [],
   "source": [
    "test_list = [1, 2, 4, 7, 9, 10]\n",
    "\n",
    "# your code\n",
    "\n",
    "\n",
    "# 출력 예시 #\n",
    "# [2, 4, 10]"
   ]
  },
  {
   "cell_type": "markdown",
   "metadata": {
    "id": "dLMObODUKVoZ"
   },
   "source": [
    "#### 2.\"ADCBBBBCABBCBDACBDCAACDDDCAABABDBCBCBDBDBDDABBAAAAAAADADBDBCBDABADCADC\"와 같은 문자열이 주어지고, A는 4점, B는 3점, C는 2점, D는 1점이라고 할 때 문자열에 사용된 알파벳 점수의 총합을 map 함수와 람다식을 이용해 구하십시오.\n",
    "\n",
    "- 1.change 라는 함수구현\n",
    "- 2.change 함수를 호출하고, map함수와 람다식을 사용하여 입력 텍스트의 값을 계산"
   ]
  },
  {
   "cell_type": "code",
   "execution_count": null,
   "metadata": {
    "id": "3jfKMfcLKVC6"
   },
   "outputs": [],
   "source": [
    "input_text = \"ADCBBBBCABBCBDACBDCAACDDDCAABABDBCBCBDBDBDDABBAAAAAAADADBDBCBDABADCADC\"\n",
    "\n",
    "def change(string):\n",
    "    # your code 1\n",
    "    pass\n",
    "\n",
    "# your code 2"
   ]
  }
 ],
 "metadata": {
  "colab": {
   "authorship_tag": "ABX9TyOK7SA5HK8vepmkpdBY1D5P",
   "provenance": []
  },
  "kernelspec": {
   "display_name": "Python 3 (ipykernel)",
   "language": "python",
   "name": "python3"
  },
  "language_info": {
   "codemirror_mode": {
    "name": "ipython",
    "version": 3
   },
   "file_extension": ".py",
   "mimetype": "text/x-python",
   "name": "python",
   "nbconvert_exporter": "python",
   "pygments_lexer": "ipython3",
   "version": "3.9.7"
  }
 },
 "nbformat": 4,
 "nbformat_minor": 1
}
