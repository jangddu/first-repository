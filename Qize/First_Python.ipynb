{
 "cells": [
  {
   "cell_type": "code",
   "execution_count": 1,
   "id": "27785609",
   "metadata": {},
   "outputs": [
    {
     "data": {
      "text/plain": [
       "7.1194"
      ]
     },
     "execution_count": 1,
     "metadata": {},
     "output_type": "execute_result"
    }
   ],
   "source": [
    "0.2467 * 12 + 4.159"
   ]
  },
  {
   "cell_type": "code",
   "execution_count": 2,
   "id": "62e73477",
   "metadata": {},
   "outputs": [
    {
     "data": {
      "text/plain": [
       "286.2"
      ]
     },
     "execution_count": 2,
     "metadata": {},
     "output_type": "execute_result"
    }
   ],
   "source": [
    "102 * 0.6 + 225"
   ]
  },
  {
   "cell_type": "code",
   "execution_count": 3,
   "id": "79fa8a35",
   "metadata": {},
   "outputs": [
    {
     "name": "stdout",
     "output_type": "stream",
     "text": [
      "makit \"code\"\n",
      "labshe's gone\n"
     ]
    }
   ],
   "source": [
    "print('makit \"code\"') \n",
    "print(\"labshe's gone\")"
   ]
  },
  {
   "cell_type": "code",
   "execution_count": 4,
   "id": "a235e588",
   "metadata": {},
   "outputs": [
    {
     "data": {
      "text/plain": [
       "3.0"
      ]
     },
     "execution_count": 4,
     "metadata": {},
     "output_type": "execute_result"
    }
   ],
   "source": [
    "float(10 // 3)"
   ]
  },
  {
   "cell_type": "code",
   "execution_count": 6,
   "id": "8ee4ae77",
   "metadata": {},
   "outputs": [
    {
     "name": "stdout",
     "output_type": "stream",
     "text": [
      "30을 8로 나눈 몫은  3\n",
      "30을 8로 나눈 나머지는  6\n",
      "30을 8로 나눈 결과는  3.75\n"
     ]
    }
   ],
   "source": [
    "a = 30\n",
    "b = 8\n",
    "print('30을 8로 나눈 몫은 ', a // b)\n",
    "print('30을 8로 나눈 나머지는 ', a % b)\n",
    "print('30을 8로 나눈 결과는 ', a / b)"
   ]
  },
  {
   "cell_type": "code",
   "execution_count": null,
   "id": "5d7ee3d2",
   "metadata": {},
   "outputs": [],
   "source": []
  }
 ],
 "metadata": {
  "kernelspec": {
   "display_name": "Python 3 (ipykernel)",
   "language": "python",
   "name": "python3"
  },
  "language_info": {
   "codemirror_mode": {
    "name": "ipython",
    "version": 3
   },
   "file_extension": ".py",
   "mimetype": "text/x-python",
   "name": "python",
   "nbconvert_exporter": "python",
   "pygments_lexer": "ipython3",
   "version": "3.9.7"
  }
 },
 "nbformat": 4,
 "nbformat_minor": 5
}
